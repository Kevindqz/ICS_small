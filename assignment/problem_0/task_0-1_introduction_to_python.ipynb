{
 "cells": [
  {
   "cell_type": "markdown",
   "id": "ac408b5e",
   "metadata": {
    "deletable": false,
    "editable": false,
    "nbgrader": {
     "cell_type": "markdown",
     "checksum": "a96d02d6346fa7399cf6da0111ce0937",
     "grade": false,
     "grade_id": "cell-b00828259c8e42e8",
     "locked": true,
     "schema_version": 3,
     "solution": false,
     "task": false
    }
   },
   "source": [
    "# RO47019: Intelligent Control Systems Practical Assignment\n",
    "* Period: 2022-2023, Q3\n",
    "* Course homepage: https://brightspace.tudelft.nl/d2l/home/500969\n",
    "* Instructor: Cosimo Della Santina (C.DellaSantina@tudelft.nl)\n",
    "* Teaching assistant: Ruben Martin Rodriguez (R.MartinRodriguez@student.tudelft.nl)\n",
    "* (c) TU Delft, 2023\n",
    "\n",
    "Make sure you fill in any place that says `YOUR CODE HERE` or `YOUR ANSWER HERE`. Remove `raise NotImplementedError()` afterwards. Moreover, if you see an empty cell, please DO NOT delete it, instead run that cell as you would run all other cells. Please fill in your name(s) and other required details below:"
   ]
  },
  {
   "cell_type": "code",
   "execution_count": 1,
   "id": "c72f1379",
   "metadata": {},
   "outputs": [
    {
     "ename": "ModuleNotFoundError",
     "evalue": "No module named 'pytorch'",
     "output_type": "error",
     "traceback": [
      "\u001b[0;31m---------------------------------------------------------------------------\u001b[0m",
      "\u001b[0;31mModuleNotFoundError\u001b[0m                       Traceback (most recent call last)",
      "Cell \u001b[0;32mIn[1], line 1\u001b[0m\n\u001b[0;32m----> 1\u001b[0m \u001b[38;5;28;01mimport\u001b[39;00m \u001b[38;5;21;01mpytorch\u001b[39;00m\n",
      "\u001b[0;31mModuleNotFoundError\u001b[0m: No module named 'pytorch'"
     ]
    }
   ],
   "source": [
    "import pytorch"
   ]
  },
  {
   "cell_type": "code",
   "execution_count": null,
   "id": "4f9e220c",
   "metadata": {},
   "outputs": [],
   "source": [
    "# Please fill in your names, student numbers, netID, and emails below.\n",
    "STUDENT_1_NAME = \"\"\n",
    "STUDENT_1_STUDENT_NUMBER = \"\"\n",
    "STUDENT_1_NETID = \"\"\n",
    "STUDENT_1_EMAIL = \"\""
   ]
  },
  {
   "cell_type": "code",
   "execution_count": null,
   "id": "8ba32571",
   "metadata": {
    "deletable": false,
    "editable": false,
    "nbgrader": {
     "cell_type": "code",
     "checksum": "042927213b84aa368aa3ea72caa4cb60",
     "grade": true,
     "grade_id": "cell-9f148ec62e0de49c",
     "locked": true,
     "points": 0,
     "schema_version": 3,
     "solution": false,
     "task": false
    }
   },
   "outputs": [],
   "source": [
    "# Note: this block is a check that you have filled in the above information.\n",
    "# It will throw an AssertionError until all fields are filled\n",
    "assert STUDENT_1_NAME != \"\"\n",
    "assert STUDENT_1_STUDENT_NUMBER != \"\"\n",
    "assert STUDENT_1_NETID != \"\"\n",
    "assert STUDENT_1_EMAIL != \"\""
   ]
  },
  {
   "cell_type": "markdown",
   "id": "af317a94",
   "metadata": {
    "deletable": false,
    "editable": false,
    "nbgrader": {
     "cell_type": "markdown",
     "checksum": "e76ef40fcc3f08a0484661497162a1a9",
     "grade": false,
     "grade_id": "cell-4ea391677951116c",
     "locked": true,
     "schema_version": 3,
     "solution": false,
     "task": false
    }
   },
   "source": [
    "### General announcements\n",
    "\n",
    "* Do *not* share your solutions, and do *not* copy solutions from others. By submitting your solutions, you claim that you alone are responsible for this code.\n",
    "\n",
    "* Do *not* email questions directly, since we want to provide everybody with the same information and avoid repeating the same answers. Instead, please post your questions regarding this assignment in the correct support forum on Brightspace, this way everybody can benefit from the response. If you do have a particular question that you want to ask directly, please use the scheduled Q&A hours to ask the TA.\n",
    "\n",
    "* There is a strict deadline for each assignment. Students are responsible to ensure that they have uploaded their work in time. So, please double check that your upload succeeded to the Brightspace and avoid any late penalties.\n",
    "\n",
    "* This [Jupyter notebook](https://jupyter.org/) uses `nbgrader` to help us with automated tests. `nbgrader` will make various cells in this notebook \"uneditable\" or \"unremovable\" and gives them a special id in the cell metadata. This way, when we run our checks, the system will check the existence of the cell ids and verify the number of points and which checks must be run. While there are ways that you can edit the metadata and work around the restrictions to delete or modify these special cells, you should not do that since then our nbgrader backend will not be able to parse your notebook and give you points for the assignment. You are free to add additional cells, but if you find a cell that you cannot modify or remove, please know that this is on purpose.\n",
    "\n",
    "* This notebook will have in various places a line that throws a `NotImplementedError` exception. These are locations where the assignment requires you to adapt the code! These lines are just there as a reminder for youthat you have not yet adapted that particular piece of code, especially when you execute all the cells. Once your solution code replaced these lines, it should accordingly *not* throw any exceptions anymore.\n",
    "\n",
    "Before you turn this problem in, make sure everything runs as expected. First, **restart the kernel** (in the menubar, select Kernel$\\rightarrow$Restart) and then **run all cells** (in the menubar, select Cell$\\rightarrow$Run All)."
   ]
  },
  {
   "cell_type": "code",
   "execution_count": null,
   "id": "3c956945",
   "metadata": {},
   "outputs": [],
   "source": []
  },
  {
   "cell_type": "markdown",
   "id": "bafe7e07",
   "metadata": {
    "deletable": false,
    "editable": false,
    "nbgrader": {
     "cell_type": "markdown",
     "checksum": "4a7cfcccac0b598cc67db09817ff1eb5",
     "grade": false,
     "grade_id": "cell-d8fe20cb21ac2928",
     "locked": true,
     "schema_version": 3,
     "solution": false,
     "task": false
    }
   },
   "source": [
    "# Task 0.1 - Introduction to Python (0p)\n",
    "\n",
    "**Authors:** Maximilian Stölzle (M.W.Stolzle@tudelft.nl), largely based on _ML4R_ course (RO47002), inspired by <em>[Python Numpy Tutorial](https://cs231n.github.io/python-numpy-tutorial/)</em> from Stanford course CS231n.\n",
    "\n",
    "**Topics:** core python, numpy, matplotlib\n",
    "\n",
    "## Objectives\n",
    "\n",
    "The goal of this notebook is to introduce key concepts in python. The tutorial will also cover a few basic usage examples of the popular `numpy` and `matplotlib` python libraries. Python and these libraries will be used extensively throughout the later assignment tasks.\n",
    "\n",
    "This tutorial is intended to be self contained, but cannot cover all topics in depth. It therefore mostly serves as a starting point for you to explore, and to refresh your existing programming knowledge. If after or during this assignment you wish to learn more about these subjects, feel free to checkout the official resources:\n",
    "\n",
    "* [Python tutorial](https://docs.python.org/3/tutorial/)\n",
    "* [Learnpython.org tutorial](https://www.learnpython.org/)\n",
    "* [Official Numpy user guide](https://numpy.org/doc/stable/user/)\n",
    "* [Official Matplotlib tutorials](https://matplotlib.org/stable/tutorials/index.html)\n"
   ]
  },
  {
   "cell_type": "markdown",
   "id": "e6f2fe8a",
   "metadata": {
    "deletable": false,
    "editable": false,
    "nbgrader": {
     "cell_type": "markdown",
     "checksum": "bf37415a63e752bc9e14367f8caba62c",
     "grade": false,
     "grade_id": "cell-692065a70d4a185a",
     "locked": true,
     "schema_version": 3,
     "solution": false,
     "task": false
    }
   },
   "source": [
    "# Python\n",
    "Python is a high-level, dynamically typed multiparadigm programming language. Python code is often said to be almost like pseudocode, since it allows you to express very powerful ideas in very few lines of code while being very readable.\n",
    "\n",
    "\n",
    "## Basic data types\n",
    "\n",
    "Like most languages, Python has a number of basic types including integers, floats, booleans, and strings. These data types behave in ways that are familiar from other programming languages.\n",
    "\n",
    "### Numbers\n",
    "Integers and floats work as you would expect from other languages:"
   ]
  },
  {
   "cell_type": "code",
   "execution_count": null,
   "id": "212118dd",
   "metadata": {},
   "outputs": [],
   "source": [
    "x = 3\n",
    "y = 3.5\n",
    "\n",
    "print(x)\n",
    "print(\"Type of x is: \", type(x))\n",
    "print(y)\n",
    "print(\"Type of y is: \", type(y))"
   ]
  },
  {
   "cell_type": "markdown",
   "id": "0c486fee",
   "metadata": {
    "deletable": false,
    "editable": false,
    "nbgrader": {
     "cell_type": "markdown",
     "checksum": "35623ee865ffdaf0f37ed843cfc95054",
     "grade": false,
     "grade_id": "cell-eff6677736343a45",
     "locked": true,
     "schema_version": 3,
     "solution": false,
     "task": false
    }
   },
   "source": [
    "Common mathematical operations are:\n",
    "\n",
    "Addition: $a+b$ := <code>a + b</code> <br />\n",
    "Subtraction: $a-b$ := <code>a - b</code> <br />\n",
    "Division: $a\\div b$ := <code>a / b</code> <br />\n",
    "Multiplication: $a\\times b$ := <code>a * b</code> <br />\n",
    "Power: $a^b$ := <code>a ** b</code> <br />"
   ]
  },
  {
   "cell_type": "code",
   "execution_count": null,
   "id": "d7ecb4cd",
   "metadata": {},
   "outputs": [],
   "source": [
    "print(x + 1 - 3, x * 2, x**2)"
   ]
  },
  {
   "cell_type": "code",
   "execution_count": null,
   "id": "cb7231ed",
   "metadata": {},
   "outputs": [],
   "source": [
    "print(y + 1 - 3, y * 2, y**2)"
   ]
  },
  {
   "cell_type": "markdown",
   "id": "ac0a14b2",
   "metadata": {
    "deletable": false,
    "editable": false,
    "nbgrader": {
     "cell_type": "markdown",
     "checksum": "f697b1dee16b8e70ce603135f73c64fb",
     "grade": false,
     "grade_id": "cell-f8074d383d2a3587",
     "locked": true,
     "schema_version": 3,
     "solution": false,
     "task": false
    }
   },
   "source": [
    "# Functions\n",
    "Python functions are defined using the <code>def</code> keyword. For example:\n",
    "\n",
    "    def is_positive(x):\n",
    "        if x > 0:\n",
    "            return True\n",
    "        else:\n",
    "            return False\n",
    "            \n",
    "For more information, see the [documentaion](https://docs.python.org/3.5/tutorial/controlflow.html#defining-functions).\n",
    "\n",
    "**Exercise:**\n",
    "\n",
    "Create a function called **is_negative** that returns True if a number is negative. \n",
    "\n",
    "Print the output of this function when x=0.2 and x=-0.4. Do not forget to write this function first in your code."
   ]
  },
  {
   "cell_type": "code",
   "execution_count": null,
   "id": "1202bb44",
   "metadata": {
    "deletable": false,
    "nbgrader": {
     "cell_type": "code",
     "checksum": "22969ab4930faa113f5450aa8c4374e7",
     "grade": false,
     "grade_id": "cell-7b160761c3d5b08b",
     "locked": false,
     "schema_version": 3,
     "solution": true,
     "task": false
    }
   },
   "outputs": [],
   "source": [
    "# YOUR CODE HERE\n",
    "raise NotImplementedError()"
   ]
  },
  {
   "cell_type": "code",
   "execution_count": null,
   "id": "d64b1e5c",
   "metadata": {
    "deletable": false,
    "editable": false,
    "nbgrader": {
     "cell_type": "code",
     "checksum": "a10bf8a7c09658a35295329dae971c13",
     "grade": true,
     "grade_id": "cell-bd726247a02eec4e",
     "locked": true,
     "points": 0,
     "schema_version": 3,
     "solution": false,
     "task": false
    }
   },
   "outputs": [],
   "source": [
    "# DO NOT REMOVE OR MODIFY THIS CELL\n",
    "assert not is_negative(5)\n",
    "assert is_negative(-3)"
   ]
  },
  {
   "cell_type": "markdown",
   "id": "72d5a25d",
   "metadata": {
    "deletable": false,
    "editable": false,
    "nbgrader": {
     "cell_type": "markdown",
     "checksum": "fa93a8cc91b989bbf8add196a1320079",
     "grade": false,
     "grade_id": "cell-230a3cd1657b9c95",
     "locked": true,
     "schema_version": 3,
     "solution": false,
     "task": false
    }
   },
   "source": [
    "We will often define functions to take optional keyword arguments, like this:"
   ]
  },
  {
   "cell_type": "code",
   "execution_count": null,
   "id": "c43cb159",
   "metadata": {},
   "outputs": [],
   "source": [
    "def hello(name, loud=False):\n",
    "    if loud:\n",
    "        print(\"HELLO, %s!\" % name.upper())\n",
    "    else:\n",
    "        print(\"Hello, %s\" % name)\n",
    "\n",
    "\n",
    "hello(\"Bob\")  # Prints \"Hello, Bob\"\n",
    "hello(\"Fred\", loud=True)  # Prints \"HELLO, FRED!\""
   ]
  },
  {
   "cell_type": "markdown",
   "id": "a8809ce8",
   "metadata": {
    "deletable": false,
    "editable": false,
    "nbgrader": {
     "cell_type": "markdown",
     "checksum": "01c367e5aca92fd5955479154e905923",
     "grade": false,
     "grade_id": "cell-41ce23bd9f2fd741",
     "locked": true,
     "schema_version": 3,
     "solution": false,
     "task": false
    }
   },
   "source": [
    "## Booleans and logical operations\n",
    "Python implements all of the usual operators for Boolean logic, but uses English words e.g., <strong>and</strong>, <strong>or</strong>, <strong>not</strong> rather than symbols.\n",
    "\n",
    "Some examples are as follows:\n",
    "\n",
    "Logical AND: $a \\land b$ := <code>a and b</code> <br />\n",
    "Logical OR : $a \\lor b$ := <code>a or b</code> <br />\n",
    "Logical NOT: $\\lnot a$ := <code>not a</code> <br />\n",
    "Logical XOR: $a \\oplus b$ := <code>a != b</code> <br />"
   ]
  },
  {
   "cell_type": "code",
   "execution_count": null,
   "id": "d32ca0b5",
   "metadata": {},
   "outputs": [],
   "source": [
    "a = True\n",
    "b = False\n",
    "\n",
    "print(\"Type of a is {} and type of b is {}.\".format(type(a), type(b)))"
   ]
  },
  {
   "cell_type": "markdown",
   "id": "43fe8722",
   "metadata": {
    "deletable": false,
    "editable": false,
    "nbgrader": {
     "cell_type": "markdown",
     "checksum": "d39a3b913ba63987094ec59ead0e4641",
     "grade": false,
     "grade_id": "cell-42e55ed06926b8da",
     "locked": true,
     "schema_version": 3,
     "solution": false,
     "task": false
    }
   },
   "source": [
    "**Exercise:**\n",
    "Perform logical operations between <strong>a</strong> and <strong>b</strong>."
   ]
  },
  {
   "cell_type": "code",
   "execution_count": null,
   "id": "c99ff9a5",
   "metadata": {
    "deletable": false,
    "nbgrader": {
     "cell_type": "code",
     "checksum": "cbda74df8f8fbf02869cff0d33309358",
     "grade": false,
     "grade_id": "cell-42e55ed06926b8db",
     "locked": false,
     "schema_version": 3,
     "solution": true,
     "task": false
    }
   },
   "outputs": [],
   "source": [
    "def logical_AND(a, b):\n",
    "    # YOUR CODE HERE\n",
    "    raise NotImplementedError()\n",
    "    return output\n",
    "\n",
    "\n",
    "def logical_OR(a, b):\n",
    "    # YOUR CODE HERE\n",
    "    raise NotImplementedError()\n",
    "    return output\n",
    "\n",
    "\n",
    "def logical_NOT(a):\n",
    "    # YOUR CODE HERE\n",
    "    raise NotImplementedError()\n",
    "    return output\n",
    "\n",
    "\n",
    "def logical_XOR(a, b):\n",
    "    # YOUR CODE HERE\n",
    "    raise NotImplementedError()\n",
    "    return output"
   ]
  },
  {
   "cell_type": "code",
   "execution_count": null,
   "id": "6c93a2a2",
   "metadata": {},
   "outputs": [],
   "source": [
    "print(logical_AND(a, b))\n",
    "print(logical_OR(a, b))\n",
    "print(logical_NOT(a))\n",
    "print(logical_XOR(a, b))"
   ]
  },
  {
   "cell_type": "code",
   "execution_count": null,
   "id": "091469b8",
   "metadata": {
    "deletable": false,
    "editable": false,
    "nbgrader": {
     "cell_type": "code",
     "checksum": "f64351b21562ab09c38cff38bcbe44f4",
     "grade": true,
     "grade_id": "cell-66e7d270b501202a",
     "locked": true,
     "points": 0,
     "schema_version": 3,
     "solution": false,
     "task": false
    }
   },
   "outputs": [],
   "source": [
    "assert logical_AND(True, False) == False\n",
    "assert logical_OR(False, True) == True\n",
    "assert logical_NOT(True) == False\n",
    "assert logical_XOR(True, True) == False"
   ]
  },
  {
   "cell_type": "markdown",
   "id": "c1a342f3",
   "metadata": {
    "deletable": false,
    "editable": false,
    "nbgrader": {
     "cell_type": "markdown",
     "checksum": "569ad222f9f01e5a250b3f97e24cff28",
     "grade": false,
     "grade_id": "cell-5906fd44cbfe3ba7",
     "locked": true,
     "schema_version": 3,
     "solution": false,
     "task": false
    }
   },
   "source": [
    "**Exercise:**\n",
    "Implement XNOR between two booleans <strong>a</strong> and <strong>b</strong> ($a \\odot b$) and save the <strong>output</strong> in output variable:"
   ]
  },
  {
   "cell_type": "code",
   "execution_count": null,
   "id": "c43a79ff",
   "metadata": {
    "deletable": false,
    "nbgrader": {
     "cell_type": "code",
     "checksum": "5f57febdacbe9470be291ea7c7d7e304",
     "grade": false,
     "grade_id": "cell-fd541367faa71c44",
     "locked": false,
     "schema_version": 3,
     "solution": true,
     "task": false
    }
   },
   "outputs": [],
   "source": [
    "def xnor(a, b):\n",
    "    # YOUR CODE HERE\n",
    "    raise NotImplementedError()\n",
    "    return output"
   ]
  },
  {
   "cell_type": "code",
   "execution_count": null,
   "id": "51aae152",
   "metadata": {},
   "outputs": [],
   "source": [
    "print(xnor(False, True))"
   ]
  },
  {
   "cell_type": "code",
   "execution_count": null,
   "id": "0e60a585",
   "metadata": {
    "deletable": false,
    "editable": false,
    "nbgrader": {
     "cell_type": "code",
     "checksum": "20d762a514b6ff746480e2ac62fd5d7d",
     "grade": true,
     "grade_id": "cell-4e4acf4752814f0c",
     "locked": true,
     "points": 0,
     "schema_version": 3,
     "solution": false,
     "task": false
    }
   },
   "outputs": [],
   "source": [
    "# DO NOT REMOVE OR MODIFY THIS CELL\n",
    "assert xnor(True, True) == True\n",
    "assert xnor(True, False) == False\n",
    "assert xnor(False, False) == True"
   ]
  },
  {
   "cell_type": "markdown",
   "id": "bc00fd99",
   "metadata": {
    "deletable": false,
    "editable": false,
    "nbgrader": {
     "cell_type": "markdown",
     "checksum": "669496bc3601b40f8811cc0836eaa5c8",
     "grade": false,
     "grade_id": "cell-70fc57561c3142a9",
     "locked": true,
     "schema_version": 3,
     "solution": false,
     "task": false
    }
   },
   "source": [
    "## Strings"
   ]
  },
  {
   "cell_type": "code",
   "execution_count": null,
   "id": "0c8e6966",
   "metadata": {},
   "outputs": [],
   "source": [
    "foo = \"foo\"  # Single quotes can be used for String literals\n",
    "bar = \"bar\"  # or double quotes\n",
    "print(foo)\n",
    "print(len(bar))  # String length"
   ]
  },
  {
   "cell_type": "code",
   "execution_count": null,
   "id": "b43fc4d2",
   "metadata": {},
   "outputs": [],
   "source": [
    "foo_bar = foo + \" \" + bar  # String concatenation\n",
    "print(foo_bar)"
   ]
  },
  {
   "cell_type": "code",
   "execution_count": null,
   "id": "839e53f8",
   "metadata": {},
   "outputs": [],
   "source": [
    "foo_bar10 = \"%s %s %d\" % (foo, bar, 10)  # sprintf style string formatting\n",
    "print(foo_bar10)"
   ]
  },
  {
   "cell_type": "markdown",
   "id": "4b8e59b3",
   "metadata": {
    "deletable": false,
    "editable": false,
    "nbgrader": {
     "cell_type": "markdown",
     "checksum": "7e498dd36221f41ce665a1d260bfbba1",
     "grade": false,
     "grade_id": "cell-1174450421b019fe",
     "locked": true,
     "schema_version": 3,
     "solution": false,
     "task": false
    }
   },
   "source": [
    "### Methods of String object"
   ]
  },
  {
   "cell_type": "code",
   "execution_count": null,
   "id": "5e0a2bda",
   "metadata": {},
   "outputs": [],
   "source": [
    "s = \"hello\"\n",
    "print(s.capitalize())\n",
    "print(s.upper())\n",
    "print(s.rjust(7))\n",
    "print(s.center(7))\n",
    "print(s.replace(\"l\", \"(ell)\"))\n",
    "\n",
    "print(\"  world \".strip())  # strip leading and trailing whitespaces, prints \"world\""
   ]
  },
  {
   "cell_type": "markdown",
   "id": "43e08ef4",
   "metadata": {},
   "source": [
    "## Containers\n",
    "Python includes several built-in container types: lists, dictionaries, sets, and tuples\n",
    "\n",
    "### Lists\n",
    "A list is the Python equivalent of an array, but is resizeable and can contain elements of different types:\n",
    "\n",
    "A list containing 3 elements can be created simply as: \n",
    "\n",
    "    sample_list = [\"a\", 5, \"c\"] \n",
    "    \n",
    "Indexing of the list starts from $0$ (zero). <code>sample_list[1]</code> which is equal to $5$ here. A list can be indexed from the end as well using negative indices e.g., <code>sample_list[-1]</code> which is equal to \"c\" here.\n",
    "\n",
    "Lists may contain elements of different types e.g., as seen in this `sample_list`.\n",
    "\n",
    "Elements can be added (appended) in to the lists e.g., <code>sample_list.append('world')</code> which appends 'world' in the end of the list making it a $4$ elements list now. Moreover, elements can be popped out of the list e.g., <code>last_elem = sample_list.pop()</code> would save last element 'world' in <strong>last_elem</strong> variable.\n",
    " \n",
    "**Exercise:**\n",
    "\n",
    "Perform (in order)\n",
    "* get the 2nd element\n",
    "* add 8 to the end of the list\n",
    "* get the 2nd to last element\n",
    "* retun the first element, last element and the modified list\n",
    "\n",
    "on the list <code>sample_list</code> we created\n",
    "\n",
    "<!-- Perform the above mentioned opeartions on the list we created and print the output of each operation. -->"
   ]
  },
  {
   "cell_type": "code",
   "execution_count": null,
   "id": "800c870e",
   "metadata": {
    "deletable": false,
    "editable": false,
    "nbgrader": {
     "cell_type": "code",
     "checksum": "96d6c2a3b16ffda2dd122c9e499ba55d",
     "grade": false,
     "grade_id": "cell-583eed57eec97787",
     "locked": true,
     "schema_version": 3,
     "solution": false,
     "task": false
    }
   },
   "outputs": [],
   "source": [
    "sample_list = [\"a\", 5, \"c\"]"
   ]
  },
  {
   "cell_type": "code",
   "execution_count": null,
   "id": "df01fc49",
   "metadata": {
    "deletable": false,
    "nbgrader": {
     "cell_type": "code",
     "checksum": "66141ffac4318277bf73763b5d435b84",
     "grade": false,
     "grade_id": "cell-40bdfad50d6f22ff",
     "locked": false,
     "schema_version": 3,
     "solution": true,
     "task": false
    }
   },
   "outputs": [],
   "source": [
    "def container(sample_list):\n",
    "    # YOUR CODE HERE\n",
    "    raise NotImplementedError()\n",
    "    return second_element, second_to_last_element, sample_list"
   ]
  },
  {
   "cell_type": "code",
   "execution_count": null,
   "id": "ef18356f",
   "metadata": {},
   "outputs": [],
   "source": [
    "second_element, second_to_last_element, sample_list = container(sample_list)"
   ]
  },
  {
   "cell_type": "code",
   "execution_count": null,
   "id": "be9e7426",
   "metadata": {
    "deletable": false,
    "editable": false,
    "nbgrader": {
     "cell_type": "code",
     "checksum": "9fa700060e6306b09736fd8186acd38c",
     "grade": true,
     "grade_id": "cell-2e776b8c2b53e86f",
     "locked": true,
     "points": 0,
     "schema_version": 3,
     "solution": false,
     "task": false
    }
   },
   "outputs": [],
   "source": [
    "# DO NOT REMOVE OR MODIFY THIS CELL\n",
    "assert second_element == 5\n",
    "assert second_to_last_element == \"c\"\n",
    "assert sample_list == [\"a\", 5, \"c\", 8]"
   ]
  },
  {
   "cell_type": "markdown",
   "id": "9bc572cc",
   "metadata": {
    "deletable": false,
    "editable": false,
    "nbgrader": {
     "cell_type": "markdown",
     "checksum": "0aa57b0f7fc5cf07656641ef658e2414",
     "grade": false,
     "grade_id": "cell-3418e8a232246f4f",
     "locked": true,
     "schema_version": 3,
     "solution": false,
     "task": false
    }
   },
   "source": [
    "## Slicing\n",
    "\n",
    "In addition to accessing list elements one at a time, Python provides concise syntax to access sublists; this is known as slicing.\n",
    "\n",
    "To exercise this, we can create a list by using command <code>range(int)</code> e.g., <code>nums = list(range(5))</code> which gives us a list with elements <code>[0, 1, 2, 3, 4]</code>. To get elements from index 2 to 4 <strong>(exclusive)</strong>, we can write <code>nums[2:4]</code> which should give us <code>[2, 3]</code> in this case.\n",
    "\n",
    "To get a <em>slice</em> from index 2 to the end, we write <code>nums[2:]</code>. Similarly for a <em>slice</em> from the start to index 2 <strong>exclusive</strong>, we write <code>nums[:2]</code>. And to <em> slice</em> the whole list, we write <code>nums[:]</code>.\n",
    "    \n",
    "<em>Slicing</em> can be performed with negative indices as well e.g., <code>nums[:-2]</code> will give us all elements from the list ignoring only the last two element (in this case <code>[0, 1, 2]</code>.\n",
    "\n",
    "**Exercise:**\n",
    "\n",
    "Perform (in order)\n",
    "* Get a slice from index 2 to the 4\n",
    "* Get a slice from the start to index 2\n",
    "* replace index from 5 to 7 with <code>[1, 2]</code>\n",
    "* retrun the results of step 1, 2 and the modified list (in order)\n",
    "\n",
    "on the list <code>nums</code> we created"
   ]
  },
  {
   "cell_type": "code",
   "execution_count": null,
   "id": "d69398b4",
   "metadata": {
    "deletable": false,
    "editable": false,
    "nbgrader": {
     "cell_type": "code",
     "checksum": "71631a24ba1a64f47bdd86218ff87e6e",
     "grade": false,
     "grade_id": "cell-c857ed5e93d8aa81",
     "locked": true,
     "schema_version": 3,
     "solution": false,
     "task": false
    }
   },
   "outputs": [],
   "source": [
    "nums = list(range(8))  # range is a built-in function that creates a list of integers"
   ]
  },
  {
   "cell_type": "code",
   "execution_count": null,
   "id": "47f4d907",
   "metadata": {
    "deletable": false,
    "nbgrader": {
     "cell_type": "code",
     "checksum": "d663331105d3ca92014d54f2eccebdbb",
     "grade": false,
     "grade_id": "cell-0567306e5255ae77",
     "locked": false,
     "schema_version": 3,
     "solution": true,
     "task": false
    }
   },
   "outputs": [],
   "source": [
    "def slicing(nums):\n",
    "    # YOUR CODE HERE\n",
    "    raise NotImplementedError()\n",
    "    return a, b, nums"
   ]
  },
  {
   "cell_type": "code",
   "execution_count": null,
   "id": "d114b53a",
   "metadata": {
    "deletable": false,
    "editable": false,
    "nbgrader": {
     "cell_type": "code",
     "checksum": "6a4fe7a263b3c3cdb8d36e9169ed036a",
     "grade": false,
     "grade_id": "cell-3f4b3a9c4d25ac10",
     "locked": true,
     "schema_version": 3,
     "solution": false,
     "task": false
    }
   },
   "outputs": [],
   "source": [
    "a, b, nums = slicing(nums)"
   ]
  },
  {
   "cell_type": "code",
   "execution_count": null,
   "id": "41014a43",
   "metadata": {
    "deletable": false,
    "editable": false,
    "nbgrader": {
     "cell_type": "code",
     "checksum": "dbead6b5eb6423f2d6f8acc00de3aa90",
     "grade": true,
     "grade_id": "cell-c45e27bccfbe7870",
     "locked": true,
     "points": 0,
     "schema_version": 3,
     "solution": false,
     "task": false
    }
   },
   "outputs": [],
   "source": [
    "# DO NOT REMOVE OR MODIFY THIS CELL"
   ]
  },
  {
   "cell_type": "markdown",
   "id": "c7decd16",
   "metadata": {
    "deletable": false,
    "editable": false,
    "nbgrader": {
     "cell_type": "markdown",
     "checksum": "760160ecd76344dfba4259322c9a6c11",
     "grade": false,
     "grade_id": "cell-2087c7b344d12524",
     "locked": true,
     "schema_version": 3,
     "solution": false,
     "task": false
    }
   },
   "source": [
    "## Loops\n",
    "You can loop over the elements of a list like this:\n",
    "\n",
    "    sample_list = ['element A', 'element B', 'element C', 'element D'] \n",
    "    for element in sample_list: \n",
    "        print(element) \n"
   ]
  },
  {
   "cell_type": "markdown",
   "id": "e3f31ff8",
   "metadata": {
    "deletable": false,
    "editable": false,
    "nbgrader": {
     "cell_type": "markdown",
     "checksum": "f888368b66aaba5b4e0ecc4ed7e1cc7e",
     "grade": false,
     "grade_id": "cell-1fc79ee7d4f787fc",
     "locked": true,
     "schema_version": 3,
     "solution": false,
     "task": false
    }
   },
   "source": [
    "If you want access to the index of each element within the body of a loop, use the built-in enumerate function: \n",
    "\n",
    "    sample_list = ['element A', 'element B', 'element C', 'element D'] \n",
    "    for idx, element in enumerate(sample_list): \n",
    "        print('#%d: %s' % (idx + 1, element)) \n",
    "\n",
    "This will print \"#1: element A\", \"#2: element B\", \"#3: element C\", , \"#4: element D\", each on its own line. \n"
   ]
  },
  {
   "cell_type": "markdown",
   "id": "630536a9",
   "metadata": {
    "deletable": false,
    "editable": false,
    "nbgrader": {
     "cell_type": "markdown",
     "checksum": "c8f559c64e6b3b1bbeebd717e2194611",
     "grade": false,
     "grade_id": "cell-8c1d2caed753031e",
     "locked": true,
     "schema_version": 3,
     "solution": false,
     "task": false
    }
   },
   "source": [
    "## List Comprehension\n",
    "When programming, frequently we want to transform one type of data into another. As a simple example, consider the following code that computes square numbers:\n",
    "\n",
    "    nums = [0, 1, 2, 3, 4]\n",
    "    squares = []\n",
    "    for x in nums:\n",
    "        squares.append(x ** 2)\n",
    "\n",
    "This prints <code>[0, 1, 4, 9, 16]</code>. With the use of list comprehension, this can be written as: <code>squares = [x ** 2 for x in nums]</code>.\n",
    "\n",
    "List comprehensions can also contain conditions e.g., <code>even_squares = [x ** 2 for x in nums if x % 2 == 0]</code>.\n"
   ]
  },
  {
   "cell_type": "code",
   "execution_count": null,
   "id": "d6f86a49",
   "metadata": {
    "deletable": false,
    "editable": false,
    "nbgrader": {
     "cell_type": "code",
     "checksum": "3513b4144eff4f1ca76623a9b5bd2b35",
     "grade": false,
     "grade_id": "cell-c1f04b85b559e0f3",
     "locked": true,
     "schema_version": 3,
     "solution": false,
     "task": false
    }
   },
   "outputs": [],
   "source": [
    "nums = list(range(3))"
   ]
  },
  {
   "cell_type": "markdown",
   "id": "399a0857",
   "metadata": {
    "deletable": false,
    "editable": false,
    "nbgrader": {
     "cell_type": "markdown",
     "checksum": "76d714d652f89d3afd48eafad8bfc376",
     "grade": false,
     "grade_id": "cell-ab86fb0d66477487",
     "locked": true,
     "schema_version": 3,
     "solution": false,
     "task": false
    }
   },
   "source": [
    "**Exercise:**\n",
    "Define a function that square all elements in an input list"
   ]
  },
  {
   "cell_type": "code",
   "execution_count": null,
   "id": "8cbbaaf7",
   "metadata": {
    "deletable": false,
    "nbgrader": {
     "cell_type": "code",
     "checksum": "8670d6965de1bdb2afd872165555d378",
     "grade": false,
     "grade_id": "cell-f08a27b89def260c",
     "locked": false,
     "schema_version": 3,
     "solution": true,
     "task": false
    }
   },
   "outputs": [],
   "source": [
    "def list_square(nums):\n",
    "    # YOUR CODE HERE\n",
    "    raise NotImplementedError()"
   ]
  },
  {
   "cell_type": "markdown",
   "id": "a811d48e",
   "metadata": {
    "deletable": false,
    "editable": false,
    "nbgrader": {
     "cell_type": "markdown",
     "checksum": "3b8fc62e93b933f8e1f0541c50217dd6",
     "grade": false,
     "grade_id": "cell-f07d5237fbd49d61",
     "locked": true,
     "schema_version": 3,
     "solution": false,
     "task": false
    }
   },
   "source": [
    "**Exercise:**\n",
    "Define a function that squares all even numbers in an input list "
   ]
  },
  {
   "cell_type": "code",
   "execution_count": null,
   "id": "6ecd1246",
   "metadata": {
    "deletable": false,
    "nbgrader": {
     "cell_type": "code",
     "checksum": "d06ec5c226462fe9d194556d45701dbf",
     "grade": false,
     "grade_id": "cell-f0dbd00b4db1776f",
     "locked": false,
     "schema_version": 3,
     "solution": true,
     "task": false
    }
   },
   "outputs": [],
   "source": [
    "def list_square_even(nums):\n",
    "    # YOUR CODE HERE\n",
    "    raise NotImplementedError()"
   ]
  },
  {
   "cell_type": "code",
   "execution_count": null,
   "id": "213a2f37",
   "metadata": {
    "deletable": false,
    "editable": false,
    "nbgrader": {
     "cell_type": "code",
     "checksum": "2fb261cbced7cb9fd624a5433a145bf6",
     "grade": false,
     "grade_id": "cell-6bee5ea30103adcb",
     "locked": true,
     "schema_version": 3,
     "solution": false,
     "task": false
    }
   },
   "outputs": [],
   "source": [
    "squares = list_square(nums)\n",
    "print(\"squares:\\n\", squares)\n",
    "even_squares = list_square_even(nums)\n",
    "print(\"even_squares:\\n\", even_squares)"
   ]
  },
  {
   "cell_type": "code",
   "execution_count": null,
   "id": "07b11ee1",
   "metadata": {
    "deletable": false,
    "editable": false,
    "nbgrader": {
     "cell_type": "code",
     "checksum": "e38f9bd49f68700923efc4227b0b6c99",
     "grade": true,
     "grade_id": "cell-bfb2191f5fcc1533",
     "locked": true,
     "points": 0,
     "schema_version": 3,
     "solution": false,
     "task": false
    }
   },
   "outputs": [],
   "source": [
    "# DO NOT REMOVE OR MODIFY THIS CELL\n",
    "assert squares == [0, 1, 4]\n",
    "assert even_squares == [0, 4]"
   ]
  },
  {
   "cell_type": "markdown",
   "id": "2fa88e43",
   "metadata": {
    "deletable": false,
    "editable": false,
    "nbgrader": {
     "cell_type": "markdown",
     "checksum": "6987c6d85a5526a956ebfb29d112ab02",
     "grade": false,
     "grade_id": "cell-dcfb89cac64103a1",
     "locked": true,
     "schema_version": 3,
     "solution": false,
     "task": false
    }
   },
   "source": [
    "# Dictionaries\n",
    "A dictionary stores (key, value) pairs. Please refer to this [link](https://docs.python.org/3.5/library/stdtypes.html#dict) for details. We can create a dictionary as <code>d = {'cat': 'cute', 'dog': 'furry'}</code>. To check if a dictionary has a given key, we write <code>print('cat' in d)</code>. A new entry can be set in the dictionary as <code>d['fish'] = 'wet'</code>. To get an element with a default, write <code>print(d.get('monkey', 'N/A'))</code>; this should print \"N/A\" as \"monkey\" is not a key of <strong>d</strong>. To remove an element from a dictionary, we write <code>del d['fish']</code>.\n",
    "\n",
    "**Exercise:**\n",
    "\n",
    "Perform (in order)\n",
    "* Check if a dictionary has the key 'dog', and store the result in a\n",
    "* Get the value of the key 'cat', and store the result in b\n",
    "* Set a new entry with key 'shark' and value 'wet' in the dictionary\n",
    "* delete the key 'cat'\n",
    "* return the results of step 1, 2 and the modified list (in order)\n",
    "\n",
    "on the dict <code>d</code> we created"
   ]
  },
  {
   "cell_type": "code",
   "execution_count": null,
   "id": "1159ad58",
   "metadata": {
    "deletable": false,
    "editable": false,
    "nbgrader": {
     "cell_type": "code",
     "checksum": "36ae1d54e530230110ec3b030228a27b",
     "grade": false,
     "grade_id": "cell-c16a643544f49ea0",
     "locked": true,
     "schema_version": 3,
     "solution": false,
     "task": false
    }
   },
   "outputs": [],
   "source": [
    "d = {\"cat\": \"cute\", \"dog\": \"furry\"}"
   ]
  },
  {
   "cell_type": "code",
   "execution_count": null,
   "id": "1dbb682e",
   "metadata": {
    "deletable": false,
    "nbgrader": {
     "cell_type": "code",
     "checksum": "5f48cae1a2445eed8ebaae57caa5c05b",
     "grade": false,
     "grade_id": "cell-979c194416d1433f",
     "locked": false,
     "schema_version": 3,
     "solution": true,
     "task": false
    }
   },
   "outputs": [],
   "source": [
    "def dict_operation(d):\n",
    "    # YOUR CODE HERE\n",
    "    raise NotImplementedError()\n",
    "    return a, b, d"
   ]
  },
  {
   "cell_type": "code",
   "execution_count": null,
   "id": "f9d72745",
   "metadata": {
    "deletable": false,
    "editable": false,
    "nbgrader": {
     "cell_type": "code",
     "checksum": "cacadbffcb366ed52978bbb0318b85e8",
     "grade": false,
     "grade_id": "cell-57e5105538428c08",
     "locked": true,
     "schema_version": 3,
     "solution": false,
     "task": false
    }
   },
   "outputs": [],
   "source": [
    "a, b, d = dict_operation(d)\n",
    "print(\"a:\", a, \"b:\", b, \"d:\", d)"
   ]
  },
  {
   "cell_type": "code",
   "execution_count": null,
   "id": "518925b3",
   "metadata": {
    "deletable": false,
    "editable": false,
    "nbgrader": {
     "cell_type": "code",
     "checksum": "889cdcc5905f03c4a6965823c581b6f1",
     "grade": true,
     "grade_id": "cell-e419b92a993bb5a1",
     "locked": true,
     "points": 0,
     "schema_version": 3,
     "solution": false,
     "task": false
    }
   },
   "outputs": [],
   "source": [
    "# DO NOT REMOVE OR MODIFY THIS CELL\n",
    "assert a == True\n",
    "assert b == \"cute\"\n",
    "assert d == {\"dog\": \"furry\", \"shark\": \"wet\"}"
   ]
  },
  {
   "cell_type": "markdown",
   "id": "6a5f0f69",
   "metadata": {
    "deletable": false,
    "editable": false,
    "nbgrader": {
     "cell_type": "markdown",
     "checksum": "2a25523c40ea84d8e136e39dc606560c",
     "grade": false,
     "grade_id": "cell-8316211292855e24",
     "locked": true,
     "schema_version": 3,
     "solution": false,
     "task": false
    }
   },
   "source": [
    "## Loops\n",
    "It is easy to iterate over the keys in a dictionary. Let say, we have a dictionary <code>d = {'person': 2, 'cat': 4, 'spider': 8}</code>. We can iterate over this dictionary through the following code:\n",
    "    \n",
    "    for animal in d:\n",
    "        legs = d[animal]\n",
    "        print('A %s has %d legs' % (animal, legs))\n",
    "This will print:<br />\n",
    "    \n",
    "    A person has 2 legs\n",
    "    A cat has 4 legs\n",
    "    A spider has 8 legs\n",
    "\n",
    "**Exercise:**\n",
    "\n",
    "Iterate over the dict <code>d</code> we created and \n",
    "* obtain list `list_a`, into which you add the names of the animals, who have more than 2 legs.\n",
    "* sum up all the values and save in `total_value`\n",
    "\n",
    "using [items](https://www.learnbyexample.org/python-dictionary-items-method/) method."
   ]
  },
  {
   "cell_type": "code",
   "execution_count": null,
   "id": "3d95bc75",
   "metadata": {
    "deletable": false,
    "editable": false,
    "nbgrader": {
     "cell_type": "code",
     "checksum": "595cde91c827a5acea442f7e03bbbd70",
     "grade": false,
     "grade_id": "cell-6ed35dfbf6a00edd",
     "locked": true,
     "schema_version": 3,
     "solution": false,
     "task": false
    }
   },
   "outputs": [],
   "source": [
    "d = {\"person\": 2.0, \"cat\": 4.0, \"dog\": 4.0, \"spider\": 8.0}"
   ]
  },
  {
   "cell_type": "code",
   "execution_count": null,
   "id": "d191b1b1",
   "metadata": {
    "deletable": false,
    "nbgrader": {
     "cell_type": "code",
     "checksum": "c027f02220966f3ce7f98886e06f339d",
     "grade": false,
     "grade_id": "cell-738c1794ad8b3e07",
     "locked": false,
     "schema_version": 3,
     "solution": true,
     "task": false
    }
   },
   "outputs": [],
   "source": [
    "def loop_over_dict(d):\n",
    "    # YOUR CODE HERE\n",
    "    raise NotImplementedError()\n",
    "    return list_a, total_value"
   ]
  },
  {
   "cell_type": "code",
   "execution_count": null,
   "id": "8bae2a0f",
   "metadata": {
    "deletable": false,
    "editable": false,
    "nbgrader": {
     "cell_type": "code",
     "checksum": "86a7f69a6d34381a95f54218515cc15d",
     "grade": false,
     "grade_id": "cell-18ff03589ff54d8f",
     "locked": true,
     "schema_version": 3,
     "solution": false,
     "task": false
    }
   },
   "outputs": [],
   "source": [
    "a, b = loop_over_dict(d)\n",
    "print(\"a:\", a, \"b:\", b)"
   ]
  },
  {
   "cell_type": "code",
   "execution_count": null,
   "id": "8f732d43",
   "metadata": {
    "deletable": false,
    "editable": false,
    "nbgrader": {
     "cell_type": "code",
     "checksum": "d980aaef2dedfa32f5bd987f6ce8f827",
     "grade": true,
     "grade_id": "cell-5dd73630629803d6",
     "locked": true,
     "points": 0,
     "schema_version": 3,
     "solution": false,
     "task": false
    }
   },
   "outputs": [],
   "source": [
    "# DO NOT REMOVE OR MODIFY THIS CELL\n",
    "assert a == [\"cat\", \"dog\", \"spider\"]\n",
    "assert b == 18.0"
   ]
  },
  {
   "cell_type": "markdown",
   "id": "e4fbb317",
   "metadata": {
    "deletable": false,
    "editable": false,
    "nbgrader": {
     "cell_type": "markdown",
     "checksum": "b8ec4cf3abef9afa18d273afa26cd857",
     "grade": false,
     "grade_id": "cell-9c29e89c2fe325ed",
     "locked": true,
     "schema_version": 3,
     "solution": false,
     "task": false
    }
   },
   "source": [
    "### Dictionary comprehensions:\n",
    "These are similar to list comprehensions, but allow you to easily construct dictionaries. For example \n",
    "    \n",
    "    nums = [0, 1, 2, 3, 4]\n",
    "    even_num_to_square = {x: x ** 2 for x in nums if x % 2 == 0}\n",
    "\n",
    "**Exercise:**\n",
    "In the cell below, use the dictionary comprehension to construct a dictionary, named <strong>letter_count</strong>, where the keys are letters contained in a list and the values are their frequencies. E.g. letters = ['a', 'b', 'b', 'c', 'c', 'd', 'c'], letter_count = {'a': 1, 'b': 2, 'c': 3, 'd': 1}."
   ]
  },
  {
   "cell_type": "code",
   "execution_count": null,
   "id": "b244f8b2",
   "metadata": {
    "deletable": false,
    "nbgrader": {
     "cell_type": "code",
     "checksum": "e40cf56d03908898b5a41e17f7d76325",
     "grade": false,
     "grade_id": "cell-41611bea1cb143fc",
     "locked": false,
     "schema_version": 3,
     "solution": true,
     "task": false
    }
   },
   "outputs": [],
   "source": [
    "letters = [\"a\", \"b\", \"b\", \"c\", \"c\", \"d\", \"c\"]\n",
    "letter_count = None\n",
    "# YOUR CODE HERE\n",
    "raise NotImplementedError()\n",
    "print(\"letter_count:\\n\", letter_count)"
   ]
  },
  {
   "cell_type": "code",
   "execution_count": null,
   "id": "39938cd7",
   "metadata": {
    "deletable": false,
    "editable": false,
    "nbgrader": {
     "cell_type": "code",
     "checksum": "bb6ccbba19855f4a89a9880b0941386e",
     "grade": true,
     "grade_id": "cell-66e205bfdf2947ed",
     "locked": true,
     "points": 0,
     "schema_version": 3,
     "solution": false,
     "task": false
    }
   },
   "outputs": [],
   "source": [
    "# DO NOT REMOVE OR MODIFY THIS CELL\n",
    "assert letter_count == {\"a\": 1, \"b\": 2, \"c\": 3, \"d\": 1}"
   ]
  },
  {
   "cell_type": "markdown",
   "id": "80e4ec58",
   "metadata": {
    "deletable": false,
    "editable": false,
    "nbgrader": {
     "cell_type": "markdown",
     "checksum": "3f32c6a246a58cdc76b67af051fc0f91",
     "grade": false,
     "grade_id": "cell-950644b60c397686",
     "locked": true,
     "schema_version": 3,
     "solution": false,
     "task": false
    }
   },
   "source": [
    "# Sets\n",
    "A set is an unordered collection of distinct elements. The details can be found [here](https://docs.python.org/3.5/library/stdtypes.html#set). As a simple example, consider the following:"
   ]
  },
  {
   "cell_type": "code",
   "execution_count": null,
   "id": "6fe120a3",
   "metadata": {},
   "outputs": [],
   "source": [
    "animals = {\"cat\", \"dog\"}\n",
    "print(\"cat\" in animals)  # Check if an element is in a set; prints \"True\"\n",
    "print(\"fish\" in animals)  # prints \"False\"\n",
    "animals.add(\"fish\")  # Add an element to a set\n",
    "print(\"fish\" in animals)  # Prints \"True\"\n",
    "print(len(animals))  # Number of elements in a set; prints \"3\"\n",
    "animals.add(\"cat\")  # Adding an element that is already in the set does nothing\n",
    "print(len(animals))  # Prints \"3\"\n",
    "animals.remove(\"cat\")  # Remove an element from a set\n",
    "print(len(animals))  # Prints \"2\""
   ]
  },
  {
   "cell_type": "markdown",
   "id": "08213f75",
   "metadata": {
    "deletable": false,
    "editable": false,
    "nbgrader": {
     "cell_type": "markdown",
     "checksum": "ee422cc9e6668f46021b2f01a6e96d9d",
     "grade": false,
     "grade_id": "cell-2ad21d1e7a0957aa",
     "locked": true,
     "schema_version": 3,
     "solution": false,
     "task": false
    }
   },
   "source": [
    "### Loops:\n",
    "Iterating over a set has the same syntax as iterating over a list; however, since sets are unordered, you cannot make assumptions about the order in which you visit the elements of the set:"
   ]
  },
  {
   "cell_type": "code",
   "execution_count": null,
   "id": "30e4ef55",
   "metadata": {},
   "outputs": [],
   "source": [
    "animals = {\"cat\", \"dog\", \"fish\"}\n",
    "for idx, animal in enumerate(animals):\n",
    "    print(\"#%d: %s\" % (idx + 1, animal))\n",
    "# Prints \"#1: fish\", \"#2: dog\", \"#3: cat\""
   ]
  },
  {
   "cell_type": "markdown",
   "id": "6af23dc6",
   "metadata": {
    "deletable": false,
    "editable": false,
    "nbgrader": {
     "cell_type": "markdown",
     "checksum": "e66adece192f87074310dfe6088e9067",
     "grade": false,
     "grade_id": "cell-eb001822025222f2",
     "locked": true,
     "schema_version": 3,
     "solution": false,
     "task": false
    }
   },
   "source": [
    "### Set comprehensions:\n",
    "Like lists and dictionaries, we can easily construct sets using set comprehensions:"
   ]
  },
  {
   "cell_type": "code",
   "execution_count": null,
   "id": "5adb7645",
   "metadata": {},
   "outputs": [],
   "source": [
    "from math import sqrt\n",
    "\n",
    "nums = {int(sqrt(x)) for x in range(30)}\n",
    "print(nums)  # Prints \"{0, 1, 2, 3, 4, 5}\""
   ]
  },
  {
   "cell_type": "markdown",
   "id": "8ffe83df",
   "metadata": {
    "deletable": false,
    "editable": false,
    "nbgrader": {
     "cell_type": "markdown",
     "checksum": "11db415b7a14fafbbbb73f425cb76182",
     "grade": false,
     "grade_id": "cell-128afb67c9babb9a",
     "locked": true,
     "schema_version": 3,
     "solution": false,
     "task": false
    }
   },
   "source": [
    "# Tuples\n",
    "A tuple is an (immutable) ordered list of values. A tuple is in many ways similar to a list; one of the most important differences is that tuples can be used as keys in dictionaries and as elements of sets, while lists cannot. For more information see the [documentation](https://docs.python.org/3.5/tutorial/datastructures.html#tuples-and-sequences). Here is a trivial example:"
   ]
  },
  {
   "cell_type": "code",
   "execution_count": null,
   "id": "ba3c7a2f",
   "metadata": {},
   "outputs": [],
   "source": [
    "d = {(x, x + 1): x for x in range(10)}  # Create a dictionary with tuple keys\n",
    "t = (5, 6)  # Create a tuple\n",
    "print(type(t))  # Prints \"<class 'tuple'>\"\n",
    "print(d[t])  # Prints \"5\"\n",
    "print(d[(1, 2)])  # Prints \"1\""
   ]
  },
  {
   "cell_type": "markdown",
   "id": "d559e5e3",
   "metadata": {
    "deletable": false,
    "editable": false,
    "nbgrader": {
     "cell_type": "markdown",
     "checksum": "1921261341383c637983080dee3f3a0f",
     "grade": false,
     "grade_id": "cell-08321679d4ebd033",
     "locked": true,
     "schema_version": 3,
     "solution": false,
     "task": false
    }
   },
   "source": [
    "# Classes\n",
    "The syntax for defining classes in Python is straightforward:"
   ]
  },
  {
   "cell_type": "code",
   "execution_count": null,
   "id": "2ff2e75e",
   "metadata": {},
   "outputs": [],
   "source": [
    "class Greeter(object):\n",
    "    # Constructor\n",
    "    def __init__(self, name):\n",
    "        self.name = name  # Create an instance variable\n",
    "\n",
    "    # Instance method\n",
    "    def greet(self, loud=False):\n",
    "        if loud:\n",
    "            print(\"HELLO, %s!\" % self.name.upper())\n",
    "        else:\n",
    "            print(\"Hello, %s\" % self.name)\n",
    "\n",
    "\n",
    "g = Greeter(\"Fred\")  # Construct an instance of the Greeter class\n",
    "g.greet()  # Call an instance method; prints \"Hello, Fred\"\n",
    "g.greet(loud=True)  # Call an instance method; prints \"HELLO, FRED!\""
   ]
  },
  {
   "cell_type": "markdown",
   "id": "396e58a9",
   "metadata": {
    "deletable": false,
    "editable": false,
    "nbgrader": {
     "cell_type": "markdown",
     "checksum": "b4100fb541709bdc98a834f9910c3705",
     "grade": false,
     "grade_id": "cell-a25280840ea163f9",
     "locked": true,
     "schema_version": 3,
     "solution": false,
     "task": false
    }
   },
   "source": [
    "**Exercise:**\n",
    "\n",
    "Finish the class definition below. Finish the function `repaint` and `getColor`.\n",
    "\n",
    "Function `getColor` returns the color of the instance.\n",
    "Function `repaint` should set a new color to the instance.\n",
    "\n"
   ]
  },
  {
   "cell_type": "code",
   "execution_count": null,
   "id": "2c724dec",
   "metadata": {
    "deletable": false,
    "nbgrader": {
     "cell_type": "code",
     "checksum": "c1d23c5df110c4a691d7024505677db8",
     "grade": false,
     "grade_id": "cell-3493ee62404ff8a5",
     "locked": false,
     "schema_version": 3,
     "solution": true,
     "task": false
    }
   },
   "outputs": [],
   "source": [
    "class Car(object):\n",
    "    def __init__(self, color):\n",
    "        self.color = color\n",
    "\n",
    "    def repaint(self, color):\n",
    "        # YOUR CODE HERE\n",
    "        raise NotImplementedError()\n",
    "\n",
    "    def getColor(self):\n",
    "        # YOUR CODE HERE\n",
    "        raise NotImplementedError()\n",
    "        return color"
   ]
  },
  {
   "cell_type": "code",
   "execution_count": null,
   "id": "2ceed481",
   "metadata": {
    "deletable": false,
    "editable": false,
    "nbgrader": {
     "cell_type": "code",
     "checksum": "e3b805ccf0326ceda2cccf8bc19efa87",
     "grade": true,
     "grade_id": "cell-ccf9afb43cdd9657",
     "locked": true,
     "points": 0,
     "schema_version": 3,
     "solution": false,
     "task": false
    }
   },
   "outputs": [],
   "source": [
    "# DO NOT REMOVE OR MODIFY THIS CELL\n",
    "Porsche = Car(\"white\")\n",
    "assert Porsche.getColor() == \"white\""
   ]
  },
  {
   "cell_type": "markdown",
   "id": "e2067ed5",
   "metadata": {
    "deletable": false,
    "editable": false,
    "nbgrader": {
     "cell_type": "markdown",
     "checksum": "e02f48aa2f025f7f3df2774b31ac74ea",
     "grade": false,
     "grade_id": "cell-e3173d22c51cf75b",
     "locked": true,
     "schema_version": 3,
     "solution": false,
     "task": false
    }
   },
   "source": [
    "There is a lot more about Python classes in the [documentation](https://docs.python.org/3.5/tutorial/classes.html)."
   ]
  },
  {
   "cell_type": "markdown",
   "id": "8c656aea",
   "metadata": {
    "deletable": false,
    "editable": false,
    "nbgrader": {
     "cell_type": "markdown",
     "checksum": "060d0049ad090d5e54eee1427f87a06a",
     "grade": false,
     "grade_id": "cell-cf72255b206bfbc8",
     "locked": true,
     "schema_version": 3,
     "solution": false,
     "task": false
    }
   },
   "source": [
    "# Numpy\n",
    "Numpy is the core library for scientific computing in Python. It provides a high-performance multidimensional array object, and tools for working with these arrays. If you are already familiar with MATLAB, you might find this tutorial useful to get started with Numpy.\n",
    "\n",
    "## Arrays\n",
    "A numpy array is a grid of values, all of the same type, and is indexed by a tuple of nonnegative integers. The number of dimensions is the rank of the array; the shape of an array is a tuple of integers giving the size of the array along each dimension.\n",
    "\n",
    "We can initialize numpy arrays from nested Python lists, and access elements using square brackets:\n",
    "\n",
    "    a = np.array([1, 2, 3])            # Create a rank 1 array\n",
    "    b = np.array([[1,2,3],[4,5,6]])    # Create a rank 2 array\n",
    "    \n",
    "    print(type(a))                     # Prints \"<class 'numpy.ndarray'>\"\n",
    "    print(a.shape)                     # Prints \"(3,)\"\n",
    "    print(a[0], a[1], a[2])            # Prints \"1 2 3\"\n",
    "    a[0] = 5                           # Change an element of the array\n",
    "    print(a)                           # Prints \"[5, 2, 3]\"\n",
    "    \n",
    "    print(b.shape)                     # Prints \"(2, 3)\"\n",
    "    print(b[0, 0], b[0, 1], b[1, 0])   # Prints \"1 2 4\"\n",
    "    \n"
   ]
  },
  {
   "cell_type": "markdown",
   "id": "ff8759c1",
   "metadata": {
    "deletable": false,
    "editable": false,
    "nbgrader": {
     "cell_type": "markdown",
     "checksum": "9bec37baa5a99074207162353dd48824",
     "grade": false,
     "grade_id": "cell-e9bf316008dbd502",
     "locked": true,
     "schema_version": 3,
     "solution": false,
     "task": false
    }
   },
   "source": [
    "Numpy also provides many functions to create arrays.\n",
    "                                 \n",
    "**Exercise:**\n",
    "\n",
    "Create an 8x8 array with all zeros, named <strong>array_zeros</strong>;\\\n",
    "a 2x2x2 array with all ones, named <strong>array_ones</strong>;\\\n",
    "a 2x2 identity matrix, named <strong>array_identity</strong>;\\\n",
    "and a 7x7 constant array with all 7, named <strong>array_constant</strong>."
   ]
  },
  {
   "cell_type": "code",
   "execution_count": null,
   "id": "86f5e44b",
   "metadata": {
    "deletable": false,
    "nbgrader": {
     "cell_type": "code",
     "checksum": "67a401b10738a58afcfbf0ffcccb1dc6",
     "grade": true,
     "grade_id": "cell-3ca5d2ee4409aaf4",
     "locked": false,
     "points": 0,
     "schema_version": 3,
     "solution": true,
     "task": false
    }
   },
   "outputs": [],
   "source": [
    "import numpy as np\n",
    "\n",
    "# YOUR CODE HERE\n",
    "raise NotImplementedError()\n",
    "\n",
    "print(\"Zeros\", array_zeros.shape, \":\\n\", array_zeros)\n",
    "print(\"Ones\", array_ones.shape, \":\\n\", array_ones)\n",
    "print(\"Identity\", array_identity.shape, \":\\n\", array_identity)\n",
    "print(\"Constant\", array_constant.shape, \":\\n\", array_constant)"
   ]
  },
  {
   "cell_type": "markdown",
   "id": "c8635748",
   "metadata": {
    "deletable": false,
    "editable": false,
    "nbgrader": {
     "cell_type": "markdown",
     "checksum": "877e9b232d676b77a95d2cf2d7c1dce1",
     "grade": false,
     "grade_id": "cell-93a66384e5041f3c",
     "locked": true,
     "schema_version": 3,
     "solution": false,
     "task": false
    }
   },
   "source": [
    "You can read about other methods of array creation in the [documentation](http://docs.scipy.org/doc/numpy/user/basics.creation.html#arrays-creation)."
   ]
  },
  {
   "cell_type": "markdown",
   "id": "01f37659",
   "metadata": {
    "deletable": false,
    "editable": false,
    "nbgrader": {
     "cell_type": "markdown",
     "checksum": "4de27d45a5b9af405aadec58c399452c",
     "grade": false,
     "grade_id": "cell-1112399ec6d1342e",
     "locked": true,
     "schema_version": 3,
     "solution": false,
     "task": false
    }
   },
   "source": [
    "## Array indexing\n",
    "Numpy offers several ways to index into arrays.\n",
    "\n",
    "### Slicing\n",
    "Similar to Python lists, numpy arrays can be sliced. Since arrays may be multidimensional, you must specify a slice for each dimension of the array.\n",
    "\n",
    "**Example:**\n",
    "\n",
    "<code> a = np.array([[5, 9, 2], [4, 8, 9], [7, 5, 9], [7, 8, 5]])</code>\n",
    "\n",
    "Slice **a** to pull out a subarray consisting of rows 1 and 2, and the last 2 columns:\n",
    "\n",
    "<code> b = a[1:3, 1:]</code> (b = [[8, 9], [5, 9]])\n",
    "\n",
    "**Exercise:** \n",
    "Create an array named **a** with shape (3, 4) with the following rows: r<sub>1</sub> = [1,2,3,4]; r<sub>2</sub> = [5,6,7,8]; r<sub>3</sub> = [9,10,11,12]."
   ]
  },
  {
   "cell_type": "code",
   "execution_count": null,
   "id": "93c52205",
   "metadata": {
    "deletable": false,
    "nbgrader": {
     "cell_type": "code",
     "checksum": "bdcc247908f043d5b41dbd9832890523",
     "grade": false,
     "grade_id": "cell-7a1f6ec23919e8be",
     "locked": false,
     "schema_version": 3,
     "solution": true,
     "task": false
    }
   },
   "outputs": [],
   "source": [
    "# YOUR CODE HERE\n",
    "raise NotImplementedError()\n",
    "print(\"a:\\n\", a)"
   ]
  },
  {
   "cell_type": "markdown",
   "id": "87bbfd6b",
   "metadata": {
    "deletable": false,
    "editable": false,
    "nbgrader": {
     "cell_type": "markdown",
     "checksum": "64acf5ba9b37f015ebc6487828273e4c",
     "grade": false,
     "grade_id": "cell-784fb0e8b4fa6290",
     "locked": true,
     "schema_version": 3,
     "solution": false,
     "task": false
    }
   },
   "source": [
    "Use slicing to pull out the subarray of shape (2, 2) from **a** consisting of the first 2 rows and columns 3 and 4. Name this array **b**."
   ]
  },
  {
   "cell_type": "code",
   "execution_count": null,
   "id": "55010ff6",
   "metadata": {
    "deletable": false,
    "nbgrader": {
     "cell_type": "code",
     "checksum": "617c4108ef8df5daf249775ec8b8bbe7",
     "grade": false,
     "grade_id": "cell-08c3ba070956b10f",
     "locked": false,
     "schema_version": 3,
     "solution": true,
     "task": false
    }
   },
   "outputs": [],
   "source": [
    "# YOUR CODE HERE\n",
    "raise NotImplementedError()\n",
    "print(\"b:\\n\", b)"
   ]
  },
  {
   "cell_type": "code",
   "execution_count": null,
   "id": "03db6b2c",
   "metadata": {
    "deletable": false,
    "editable": false,
    "nbgrader": {
     "cell_type": "code",
     "checksum": "ec0d0d78c98e6ed7a4c97d66fb09a76e",
     "grade": true,
     "grade_id": "cell-39dc2fc4e71b9254",
     "locked": true,
     "points": 0,
     "schema_version": 3,
     "solution": false,
     "task": false
    }
   },
   "outputs": [],
   "source": [
    "# DO NOT REMOVE OR MODIFY THIS CELL\n",
    "assert b.shape == (2, 2), \"b should be np.array of shape 2 by 2\"\n",
    "assert (b == np.array([[3, 4], [7, 8]])).all()"
   ]
  },
  {
   "cell_type": "markdown",
   "id": "fd48c083",
   "metadata": {
    "deletable": false,
    "editable": false,
    "nbgrader": {
     "cell_type": "markdown",
     "checksum": "bd4e559115132fbd8d389afe6c650e11",
     "grade": false,
     "grade_id": "cell-5153a0d887be44c6",
     "locked": true,
     "schema_version": 3,
     "solution": false,
     "task": false
    }
   },
   "source": [
    "A slice of an array is a view into the same data, so modifying it will modify the original array. Check this by typing the following commands.\n",
    "\n",
    "    print(a[0, 1])   # Prints \"2\"\n",
    "    b[0, 0] = 77     # b[0, 0] is the same piece of data as a[0, 1]\n",
    "    print(a[0, 1])   # Prints \"77\" \n",
    "\n",
    "**Exercise:** \n",
    "Now change all values in **b** to be zero and thereby changing **a** through **b**."
   ]
  },
  {
   "cell_type": "code",
   "execution_count": null,
   "id": "358761f6",
   "metadata": {
    "deletable": false,
    "nbgrader": {
     "cell_type": "code",
     "checksum": "7947bf9608fad127bbd11c37534ebebb",
     "grade": false,
     "grade_id": "cell-e4eeec68b69d7232",
     "locked": false,
     "schema_version": 3,
     "solution": true,
     "task": false
    }
   },
   "outputs": [],
   "source": [
    "# YOUR CODE HERE\n",
    "raise NotImplementedError()"
   ]
  },
  {
   "cell_type": "code",
   "execution_count": null,
   "id": "e05e0412",
   "metadata": {
    "deletable": false,
    "editable": false,
    "nbgrader": {
     "cell_type": "code",
     "checksum": "53f8f1a9a367da76193c5dfcf53429c5",
     "grade": true,
     "grade_id": "cell-71c234125f99f165",
     "locked": true,
     "points": 0,
     "schema_version": 3,
     "solution": false,
     "task": false
    }
   },
   "outputs": [],
   "source": [
    "# DO NOT REMOVE OR MODIFY THIS CELL\n",
    "assert b.shape == (2, 2)\n",
    "assert a.shape == (3, 4)\n",
    "assert (b == np.zeros((2, 2))).all(), \"b is not all zero\"\n",
    "assert (\n",
    "    a == np.array([[1, 2, 0, 0], [5, 6, 0, 0], [9, 10, 11, 12]])\n",
    ").all(), \"a is not correct\""
   ]
  },
  {
   "cell_type": "markdown",
   "id": "59d52dc8",
   "metadata": {
    "deletable": false,
    "editable": false,
    "nbgrader": {
     "cell_type": "markdown",
     "checksum": "39ddd9a3b4265094dba0604b975bfbcf",
     "grade": false,
     "grade_id": "cell-8b5118ef9e486234",
     "locked": true,
     "schema_version": 3,
     "solution": false,
     "task": false
    }
   },
   "source": [
    "You can also mix integer indexing with slice indexing. However, doing so will yield an array of lower rank than the original array.\n",
    "\n",
    "Create the following Rank 2 numpy array (say <strong>a</strong>) with shape (3, 4) \n",
    " \n",
    "         [[ 1  2  3  4]\n",
    "     a =  [ 5  6  7  8]\n",
    "          [ 9 10 11 12]]\n",
    "          \n",
    "Two ways of accessing the data in the middle row of the array.<br/>\n",
    "1. Mixing integer indexing with slices yields an array of lower rank e.g.:\n",
    "        \n",
    "         a[1, :]     # Rank 1 view of the second row of a\n",
    "        \n",
    "2. while using only slices yields an array of the same rank as the original array e.g.:\n",
    "\n",
    "         a[1:2, :]  # Rank 2 view of the second row of a\n",
    "\n",
    "**Exercise:** \n",
    "\n",
    "Implement this for the columns of <code>a.shape</code> in the cell below and print the ranks (use <code>array.shape</code>) command) of the resulting array.\n",
    "\n",
    "Create the Rank 1 view of the first column of a, named **col_r1**\n",
    "\n",
    "Create the Rank 2 view of the first column of a, named **col_r2**"
   ]
  },
  {
   "cell_type": "code",
   "execution_count": null,
   "id": "237fcbc1",
   "metadata": {
    "deletable": false,
    "nbgrader": {
     "cell_type": "code",
     "checksum": "b8697a0334db2e6a0be7655f6530008f",
     "grade": false,
     "grade_id": "cell-c69ae5eaf2f7342b",
     "locked": false,
     "schema_version": 3,
     "solution": true,
     "task": false
    }
   },
   "outputs": [],
   "source": [
    "a = np.array([[1, 2, 3, 4], [5, 6, 7, 8], [9, 10, 11, 12]])\n",
    "col_r1 = None\n",
    "col_r2 = None\n",
    "\n",
    "# YOUR CODE HERE\n",
    "raise NotImplementedError()"
   ]
  },
  {
   "cell_type": "code",
   "execution_count": null,
   "id": "2aae7e5c",
   "metadata": {
    "deletable": false,
    "editable": false,
    "nbgrader": {
     "cell_type": "code",
     "checksum": "3780e89e9a869dcf363c2500cdd17870",
     "grade": true,
     "grade_id": "cell-0e4cff9731355c58",
     "locked": true,
     "points": 0,
     "schema_version": 3,
     "solution": false,
     "task": false
    }
   },
   "outputs": [],
   "source": [
    "assert col_r1.shape == (3,)\n",
    "assert col_r2.shape == (3, 1)\n",
    "assert (col_r1 == np.array([1, 5, 9])).all()\n",
    "assert (col_r2 == np.array([[1], [5], [9]])).all()"
   ]
  },
  {
   "cell_type": "markdown",
   "id": "4f5f68b3",
   "metadata": {
    "deletable": false,
    "editable": false,
    "nbgrader": {
     "cell_type": "markdown",
     "checksum": "c57f643165a4bad92daf13adf863fd3c",
     "grade": false,
     "grade_id": "cell-fa97a250cca2b598",
     "locked": true,
     "schema_version": 3,
     "solution": false,
     "task": false
    }
   },
   "source": [
    "### Integer array indexing\n",
    "\n",
    "When you index into numpy arrays using slicing, the resulting array view will always be a subarray of the original array. In contrast, integer array indexing allows you to construct arbitrary arrays using the data from another array. Here is an example:"
   ]
  },
  {
   "cell_type": "code",
   "execution_count": null,
   "id": "b7a5b583",
   "metadata": {},
   "outputs": [],
   "source": [
    "a = np.array([[1, 2], [3, 4], [5, 6]])\n",
    "\n",
    "print(a)\n",
    "\n",
    "# An example of integer array indexing.\n",
    "# The returned array will have shape (3,) and\n",
    "print(a[[0, 1, 2], [0, 1, 0]])  # Prints \"[1 4 5]\"\n",
    "\n",
    "# The above example of integer array indexing is equivalent to this:\n",
    "print(np.array([a[0, 0], a[1, 1], a[2, 0]]))  # Prints \"[1 4 5]\"\n",
    "\n",
    "# When using integer array indexing, you can reuse the same\n",
    "# element from the source array:\n",
    "print(a[[0, 0], [1, 1]])  # Prints \"[2 2]\"\n",
    "\n",
    "# Equivalent to the previous integer array indexing example\n",
    "print(np.array([a[0, 1], a[0, 1]]))  # Prints \"[2 2]\""
   ]
  },
  {
   "cell_type": "markdown",
   "id": "d7179e76",
   "metadata": {},
   "source": [
    "**Exercise:** \n",
    "\n",
    "Based on the elements of the array:\n",
    "    \n",
    "    a = [[5, 7, 8],\n",
    "         [4, 2, 54],\n",
    "         [6, 43, 12]]\n",
    "         \n",
    "Using integer indexing, we want to obtain the array **b = [7, 4, 54]**. To do so, we need to execute the following command:\n",
    "\n",
    "<code>b = a[[x<sub>1</sub>, x<sub>2</sub>, x<sub>3</sub>], [x<sub>4</sub>, x<sub>5</sub>, x<sub>6</sub>]]</code>\n",
    "\n",
    "Replace <code>None</code> with the values of x<sub>i</sub> in the following cell."
   ]
  },
  {
   "cell_type": "code",
   "execution_count": null,
   "id": "a0c93246",
   "metadata": {
    "deletable": false,
    "nbgrader": {
     "cell_type": "code",
     "checksum": "df310c461770f2f1d75a482abad1761d",
     "grade": false,
     "grade_id": "cell-d3fe2b8ce15dd122",
     "locked": false,
     "schema_version": 3,
     "solution": true,
     "task": false
    }
   },
   "outputs": [],
   "source": [
    "a = np.array([[5, 7, 8], [4, 2, 54], [6, 43, 12]])\n",
    "\n",
    "x_1 = None\n",
    "x_2 = None\n",
    "x_3 = None\n",
    "x_4 = None\n",
    "x_5 = None\n",
    "x_6 = None\n",
    "\n",
    "# YOUR CODE HERE\n",
    "raise NotImplementedError()\n",
    "\n",
    "b = a[[x_1, x_2, x_3], [x_4, x_5, x_6]]\n",
    "print(b)"
   ]
  },
  {
   "cell_type": "code",
   "execution_count": null,
   "id": "e774da40",
   "metadata": {
    "deletable": false,
    "editable": false,
    "nbgrader": {
     "cell_type": "code",
     "checksum": "00d62b8f0cc54bca589608a477d3a09a",
     "grade": true,
     "grade_id": "cell-a528b658599fe9a7",
     "locked": true,
     "points": 0,
     "schema_version": 3,
     "solution": false,
     "task": false
    }
   },
   "outputs": [],
   "source": [
    "# DO NOT REMOVE OR MODIFY THIS CELL\n",
    "assert (b == np.array([7, 4, 54])).all()"
   ]
  },
  {
   "cell_type": "markdown",
   "id": "303c1fda",
   "metadata": {
    "deletable": false,
    "editable": false,
    "nbgrader": {
     "cell_type": "markdown",
     "checksum": "624a9f29b0860eabf591e7cdc45b5f05",
     "grade": false,
     "grade_id": "cell-11a95e0fe207183d",
     "locked": true,
     "schema_version": 3,
     "solution": false,
     "task": false
    }
   },
   "source": [
    "One useful trick with integer array indexing is selecting or mutating one element from each row of a matrix:\n",
    "\n",
    "Create a new array from which we will select elements\n",
    "    \n",
    "    a = np.array([[1,2,3], [4,5,6], [7,8,9], [10, 11, 12]])\n",
    "\n",
    "    print(a)  # prints \"array([[ 1,  2,  3],\n",
    "              #                [ 4,  5,  6],\n",
    "              #                [ 7,  8,  9],\n",
    "              #                [10, 11, 12]])\"\n",
    "    \n",
    "Create an array of indices\n",
    "\n",
    "    b = np.array([0, 2, 0, 1])\n",
    "\n",
    "Select one element from each row of a using the indices in b\n",
    "\n",
    "    print(a[np.arange(4), b])  # Prints \"[ 1  6  7 11]\"\n",
    "\n",
    "Mutate one element from each row of a using the indices in b\n",
    "\n",
    "    a[np.arange(4), b] += 10\n",
    "\n",
    "    print(a)  # prints \"array([[11,  2,  3],\n",
    "              #                [ 4,  5, 16],\n",
    "              #                [17,  8,  9],\n",
    "              #                [10, 21, 12]])\n",
    "              \n",
    "**Exercise:**\n",
    "Multiply by 4 every element of **a** belonging to row 1 and columns 1 and 2."
   ]
  },
  {
   "cell_type": "code",
   "execution_count": null,
   "id": "f86e4d96",
   "metadata": {
    "deletable": false,
    "nbgrader": {
     "cell_type": "code",
     "checksum": "ec8c693f9e3709be57e4d6d3841eb18d",
     "grade": false,
     "grade_id": "cell-992b5cd37514a784",
     "locked": false,
     "schema_version": 3,
     "solution": true,
     "task": false
    }
   },
   "outputs": [],
   "source": [
    "a = np.array([[1, 2, 3], [4, 5, 6], [7, 8, 9], [10, 11, 12]])\n",
    "# YOUR CODE HERE\n",
    "raise NotImplementedError()\n",
    "print(\"a:\\n\", a)"
   ]
  },
  {
   "cell_type": "code",
   "execution_count": null,
   "id": "8233ae76",
   "metadata": {
    "deletable": false,
    "editable": false,
    "nbgrader": {
     "cell_type": "code",
     "checksum": "13d9f7fd1042f3b38bd3f928fc186d98",
     "grade": true,
     "grade_id": "cell-22672b3aa6920837",
     "locked": true,
     "points": 0,
     "schema_version": 3,
     "solution": false,
     "task": false
    }
   },
   "outputs": [],
   "source": [
    "# DO NOT REMOVE OR MODIFY THIS CELL\n",
    "assert (a == np.array([[1, 2, 3], [4, 20, 24], [7, 8, 9], [10, 11, 12]])).all()"
   ]
  },
  {
   "cell_type": "markdown",
   "id": "1c9c9fc1",
   "metadata": {
    "deletable": false,
    "editable": false,
    "nbgrader": {
     "cell_type": "markdown",
     "checksum": "2dfad891bcb498517603f2b8a7cc3203",
     "grade": false,
     "grade_id": "cell-4266f2e3a4f31523",
     "locked": true,
     "schema_version": 3,
     "solution": false,
     "task": false
    }
   },
   "source": [
    "### Boolean array indexing:\n",
    "Boolean array indexing lets you pick out arbitrary elements of an array. Frequently this type of indexing is used to select the elements of an array that satisfy some condition. Here is an example:"
   ]
  },
  {
   "cell_type": "code",
   "execution_count": null,
   "id": "34bfe961",
   "metadata": {},
   "outputs": [],
   "source": [
    "a = np.array([[1, 2], [3, 4], [5, 6]])\n",
    "\n",
    "bool_idx = a > 2  # Find the elements of a that are bigger than 2;\n",
    "# this returns a numpy array of Booleans of the same\n",
    "# shape as a, where each slot of bool_idx tells\n",
    "# whether that element of a is > 2.\n",
    "\n",
    "print(bool_idx)  # Prints \"[[False False]\n",
    "#          [ True  True]\n",
    "#          [ True  True]]\"\n",
    "\n",
    "# We use boolean array indexing to construct a rank 1 array\n",
    "# consisting of the elements of a corresponding to the True values\n",
    "# of bool_idx\n",
    "print(a[bool_idx])  # Prints \"[3 4 5 6]\"\n",
    "\n",
    "# We can do all of the above in a single concise statement:\n",
    "print(a[a > 2])  # Prints \"[3 4 5 6]\""
   ]
  },
  {
   "cell_type": "markdown",
   "id": "6160d41b",
   "metadata": {
    "deletable": false,
    "editable": false,
    "nbgrader": {
     "cell_type": "markdown",
     "checksum": "9121a72ebda730450dcf23d4559bb1b8",
     "grade": false,
     "grade_id": "cell-bcda2a66a0807eb2",
     "locked": true,
     "schema_version": 3,
     "solution": false,
     "task": false
    }
   },
   "source": [
    "For more details, please see the [documentation.](http://docs.scipy.org/doc/numpy/reference/arrays.indexing.html)"
   ]
  },
  {
   "cell_type": "markdown",
   "id": "fc222006",
   "metadata": {
    "deletable": false,
    "editable": false,
    "nbgrader": {
     "cell_type": "markdown",
     "checksum": "4d9444bd5d7c9afbd786923c505bf7bc",
     "grade": false,
     "grade_id": "cell-62e5ee31c5fa16e1",
     "locked": true,
     "schema_version": 3,
     "solution": false,
     "task": false
    }
   },
   "source": [
    "**Exercise:** \n",
    "Given the vector **x**, save in a vector **a** the indexes of **x** where its elements are 4."
   ]
  },
  {
   "cell_type": "code",
   "execution_count": null,
   "id": "2fea39a6",
   "metadata": {
    "deletable": false,
    "nbgrader": {
     "cell_type": "code",
     "checksum": "45625653ef02231bce2fc25d6f22898a",
     "grade": false,
     "grade_id": "cell-f2fc8b8a74519751",
     "locked": false,
     "schema_version": 3,
     "solution": true,
     "task": false
    }
   },
   "outputs": [],
   "source": [
    "x = np.array([2, 4, 7, 3, 5, 8, 4, 2, 4, 7])  # find indexes where x = 4\n",
    "inx = np.arange(x.shape[0])\n",
    "# YOUR CODE HERE\n",
    "raise NotImplementedError()\n",
    "print(\"a:\\n\", a)"
   ]
  },
  {
   "cell_type": "code",
   "execution_count": null,
   "id": "9ffc2bcc",
   "metadata": {
    "deletable": false,
    "editable": false,
    "nbgrader": {
     "cell_type": "code",
     "checksum": "b8bdf47e9a2ba740d409338bff9bc617",
     "grade": true,
     "grade_id": "cell-8e2e0bbfd5261eb4",
     "locked": true,
     "points": 0,
     "schema_version": 3,
     "solution": false,
     "task": false
    }
   },
   "outputs": [],
   "source": [
    "# DO NOT REMOVE OR MODIFY THIS CELL\n",
    "assert (a == np.array([1, 6, 8])).all()"
   ]
  },
  {
   "cell_type": "markdown",
   "id": "30d87786",
   "metadata": {
    "deletable": false,
    "editable": false,
    "nbgrader": {
     "cell_type": "markdown",
     "checksum": "af1feff04dd2d1350812bcb113142933",
     "grade": false,
     "grade_id": "cell-7a0b7968e6044955",
     "locked": true,
     "schema_version": 3,
     "solution": false,
     "task": false
    }
   },
   "source": [
    "**Exercise:** \n",
    "Given **x**, save in array **a** the rows of **x** where the sum of the elements is equal to 4."
   ]
  },
  {
   "cell_type": "code",
   "execution_count": null,
   "id": "30890f3a",
   "metadata": {
    "deletable": false,
    "nbgrader": {
     "cell_type": "code",
     "checksum": "03437532e77aa0d04c1091f765b46219",
     "grade": false,
     "grade_id": "cell-54ad61b584265527",
     "locked": false,
     "schema_version": 3,
     "solution": true,
     "task": false
    }
   },
   "outputs": [],
   "source": [
    "x = np.array(\n",
    "    [[1, 2, 3, 4], [2, 3, 4, 5], [1, 1, 1, 1]]\n",
    ")  # select rows with sum equal to 4\n",
    "# YOUR CODE HERE\n",
    "raise NotImplementedError()\n",
    "print(\"a:\\n\", a)"
   ]
  },
  {
   "cell_type": "code",
   "execution_count": null,
   "id": "66f0bbd8",
   "metadata": {
    "deletable": false,
    "editable": false,
    "nbgrader": {
     "cell_type": "code",
     "checksum": "c425f4bd9d04ce24214994881b57b556",
     "grade": true,
     "grade_id": "cell-2c325e54dad55151",
     "locked": true,
     "points": 0,
     "schema_version": 3,
     "solution": false,
     "task": false
    }
   },
   "outputs": [],
   "source": [
    "# DO NOT REMOVE OR MODIFY THIS CELL\n",
    "assert (a == np.array([[1, 1, 1, 1]])).all()"
   ]
  },
  {
   "cell_type": "markdown",
   "id": "51c44f1c",
   "metadata": {
    "deletable": false,
    "editable": false,
    "nbgrader": {
     "cell_type": "markdown",
     "checksum": "2757aaf2c63b22eb69e8f270d5724468",
     "grade": false,
     "grade_id": "cell-1cf29e8f1f33b636",
     "locked": true,
     "schema_version": 3,
     "solution": false,
     "task": false
    }
   },
   "source": [
    "### Datatypes\n",
    "Every numpy array is a grid of elements of the same type. Numpy provides a large set of numeric datatypes that you can use to construct arrays. Numpy tries to guess a datatype when you create an array, but functions that construct arrays usually also include an optional argument to explicitly specify the datatype. Here is an example:"
   ]
  },
  {
   "cell_type": "code",
   "execution_count": null,
   "id": "c00a9af3",
   "metadata": {},
   "outputs": [],
   "source": [
    "x = np.array([1, 2])  # Let numpy choose the datatype\n",
    "print(x.dtype)  # Prints \"int64\"\n",
    "\n",
    "x = np.array([1.0, 2.0])  # Let numpy choose the datatype\n",
    "print(x.dtype)  # Prints \"float64\"\n",
    "\n",
    "x = np.array([1, 2], dtype=np.int64)  # Force a particular datatype\n",
    "print(x.dtype)  # Prints \"int64\""
   ]
  },
  {
   "cell_type": "markdown",
   "id": "534a0a75",
   "metadata": {
    "deletable": false,
    "editable": false,
    "nbgrader": {
     "cell_type": "markdown",
     "checksum": "2c352d7f9a827a1b5f4059189610bf41",
     "grade": false,
     "grade_id": "cell-b7f13ebb035a0b26",
     "locked": true,
     "schema_version": 3,
     "solution": false,
     "task": false
    }
   },
   "source": [
    "For more details, please see the [documentation.](http://docs.scipy.org/doc/numpy/reference/arrays.dtypes.html)"
   ]
  },
  {
   "cell_type": "markdown",
   "id": "c8019a87",
   "metadata": {
    "deletable": false,
    "editable": false,
    "nbgrader": {
     "cell_type": "markdown",
     "checksum": "ed2659e7f2e0a4a0ed6fbc872b70dcda",
     "grade": false,
     "grade_id": "cell-8a4f64b712515580",
     "locked": true,
     "schema_version": 3,
     "solution": false,
     "task": false
    }
   },
   "source": [
    "### Array math\n",
    "Basic mathematical functions operate elementwise on arrays, and are available both as operator overloads and as functions in the numpy module:"
   ]
  },
  {
   "cell_type": "code",
   "execution_count": null,
   "id": "60280df4",
   "metadata": {},
   "outputs": [],
   "source": [
    "import numpy as np\n",
    "\n",
    "x = np.array([[1, 2], [3, 4]], dtype=np.float64)\n",
    "y = np.array([[5, 6], [7, 8]], dtype=np.float64)\n",
    "\n",
    "# Elementwise sum; both produce the array\n",
    "# [[ 6.0  8.0]\n",
    "#  [10.0 12.0]]\n",
    "print(x + y)\n",
    "print(np.add(x, y))\n",
    "\n",
    "# Elementwise difference; both produce the array\n",
    "# [[-4.0 -4.0]\n",
    "#  [-4.0 -4.0]]\n",
    "print(x - y)\n",
    "print(np.subtract(x, y))\n",
    "\n",
    "# Elementwise product; both produce the array\n",
    "# [[ 5.0 12.0]\n",
    "#  [21.0 32.0]]\n",
    "print(x * y)\n",
    "print(np.multiply(x, y))\n",
    "\n",
    "# Elementwise division; both produce the array\n",
    "# [[ 0.2         0.33333333]\n",
    "#  [ 0.42857143  0.5       ]]\n",
    "print(x / y)\n",
    "print(np.divide(x, y))\n",
    "\n",
    "# Elementwise square root; produces the array\n",
    "# [[ 1.          1.41421356]\n",
    "#  [ 1.73205081  2.        ]]\n",
    "print(np.sqrt(x))"
   ]
  },
  {
   "cell_type": "markdown",
   "id": "5203ea9a",
   "metadata": {
    "deletable": false,
    "editable": false,
    "nbgrader": {
     "cell_type": "markdown",
     "checksum": "44ccfa362c34b09ee975d490a1634c3d",
     "grade": false,
     "grade_id": "cell-b8d4656b60fa6e7c",
     "locked": true,
     "schema_version": 3,
     "solution": false,
     "task": false
    }
   },
   "source": [
    "**Exercise:** \n",
    "\n",
    "Write a function named <strong>rmse</strong>, that takes two 1D numpy arrays (of the same length) as input, calculate the <strong>Root Mean Squared Error (RMSE)</strong> between them and return the output:\n",
    "\n",
    "RMSE = $\\sqrt{\\frac{1}{n}\\sum_{t=1}^{n}(\\hat{y_t} - y_t)^2}$ .\n",
    "\n",
    "Implement the following equation only using array math functions.\n",
    "\n",
    "For a hint, please see [this](https://numpy.org/doc/stable/reference/generated/numpy.power.html). Also note, that the lenth of a np.array can also be obtained using <code>len()</code> command.\n"
   ]
  },
  {
   "cell_type": "code",
   "execution_count": null,
   "id": "996b3594",
   "metadata": {
    "deletable": false,
    "nbgrader": {
     "cell_type": "code",
     "checksum": "2b2218f57713cc5197a8ea77deb7d7b7",
     "grade": false,
     "grade_id": "cell-eb32476ad1486115",
     "locked": false,
     "schema_version": 3,
     "solution": true,
     "task": false
    }
   },
   "outputs": [],
   "source": [
    "def rmse(y, y_hat):\n",
    "    # return Root Mean Squared Error\n",
    "    # YOUR CODE HERE\n",
    "    raise NotImplementedError()"
   ]
  },
  {
   "cell_type": "code",
   "execution_count": null,
   "id": "d11e2807",
   "metadata": {},
   "outputs": [],
   "source": [
    "y = np.array([1.4, 2, 5.6, 400, 52, 61])\n",
    "y_hat = np.array([0.9, 1.8, 3.1, 4.2, 5.1, 5.8])\n",
    "\n",
    "print(rmse(y, y_hat))"
   ]
  },
  {
   "cell_type": "code",
   "execution_count": null,
   "id": "2ed692ab",
   "metadata": {
    "deletable": false,
    "editable": false,
    "nbgrader": {
     "cell_type": "code",
     "checksum": "68ee2d4db57e944c06e9f88bd4210c85",
     "grade": true,
     "grade_id": "cell-2251e5722ee61804",
     "locked": true,
     "points": 0,
     "schema_version": 3,
     "solution": false,
     "task": false
    }
   },
   "outputs": [],
   "source": [
    "# DO NOT REMOVE OR MODIFY THIS CELL\n",
    "assert (\n",
    "    rmse(np.array([1, 2, 3, 4, 5, 6]), np.array([0.9, 1.8, 3.1, 4.2, 5.1, 5.8]))\n",
    "    == 0.158113883008419\n",
    ")"
   ]
  },
  {
   "cell_type": "markdown",
   "id": "03c5d371",
   "metadata": {
    "deletable": false,
    "editable": false,
    "nbgrader": {
     "cell_type": "markdown",
     "checksum": "bbedb13a44be9b2274cef28c435daa60",
     "grade": false,
     "grade_id": "cell-1302309136817333",
     "locked": true,
     "schema_version": 3,
     "solution": false,
     "task": false
    }
   },
   "source": [
    "Note that unlike MATLAB, * is elementwise multiplication, not matrix multiplication. We instead use the dot function to compute inner products of vectors, to multiply a vector by a matrix, and to multiply matrices. dot is available both as a function in the numpy module and as an instance method of array objects:"
   ]
  },
  {
   "cell_type": "code",
   "execution_count": null,
   "id": "a434d9fe",
   "metadata": {},
   "outputs": [],
   "source": [
    "x = np.array([[1, 2], [3, 4]])\n",
    "y = np.array([[5, 6], [7, 8]])\n",
    "\n",
    "v = np.array([9, 10])\n",
    "w = np.array([11, 12])\n",
    "\n",
    "# Inner product of vectors; both produce 219\n",
    "print(v.dot(w))\n",
    "print(np.dot(v, w))\n",
    "\n",
    "# Matrix / vector product; both produce the rank 1 array [29 67]\n",
    "print(x.dot(v))\n",
    "print(np.dot(x, v))\n",
    "\n",
    "# Matrix / matrix product; both produce the rank 2 array\n",
    "# [[19 22]\n",
    "#  [43 50]]\n",
    "print(x.dot(y))\n",
    "print(np.dot(x, y))"
   ]
  },
  {
   "cell_type": "markdown",
   "id": "d1097c29",
   "metadata": {
    "deletable": false,
    "editable": false,
    "nbgrader": {
     "cell_type": "markdown",
     "checksum": "6d77b9aef36f72b54a3afa93906372a2",
     "grade": false,
     "grade_id": "cell-34ae80e5b820879d",
     "locked": true,
     "schema_version": 3,
     "solution": false,
     "task": false
    }
   },
   "source": [
    "Numpy provides many useful functions for performing computations on arrays; one of the most useful is sum:"
   ]
  },
  {
   "cell_type": "code",
   "execution_count": null,
   "id": "4dd4b454",
   "metadata": {},
   "outputs": [],
   "source": [
    "x = np.array([[1, 2], [3, 4]])\n",
    "\n",
    "print(np.sum(x))  # Compute sum of all elements; prints \"10\"\n",
    "print(np.sum(x, axis=0))  # Compute sum of each column; prints \"[4 6]\"\n",
    "print(np.sum(x, axis=1))  # Compute sum of each row; prints \"[3 7]\""
   ]
  },
  {
   "cell_type": "markdown",
   "id": "8e6fe8be",
   "metadata": {
    "deletable": false,
    "editable": false,
    "nbgrader": {
     "cell_type": "markdown",
     "checksum": "a4d048c6d7771addbdc999a6fc7d6c88",
     "grade": false,
     "grade_id": "cell-e416bcdd29749b2b",
     "locked": true,
     "schema_version": 3,
     "solution": false,
     "task": false
    }
   },
   "source": [
    "You can find the full list of mathematical functions provided by numpy in the [documentation](http://docs.scipy.org/doc/numpy/reference/routines.math.html).\n",
    "\n",
    "\n",
    "### Transpose\n",
    "Apart from computing mathematical functions using arrays, we frequently need to reshape or otherwise manipulate data in arrays. The simplest example of this type of operation is transposing a matrix; to transpose a matrix, simply use the <strong>T</strong> attribute of an array object:\n",
    "\n",
    "    x = np.array([[1,2], [3,4]])\n",
    "    print(x)                           # Prints \"[[1 2]\n",
    "                                       #          [3 4]]\"\n",
    "                                       \n",
    "    print(x.T)                         # Prints \"[[1 3]\n",
    "                                       #          [2 4]]\"\n",
    "                                       \n",
    "Note that taking the transpose of a rank 1 array does nothing:\n",
    "    \n",
    "    v = np.array([1,2,3])\n",
    "    print(v)                           # Prints \"[1 2 3]\"\n",
    "    print(v.T)                         # Prints \"[1 2 3]\""
   ]
  },
  {
   "cell_type": "markdown",
   "id": "caff6b84",
   "metadata": {
    "deletable": false,
    "editable": false,
    "nbgrader": {
     "cell_type": "markdown",
     "checksum": "96cb96a9abc89fd2eba2b51b0db46bc3",
     "grade": false,
     "grade_id": "cell-50916c18e4de6d10",
     "locked": true,
     "schema_version": 3,
     "solution": false,
     "task": false
    }
   },
   "source": [
    "For more information, please see the [documentation.](http://docs.scipy.org/doc/numpy/reference/routines.array-manipulation.html)"
   ]
  },
  {
   "cell_type": "markdown",
   "id": "6bf257cf",
   "metadata": {
    "deletable": false,
    "editable": false,
    "nbgrader": {
     "cell_type": "markdown",
     "checksum": "cbbf43501e9cc81e6db3f2bb75eda06d",
     "grade": false,
     "grade_id": "cell-14bf2d69f663c001",
     "locked": true,
     "schema_version": 3,
     "solution": false,
     "task": false
    }
   },
   "source": [
    "### Broadcasting\n",
    "Broadcasting is a powerful mechanism that allows numpy to work with arrays of different shapes when performing arithmetic operations. Frequently we have a smaller array and a larger array, and we want to use the smaller array multiple times to perform some operation on the larger array.\n",
    "\n",
    "**Example:**\n",
    "\n",
    "Suppose that we want to add a constant vector to each row of a matrix. We could do it like this:\n",
    "\n",
    "Add the vector **b** to each row of the matrix **a** with an explicit loop\n",
    "\n",
    "    a = np.array([[1,2,3], [4,5,6], [7,8,9], [10, 11, 12]])\n",
    "    b = np.array([1, 0, 1])\n",
    "  \n",
    "    for i in range(4):\n",
    "        a[i, :] = a[i, :] + b\n",
    "\n",
    "**Exercise:**\n",
    "Transpose the array <code>c = [9, 6, 4, 8]</code>. Add **c<sup>T</sup>** to every column of **a**. "
   ]
  },
  {
   "cell_type": "code",
   "execution_count": null,
   "id": "71de1d6a",
   "metadata": {
    "deletable": false,
    "nbgrader": {
     "cell_type": "code",
     "checksum": "916b888d3e57679c9b44170e16a71335",
     "grade": false,
     "grade_id": "cell-697e2eb16cd85894",
     "locked": false,
     "schema_version": 3,
     "solution": true,
     "task": false
    }
   },
   "outputs": [],
   "source": [
    "a = np.array([[1, 2, 3], [4, 5, 6], [7, 8, 9], [10, 11, 12]])\n",
    "c = np.array([9, 6, 4, 8])\n",
    "# YOUR CODE HERE\n",
    "raise NotImplementedError()\n",
    "print(\"a:\\n\", a)"
   ]
  },
  {
   "cell_type": "code",
   "execution_count": null,
   "id": "60caf372",
   "metadata": {
    "deletable": false,
    "editable": false,
    "nbgrader": {
     "cell_type": "code",
     "checksum": "3aa4696cb3879bf326947d87cef646db",
     "grade": true,
     "grade_id": "cell-2c06b28c7aa9eb9f",
     "locked": true,
     "points": 0,
     "schema_version": 3,
     "solution": false,
     "task": false
    }
   },
   "outputs": [],
   "source": [
    "# DO NOT REMOVE OR MODIFY THIS CELL\n",
    "assert (a == np.array([[10, 11, 12], [10, 11, 12], [11, 12, 13], [18, 19, 20]])).all()"
   ]
  },
  {
   "cell_type": "markdown",
   "id": "5abec233",
   "metadata": {
    "deletable": false,
    "editable": false,
    "nbgrader": {
     "cell_type": "markdown",
     "checksum": "721df04d26a7d4186da937f2547ffe3d",
     "grade": false,
     "grade_id": "cell-9ad1dfcbe7bf0d35",
     "locked": true,
     "schema_version": 3,
     "solution": false,
     "task": false
    }
   },
   "source": [
    "This works; however, when the matrix **a** is very large, computing an explicit loop in Python could be slow. Note that adding the vector **b** to each row of the matrix **a** is equivalent to forming a matrix **bb** by stacking multiple copies of **b** vertically, then performing elementwise summation of **a** and **b**. We could implement this approach like this:\n",
    "\n",
    "    b = np.array([1, 0, 1])\n",
    "    bb = np.tile(b, (4, 1))   # Stack 4 copies of b on top of each other\n",
    "    print(bb)                 # Prints \"[[1 0 1]\n",
    "                              #          [1 0 1]\n",
    "                              #          [1 0 1]\n",
    "                              #          [1 0 1]]\"\n",
    "                              \n",
    "**Exercise:** \n",
    "Reimplement the previous exercise without using a Python loop by creating the matrix **cc** using <code>np.tile</code> and adding it to **a**:"
   ]
  },
  {
   "cell_type": "code",
   "execution_count": null,
   "id": "d755aa89",
   "metadata": {
    "deletable": false,
    "nbgrader": {
     "cell_type": "code",
     "checksum": "a5105c10c8dfb9631177436259b83539",
     "grade": false,
     "grade_id": "cell-7bcf3f309b768c41",
     "locked": false,
     "points": 0.25,
     "schema_version": 3,
     "solution": true,
     "task": false
    }
   },
   "outputs": [],
   "source": [
    "a = np.array([[1, 2, 3], [4, 5, 6], [7, 8, 9], [10, 11, 12]])\n",
    "c = np.array([[8, 7, 3, 4]])\n",
    "\n",
    "# YOUR CODE HERE\n",
    "raise NotImplementedError()\n",
    "print(\"a:\\n\", a)"
   ]
  },
  {
   "cell_type": "code",
   "execution_count": null,
   "id": "4e21fa53",
   "metadata": {
    "deletable": false,
    "editable": false,
    "nbgrader": {
     "cell_type": "code",
     "checksum": "df25353a97ac8060af3f02a7f064b97c",
     "grade": true,
     "grade_id": "cell-de9aa27ed19ca20f",
     "locked": true,
     "points": 0,
     "schema_version": 3,
     "solution": false,
     "task": false
    }
   },
   "outputs": [],
   "source": [
    "# DO NOT REMOVE OR MODIFY THIS CELL\n",
    "assert (a == np.array([[9, 10, 11], [11, 12, 13], [10, 11, 12], [14, 15, 16]])).all()"
   ]
  },
  {
   "cell_type": "markdown",
   "id": "0b1f8634",
   "metadata": {
    "deletable": false,
    "editable": false,
    "nbgrader": {
     "cell_type": "markdown",
     "checksum": "6e3ad1f897dcad56dacf5f779a871944",
     "grade": false,
     "grade_id": "cell-80d7243323906e79",
     "locked": true,
     "schema_version": 3,
     "solution": false,
     "task": false
    }
   },
   "source": [
    "Numpy broadcasting allows us to perform this computation without actually creating multiple copies of **c**. Consider this version, using broadcasting:"
   ]
  },
  {
   "cell_type": "code",
   "execution_count": null,
   "id": "0fd65c5c",
   "metadata": {
    "deletable": false,
    "editable": false,
    "nbgrader": {
     "cell_type": "code",
     "checksum": "3eff38dcfc63f9f311847f0f6d60acf7",
     "grade": false,
     "grade_id": "cell-eef667d4fd01a9aa",
     "locked": true,
     "schema_version": 3,
     "solution": false,
     "task": false
    }
   },
   "outputs": [],
   "source": [
    "a = np.array([[1, 2, 3], [4, 5, 6], [7, 8, 9], [10, 11, 12]])\n",
    "b = np.array([1, 0, 1])\n",
    "a = a + b  # Add b to each row of a using broadcasting\n",
    "print(a)  # Prints \"[[ 2  2  4]\n",
    "#          [ 5  5  7]\n",
    "#          [ 8  8 10]\n",
    "#          [11 11 13]]\""
   ]
  },
  {
   "cell_type": "markdown",
   "id": "07fa054b",
   "metadata": {
    "deletable": false,
    "editable": false,
    "nbgrader": {
     "cell_type": "markdown",
     "checksum": "f8028abad70ac2746944998896a77e9b",
     "grade": false,
     "grade_id": "cell-09663a0387195e55",
     "locked": true,
     "schema_version": 3,
     "solution": false,
     "task": false
    }
   },
   "source": [
    "The line <strong>a + b</strong> works even though <strong>a</strong> has shape <strong>(4, 3)</strong> and <strong>b</strong> has shape <strong>(3,)</strong> due to broadcasting; this line works as if <strong>b</strong> actually had shape <strong>(4, 3)</strong>, where each row was a copy of <strong>b</strong>, and the sum was performed elementwise.\n"
   ]
  },
  {
   "cell_type": "markdown",
   "id": "01a8055e",
   "metadata": {
    "deletable": false,
    "editable": false,
    "nbgrader": {
     "cell_type": "markdown",
     "checksum": "9ba390825fbaaa46a572f24e336e05ac",
     "grade": false,
     "grade_id": "cell-cce8fd6082554d4e",
     "locked": true,
     "schema_version": 3,
     "solution": false,
     "task": false
    }
   },
   "source": [
    "Broadcasting two arrays together follows these rules:\n",
    "\n",
    "If the arrays do not have the same rank, prepend the shape of the lower rank array with 1s until both shapes have the same length.\n",
    "The two arrays are said to be compatible in a dimension if they have the same size in the dimension, or if one of the arrays has size 1 in that dimension.\n",
    "The arrays can be broadcast together if they are compatible in all dimensions.\n",
    "After broadcasting, each array behaves as if it had shape equal to the elementwise maximum of shapes of the two input arrays.\n",
    "In any dimension where one array had size 1 and the other array had size greater than 1, the first array behaves as if it were copied along that dimension\n",
    "If this explanation does not make sense, try reading the explanation from the [documentation](http://docs.scipy.org/doc/numpy/user/basics.broadcasting.html) or this [explanation](http://scipy.github.io/old-wiki/pages/EricsBroadcastingDoc).\n",
    "\n",
    "Functions that support broadcasting are known as universal functions. You can find the list of all universal functions in the [documentation](http://docs.scipy.org/doc/numpy/reference/ufuncs.html#available-ufuncs).\n",
    "\n",
    "Here are some applications of broadcasting:\n",
    "\n",
    "<strong>Compute outer product of vectors</strong>\n",
    "\n",
    "    v = np.array([1,2,3])  # v has shape (3,)\n",
    "    w = np.array([4,5])    # w has shape (2,)\n",
    "    \n",
    "To compute an outer product, we first reshape v to be a column vector of shape (3, 1); we can then broadcast it against w to yield an output of shape (3, 2), which is the outer product of v and w:\n",
    "\n",
    "    [[ 4  5]\n",
    "     [ 8 10]\n",
    "     [12 15]]\n",
    "     \n",
    "<strong>Add a vector to each row of a matrix</strong>\n",
    "\n",
    "    x = np.array([[1,2,3], [4,5,6]])\n",
    "    \n",
    "x has shape (2, 3) and v has shape (3,) so they broadcast to (2, 3), giving the following matrix:\n",
    "\n",
    "    [[2 4 6]\n",
    "     [5 7 9]]\n",
    "     \n",
    "<strong>Add a vector to each column of a matrix</strong>\n",
    "\n",
    "x has shape (2, 3) and w has shape (2,). If we transpose x then it has shape (3, 2) and can be broadcast against w to yield a result of shape (3, 2); transposing this result yields the final result of shape (2, 3) which is the matrix x with the vector w added to each column. Gives the following matrix:\n",
    "\n",
    "    [[ 5  6  7]\n",
    "     [ 9 10 11]]\n",
    "     \n",
    "Another solution is to reshape w to be a column vector of shape (2, 1); we can then broadcast it directly against x to produce the same output.\n",
    "\n",
    "<strong>Multiply a matrix by a constant:</strong>\n",
    "x has shape (2, 3). Numpy treats scalars as arrays of shape (); these can be broadcast together to shape (2, 3), producing the following array:\n",
    "\n",
    "    [[ 2  4  6]\n",
    "     [ 8 10 12]]\n",
    "\n",
    "**Exercise:** \n",
    "\n",
    "Compute outer product of v and w using broadcasting, named **u**\n",
    "\n",
    "Add a vector w to the columns of x, named **z**"
   ]
  },
  {
   "cell_type": "code",
   "execution_count": null,
   "id": "0c17ecdb",
   "metadata": {
    "deletable": false,
    "nbgrader": {
     "cell_type": "code",
     "checksum": "d7061de2800b3a98aa6f79f02c9a27c2",
     "grade": false,
     "grade_id": "cell-22f9c684674c76bb",
     "locked": false,
     "schema_version": 3,
     "solution": true,
     "task": false
    }
   },
   "outputs": [],
   "source": [
    "v = np.array([3, 2, 1])  # v has shape (3,)\n",
    "w = np.array([4, 5])  # w has shape (2,)\n",
    "\n",
    "u = None\n",
    "# YOUR CODE HERE\n",
    "raise NotImplementedError()\n",
    "print(\"u:\\n\", u)\n",
    "\n",
    "x = np.array([[4, 5, 6], [1, 2, 3]])\n",
    "\n",
    "z = None\n",
    "# YOUR CODE HERE\n",
    "raise NotImplementedError()\n",
    "print(\"z:\\n\", z)"
   ]
  },
  {
   "cell_type": "code",
   "execution_count": null,
   "id": "a5e6fe67",
   "metadata": {
    "deletable": false,
    "editable": false,
    "nbgrader": {
     "cell_type": "code",
     "checksum": "037cf2c877e81e5dc154d5eee6851cf7",
     "grade": true,
     "grade_id": "cell-83f3b9bcc5c92488",
     "locked": true,
     "points": 0,
     "schema_version": 3,
     "solution": false,
     "task": false
    }
   },
   "outputs": [],
   "source": [
    "# DO NOT REMOVE OR MODIFY THIS CELL"
   ]
  },
  {
   "cell_type": "markdown",
   "id": "3af00da3",
   "metadata": {
    "deletable": false,
    "editable": false,
    "nbgrader": {
     "cell_type": "markdown",
     "checksum": "f8ae4e7ab6f5bb55b030556971357eef",
     "grade": false,
     "grade_id": "cell-bdb8f90c466324cd",
     "locked": true,
     "schema_version": 3,
     "solution": false,
     "task": false
    }
   },
   "source": [
    "Broadcasting typically makes your code more concise and faster, so you should strive to use it where possible."
   ]
  },
  {
   "cell_type": "markdown",
   "id": "be3716bf",
   "metadata": {
    "deletable": false,
    "editable": false,
    "nbgrader": {
     "cell_type": "markdown",
     "checksum": "fad1d91b6649607957e70f2f4fbc5812",
     "grade": false,
     "grade_id": "cell-ca3480026a0a9be8",
     "locked": true,
     "schema_version": 3,
     "solution": false,
     "task": false
    }
   },
   "source": [
    "### Numpy Documentation\n",
    "This brief overview has touched on many of the important things that you need to know about numpy, but is far from complete. Check out the [numpy reference](http://docs.scipy.org/doc/numpy/reference/) to find out much more about numpy."
   ]
  },
  {
   "cell_type": "markdown",
   "id": "85f06852",
   "metadata": {
    "deletable": false,
    "editable": false,
    "nbgrader": {
     "cell_type": "markdown",
     "checksum": "087cc9aa69f4166f02d81e0da2a74e92",
     "grade": false,
     "grade_id": "cell-84c4eee7a68bdc1a",
     "locked": true,
     "schema_version": 3,
     "solution": false,
     "task": false
    }
   },
   "source": [
    "# SciPy\n",
    "Numpy provides a high-performance multidimensional array and basic tools to compute with and manipulate these arrays. [SciPy](http://docs.scipy.org/doc/scipy/reference/) builds on this, and provides a large number of functions that operate on numpy arrays and are useful for different types of scientific and engineering applications.\n",
    "\n",
    "The best way to get familiar with SciPy is to browse the [documentation](http://docs.scipy.org/doc/scipy/reference/index.html). We will highlight some parts of SciPy that you might find useful for this class.\n",
    "\n",
    "## MATLAB files\n",
    "The functions <strong>scipy.io.loadmat</strong> and <strong>scipy.io.savemat</strong> allow you to read and write MATLAB files. You can read about them in the [documentation](http://docs.scipy.org/doc/scipy/reference/io.html).\n",
    "\n",
    "## Distance between points\n",
    "SciPy defines some useful functions for computing distances between sets of points.\n",
    "\n",
    "The function <code>scipy.spatial.distance.pdist</code> computes the distance between all pairs of points in a given set.\n",
    "\n",
    "Create the following array <strong>x</strong> where each row is a point in 2D space:\n",
    "  \n",
    "    [[0 1]\n",
    "     [1 0]\n",
    "     [2 0]]\n",
    "\n",
    "Compute the Euclidean distance between all rows of x. <code>d[i, j]</code> is the Euclidean distance between <code>x[i, :]</code> and <code>x[j, :]</code>, and <strong>d</strong> is the following array:\n",
    "  \n",
    "    [[ 0.          1.41421356  2.23606798]\n",
    "     [ 1.41421356  0.          1.        ]\n",
    "     [ 2.23606798  1.          0.        ]]"
   ]
  },
  {
   "cell_type": "code",
   "execution_count": null,
   "id": "38b74cdc",
   "metadata": {},
   "outputs": [],
   "source": [
    "import numpy as np\n",
    "from scipy.spatial.distance import pdist, squareform\n",
    "\n",
    "x = np.array([[0, 1], [1, 0], [2, 0]])\n",
    "print(x)\n",
    "\n",
    "d = squareform(pdist(x, \"euclidean\"))\n",
    "print(d)"
   ]
  },
  {
   "cell_type": "markdown",
   "id": "edba6a15",
   "metadata": {
    "deletable": false,
    "editable": false,
    "nbgrader": {
     "cell_type": "markdown",
     "checksum": "4917187b6597d09397997aa0d3196203",
     "grade": false,
     "grade_id": "cell-db4cabc29a3b3654",
     "locked": true,
     "schema_version": 3,
     "solution": false,
     "task": false
    }
   },
   "source": [
    "You can read all the details about this function in the [documentation](http://docs.scipy.org/doc/scipy/reference/generated/scipy.spatial.distance.pdist.html).\n",
    "\n",
    "A similar function <strong>(scipy.spatial.distance.cdist)</strong> computes the distance between all pairs across two sets of points; you can read about it in the [documentation](http://docs.scipy.org/doc/scipy/reference/generated/scipy.spatial.distance.cdist.html)."
   ]
  },
  {
   "cell_type": "markdown",
   "id": "69e532ae",
   "metadata": {
    "deletable": false,
    "editable": false,
    "nbgrader": {
     "cell_type": "markdown",
     "checksum": "e2bdbf73451595fd7034e36fc8be8149",
     "grade": false,
     "grade_id": "cell-329685b85b47e4c7",
     "locked": true,
     "schema_version": 3,
     "solution": false,
     "task": false
    }
   },
   "source": [
    "# Matplotlib\n",
    "\n",
    "[Matplotlib](http://matplotlib.org/) is a plotting library. In this section give a brief introduction to the <strong>matplotlib.pyplot</strong> module, which provides a plotting system similar to that of MATLAB.\n",
    "\n",
    "## Plotting\n",
    "The function **plot** allows you to plot 2D data. Here is a simple example:"
   ]
  },
  {
   "cell_type": "code",
   "execution_count": null,
   "id": "ed879416",
   "metadata": {},
   "outputs": [],
   "source": [
    "import numpy as np\n",
    "import matplotlib.pyplot as plt\n",
    "\n",
    "# Compute the x and y coordinates for points on a sine curve\n",
    "x = np.arange(0, 3 * np.pi, 0.1)\n",
    "y = np.sin(x)\n",
    "\n",
    "# Plot the points using matplotlib\n",
    "plt.plot(x, y)\n",
    "plt.show()  # You must call plt.show() to make graphics appear."
   ]
  },
  {
   "cell_type": "markdown",
   "id": "4bc8bfda",
   "metadata": {
    "deletable": false,
    "editable": false,
    "nbgrader": {
     "cell_type": "markdown",
     "checksum": "4570071dc162cfbca227f60cc6c21e0f",
     "grade": false,
     "grade_id": "cell-87d4f7968e59d76d",
     "locked": true,
     "schema_version": 3,
     "solution": false,
     "task": false
    }
   },
   "source": [
    "With just a little bit of extra work we can easily plot multiple lines at once, and add a title, legend, and axis labels:"
   ]
  },
  {
   "cell_type": "code",
   "execution_count": null,
   "id": "a5409517",
   "metadata": {},
   "outputs": [],
   "source": [
    "import numpy as np\n",
    "import matplotlib.pyplot as plt\n",
    "\n",
    "# Compute the x and y coordinates for points on sine and cosine curves\n",
    "x = np.arange(0, 3 * np.pi, 0.1)\n",
    "y_sin = np.sin(x)\n",
    "y_cos = np.cos(x)\n",
    "\n",
    "# Plot the points using matplotlib\n",
    "plt.plot(x, y_sin)\n",
    "plt.plot(x, y_cos)\n",
    "plt.xlabel(\"x axis label\")\n",
    "plt.ylabel(\"y axis label\")\n",
    "plt.title(\"Sine and Cosine\")\n",
    "plt.legend([\"Sine\", \"Cosine\"])\n",
    "plt.show()"
   ]
  },
  {
   "cell_type": "markdown",
   "id": "cefa63ad",
   "metadata": {
    "deletable": false,
    "editable": false,
    "nbgrader": {
     "cell_type": "markdown",
     "checksum": "7de020f5c47d09843afc45be69087c98",
     "grade": false,
     "grade_id": "cell-e8fbcd35df24ecba",
     "locked": true,
     "schema_version": 3,
     "solution": false,
     "task": false
    }
   },
   "source": [
    "You can read much more about the <strong>plot</strong> function in the [documentation](http://matplotlib.org/api/pyplot_api.html#matplotlib.pyplot.plot)."
   ]
  },
  {
   "cell_type": "markdown",
   "id": "9d23bcd1",
   "metadata": {
    "deletable": false,
    "editable": false,
    "nbgrader": {
     "cell_type": "markdown",
     "checksum": "230da89fbbc8af75cd2586c1c394b8af",
     "grade": false,
     "grade_id": "cell-ed9e3272b78375b0",
     "locked": true,
     "schema_version": 3,
     "solution": false,
     "task": false
    }
   },
   "source": [
    "## Subplots\n",
    "You can plot different things in the same figure using the subplot function. Here is an example:"
   ]
  },
  {
   "cell_type": "code",
   "execution_count": null,
   "id": "75b1e9d5",
   "metadata": {},
   "outputs": [],
   "source": [
    "import numpy as np\n",
    "import matplotlib.pyplot as plt\n",
    "\n",
    "# Compute the x and y coordinates for points on sine and cosine curves\n",
    "x = np.arange(0, 3 * np.pi, 0.1)\n",
    "y_sin = np.sin(x)\n",
    "y_cos = np.cos(x)\n",
    "\n",
    "# Set up a subplot grid that has height 2 and width 1,\n",
    "# and set the first such subplot as active.\n",
    "plt.subplot(2, 1, 1)\n",
    "\n",
    "# Make the first plot\n",
    "plt.plot(x, y_sin)\n",
    "plt.title(\"Sine\")\n",
    "\n",
    "# Set the second subplot as active, and make the second plot.\n",
    "plt.subplot(2, 1, 2)\n",
    "plt.plot(x, y_cos)\n",
    "plt.title(\"Cosine\")\n",
    "\n",
    "# Show the figure.\n",
    "plt.show()"
   ]
  },
  {
   "cell_type": "markdown",
   "id": "3ba89887",
   "metadata": {
    "deletable": false,
    "editable": false,
    "nbgrader": {
     "cell_type": "markdown",
     "checksum": "8e16ad44e4bb1a8c22d2695d48d7cce9",
     "grade": false,
     "grade_id": "cell-9869d58efd03bf2d",
     "locked": true,
     "schema_version": 3,
     "solution": false,
     "task": false
    }
   },
   "source": [
    "You can read much more about the <strong>subplot</strong> function in the [documentation](http://matplotlib.org/api/pyplot_api.html#matplotlib.pyplot.subplot)."
   ]
  },
  {
   "attachments": {
    "image.png": {
     "image/png": "[encoded data removed]"
    }
   },
   "cell_type": "markdown",
   "id": "bc5d829f",
   "metadata": {
    "deletable": false,
    "editable": false,
    "nbgrader": {
     "cell_type": "markdown",
     "checksum": "b920fa5ba06155ac65535cd446eda163",
     "grade": false,
     "grade_id": "cell-22321312c7f53e55",
     "locked": true,
     "schema_version": 3,
     "solution": false,
     "task": false
    }
   },
   "source": [
    "**Exercise:** \n",
    "\n",
    "Create a linearly spaced numpy array with 100 values ranging from -5 to +5 and show a subplot of functions $x^2$ and $x^3$ as shown below.\n",
    "\n",
    "To adjust the axis spines of the plot, you can use commands e.g., <code>ax.spines['left'].set_position('center')</code>. If you want to remove any of the axis spine, you may write <code>ax.spines['right'].set_color('none')</code>.\n",
    "\n",
    "![image.png](attachment:image.png)"
   ]
  },
  {
   "cell_type": "code",
   "execution_count": null,
   "id": "1f62d58e",
   "metadata": {
    "deletable": false,
    "nbgrader": {
     "cell_type": "code",
     "checksum": "da3645228ee9c8771917c07a2650c56a",
     "grade": true,
     "grade_id": "cell-b7da1df7e1331e59",
     "locked": false,
     "points": 0,
     "schema_version": 3,
     "solution": true,
     "task": false
    }
   },
   "outputs": [],
   "source": [
    "import matplotlib.pyplot as plt\n",
    "import numpy as np\n",
    "\n",
    "# YOUR CODE HERE\n",
    "raise NotImplementedError()"
   ]
  },
  {
   "attachments": {},
   "cell_type": "markdown",
   "id": "8c6ae6d4",
   "metadata": {
    "deletable": false,
    "editable": false,
    "nbgrader": {
     "cell_type": "markdown",
     "checksum": "c2788f9934a0a763f8db770b7587f239",
     "grade": false,
     "grade_id": "cell-b65346061bc06715",
     "locked": true,
     "schema_version": 3,
     "solution": false,
     "task": false
    }
   },
   "source": [
    "## Images\n",
    "You can use the <strong>imshow</strong> function to show images. Here is an example:\n",
    "\n",
    "    import numpy as np\n",
    "    import matplotlib.pyplot as plt\n",
    "    \n",
    "    img = plt.imread('assets/cat.jpg')\n",
    "    img_tinted = img * [1, 0.95, 0.9]\n",
    "    \n",
    "    # Show the original image\n",
    "    plt.subplot(1, 2, 1)\n",
    "    plt.imshow(img)\n",
    "    \n",
    "    # Show the tinted image\n",
    "    plt.subplot(1, 2, 2)\n",
    "    \n",
    "    # A slight gotcha with imshow is that it might give strange results\n",
    "    # if presented with data that is not uint8. To work around this, we\n",
    "    # explicitly cast the image to uint8 before displaying it.\n",
    "    \n",
    "    plt.imshow(np.uint8(img_tinted))\n",
    "    plt.show()\n",
    "    \n",
    "![two_.png](attachment:two_.png)\n",
    "\n",
    "**Exercise:** \n",
    "Load the Siamese cat image `Siamese_cat.jpg` and brighten (add values to color channel) the image."
   ]
  },
  {
   "cell_type": "code",
   "execution_count": null,
   "id": "bc8135d7",
   "metadata": {
    "deletable": false,
    "nbgrader": {
     "cell_type": "code",
     "checksum": "d58759e9f200d84b5dd991f12dc78b8d",
     "grade": true,
     "grade_id": "cell-08c529518839204c",
     "locked": false,
     "points": 0,
     "schema_version": 3,
     "solution": true,
     "task": false
    }
   },
   "outputs": [],
   "source": [
    "import numpy as np\n",
    "import matplotlib.pyplot as plt\n",
    "\n",
    "# YOUR CODE HERE\n",
    "raise NotImplementedError()"
   ]
  },
  {
   "cell_type": "markdown",
   "id": "749a9909",
   "metadata": {
    "deletable": false,
    "editable": false,
    "nbgrader": {
     "cell_type": "markdown",
     "checksum": "8fe5ed64c95e89a0154031696ea74b4e",
     "grade": false,
     "grade_id": "cell-7abfca689f9df5dc",
     "locked": true,
     "schema_version": 3,
     "solution": false,
     "task": false
    }
   },
   "source": [
    "## Simple plotting example of robot data\n",
    "The dataset `training_data.mat` is from a simple simulation of a two degree of freedom robot that is tracking an ellipse."
   ]
  },
  {
   "cell_type": "markdown",
   "id": "5bee6196",
   "metadata": {
    "deletable": false,
    "editable": false,
    "nbgrader": {
     "cell_type": "markdown",
     "checksum": "114642fbf026c1077227cb308b97df5a",
     "grade": false,
     "grade_id": "cell-058ae0e65ef8d244",
     "locked": true,
     "schema_version": 3,
     "solution": false,
     "task": false
    }
   },
   "source": [
    "![RobotAnim](assets/robot_anim.gif)"
   ]
  },
  {
   "cell_type": "markdown",
   "id": "34bdce76",
   "metadata": {
    "deletable": false,
    "editable": false,
    "nbgrader": {
     "cell_type": "markdown",
     "checksum": "55315fbf1f50880a4465512bb2c2b821",
     "grade": false,
     "grade_id": "cell-187e0de05854e6d8",
     "locked": true,
     "schema_version": 3,
     "solution": false,
     "task": false
    }
   },
   "source": [
    "The file contains a number of matrices\n",
    "* `th` joint angles/positions\n",
    "* `th_d` joint veclocities\n",
    "* `th_dd` joint accelerations\n",
    "* `tau` joint torques\n",
    "* `x` Cartesian position of the end-effector\n",
    "* `x_d` Cartesian velocity of the end-effector\n",
    "* `x_dd` Cartesian acceleration of the end-effector\n",
    "\n",
    "We now want to learn a very simple feedforward controller, that is a function that maps from joint positions to joint torques.\n",
    "\n"
   ]
  },
  {
   "cell_type": "markdown",
   "id": "1d22a5a3",
   "metadata": {
    "deletable": false,
    "editable": false,
    "nbgrader": {
     "cell_type": "markdown",
     "checksum": "ae90d3cd441dc4e28e9f22d76dec8597",
     "grade": false,
     "grade_id": "cell-f3f9678addc4acc1",
     "locked": true,
     "schema_version": 3,
     "solution": false,
     "task": false
    }
   },
   "source": [
    "**Exercise:** \n",
    "Load the dataset using the `scipy` functionality for loading MATLAB files described above. Extract `th` and `tau` to NumPy arrays of the same name."
   ]
  },
  {
   "cell_type": "code",
   "execution_count": null,
   "id": "a94324ce",
   "metadata": {
    "deletable": false,
    "nbgrader": {
     "cell_type": "code",
     "checksum": "f6856a09806376cb47182507210d5ffe",
     "grade": false,
     "grade_id": "cell-159d270ea071b93f",
     "locked": false,
     "schema_version": 3,
     "solution": true,
     "task": false
    }
   },
   "outputs": [],
   "source": [
    "# YOUR CODE HERE\n",
    "raise NotImplementedError()"
   ]
  },
  {
   "cell_type": "code",
   "execution_count": null,
   "id": "ceb299fa",
   "metadata": {
    "deletable": false,
    "editable": false,
    "nbgrader": {
     "cell_type": "code",
     "checksum": "1dfa77e0b3603f6ec2521c339047075e",
     "grade": true,
     "grade_id": "cell-fd2a9372d4afe943",
     "locked": true,
     "points": 0,
     "schema_version": 3,
     "solution": false,
     "task": false
    }
   },
   "outputs": [],
   "source": [
    "# DO NOT REMOVE OR MODIFY THIS CELL\n",
    "assert np.abs(th[0, 0] - 1.1299591748647653) < 0.001\n",
    "assert np.abs(tau[0, 100] - 82.7710545117184) < 0.001"
   ]
  },
  {
   "cell_type": "markdown",
   "id": "e4138183",
   "metadata": {
    "deletable": false,
    "editable": false,
    "nbgrader": {
     "cell_type": "markdown",
     "checksum": "133582e34b8a95638780d19f46107067",
     "grade": false,
     "grade_id": "cell-8a667cac0f607fd3",
     "locked": true,
     "schema_version": 3,
     "solution": false,
     "task": false
    }
   },
   "source": [
    "**Exercise:** \n",
    "Plot the joint angles of the first degree of freedom (over the samples)"
   ]
  },
  {
   "cell_type": "code",
   "execution_count": null,
   "id": "f3f9cf13",
   "metadata": {
    "deletable": false,
    "nbgrader": {
     "cell_type": "code",
     "checksum": "94b604e821752a3629b0a3ac727238ce",
     "grade": true,
     "grade_id": "cell-6e49bb28851d1b7f",
     "locked": false,
     "points": 0,
     "schema_version": 3,
     "solution": true,
     "task": false
    }
   },
   "outputs": [],
   "source": [
    "# YOUR CODE HERE\n",
    "raise NotImplementedError()"
   ]
  },
  {
   "cell_type": "markdown",
   "id": "45e17d52",
   "metadata": {
    "deletable": false,
    "editable": false,
    "nbgrader": {
     "cell_type": "markdown",
     "checksum": "1cfffae8dcd8b25aeb39b4b0adcae29b",
     "grade": false,
     "grade_id": "cell-6376eb6a59e311fd",
     "locked": true,
     "schema_version": 3,
     "solution": false,
     "task": false
    }
   },
   "source": [
    "**Exercise:** \n",
    "Plot the torques of the first degree of freedom (over the samples)"
   ]
  },
  {
   "cell_type": "code",
   "execution_count": null,
   "id": "98d66a9d",
   "metadata": {
    "deletable": false,
    "nbgrader": {
     "cell_type": "code",
     "checksum": "5c1047d44e2ba168bd534a3441ea1922",
     "grade": true,
     "grade_id": "cell-6ae4a5000dc8d4ca",
     "locked": false,
     "points": 0,
     "schema_version": 3,
     "solution": true,
     "task": false
    }
   },
   "outputs": [],
   "source": [
    "# YOUR CODE HERE\n",
    "raise NotImplementedError()"
   ]
  },
  {
   "cell_type": "markdown",
   "id": "7ca9e711",
   "metadata": {
    "deletable": false,
    "editable": false,
    "nbgrader": {
     "cell_type": "markdown",
     "checksum": "ee931fd0728642c3b1a93b46a101442a",
     "grade": false,
     "grade_id": "cell-5e170b289dced727",
     "locked": true,
     "schema_version": 3,
     "solution": false,
     "task": false
    }
   },
   "source": [
    "**Acknowledgements:** This notebook was developed by for the RO47002 course _ML4R_ is inspired by <em>[Python Numpy Tutorial](https://cs231n.github.io/python-numpy-tutorial/)</em> from Stanford course CS231n."
   ]
  },
  {
   "cell_type": "code",
   "execution_count": null,
   "id": "0dd49cf2",
   "metadata": {},
   "outputs": [],
   "source": []
  }
 ],
 "metadata": {
  "kernelspec": {
   "display_name": "Python 3 (ipykernel)",
   "language": "python",
   "name": "python3"
  },
  "language_info": {
   "codemirror_mode": {
    "name": "ipython",
    "version": 3
   },
   "file_extension": ".py",
   "mimetype": "text/x-python",
   "name": "python",
   "nbconvert_exporter": "python",
   "pygments_lexer": "ipython3",
   "version": "3.10.9"
  }
 },
 "nbformat": 4,
 "nbformat_minor": 5
}
