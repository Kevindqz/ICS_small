{
 "cells": [
  {
   "cell_type": "markdown",
   "id": "ac408b5e",
   "metadata": {
    "deletable": false,
    "editable": false,
    "nbgrader": {
     "cell_type": "markdown",
     "checksum": "a96d02d6346fa7399cf6da0111ce0937",
     "grade": false,
     "grade_id": "cell-b00828259c8e42e8",
     "locked": true,
     "schema_version": 3,
     "solution": false,
     "task": false
    }
   },
   "source": [
    "# RO47019: Intelligent Control Systems Practical Assignment\n",
    "* Period: 2022-2023, Q3\n",
    "* Course homepage: https://brightspace.tudelft.nl/d2l/home/500969\n",
    "* Instructor: Cosimo Della Santina (C.DellaSantina@tudelft.nl)\n",
    "* Teaching assistant: Ruben Martin Rodriguez (R.MartinRodriguez@student.tudelft.nl)\n",
    "* (c) TU Delft, 2023\n",
    "\n",
    "Make sure you fill in any place that says `YOUR CODE HERE` or `YOUR ANSWER HERE`. Remove `raise NotImplementedError()` afterwards. Moreover, if you see an empty cell, please DO NOT delete it, instead run that cell as you would run all other cells. Please fill in your name(s) and other required details below:"
   ]
  },
  {
   "cell_type": "code",
   "execution_count": 1,
   "id": "4f9e220c",
   "metadata": {},
   "outputs": [],
   "source": [
    "# Please fill in your names, student numbers, netID, and emails below.\n",
    "STUDENT_1_NAME = \"1\"\n",
    "STUDENT_1_STUDENT_NUMBER = \"1\"\n",
    "STUDENT_1_NETID = \"1\"\n",
    "STUDENT_1_EMAIL = \"1\""
   ]
  },
  {
   "cell_type": "code",
   "execution_count": 2,
   "id": "8ba32571",
   "metadata": {
    "deletable": false,
    "editable": false,
    "nbgrader": {
     "cell_type": "code",
     "checksum": "042927213b84aa368aa3ea72caa4cb60",
     "grade": true,
     "grade_id": "cell-9f148ec62e0de49c",
     "locked": true,
     "points": 0,
     "schema_version": 3,
     "solution": false,
     "task": false
    }
   },
   "outputs": [],
   "source": [
    "# Note: this block is a check that you have filled in the above information.\n",
    "# It will throw an AssertionError until all fields are filled\n",
    "assert STUDENT_1_NAME != \"\"\n",
    "assert STUDENT_1_STUDENT_NUMBER != \"\"\n",
    "assert STUDENT_1_NETID != \"\"\n",
    "assert STUDENT_1_EMAIL != \"\""
   ]
  },
  {
   "cell_type": "markdown",
   "id": "af317a94",
   "metadata": {
    "deletable": false,
    "editable": false,
    "nbgrader": {
     "cell_type": "markdown",
     "checksum": "e76ef40fcc3f08a0484661497162a1a9",
     "grade": false,
     "grade_id": "cell-4ea391677951116c",
     "locked": true,
     "schema_version": 3,
     "solution": false,
     "task": false
    }
   },
   "source": [
    "### General announcements\n",
    "\n",
    "* Do *not* share your solutions, and do *not* copy solutions from others. By submitting your solutions, you claim that you alone are responsible for this code.\n",
    "\n",
    "* Do *not* email questions directly, since we want to provide everybody with the same information and avoid repeating the same answers. Instead, please post your questions regarding this assignment in the correct support forum on Brightspace, this way everybody can benefit from the response. If you do have a particular question that you want to ask directly, please use the scheduled Q&A hours to ask the TA.\n",
    "\n",
    "* There is a strict deadline for each assignment. Students are responsible to ensure that they have uploaded their work in time. So, please double check that your upload succeeded to the Brightspace and avoid any late penalties.\n",
    "\n",
    "* This [Jupyter notebook](https://jupyter.org/) uses `nbgrader` to help us with automated tests. `nbgrader` will make various cells in this notebook \"uneditable\" or \"unremovable\" and gives them a special id in the cell metadata. This way, when we run our checks, the system will check the existence of the cell ids and verify the number of points and which checks must be run. While there are ways that you can edit the metadata and work around the restrictions to delete or modify these special cells, you should not do that since then our nbgrader backend will not be able to parse your notebook and give you points for the assignment. You are free to add additional cells, but if you find a cell that you cannot modify or remove, please know that this is on purpose.\n",
    "\n",
    "* This notebook will have in various places a line that throws a `NotImplementedError` exception. These are locations where the assignment requires you to adapt the code! These lines are just there as a reminder for youthat you have not yet adapted that particular piece of code, especially when you execute all the cells. Once your solution code replaced these lines, it should accordingly *not* throw any exceptions anymore.\n",
    "\n",
    "Before you turn this problem in, make sure everything runs as expected. First, **restart the kernel** (in the menubar, select Kernel$\\rightarrow$Restart) and then **run all cells** (in the menubar, select Cell$\\rightarrow$Run All)."
   ]
  },
  {
   "cell_type": "code",
   "execution_count": null,
   "id": "3c956945",
   "metadata": {},
   "outputs": [],
   "source": []
  },
  {
   "cell_type": "markdown",
   "id": "bfe18e81",
   "metadata": {},
   "source": [
    "# Task 0.3 - Introduction to JAX + Flax (0p)\n",
    "  \n",
    "**Author:** Phillip Lippe, University of Amsterdam\n",
    "\n",
    "**The completion of this assignment is completely voluntarily and you will not be graded for any of the contents in this notebook.**\n",
    "\n",
    "This notebook is adapted from the [JAX tutorial](https://uvadlc-notebooks.readthedocs.io/en/latest/tutorial_notebooks/JAX/tutorial2/Introduction_to_JAX.html) for the Deep Learning course at the University of Amsterdam. Copyright belongs to Phillip Lippe / University of Amsterdam."
   ]
  },
  {
   "cell_type": "markdown",
   "id": "db2b100c",
   "metadata": {},
   "source": [
    "Welcome to our JAX tutorial for the Deep Learning course at the University of Amsterdam! The following notebook is meant to give a short introduction to JAX, including writing and training your own neural networks with [Flax](https://flax.readthedocs.io/en/latest/). But why should you learn JAX, if there are already so many other deep learning frameworks like [PyTorch](https://pytorch.org/) and [TensorFlow](https://www.tensorflow.org/)? The short answer: because it can be extremely fast. For instance, a small GoogleNet on CIFAR10, which we discuss in detail in [Tutorial 5](https://uvadlc-notebooks.readthedocs.io/en/latest/tutorial_notebooks/JAX/tutorial5/Inception_ResNet_DenseNet.html), can be trained in JAX 3x faster than in PyTorch with a similar setup. Note that for larger models, larger batch sizes, or smaller GPUs, a considerably smaller speedup is expected, and the code has not been designed for benchmarking. Nonetheless, JAX enables this speedup by compiling functions and numerical programs for accelerators (GPU/TPU) *just in time*, finding the optimal utilization of the hardware. Frameworks with dynamic computation graphs like PyTorch cannot achieve the same efficiency, since they cannot anticipate the next operations before the user calls them. For example, in an Inception block of GoogleNet, we apply multiple convolutional layers in parallel on the same input. JAX can optimize the execution of this layer by compiling the whole forward pass for the available accelerator and fusing operations where possible, reducing memory access and speeding up execution. In contrast, when calling the first convolutional layer in PyTorch, the framework does not know that multiple convolutions on the same feature map will follow. It sends each operation one by one to the GPU, and can only adapt the execution after seeing the next Python calls. Hence, JAX can make more efficient use of the GPU than, for instance, PyTorch. \n",
    "\n",
    "However, everything comes with a price. In order to efficiently compile programs just-in-time in JAX, the functions need to be written with certain constraints. Firstly, the functions are not allowed to have side-effects, meaning that they are not allowed to affect any variable outside of their namespaces. For instance, in-place operations affect a variable even outside of the function. Moreover, stochastic operations such as `torch.rand(...)` change the global state of pseudo random number generators, which is not allowed in functional JAX (we will see later how JAX handles random number generation). Secondly, JAX compiles the functions based on anticipated shapes of all arrays/tensors in the function. This becomes problematic if the shapes or the program flow within the function depends on the values of the tensor. For instance, in the operation `y = x[x>3]`, the shape of `y` depends on how many values of `x` are greater than 3. We will discuss more of these constraints in this notebook. Still, in most common cases of training neural networks, it is straightforward to write functions within these constraints.\n",
    "\n",
    "This tutorial is heavily inspired by many great JAX tutorials before, and a (non-exclusive) list of them are:\n",
    "\n",
    "* [JAX 101](https://jax.readthedocs.io/en/latest/jax-101/index.html) with many subtutorials on individual parts of JAX\n",
    "* [JAX - The Sharp Bits](https://jax.readthedocs.io/en/latest/notebooks/Common_Gotchas_in_JAX.html) discusses the constraints of JAX and how to overcome them\n",
    "* [Jax for the Impatient](https://flax.readthedocs.io/en/latest/notebooks/jax_for_the_impatient.html) for a quick intro to JAX with focus on deep learning\n",
    "* [Flax Basics](https://flax.readthedocs.io/en/latest/notebooks/flax_basics.html) as introduction to the Flax framework\n",
    "\n",
    "Throughout this tutorial, we will draw comparisons to PyTorch and also use its data loading library (see our [PyTorch tutorial](https://uvadlc-notebooks.readthedocs.io/en/latest/tutorial_notebooks/tutorial2/Introduction_to_PyTorch.html) for a refresher). JAX is not meant to 'redefine the wheel', so we can combine it framework-agnostic parts from PyTorch (e.g., data loading) and TensorFlow (e.g., logging in TensorBoard). Further, we use [Flax](https://flax.readthedocs.io/en/latest/) as a neural network library in JAX, and [Optax](https://optax.readthedocs.io/en/latest/index.html) to implement common deep learning optimizers. More on them later in the notebook. First, let's get started with some basic JAX operations."
   ]
  },
  {
   "cell_type": "code",
   "execution_count": 3,
   "id": "27bcf9b4",
   "metadata": {},
   "outputs": [],
   "source": [
    "## Standard libraries\n",
    "import os\n",
    "import math\n",
    "import numpy as np\n",
    "import time\n",
    "\n",
    "## Imports for plotting\n",
    "import matplotlib.pyplot as plt\n",
    "\n",
    "%matplotlib inline\n",
    "import matplotlib_inline.backend_inline\n",
    "\n",
    "matplotlib_inline.backend_inline.set_matplotlib_formats(\"svg\", \"pdf\")  # For export\n",
    "from matplotlib.colors import to_rgba\n",
    "import seaborn as sns\n",
    "\n",
    "sns.set()\n",
    "\n",
    "## Progress bar\n",
    "from tqdm.auto import tqdm"
   ]
  },
  {
   "cell_type": "markdown",
   "id": "596fdb56",
   "metadata": {},
   "source": [
    "## JAX as NumPy on accelerators\n",
    "\n",
    "Every deep learning framework has its own API for dealing with data arrays. For example, PyTorch uses `torch.Tensor` as data arrays on which it defines several operations like matrix multiplication, taking the mean of the elements, etc. In JAX, this basic API strongly resembles the one of [NumPy](https://numpy.org/), and even has the same name in JAX (`jax.numpy`). So, for now, let's think of JAX as NumPy that runs on accelerators. As a first step, let's import JAX and its NumPy API:"
   ]
  },
  {
   "cell_type": "code",
   "execution_count": 4,
   "id": "49e7ef6d",
   "metadata": {},
   "outputs": [
    {
     "name": "stdout",
     "output_type": "stream",
     "text": [
      "Using jax 0.4.6\n"
     ]
    }
   ],
   "source": [
    "import jax\n",
    "import jax.numpy as jnp\n",
    "\n",
    "print(\"Using jax\", jax.__version__)"
   ]
  },
  {
   "cell_type": "markdown",
   "id": "ef489888",
   "metadata": {},
   "source": [
    "At the current time of writing (January 2023), the newest JAX version is `0.4.x` which supports most of the common NumPy functionalities. The NumPy API of JAX is usually imported as `jnp`, to keep a resemblance to NumPy's import as `np`. In the following subsections, we will discuss the main differences between the classical NumPy API and the one of JAX."
   ]
  },
  {
   "cell_type": "markdown",
   "id": "59bc5499",
   "metadata": {},
   "source": [
    "### Device Arrays\n",
    "\n",
    "As a first test, let's create some arbitrary arrays like we would do in NumPy. For instance, let's create an array of zeros with shape `[2,5]`:"
   ]
  },
  {
   "cell_type": "code",
   "execution_count": 5,
   "id": "c564f925",
   "metadata": {},
   "outputs": [
    {
     "name": "stderr",
     "output_type": "stream",
     "text": [
      "No GPU/TPU found, falling back to CPU. (Set TF_CPP_MIN_LOG_LEVEL=0 and rerun for more info.)\n"
     ]
    },
    {
     "name": "stdout",
     "output_type": "stream",
     "text": [
      "[[0. 0. 0. 0. 0.]\n",
      " [0. 0. 0. 0. 3.]]\n"
     ]
    }
   ],
   "source": [
    "a = jnp.zeros((2, 5), dtype=jnp.float32)\n",
    "a = a.at[1,4].set(3)\n",
    "print(a)"
   ]
  },
  {
   "cell_type": "markdown",
   "id": "516bc6fe",
   "metadata": {},
   "source": [
    "Similarly, we can create an array with values of 0 to 5 by using `arange`:"
   ]
  },
  {
   "cell_type": "code",
   "execution_count": 6,
   "id": "ee5bd836",
   "metadata": {},
   "outputs": [
    {
     "name": "stdout",
     "output_type": "stream",
     "text": [
      "[0 1 2 3 4 5]\n"
     ]
    }
   ],
   "source": [
    "b = jnp.arange(6)\n",
    "print(b)"
   ]
  },
  {
   "cell_type": "markdown",
   "id": "77f8dab4",
   "metadata": {},
   "source": [
    "You might now wonder whether the arrays `a` and `b` are simply NumPy arrays. To check that, let's print out the class of `b`:"
   ]
  },
  {
   "cell_type": "code",
   "execution_count": 7,
   "id": "72ecee4a",
   "metadata": {},
   "outputs": [
    {
     "data": {
      "text/plain": [
       "jaxlib.xla_extension.ArrayImpl"
      ]
     },
     "execution_count": 7,
     "metadata": {},
     "output_type": "execute_result"
    }
   ],
   "source": [
    "b.__class__"
   ]
  },
  {
   "cell_type": "markdown",
   "id": "759b97ec",
   "metadata": {},
   "source": [
    "Instead of a simple NumPy array, it shows the type `DeviceArray` which is what JAX uses to represent arrays. In contrast to NumPy, JAX can execute the same code on different backends – CPU, GPU and TPU. A `DeviceArray` therefore represents an array which is on one of the backends. Similar to PyTorch, we can check the device of an array by calling `.device()`:"
   ]
  },
  {
   "cell_type": "code",
   "execution_count": 8,
   "id": "1830458e",
   "metadata": {},
   "outputs": [
    {
     "data": {
      "text/plain": [
       "CpuDevice(id=0)"
      ]
     },
     "execution_count": 8,
     "metadata": {},
     "output_type": "execute_result"
    }
   ],
   "source": [
    "b.device()"
   ]
  },
  {
   "attachments": {},
   "cell_type": "markdown",
   "id": "426ebefc",
   "metadata": {},
   "source": [
    "\n",
    "In order to change the device of an array, we can use `jax.device_get`:"
   ]
  },
  {
   "cell_type": "code",
   "execution_count": 9,
   "id": "b96105d4",
   "metadata": {},
   "outputs": [
    {
     "name": "stdout",
     "output_type": "stream",
     "text": [
      "<class 'numpy.ndarray'>\n"
     ]
    }
   ],
   "source": [
    "b_cpu = jax.device_get(b)\n",
    "print(b_cpu.__class__)"
   ]
  },
  {
   "cell_type": "markdown",
   "id": "1e768a4d",
   "metadata": {},
   "source": [
    "Unsurprisingly, a simple CPU-based array is nothing else than a NumPy array, which allows for a simple conversion between the two frameworks! To explicitly push a NumPy array to the accelerator, you can use `jax.device_put`:"
   ]
  },
  {
   "cell_type": "code",
   "execution_count": 10,
   "id": "dd15f4ba",
   "metadata": {},
   "outputs": [
    {
     "name": "stdout",
     "output_type": "stream",
     "text": [
      "Device put: <class 'jaxlib.xla_extension.ArrayImpl'> on TFRT_CPU_0\n"
     ]
    }
   ],
   "source": [
    "b_gpu = jax.device_put(b_cpu)\n",
    "print(f\"Device put: {b_gpu.__class__} on {b_gpu.device()}\")"
   ]
  },
  {
   "cell_type": "markdown",
   "id": "7db34d2f",
   "metadata": {},
   "source": [
    "Nicely enough, JAX will handle any device clash itself when you try to perform operations on a NumPy array and a DeviceArray by modeling the output as DeviceArray again:"
   ]
  },
  {
   "cell_type": "code",
   "execution_count": 11,
   "id": "3828e734",
   "metadata": {},
   "outputs": [
    {
     "data": {
      "text/plain": [
       "Array([ 0,  2,  4,  6,  8, 10], dtype=int32)"
      ]
     },
     "execution_count": 11,
     "metadata": {},
     "output_type": "execute_result"
    }
   ],
   "source": [
    "b_cpu + b_gpu"
   ]
  },
  {
   "cell_type": "markdown",
   "id": "13dcc6f1",
   "metadata": {},
   "source": [
    "Finally, we can also print all our available devices using `jax.devices()`:"
   ]
  },
  {
   "cell_type": "code",
   "execution_count": 12,
   "id": "1e7f736d",
   "metadata": {},
   "outputs": [
    {
     "data": {
      "text/plain": [
       "[CpuDevice(id=0)]"
      ]
     },
     "execution_count": 12,
     "metadata": {},
     "output_type": "execute_result"
    }
   ],
   "source": [
    "jax.devices()"
   ]
  },
  {
   "cell_type": "markdown",
   "id": "dc77f50e",
   "metadata": {},
   "source": [
    "A technical detail of running operations on DeviceArrays is that when a JAX function is called, the corresponding operation takes place asynchronously on the accelerator when possible. For instance, if we call `out = jnp.matmul(b, b)`, JAX first returns a placeholder array for `out` which may not be filled with the values as soon as the function calls finishes. This way, Python will not block the execution of follow-up statements, but instead only does it whenever we strictly need the value of `out`, for instance for printing or putting it on CPU. PyTorch uses a very similar principle to allow asynchronous computation. For more details, see [JAX - Asynchronous Dispatch](https://jax.readthedocs.io/en/latest/async_dispatch.html)."
   ]
  },
  {
   "cell_type": "markdown",
   "id": "1f1d99b6",
   "metadata": {},
   "source": [
    "### Immutable tensors\n",
    "\n",
    "When we would like to change a NumPy array in-place, like replacing the first element of `b` with `1` instead of `0`, we could simply write `b[0]=1`. However, in JAX, this is not possible. A `DeviceArray` object is *immutable*, which means that no in-place operations are possible. The reason for this goes back to our discussion in the introduction: JAX requires programs to be \"pure\" functions, i.e. no effects on variables outside of the function are allowed. Allowing in-place operations of variables would make the program analysis for JAX's just-in-time compilation difficult. Instead, we can use the expression `b.at[0].set(1)` which, analogous to the in-place operation, returns a new array which is identical to `b`, except that its value at the first position is 1. Let's try that out below:"
   ]
  },
  {
   "cell_type": "code",
   "execution_count": 13,
   "id": "e857ecdd",
   "metadata": {},
   "outputs": [
    {
     "name": "stdout",
     "output_type": "stream",
     "text": [
      "Original array: [0 1 2 3 4 5]\n",
      "Changed array: [1 1 2 3 4 5]\n"
     ]
    }
   ],
   "source": [
    "b_new = b.at[0].set(1)\n",
    "print(\"Original array:\", b)\n",
    "print(\"Changed array:\", b_new)"
   ]
  },
  {
   "cell_type": "markdown",
   "id": "350bbb40",
   "metadata": {},
   "source": [
    "However, we said that JAX is very efficient. Isn't creating a new array in this case the opposite? While it is indeed less efficient, it can made much more efficient with JAX's just-in-time compilation. The compiler can recognize unnecessary array duplications, and replace them with in-place operations again. More on the just-in-time compilation later! "
   ]
  },
  {
   "cell_type": "markdown",
   "id": "0910f0a3",
   "metadata": {},
   "source": [
    "### Pseudo Random Numbers in JAX\n",
    "\n",
    "In machine learning, we come across several situations where we need to generate pseudo random numbers: randomly shuffling a dataset, sampling a dropout mask for regularization, training a VAE by sampling from the approximate posterior, etc. In libraries like NumPy and PyTorch, the random number generator are controlled by a seed, which we set initially to obtain the same samples every time we run the code (this is why the numbers are not truly random, hence \"pseudo\"-random). However, if we call `np.random.normal()` 5 times consecutively, we will get 5 different numbers since every execution changes the state/seed of the pseudo random number generation (PRNG). In JAX, if we would try to generate a random number with this approach, a function creating pseudo-random number would have an effect outside of it. To prevent this, JAX takes a different approach by explicitly passing and iterating the PRNG state. First, let's create a PRNG for the seed 42:"
   ]
  },
  {
   "cell_type": "code",
   "execution_count": 14,
   "id": "d64c5f0b",
   "metadata": {},
   "outputs": [],
   "source": [
    "rng = jax.random.PRNGKey(42)"
   ]
  },
  {
   "cell_type": "markdown",
   "id": "775949c4",
   "metadata": {},
   "source": [
    "Now, we can use this PRNG state to generate random numbers. Since with this state, the random number generation becomes deterministic, we sample the same number every time. This is not the case in NumPy if we set the seed once before both operations:"
   ]
  },
  {
   "cell_type": "code",
   "execution_count": 15,
   "id": "88ddffce",
   "metadata": {},
   "outputs": [
    {
     "name": "stdout",
     "output_type": "stream",
     "text": [
      "JAX - Random number 1: -0.18471177\n",
      "JAX - Random number 2: -0.18471177\n",
      "NumPy - Random number 1: 0.4967141530112327\n",
      "NumPy - Random number 2: -0.13826430117118466\n"
     ]
    }
   ],
   "source": [
    "# A non-desirable way of generating pseudo-random numbers...\n",
    "jax_random_number_1 = jax.random.normal(rng)\n",
    "jax_random_number_2 = jax.random.normal(rng)\n",
    "print(\"JAX - Random number 1:\", jax_random_number_1)\n",
    "print(\"JAX - Random number 2:\", jax_random_number_2)\n",
    "\n",
    "# Typical random numbers in NumPy\n",
    "np.random.seed(42)\n",
    "np_random_number_1 = np.random.normal()\n",
    "np_random_number_2 = np.random.normal()\n",
    "print(\"NumPy - Random number 1:\", np_random_number_1)\n",
    "print(\"NumPy - Random number 2:\", np_random_number_2)"
   ]
  },
  {
   "cell_type": "markdown",
   "id": "d60e59d3",
   "metadata": {},
   "source": [
    "Usually, we want to have a behavior like NumPy where we get a different random number every time we sample. To achieve this, we can *split* the PRNG state to get usable subkeys every time we need a new pseudo-random number. We can do this with `jax.random.split(...)`:"
   ]
  },
  {
   "cell_type": "code",
   "execution_count": 16,
   "id": "be3d64de",
   "metadata": {},
   "outputs": [
    {
     "name": "stdout",
     "output_type": "stream",
     "text": [
      "JAX new - Random number 1: 0.107961535\n",
      "JAX new - Random number 2: -1.2226542\n"
     ]
    }
   ],
   "source": [
    "rng, subkey1, subkey2 = jax.random.split(rng, num=3)  # We create 3 new keys\n",
    "jax_random_number_1 = jax.random.normal(subkey1)\n",
    "jax_random_number_2 = jax.random.normal(subkey2)\n",
    "print(\"JAX new - Random number 1:\", jax_random_number_1)\n",
    "print(\"JAX new - Random number 2:\", jax_random_number_2)"
   ]
  },
  {
   "cell_type": "markdown",
   "id": "aebc39d0",
   "metadata": {},
   "source": [
    "Every time you run this cell, you will obtain different random numbers for both operations since we create new PRNG states before sampling. In general, you want to split the PRNG key every time before generating a pseudo-number, to prevent accidentally obtaining the exact same numbers (for instance, sampling the exact same dropout mask every time you run the network makes dropout itself quite useless...). For a deeper dive into the ideas behind the random number generation in JAX, see JAX's tutorial on [Pseudo Random Numbers](https://jax.readthedocs.io/en/latest/jax-101/05-random-numbers.html)."
   ]
  },
  {
   "cell_type": "markdown",
   "id": "b4543cda",
   "metadata": {},
   "source": [
    "## Function transformations with Jaxpr\n",
    "\n",
    "Rosalia Schneider and Vladimir Mikulik summarize the key points of JAX in the [JAX 101 tutorial](https://jax.readthedocs.io/en/latest/jax-101/01-jax-basics.html) as follows: \n",
    "\n",
    "> The most important difference, and in some sense the root of all the rest, is that JAX is designed to be functional, as in functional programming. The reason behind this is that the kinds of program transformations that JAX enables are much more feasible in functional-style programs. [...] The important feature of functional programming to grok when working with JAX is very simple: don’t write code with side-effects.\n",
    "\n",
    "Essentially, we want to write our main code of JAX in functions that do not affect anything else besides its outputs. For instance, we do not want to change input arrays in-place, or access global variables. While this might seem limiting at first, you get used to this quite quickly and most JAX functions that need to fulfill these constraints can be written this way without problems. Note that not all possible functions in training a neural network need to fulfill the constraints. For instance, loading or saving of models, the logging, or the data generation can be done in naive functions. Only the network execution, which we want to do very efficiently on our accelerator (GPU or TPU), should strictly follow these constraints.\n",
    "\n",
    "What does make JAX functions so special, and how can we think about them? A good way of gaining understanding in how JAX handles function is to understand its intermediate representation: jaxpr. Conceptually, you can think of any operation that JAX does on a function, as first trace-specializing the Python function to be transformed into a small and well-behaved intermediate form. This means that we check which operations are performed on which array, and what shapes the arrays are. Based on this representation, JAX then interprets the function with transformation-specific interpretation rules, which includes automatic differentiation or compiling a function in XLA to efficiently use the accelerator.\n",
    "\n",
    "To illustrate this intermediate representation, let's consider the same simple function we used in the [PyTorch tutorial](https://uvadlc-notebooks.readthedocs.io/en/latest/tutorial_notebooks/tutorial2/Introduction_to_PyTorch.html) to discuss the concept of dynamic computation graphs:\n",
    "\n",
    "$$ y = \\frac{1}{|x|}\\sum_{i}\\left[\\left(x_i+2\\right)^2+3\\right]$$\n",
    "\n",
    "Using common NumPy operations in JAX, we can write it as follows:"
   ]
  },
  {
   "cell_type": "code",
   "execution_count": 17,
   "id": "71064b84",
   "metadata": {},
   "outputs": [
    {
     "name": "stdout",
     "output_type": "stream",
     "text": [
      "Input [0. 1. 2.]\n",
      "Output 12.666667\n"
     ]
    }
   ],
   "source": [
    "def simple_graph(x):\n",
    "    x = x + 2\n",
    "    x = x**2\n",
    "    x = x + 3\n",
    "    y = x.mean()\n",
    "    return y\n",
    "\n",
    "\n",
    "inp = jnp.arange(3, dtype=jnp.float32)\n",
    "print(\"Input\", inp)\n",
    "print(\"Output\", simple_graph(inp))"
   ]
  },
  {
   "cell_type": "markdown",
   "id": "bad49df6",
   "metadata": {},
   "source": [
    "To view the jaxpr representation of this function, we can use `jax.make_jaxpr`. Since the tracing depends on the shape of the input, we need to pass an input to the function (here of shape `[3]`):"
   ]
  },
  {
   "cell_type": "code",
   "execution_count": 18,
   "id": "a0323430",
   "metadata": {},
   "outputs": [
    {
     "data": {
      "text/plain": [
       "{ lambda ; a:f32[3]. let\n",
       "    b:f32[3] = add a 2.0\n",
       "    c:f32[3] = integer_pow[y=2] b\n",
       "    d:f32[3] = add c 3.0\n",
       "    e:f32[] = reduce_sum[axes=(0,)] d\n",
       "    f:f32[] = div e 3.0\n",
       "  in (f,) }"
      ]
     },
     "execution_count": 18,
     "metadata": {},
     "output_type": "execute_result"
    }
   ],
   "source": [
    "jax.make_jaxpr(simple_graph)(inp)"
   ]
  },
  {
   "cell_type": "markdown",
   "id": "d5409ffb",
   "metadata": {},
   "source": [
    "A jaxpr representation follows the structure:\n",
    "\n",
    "```python\n",
    "jaxpr ::= { lambda Var* ; Var+.\n",
    "            let Eqn*\n",
    "            in  [Expr+] }\n",
    "```\n",
    "where `Var*` are constants and `Var+` are input arguments. In the cell above, this is `a:f32[3]`, i.e. an array of shape 3 with type `jnp.float32` (`inp`). The list of equations, `Eqn*`, define the intermediate results of the function. You can see that each operation in `simple_graph` is translated to a corresponding equation, like `x = x + 2` is translated to `b:f32[3] = add a 2.0`. Furthermore, you see the specialization of the operations on the input shape, like `x.mean()` being replacing in `e` and `f` with summing and dividing by 3. Finally, `Expr+` in the jaxpr representation are the outputs of the functions. In the example, this is `f`, i.e. the final result of the function.\n",
    "Based on these atomic operations, JAX offers all kind of function transformations, of which we will discuss the most important ones later in this section. \n",
    "Hence, you can consider the jaxpr representation is an intermediate compilation stage of JAX. What happens if we actually try to look at the jaxpr representation of a function with side-effect? Let's consider the following function, which, as an illustrative example, appends the input to a global list:"
   ]
  },
  {
   "cell_type": "code",
   "execution_count": 19,
   "id": "a714bb61",
   "metadata": {},
   "outputs": [
    {
     "data": {
      "text/plain": [
       "{ lambda ; a:f32[3]. let\n",
       "    b:f32[3] = integer_pow[y=2] a\n",
       "    c:f32[] = reduce_sum[axes=(0,)] b\n",
       "    d:f32[] = sqrt c\n",
       "  in (d,) }"
      ]
     },
     "execution_count": 19,
     "metadata": {},
     "output_type": "execute_result"
    }
   ],
   "source": [
    "global_list = []\n",
    "\n",
    "\n",
    "# Invalid function with side-effect\n",
    "def norm(x):\n",
    "    global_list.append(x)\n",
    "    x = x**2\n",
    "    n = x.sum()\n",
    "    n = jnp.sqrt(n)\n",
    "    return n\n",
    "\n",
    "\n",
    "jax.make_jaxpr(norm)(inp)"
   ]
  },
  {
   "cell_type": "markdown",
   "id": "3dd631c2",
   "metadata": {},
   "source": [
    "As you can see, the jaxpr representation of the function does not contain any operation for `global_list.append(x)`. This is because jaxpr only understand side-effect-free code, and cannot represent such effects. Thus, we need to stick with pure functions without any side effects, to prevent any unwanted errors in our functions. If you are interested in learning more about the jaxpr representation, check out the JAX [documentation](https://jax.readthedocs.io/en/latest/jaxpr.html) on it. But for this tutorial, we just need the basics as discussed above."
   ]
  },
  {
   "cell_type": "markdown",
   "id": "1ccd928e",
   "metadata": {},
   "source": [
    "### Automatic differentiation\n",
    "\n",
    "The intermediate jaxpr representation defines a computation graph, on which we can perform an essential operation of deep learning framework: automatic differentiation. In frameworks like PyTorch with a dynamic computation graph, we would compute the gradients based on the loss tensor itself, e.g. by calling `loss.backward()`. However, JAX directly works with functions. Instead of backpropagating gradients through tensors, JAX takes as input a function, and outputs another function which directly calculates the gradients for it. While this might seem quite different to what you are used to from other frameworks, it is quite intuitive: your gradient of parameters is really a function of parameters and data.\n",
    "\n",
    "The transformation that allows us to do this is `jax.grad`, which takes as input the function, and returns another function representing the gradient calculation of the (first) input with respect to the output:"
   ]
  },
  {
   "cell_type": "code",
   "execution_count": 20,
   "id": "fd3f3ba9",
   "metadata": {},
   "outputs": [
    {
     "name": "stdout",
     "output_type": "stream",
     "text": [
      "Gradient [1.3333334 2.        2.6666667]\n"
     ]
    }
   ],
   "source": [
    "grad_function = jax.grad(simple_graph)\n",
    "gradients = grad_function(inp)\n",
    "print(\"Gradient\", gradients)"
   ]
  },
  {
   "cell_type": "markdown",
   "id": "7951a63f",
   "metadata": {},
   "source": [
    "The gradient we get here is exactly the one we would obtain when doing the calculation by hand. Moreover, we can also print the jaxpr representation of the gradient function:"
   ]
  },
  {
   "cell_type": "code",
   "execution_count": 21,
   "id": "cc3d85b0",
   "metadata": {},
   "outputs": [
    {
     "data": {
      "text/plain": [
       "{ lambda ; a:f32[3]. let\n",
       "    b:f32[3] = add a 2.0\n",
       "    c:f32[3] = integer_pow[y=2] b\n",
       "    d:f32[3] = integer_pow[y=1] b\n",
       "    e:f32[3] = mul 2.0 d\n",
       "    f:f32[3] = add c 3.0\n",
       "    g:f32[] = reduce_sum[axes=(0,)] f\n",
       "    _:f32[] = div g 3.0\n",
       "    h:f32[] = div 1.0 3.0\n",
       "    i:f32[3] = broadcast_in_dim[broadcast_dimensions=() shape=(3,)] h\n",
       "    j:f32[3] = mul i e\n",
       "  in (j,) }"
      ]
     },
     "execution_count": 21,
     "metadata": {},
     "output_type": "execute_result"
    }
   ],
   "source": [
    "jax.make_jaxpr(grad_function)(inp)"
   ]
  },
  {
   "cell_type": "markdown",
   "id": "fb8ee5ae",
   "metadata": {},
   "source": [
    "This shows an unique property of JAX: we can print out the exact computation graph for determining the gradients. Compared to the original function, you can see new equations like `d:f32[3] = integer_pow[y=1] b` and `e:f32[3] = mul 2.0 d`, which model the intermediate gradient of $\\partial b_i^2/\\partial b_i = 2b_i$. Furthermore, the return value `j` is the multiplication of `e` with $1/3$, which maps to the gradient being:\n",
    "\n",
    "$$ \\frac{\\partial y}{\\partial x_i} = \\frac{2}{3}(x_i + 2)$$\n",
    "\n",
    "Hence, we can not only use JAX to estimate the gradients at a certain input value, but actually return the analytical gradient function which is quite a nice feature and highlights the properties of JAX!"
   ]
  },
  {
   "cell_type": "markdown",
   "id": "07ca4428",
   "metadata": {},
   "source": [
    "Often, we do not only want the gradients, but also the actual output of the function, for instance for logging the loss. This can be efficiently done using `jax.value_and_grad`:"
   ]
  },
  {
   "cell_type": "code",
   "execution_count": 22,
   "id": "bf220dd8",
   "metadata": {},
   "outputs": [
    {
     "data": {
      "text/plain": [
       "(Array(12.666667, dtype=float32),\n",
       " Array([1.3333334, 2.       , 2.6666667], dtype=float32))"
      ]
     },
     "execution_count": 22,
     "metadata": {},
     "output_type": "execute_result"
    }
   ],
   "source": [
    "val_grad_function = jax.value_and_grad(simple_graph)\n",
    "val_grad_function(inp)"
   ]
  },
  {
   "cell_type": "markdown",
   "id": "a6f9fe03",
   "metadata": {},
   "source": [
    "Further, we can specialize the gradient function to consider multiple input arguments, and add extra outputs that we may not want to differentiate (for instance the accuracy in classification). We will visit the most important ones in the network training later in this section, and refer to other great resources for more details ([JAX Quickstart](https://jax.readthedocs.io/en/latest/notebooks/quickstart.html#taking-derivatives-with-grad), [Autodiff cookbook](https://jax.readthedocs.io/en/latest/notebooks/autodiff_cookbook.html), [Advanced autodiff](https://jax.readthedocs.io/en/latest/jax-101/04-advanced-autodiff.html)).\n",
    "\n",
    "To train neural networks, we need to determine the gradient for every parameter in the network with respect to the loss. Listing all parameters as input arguments quickly gets annoying and infeasible. JAX offers an elegant data structure to summarize all parameters: a pytree ([documentation](https://jax.readthedocs.io/en/latest/pytrees.html)). A pytree is a container-like object which structures its elements as a tree. For instance, a linear neural network might have its parameters organized similar to:\n",
    "\n",
    "```python\n",
    "params = {\n",
    "    'linear1': {\n",
    "        'weights': ...,\n",
    "        'bias': ...\n",
    "    },\n",
    "    ...\n",
    "}\n",
    "```\n",
    "JAX offers functions to process pytrees efficiently, such as obtaining all leafs (i.e. all parameters in a network) or applying a function on each element. We will come back to these structures when training a full network."
   ]
  },
  {
   "cell_type": "markdown",
   "id": "ba40a111",
   "metadata": {},
   "source": [
    "### Speeding up computation with Just-In-Time compilation\n",
    "\n",
    "Interestingly, from the previous code cell, you can see in the jaxpr representation of the gradient function that calculating the array `f` and scalar `g` are unnecessary. Intuitively, the gradient of taking the mean is independent of the actual output of the mean, hence we could drop `f` and `g` without any drawback. Finding such cases to improve efficiency and optimizing the code to take full advantage of the available accelerator hardware is one of the big selling points of JAX. It achieves that by *compiling functions just-in-time* with [XLA](https://www.tensorflow.org/xla) (Accelerated Linear Algebra), using their jaxpr representation. Thereby, XLA fuses operations to reduce execution time of short-lived operations and eliminates intermediate storage buffers where not needed. For more details, see the [XLA documentation](https://docs.w3cub.com/tensorflow~guide/performance/xla/index). \n",
    "\n",
    "To compile a function, JAX provides the `jax.jit` transformation. We can either apply the transformation directly on a function (as we will do in the next cell), or use the decorator `@jax.jit` before a function."
   ]
  },
  {
   "cell_type": "code",
   "execution_count": 23,
   "id": "861f1cfb",
   "metadata": {},
   "outputs": [],
   "source": [
    "jitted_function = jax.jit(simple_graph)"
   ]
  },
  {
   "cell_type": "markdown",
   "id": "b482467e",
   "metadata": {},
   "source": [
    "The `jitted_function` takes the same input arguments as the original function `simple_graph`. Since the jaxpr representation of a function depends on the input shape, the compilation is started once we put the first input in. However, note that this also means that for every different shape we want to run the function, a new XLA compilation is needed. This is why it is recommended to use padding in cases where your input shape strongly varies (we revisit this topic in the final section of this tutorial). For now, let's create an array with 1000 random values, on which we apply the jitted function:"
   ]
  },
  {
   "cell_type": "code",
   "execution_count": 24,
   "id": "f568e7ae",
   "metadata": {},
   "outputs": [],
   "source": [
    "# Create a new random subkey for generating new random values\n",
    "rng, normal_rng = jax.random.split(rng)\n",
    "large_input = jax.random.normal(normal_rng, (1000,))\n",
    "# Run the jitted function once to start compilation\n",
    "_ = jitted_function(large_input)"
   ]
  },
  {
   "cell_type": "markdown",
   "id": "fdfcfabe",
   "metadata": {},
   "source": [
    "The output is not any different from what you would get from the non-jitted function. However, how is it about the runtime? Let's time both the original and the jitted function. Due to the asynchronous execution on the GPU, we add `.block_until_ready()` on the output, which blocks the Python execution until the accelerator (here GPU) finished computing the result and hence get an accurate time estimate."
   ]
  },
  {
   "cell_type": "code",
   "execution_count": 25,
   "id": "5115b24d",
   "metadata": {},
   "outputs": [
    {
     "name": "stdout",
     "output_type": "stream",
     "text": [
      "213 µs ± 72.9 µs per loop (mean ± std. dev. of 7 runs, 1,000 loops each)\n"
     ]
    }
   ],
   "source": [
    "%%timeit\n",
    "simple_graph(large_input).block_until_ready()"
   ]
  },
  {
   "cell_type": "code",
   "execution_count": 26,
   "id": "593fae73",
   "metadata": {},
   "outputs": [
    {
     "name": "stdout",
     "output_type": "stream",
     "text": [
      "7.04 µs ± 971 ns per loop (mean ± std. dev. of 7 runs, 100,000 loops each)\n"
     ]
    }
   ],
   "source": [
    "%%timeit\n",
    "jitted_function(large_input).block_until_ready()"
   ]
  },
  {
   "cell_type": "markdown",
   "id": "dc0d7d8d",
   "metadata": {},
   "source": [
    "We see that the compiled function is almost 10-15x faster! This is quite an improvement in performance, and shows the potential of compiling functions with XLA. Furthermore, we can also apply multiple transformations on the same function in JAX, such as applying `jax.jit` on a gradient function:"
   ]
  },
  {
   "cell_type": "code",
   "execution_count": 27,
   "id": "ac7991b2",
   "metadata": {},
   "outputs": [],
   "source": [
    "jitted_grad_function = jax.jit(grad_function)\n",
    "_ = jitted_grad_function(large_input)  # Apply once to compile"
   ]
  },
  {
   "cell_type": "markdown",
   "id": "aeec0d3d",
   "metadata": {},
   "source": [
    "Let's time the functions once more:"
   ]
  },
  {
   "cell_type": "code",
   "execution_count": 28,
   "id": "84e68aa8",
   "metadata": {},
   "outputs": [
    {
     "name": "stdout",
     "output_type": "stream",
     "text": [
      "4.01 ms ± 128 µs per loop (mean ± std. dev. of 7 runs, 100 loops each)\n"
     ]
    }
   ],
   "source": [
    "%%timeit\n",
    "grad_function(large_input).block_until_ready()"
   ]
  },
  {
   "cell_type": "code",
   "execution_count": 29,
   "id": "14388264",
   "metadata": {},
   "outputs": [
    {
     "name": "stdout",
     "output_type": "stream",
     "text": [
      "5.07 µs ± 265 ns per loop (mean ± std. dev. of 7 runs, 100,000 loops each)\n"
     ]
    }
   ],
   "source": [
    "%%timeit\n",
    "jitted_grad_function(large_input).block_until_ready()"
   ]
  },
  {
   "cell_type": "markdown",
   "id": "04e7e67e",
   "metadata": {},
   "source": [
    "Once more, the jitted function is much faster than the original one. Intuitively, this shows the potential speed up we can gain by using `jax.jit` to compile the whole training step of a network. Generally, we want to jit the largest possible chunk of computation to give the compiler maximum freedom. \n",
    "\n",
    "There are situations in which applying jit to a function is not straight-forward, for instance, if an input argument cannot be traced, or you need to use loops that depend on input arguments. To keep the tutorial simple, and since most neural network training functions do not run into these issues, we do not discuss such special cases here. Instead, we refer to the section on just-in-time compilation in the great tutorials of [JAX 101 Tutorial](https://jax.readthedocs.io/en/latest/jax-101/02-jitting.html), [JAX Quickstart](https://jax.readthedocs.io/en/latest/notebooks/quickstart.html#using-jit-to-speed-up-functions), and [Thinking in JAX](https://jax.readthedocs.io/en/latest/notebooks/thinking_in_jax.html#to-jit-or-not-to-jit)."
   ]
  },
  {
   "cell_type": "markdown",
   "id": "b82f544e",
   "metadata": {},
   "source": [
    "## Implementing a Neural Network with Flax\n",
    "\n",
    "With having reviewed the basics of JAX, we are now ready to implement our own neural network. Technically, we could implement our own neural network from scratch with JAX (see [here](https://jax.readthedocs.io/en/latest/notebooks/Neural_Network_and_Data_Loading.html) for an example), but we do not really want to do that every time. Similarly to PyTorch's `torch.nn` package, there exist neural network libraries based on JAX which provide such basic functionality. A (non-exclusive) collection of them are:\n",
    "\n",
    "* [Flax](https://flax.readthedocs.io/en/latest/index.html), started by the Google Brain Team, focuses on flexibility and clarity.\n",
    "* [Haiku](https://dm-haiku.readthedocs.io/en/latest/), from DeepMind, focuses on simplicity and compositionality.\n",
    "* [Trax](https://github.com/google/trax), maintained by the Google Brain Team, provides solutions for common training tasks\n",
    "* [Equinox](https://github.com/patrick-kidger/equinox), created by Patrick Kidger and Cristian Garcia, implements neural networks as callable PyTrees\n",
    "* [Jraph](https://github.com/deepmind/jraph), from DeepMind, is a graph neural network library (similar to PyTorch Geometric)\n",
    "\n",
    "For this tutorial series, we will use Flax due to its flexibility, intuitive API, and larger community. However, this should not mean that the other libraries are necessarily worse, and we recommend giving them a try as well to find the best library for yourself!\n",
    "\n",
    "We will introduce the libraries and all additional parts you might need to train a neural network in Flax, using a simple example classifier on a simple yet well known example: XOR. Given two binary inputs $x_1$ and $x_2$, the label to predict is $1$ if either $x_1$ or $x_2$ is $1$ while the other is $0$, or the label is $0$ in all other cases. The example became famous by the fact that a single neuron, i.e. a linear classifier, cannot learn this simple function. Hence, we will learn how to build a small neural network that can learn this function. \n",
    "To make it a little bit more interesting, we move the XOR into continuous space and introduce some gaussian noise on the binary inputs. Our desired separation of an XOR dataset could look as follows:\n",
    "\n",
    "<center style=\"width: 100%\"><img src=\"assets/continuous_xor.svg\" width=\"350px\"></center>"
   ]
  },
  {
   "cell_type": "markdown",
   "id": "507f9a04",
   "metadata": {},
   "source": [
    "### The model\n",
    "\n",
    "The package `flax.linen` defines a series of useful classes like linear networks layers, convolutions, activation functions etc. A full list can be found [here](https://flax.readthedocs.io/en/latest/flax.linen.html). In case you need a certain network layer, check the documentation of the package first before writing the layer yourself as the package likely contains the code for it already. We import it below:"
   ]
  },
  {
   "cell_type": "code",
   "execution_count": 30,
   "id": "5ae8e998",
   "metadata": {},
   "outputs": [
    {
     "name": "stderr",
     "output_type": "stream",
     "text": [
      "/usr/local/lib/python3.10/site-packages/flax/core/frozen_dict.py:169: FutureWarning: jax.tree_util.register_keypaths is deprecated, and will be removed in a future release. Please use `register_pytree_with_keys()` instead.\n",
      "  jax.tree_util.register_keypaths(\n"
     ]
    }
   ],
   "source": [
    "try:\n",
    "    import flax\n",
    "except ModuleNotFoundError:  # Install flax if missing\n",
    "    !pip install --quiet flax\n",
    "    import flax\n",
    "\n",
    "from flax import linen as nn"
   ]
  },
  {
   "cell_type": "markdown",
   "id": "b63429e0",
   "metadata": {},
   "source": [
    "#### nn.Module\n",
    "\n",
    "Similar to PyTorch, a neural network is built up out of modules. Modules can contain other modules, and a neural network is considered to be a module itself as well. The basic template of a module is as follows:"
   ]
  },
  {
   "cell_type": "code",
   "execution_count": 31,
   "id": "55fcd52c",
   "metadata": {},
   "outputs": [],
   "source": [
    "class MyModule(nn.Module):\n",
    "    # Some dataclass attributes, like hidden dimension, number of layers, etc. of the form:\n",
    "    # varname : vartype\n",
    "\n",
    "    def setup(self):\n",
    "        # Flax uses \"lazy\" initialization. This function is called once before you\n",
    "        # call the model, or try to access attributes. In here, define your submodules etc.\n",
    "        pass\n",
    "\n",
    "    def __call__(self, x):\n",
    "        # Function for performing the calculation of the module.\n",
    "        pass"
   ]
  },
  {
   "cell_type": "markdown",
   "id": "315c8cf3",
   "metadata": {},
   "source": [
    "The main, obvious difference to PyTorch is that Flax uses lazy initialization. The function `setup` is called once on a module instance before any other methods are called, or when you try to access a attribute of *self* defined in setup. Additional object attributes are defined below the class name. However, in contrast to PyTorch, the parameters are not part of the module. Instead, we can create a set of parameters of the module by calling its `init()` function. This function takes as input a PRNG state for sampling pseudo-random numbers and an example input to the model, and returns a set of parameters for the module as a pytree. Further, since the init function requires an input to the network, we can infer the input shape for all modules and do not need to explicitly define it during the module creation. This becomes more clear in the example we show in a second.\n",
    "\n",
    "The `__call__` method represents the `forward` function in PyTorch, and performs the actual computation of the module. It can take additional arguments if needed, like whether we are training or validation."
   ]
  },
  {
   "cell_type": "markdown",
   "id": "140a1566",
   "metadata": {},
   "source": [
    "#### Simple classifier\n",
    "\n",
    "To get an intuition behind how we work with modules in Flax, let's define our own small neural network. We will use a minimal network with a input layer, one hidden layer with tanh as activation function, and a output layer. In other words, our networks should look something like this:\n",
    "\n",
    "<center width=\"100%\"><img src=\"assets/small_neural_network.svg\" width=\"300px\"></center>\n",
    "\n",
    "The input neurons are shown in blue, which represent the coordinates $x_1$ and $x_2$ of a data point. The hidden neurons including a tanh activation are shown in white, and the output neuron in red.\n",
    "In Flax, we can define this as follows:"
   ]
  },
  {
   "cell_type": "code",
   "execution_count": 32,
   "id": "f0709370",
   "metadata": {},
   "outputs": [],
   "source": [
    "class SimpleClassifier(nn.Module):\n",
    "    num_hidden: int  # Number of hidden neurons\n",
    "    num_outputs: int  # Number of output neurons\n",
    "\n",
    "    def setup(self):\n",
    "        # Create the modules we need to build the network\n",
    "        # nn.Dense is a linear layer\n",
    "        self.linear1 = nn.Dense(features=self.num_hidden)\n",
    "        self.linear2 = nn.Dense(features=self.num_outputs)\n",
    "\n",
    "    def __call__(self, x):\n",
    "        # Perform the calculation of the model to determine the prediction\n",
    "        x = self.linear1(x)\n",
    "        x = nn.tanh(x)\n",
    "        x = self.linear2(x)\n",
    "        return x"
   ]
  },
  {
   "cell_type": "markdown",
   "id": "c9c5062b",
   "metadata": {},
   "source": [
    "One thing you may notice is that usually, all layers that we define in `setup` are also used in the `__call__` function. To reduce the code overhead, Flax provides an alternative, more compact network creation with `nn.compact`. With that, we can remove the setup function and instead our model as:"
   ]
  },
  {
   "cell_type": "code",
   "execution_count": 33,
   "id": "c68c1706",
   "metadata": {},
   "outputs": [],
   "source": [
    "class SimpleClassifierCompact(nn.Module):\n",
    "    num_hidden: int  # Number of hidden neurons\n",
    "    num_outputs: int  # Number of output neurons\n",
    "\n",
    "    @nn.compact  # Tells Flax to look for defined submodules\n",
    "    def __call__(self, x):\n",
    "        # Perform the calculation of the model to determine the prediction\n",
    "        # while defining necessary layers\n",
    "        x = nn.Dense(features=self.num_hidden)(x)\n",
    "        x = nn.tanh(x)\n",
    "        x = nn.Dense(features=self.num_outputs)(x)\n",
    "        return x"
   ]
  },
  {
   "cell_type": "markdown",
   "id": "8835db24",
   "metadata": {},
   "source": [
    "The `nn.compact` annotation of the `__call__` method signals Flax to look for submodules that we define in the forward pass. These are automatically recognized as such, so that we can use them for initialization etc. Which of the two model definition you use is often up to you (see the [Flax documentation](https://flax.readthedocs.io/en/latest/design_notes/setup_or_nncompact.html) for some pros and cons for both methods). In the following tutorials, we will mostly use the compact version, but occasionally come back to the explicit setup function where necessary. For instance, if we define more functions on a module besides `__call__` and want to reuse some modules, it is recommended to use the setup version."
   ]
  },
  {
   "cell_type": "markdown",
   "id": "c8096c54",
   "metadata": {},
   "source": [
    "For the examples in this notebook, we will use a tiny neural network with two input neurons and eight hidden neurons. As we perform binary classification, we will use a single output neuron. Note that we do not apply a sigmoid on the output yet. This is because other functions, especially the loss, are more efficient and precise to calculate on the original outputs instead of the sigmoid output. We will discuss the detailed reason later.\n",
    "\n",
    "Now, let's create an instance of this network:"
   ]
  },
  {
   "cell_type": "code",
   "execution_count": 34,
   "id": "f3773927",
   "metadata": {},
   "outputs": [
    {
     "name": "stdout",
     "output_type": "stream",
     "text": [
      "SimpleClassifier(\n",
      "    # attributes\n",
      "    num_hidden = 8\n",
      "    num_outputs = 1\n",
      ")\n"
     ]
    }
   ],
   "source": [
    "model = SimpleClassifier(num_hidden=8, num_outputs=1)\n",
    "# Printing the model shows its attributes\n",
    "print(model)"
   ]
  },
  {
   "cell_type": "markdown",
   "id": "3e828055",
   "metadata": {},
   "source": [
    "At this stage, the model has no parameters initialized. To do this, let's create a random input of our dataset, and apply the init function:"
   ]
  },
  {
   "cell_type": "code",
   "execution_count": 35,
   "id": "5cde7905",
   "metadata": {},
   "outputs": [
    {
     "name": "stdout",
     "output_type": "stream",
     "text": [
      "FrozenDict({\n",
      "    params: {\n",
      "        linear1: {\n",
      "            kernel: Array([[ 0.31476858, -0.46477678, -0.78620416, -0.48842612, -0.65373844,\n",
      "                     0.38925445,  0.3038055 ,  0.0417986 ],\n",
      "                   [-0.32982358,  1.1110363 ,  0.54909384, -0.81688154,  0.4005725 ,\n",
      "                    -0.86659867,  1.2087963 ,  1.0364621 ]], dtype=float32),\n",
      "            bias: Array([0., 0., 0., 0., 0., 0., 0., 0.], dtype=float32),\n",
      "        },\n",
      "        linear2: {\n",
      "            kernel: Array([[-0.2797181 ],\n",
      "                   [-0.74667746],\n",
      "                   [ 0.29791605],\n",
      "                   [-0.26267233],\n",
      "                   [-0.50843847],\n",
      "                   [ 0.04573093],\n",
      "                   [-0.4725701 ],\n",
      "                   [ 0.50458497]], dtype=float32),\n",
      "            bias: Array([0.], dtype=float32),\n",
      "        },\n",
      "    },\n",
      "})\n"
     ]
    }
   ],
   "source": [
    "rng, inp_rng, init_rng = jax.random.split(rng, 3)\n",
    "inp = jax.random.normal(inp_rng, (8, 2))  # Batch size 8, input size 2\n",
    "# Initialize the model\n",
    "params = model.init(init_rng, inp)\n",
    "print(params)"
   ]
  },
  {
   "cell_type": "markdown",
   "id": "8c8fbfc7",
   "metadata": {},
   "source": [
    "Now, we have parameters with which we can apply the network. We see that the parameters follow the same structure as defined in our module, and each linear layer contains one `kernel`, i.e. the weights, and a bias parameter. With this, we could apply the model on an input using the `apply` function:"
   ]
  },
  {
   "cell_type": "code",
   "execution_count": 36,
   "id": "bd41972d",
   "metadata": {},
   "outputs": [
    {
     "data": {
      "text/plain": [
       "Array([[-0.4836821 ],\n",
       "       [ 0.04365462],\n",
       "       [ 0.0666853 ],\n",
       "       [-0.34203655],\n",
       "       [ 0.48351482],\n",
       "       [ 0.37424877],\n",
       "       [ 0.14232653],\n",
       "       [-0.5916512 ]], dtype=float32)"
      ]
     },
     "execution_count": 36,
     "metadata": {},
     "output_type": "execute_result"
    }
   ],
   "source": [
    "model.apply(params, inp)"
   ]
  },
  {
   "cell_type": "markdown",
   "id": "e15dfa58",
   "metadata": {},
   "source": [
    "The model returns an output array of shape `[8,1]`, which corresponds to the one output neuron in the model for all 8 batch elements. With that, we now know how to initialize a model, and run a model. Next, let's look at the data."
   ]
  },
  {
   "cell_type": "markdown",
   "id": "aa45f48d",
   "metadata": {},
   "source": [
    "### The data\n",
    "\n",
    "As mentioned before, JAX is not meant to 'reinvent the wheel' for every part of the deep learning pipeline. Hence, JAX and Flax do not natively provide a data loading functionality, but instead refer to other available libraries like Tensorflow and PyTorch. Here, let's use again the package `torch.utils.data` library."
   ]
  },
  {
   "cell_type": "code",
   "execution_count": 37,
   "id": "50d8c7c8",
   "metadata": {},
   "outputs": [],
   "source": [
    "import torch.utils.data as data"
   ]
  },
  {
   "cell_type": "markdown",
   "id": "59d418ec",
   "metadata": {},
   "source": [
    "The data package defines two classes which are the standard interface for handling data in PyTorch: `data.Dataset`, and `data.DataLoader`. The dataset class provides an uniform interface to access the training/test data, while the data loader makes sure to efficiently load and stack the data points from the dataset into batches during training."
   ]
  },
  {
   "cell_type": "markdown",
   "id": "c28a204c",
   "metadata": {},
   "source": [
    "#### The dataset class\n",
    "\n",
    "The dataset class summarizes the basic functionality of a dataset in a natural way. To define a dataset in PyTorch, we simply specify two functions: `__getitem__`, and `__len__`. The get-item function has to return the $i$-th data point in the dataset, while the len function returns the size of the dataset. For the XOR dataset, we can define the dataset class as follows:"
   ]
  },
  {
   "cell_type": "code",
   "execution_count": 38,
   "id": "22c49212",
   "metadata": {},
   "outputs": [],
   "source": [
    "class XORDataset(data.Dataset):\n",
    "    def __init__(self, size, seed, std=0.1):\n",
    "        \"\"\"\n",
    "        Inputs:\n",
    "            size - Number of data points we want to generate\n",
    "            seed - The seed to use to create the PRNG state with which we want to generate the data points\n",
    "            std - Standard deviation of the noise (see generate_continuous_xor function)\n",
    "        \"\"\"\n",
    "        super().__init__()\n",
    "        self.size = size\n",
    "        self.np_rng = np.random.RandomState(seed=seed)\n",
    "        self.std = std\n",
    "        self.generate_continuous_xor()\n",
    "\n",
    "    def generate_continuous_xor(self):\n",
    "        # Each data point in the XOR dataset has two variables, x and y, that can be either 0 or 1\n",
    "        # The label is their XOR combination, i.e. 1 if only x or only y is 1 while the other is 0.\n",
    "        # If x=y, the label is 0.\n",
    "        data = self.np_rng.randint(low=0, high=2, size=(self.size, 2)).astype(\n",
    "            np.float32\n",
    "        )\n",
    "        label = (data.sum(axis=1) == 1).astype(np.int32)\n",
    "        # To make it slightly more challenging, we add a bit of gaussian noise to the data points.\n",
    "        data += self.np_rng.normal(loc=0.0, scale=self.std, size=data.shape)\n",
    "\n",
    "        self.data = data\n",
    "        self.label = label\n",
    "\n",
    "    def __len__(self):\n",
    "        # Number of data point we have. Alternatively self.data.shape[0], or self.label.shape[0]\n",
    "        return self.size\n",
    "\n",
    "    def __getitem__(self, idx):\n",
    "        # Return the idx-th data point of the dataset\n",
    "        # If we have multiple things to return (data point and label), we can return them as tuple\n",
    "        data_point = self.data[idx]\n",
    "        data_label = self.label[idx]\n",
    "        return data_point, data_label"
   ]
  },
  {
   "cell_type": "markdown",
   "id": "34a8769a",
   "metadata": {},
   "source": [
    "Note that in contrast to our [PyTorch tutorial](https://uvadlc-notebooks.readthedocs.io/en/latest/tutorial_notebooks/tutorial2/Introduction_to_PyTorch.html#The-data), we use NumPy to generate the random data. Similar to JAX, NumPy also allows the pseudo-number generation based on a PRNG state. Hence, for better reproducibility, we are doing the same here. Let's try to create such a dataset and inspect it:"
   ]
  },
  {
   "cell_type": "code",
   "execution_count": 39,
   "id": "de1d5448",
   "metadata": {},
   "outputs": [
    {
     "name": "stdout",
     "output_type": "stream",
     "text": [
      "Size of dataset: 200\n",
      "Data point 0: (array([-0.06800247,  1.0232254 ], dtype=float32), 1)\n"
     ]
    }
   ],
   "source": [
    "dataset = XORDataset(size=200, seed=42)\n",
    "print(\"Size of dataset:\", len(dataset))\n",
    "print(\"Data point 0:\", dataset[0])"
   ]
  },
  {
   "cell_type": "markdown",
   "id": "c49d37c0",
   "metadata": {},
   "source": [
    "To better relate to the dataset, we visualize the samples below. "
   ]
  },
  {
   "cell_type": "code",
   "execution_count": 40,
   "id": "4a133ca4",
   "metadata": {},
   "outputs": [],
   "source": [
    "def visualize_samples(data, label):\n",
    "    data_0 = data[label == 0]\n",
    "    data_1 = data[label == 1]\n",
    "\n",
    "    plt.figure(figsize=(4, 4))\n",
    "    plt.scatter(data_0[:, 0], data_0[:, 1], edgecolor=\"#333\", label=\"Class 0\")\n",
    "    plt.scatter(data_1[:, 0], data_1[:, 1], edgecolor=\"#333\", label=\"Class 1\")\n",
    "    plt.title(\"Dataset samples\")\n",
    "    plt.ylabel(r\"$x_2$\")\n",
    "    plt.xlabel(r\"$x_1$\")\n",
    "    plt.legend()"
   ]
  },
  {
   "cell_type": "code",
   "execution_count": 41,
   "id": "b6783615",
   "metadata": {},
   "outputs": [
    {
     "data": {
      "application/pdf": "[encoded data removed]",
      "image/svg+xml": "<?xml version=\"1.0\" encoding=\"utf-8\" standalone=\"no\"?>\n<!DOCTYPE svg PUBLIC \"-//W3C//DTD SVG 1.1//EN\"\n  \"http://www.w3.org/Graphics/SVG/1.1/DTD/svg11.dtd\">\n<svg xmlns:xlink=\"http://www.w3.org/1999/xlink\" width=\"289.424844pt\" height=\"287.037813pt\" viewBox=\"0 0 289.424844 287.037813\" xmlns=\"http://www.w3.org/2000/svg\" version=\"1.1\">\n <metadata>\n  <rdf:RDF xmlns:dc=\"http://purl.org/dc/elements/1.1/\" xmlns:cc=\"http://creativecommons.org/ns#\" xmlns:rdf=\"http://www.w3.org/1999/02/22-rdf-syntax-ns#\">\n   <cc:Work>\n    <dc:type rdf:resource=\"http://purl.org/dc/dcmitype/StillImage\"/>\n    <dc:date>2023-03-28T15:20:49.265094</dc:date>\n    <dc:format>image/svg+xml</dc:format>\n    <dc:creator>\n     <cc:Agent>\n      <dc:title>Matplotlib v3.7.1, https://matplotlib.org/</dc:title>\n     </cc:Agent>\n    </dc:creator>\n   </cc:Work>\n  </rdf:RDF>\n </metadata>\n <defs>\n  <style type=\"text/css\">*{stroke-linejoin: round; stroke-linecap: butt}</style>\n </defs>\n <g id=\"figure_1\">\n  <g id=\"patch_1\">\n   <path d=\"M 0 287.037813 \nL 289.424844 287.037813 \nL 289.424844 0 \nL 0 0 \nz\n\" style=\"fill: #ffffff\"/>\n  </g>\n  <g id=\"axes_1\">\n   <g id=\"patch_2\">\n    <path d=\"M 59.024844 244.078125 \nL 282.224844 244.078125 \nL 282.224844 22.318125 \nL 59.024844 22.318125 \nz\n\" style=\"fill: #eaeaf2\"/>\n   </g>\n   <g id=\"matplotlib.axis_1\">\n    <g id=\"xtick_1\">\n     <g id=\"line2d_1\">\n      <path d=\"M 98.338694 244.078125 \nL 98.338694 22.318125 \n\" clip-path=\"url(#pf925f04154)\" style=\"fill: none; stroke: #ffffff; stroke-linecap: round\"/>\n     </g>\n     <g id=\"text_1\">\n      <!-- 0.0 -->\n      <g style=\"fill: #262626\" transform=\"translate(89.591975 261.936406) scale(0.11 -0.11)\">\n       <defs>\n        <path id=\"DejaVuSans-30\" d=\"M 2034 4250 \nQ 1547 4250 1301 3770 \nQ 1056 3291 1056 2328 \nQ 1056 1369 1301 889 \nQ 1547 409 2034 409 \nQ 2525 409 2770 889 \nQ 3016 1369 3016 2328 \nQ 3016 3291 2770 3770 \nQ 2525 4250 2034 4250 \nz\nM 2034 4750 \nQ 2819 4750 3233 4129 \nQ 3647 3509 3647 2328 \nQ 3647 1150 3233 529 \nQ 2819 -91 2034 -91 \nQ 1250 -91 836 529 \nQ 422 1150 422 2328 \nQ 422 3509 836 4129 \nQ 1250 4750 2034 4750 \nz\n\" transform=\"scale(0.015625)\"/>\n        <path id=\"DejaVuSans-2e\" d=\"M 684 794 \nL 1344 794 \nL 1344 0 \nL 684 0 \nL 684 794 \nz\n\" transform=\"scale(0.015625)\"/>\n       </defs>\n       <use xlink:href=\"#DejaVuSans-30\"/>\n       <use xlink:href=\"#DejaVuSans-2e\" x=\"63.623047\"/>\n       <use xlink:href=\"#DejaVuSans-30\" x=\"95.410156\"/>\n      </g>\n     </g>\n    </g>\n    <g id=\"xtick_2\">\n     <g id=\"line2d_2\">\n      <path d=\"M 168.880926 244.078125 \nL 168.880926 22.318125 \n\" clip-path=\"url(#pf925f04154)\" style=\"fill: none; stroke: #ffffff; stroke-linecap: round\"/>\n     </g>\n     <g id=\"text_2\">\n      <!-- 0.5 -->\n      <g style=\"fill: #262626\" transform=\"translate(160.134208 261.936406) scale(0.11 -0.11)\">\n       <defs>\n        <path id=\"DejaVuSans-35\" d=\"M 691 4666 \nL 3169 4666 \nL 3169 4134 \nL 1269 4134 \nL 1269 2991 \nQ 1406 3038 1543 3061 \nQ 1681 3084 1819 3084 \nQ 2600 3084 3056 2656 \nQ 3513 2228 3513 1497 \nQ 3513 744 3044 326 \nQ 2575 -91 1722 -91 \nQ 1428 -91 1123 -41 \nQ 819 9 494 109 \nL 494 744 \nQ 775 591 1075 516 \nQ 1375 441 1709 441 \nQ 2250 441 2565 725 \nQ 2881 1009 2881 1497 \nQ 2881 1984 2565 2268 \nQ 2250 2553 1709 2553 \nQ 1456 2553 1204 2497 \nQ 953 2441 691 2322 \nL 691 4666 \nz\n\" transform=\"scale(0.015625)\"/>\n       </defs>\n       <use xlink:href=\"#DejaVuSans-30\"/>\n       <use xlink:href=\"#DejaVuSans-2e\" x=\"63.623047\"/>\n       <use xlink:href=\"#DejaVuSans-35\" x=\"95.410156\"/>\n      </g>\n     </g>\n    </g>\n    <g id=\"xtick_3\">\n     <g id=\"line2d_3\">\n      <path d=\"M 239.423158 244.078125 \nL 239.423158 22.318125 \n\" clip-path=\"url(#pf925f04154)\" style=\"fill: none; stroke: #ffffff; stroke-linecap: round\"/>\n     </g>\n     <g id=\"text_3\">\n      <!-- 1.0 -->\n      <g style=\"fill: #262626\" transform=\"translate(230.67644 261.936406) scale(0.11 -0.11)\">\n       <defs>\n        <path id=\"DejaVuSans-31\" d=\"M 794 531 \nL 1825 531 \nL 1825 4091 \nL 703 3866 \nL 703 4441 \nL 1819 4666 \nL 2450 4666 \nL 2450 531 \nL 3481 531 \nL 3481 0 \nL 794 0 \nL 794 531 \nz\n\" transform=\"scale(0.015625)\"/>\n       </defs>\n       <use xlink:href=\"#DejaVuSans-31\"/>\n       <use xlink:href=\"#DejaVuSans-2e\" x=\"63.623047\"/>\n       <use xlink:href=\"#DejaVuSans-30\" x=\"95.410156\"/>\n      </g>\n     </g>\n    </g>\n    <g id=\"text_4\">\n     <!-- $x_1$ -->\n     <g style=\"fill: #262626\" transform=\"translate(164.204844 277.342188) scale(0.12 -0.12)\">\n      <defs>\n       <path id=\"DejaVuSans-Oblique-78\" d=\"M 3841 3500 \nL 2234 1784 \nL 3219 0 \nL 2559 0 \nL 1819 1388 \nL 531 0 \nL -166 0 \nL 1556 1844 \nL 641 3500 \nL 1300 3500 \nL 1972 2234 \nL 3144 3500 \nL 3841 3500 \nz\n\" transform=\"scale(0.015625)\"/>\n      </defs>\n      <use xlink:href=\"#DejaVuSans-Oblique-78\" transform=\"translate(0 0.3125)\"/>\n      <use xlink:href=\"#DejaVuSans-31\" transform=\"translate(59.179688 -16.09375) scale(0.7)\"/>\n     </g>\n    </g>\n   </g>\n   <g id=\"matplotlib.axis_2\">\n    <g id=\"ytick_1\">\n     <g id=\"line2d_4\">\n      <path d=\"M 59.024844 234.65645 \nL 282.224844 234.65645 \n\" clip-path=\"url(#pf925f04154)\" style=\"fill: none; stroke: #ffffff; stroke-linecap: round\"/>\n     </g>\n     <g id=\"text_5\">\n      <!-- −0.2 -->\n      <g style=\"fill: #262626\" transform=\"translate(22.81375 238.835591) scale(0.11 -0.11)\">\n       <defs>\n        <path id=\"DejaVuSans-2212\" d=\"M 678 2272 \nL 4684 2272 \nL 4684 1741 \nL 678 1741 \nL 678 2272 \nz\n\" transform=\"scale(0.015625)\"/>\n        <path id=\"DejaVuSans-32\" d=\"M 1228 531 \nL 3431 531 \nL 3431 0 \nL 469 0 \nL 469 531 \nQ 828 903 1448 1529 \nQ 2069 2156 2228 2338 \nQ 2531 2678 2651 2914 \nQ 2772 3150 2772 3378 \nQ 2772 3750 2511 3984 \nQ 2250 4219 1831 4219 \nQ 1534 4219 1204 4116 \nQ 875 4013 500 3803 \nL 500 4441 \nQ 881 4594 1212 4672 \nQ 1544 4750 1819 4750 \nQ 2544 4750 2975 4387 \nQ 3406 4025 3406 3419 \nQ 3406 3131 3298 2873 \nQ 3191 2616 2906 2266 \nQ 2828 2175 2409 1742 \nQ 1991 1309 1228 531 \nz\n\" transform=\"scale(0.015625)\"/>\n       </defs>\n       <use xlink:href=\"#DejaVuSans-2212\"/>\n       <use xlink:href=\"#DejaVuSans-30\" x=\"83.789062\"/>\n       <use xlink:href=\"#DejaVuSans-2e\" x=\"147.412109\"/>\n       <use xlink:href=\"#DejaVuSans-32\" x=\"179.199219\"/>\n      </g>\n     </g>\n    </g>\n    <g id=\"ytick_2\">\n     <g id=\"line2d_5\">\n      <path d=\"M 59.024844 207.176015 \nL 282.224844 207.176015 \n\" clip-path=\"url(#pf925f04154)\" style=\"fill: none; stroke: #ffffff; stroke-linecap: round\"/>\n     </g>\n     <g id=\"text_6\">\n      <!-- 0.0 -->\n      <g style=\"fill: #262626\" transform=\"translate(32.031406 211.355155) scale(0.11 -0.11)\">\n       <use xlink:href=\"#DejaVuSans-30\"/>\n       <use xlink:href=\"#DejaVuSans-2e\" x=\"63.623047\"/>\n       <use xlink:href=\"#DejaVuSans-30\" x=\"95.410156\"/>\n      </g>\n     </g>\n    </g>\n    <g id=\"ytick_3\">\n     <g id=\"line2d_6\">\n      <path d=\"M 59.024844 179.695579 \nL 282.224844 179.695579 \n\" clip-path=\"url(#pf925f04154)\" style=\"fill: none; stroke: #ffffff; stroke-linecap: round\"/>\n     </g>\n     <g id=\"text_7\">\n      <!-- 0.2 -->\n      <g style=\"fill: #262626\" transform=\"translate(32.031406 183.87472) scale(0.11 -0.11)\">\n       <use xlink:href=\"#DejaVuSans-30\"/>\n       <use xlink:href=\"#DejaVuSans-2e\" x=\"63.623047\"/>\n       <use xlink:href=\"#DejaVuSans-32\" x=\"95.410156\"/>\n      </g>\n     </g>\n    </g>\n    <g id=\"ytick_4\">\n     <g id=\"line2d_7\">\n      <path d=\"M 59.024844 152.215144 \nL 282.224844 152.215144 \n\" clip-path=\"url(#pf925f04154)\" style=\"fill: none; stroke: #ffffff; stroke-linecap: round\"/>\n     </g>\n     <g id=\"text_8\">\n      <!-- 0.4 -->\n      <g style=\"fill: #262626\" transform=\"translate(32.031406 156.394284) scale(0.11 -0.11)\">\n       <defs>\n        <path id=\"DejaVuSans-34\" d=\"M 2419 4116 \nL 825 1625 \nL 2419 1625 \nL 2419 4116 \nz\nM 2253 4666 \nL 3047 4666 \nL 3047 1625 \nL 3713 1625 \nL 3713 1100 \nL 3047 1100 \nL 3047 0 \nL 2419 0 \nL 2419 1100 \nL 313 1100 \nL 313 1709 \nL 2253 4666 \nz\n\" transform=\"scale(0.015625)\"/>\n       </defs>\n       <use xlink:href=\"#DejaVuSans-30\"/>\n       <use xlink:href=\"#DejaVuSans-2e\" x=\"63.623047\"/>\n       <use xlink:href=\"#DejaVuSans-34\" x=\"95.410156\"/>\n      </g>\n     </g>\n    </g>\n    <g id=\"ytick_5\">\n     <g id=\"line2d_8\">\n      <path d=\"M 59.024844 124.734708 \nL 282.224844 124.734708 \n\" clip-path=\"url(#pf925f04154)\" style=\"fill: none; stroke: #ffffff; stroke-linecap: round\"/>\n     </g>\n     <g id=\"text_9\">\n      <!-- 0.6 -->\n      <g style=\"fill: #262626\" transform=\"translate(32.031406 128.913849) scale(0.11 -0.11)\">\n       <defs>\n        <path id=\"DejaVuSans-36\" d=\"M 2113 2584 \nQ 1688 2584 1439 2293 \nQ 1191 2003 1191 1497 \nQ 1191 994 1439 701 \nQ 1688 409 2113 409 \nQ 2538 409 2786 701 \nQ 3034 994 3034 1497 \nQ 3034 2003 2786 2293 \nQ 2538 2584 2113 2584 \nz\nM 3366 4563 \nL 3366 3988 \nQ 3128 4100 2886 4159 \nQ 2644 4219 2406 4219 \nQ 1781 4219 1451 3797 \nQ 1122 3375 1075 2522 \nQ 1259 2794 1537 2939 \nQ 1816 3084 2150 3084 \nQ 2853 3084 3261 2657 \nQ 3669 2231 3669 1497 \nQ 3669 778 3244 343 \nQ 2819 -91 2113 -91 \nQ 1303 -91 875 529 \nQ 447 1150 447 2328 \nQ 447 3434 972 4092 \nQ 1497 4750 2381 4750 \nQ 2619 4750 2861 4703 \nQ 3103 4656 3366 4563 \nz\n\" transform=\"scale(0.015625)\"/>\n       </defs>\n       <use xlink:href=\"#DejaVuSans-30\"/>\n       <use xlink:href=\"#DejaVuSans-2e\" x=\"63.623047\"/>\n       <use xlink:href=\"#DejaVuSans-36\" x=\"95.410156\"/>\n      </g>\n     </g>\n    </g>\n    <g id=\"ytick_6\">\n     <g id=\"line2d_9\">\n      <path d=\"M 59.024844 97.254273 \nL 282.224844 97.254273 \n\" clip-path=\"url(#pf925f04154)\" style=\"fill: none; stroke: #ffffff; stroke-linecap: round\"/>\n     </g>\n     <g id=\"text_10\">\n      <!-- 0.8 -->\n      <g style=\"fill: #262626\" transform=\"translate(32.031406 101.433413) scale(0.11 -0.11)\">\n       <defs>\n        <path id=\"DejaVuSans-38\" d=\"M 2034 2216 \nQ 1584 2216 1326 1975 \nQ 1069 1734 1069 1313 \nQ 1069 891 1326 650 \nQ 1584 409 2034 409 \nQ 2484 409 2743 651 \nQ 3003 894 3003 1313 \nQ 3003 1734 2745 1975 \nQ 2488 2216 2034 2216 \nz\nM 1403 2484 \nQ 997 2584 770 2862 \nQ 544 3141 544 3541 \nQ 544 4100 942 4425 \nQ 1341 4750 2034 4750 \nQ 2731 4750 3128 4425 \nQ 3525 4100 3525 3541 \nQ 3525 3141 3298 2862 \nQ 3072 2584 2669 2484 \nQ 3125 2378 3379 2068 \nQ 3634 1759 3634 1313 \nQ 3634 634 3220 271 \nQ 2806 -91 2034 -91 \nQ 1263 -91 848 271 \nQ 434 634 434 1313 \nQ 434 1759 690 2068 \nQ 947 2378 1403 2484 \nz\nM 1172 3481 \nQ 1172 3119 1398 2916 \nQ 1625 2713 2034 2713 \nQ 2441 2713 2670 2916 \nQ 2900 3119 2900 3481 \nQ 2900 3844 2670 4047 \nQ 2441 4250 2034 4250 \nQ 1625 4250 1398 4047 \nQ 1172 3844 1172 3481 \nz\n\" transform=\"scale(0.015625)\"/>\n       </defs>\n       <use xlink:href=\"#DejaVuSans-30\"/>\n       <use xlink:href=\"#DejaVuSans-2e\" x=\"63.623047\"/>\n       <use xlink:href=\"#DejaVuSans-38\" x=\"95.410156\"/>\n      </g>\n     </g>\n    </g>\n    <g id=\"ytick_7\">\n     <g id=\"line2d_10\">\n      <path d=\"M 59.024844 69.773837 \nL 282.224844 69.773837 \n\" clip-path=\"url(#pf925f04154)\" style=\"fill: none; stroke: #ffffff; stroke-linecap: round\"/>\n     </g>\n     <g id=\"text_11\">\n      <!-- 1.0 -->\n      <g style=\"fill: #262626\" transform=\"translate(32.031406 73.952978) scale(0.11 -0.11)\">\n       <use xlink:href=\"#DejaVuSans-31\"/>\n       <use xlink:href=\"#DejaVuSans-2e\" x=\"63.623047\"/>\n       <use xlink:href=\"#DejaVuSans-30\" x=\"95.410156\"/>\n      </g>\n     </g>\n    </g>\n    <g id=\"ytick_8\">\n     <g id=\"line2d_11\">\n      <path d=\"M 59.024844 42.293402 \nL 282.224844 42.293402 \n\" clip-path=\"url(#pf925f04154)\" style=\"fill: none; stroke: #ffffff; stroke-linecap: round\"/>\n     </g>\n     <g id=\"text_12\">\n      <!-- 1.2 -->\n      <g style=\"fill: #262626\" transform=\"translate(32.031406 46.472542) scale(0.11 -0.11)\">\n       <use xlink:href=\"#DejaVuSans-31\"/>\n       <use xlink:href=\"#DejaVuSans-2e\" x=\"63.623047\"/>\n       <use xlink:href=\"#DejaVuSans-32\" x=\"95.410156\"/>\n      </g>\n     </g>\n    </g>\n    <g id=\"text_13\">\n     <!-- $x_2$ -->\n     <g style=\"fill: #262626\" transform=\"translate(16.318125 139.618125) rotate(-90) scale(0.12 -0.12)\">\n      <use xlink:href=\"#DejaVuSans-Oblique-78\" transform=\"translate(0 0.3125)\"/>\n      <use xlink:href=\"#DejaVuSans-32\" transform=\"translate(59.179688 -16.09375) scale(0.7)\"/>\n     </g>\n    </g>\n   </g>\n   <g id=\"PathCollection_1\">\n    <defs>\n     <path id=\"mae7d1f5bbb\" d=\"M 0 3 \nC 0.795609 3 1.55874 2.683901 2.12132 2.12132 \nC 2.683901 1.55874 3 0.795609 3 0 \nC 3 -0.795609 2.683901 -1.55874 2.12132 -2.12132 \nC 1.55874 -2.683901 0.795609 -3 0 -3 \nC -0.795609 -3 -1.55874 -2.683901 -2.12132 -2.12132 \nC -2.683901 -1.55874 -3 -0.795609 -3 0 \nC -3 0.795609 -2.683901 1.55874 -2.12132 2.12132 \nC -1.55874 2.683901 -0.795609 3 0 3 \nz\n\" style=\"stroke: #333333\"/>\n    </defs>\n    <g clip-path=\"url(#pf925f04154)\">\n     <use xlink:href=\"#mae7d1f5bbb\" x=\"102.473492\" y=\"216.991358\" style=\"fill: #4c72b0; stroke: #333333\"/>\n     <use xlink:href=\"#mae7d1f5bbb\" x=\"81.531253\" y=\"198.154825\" style=\"fill: #4c72b0; stroke: #333333\"/>\n     <use xlink:href=\"#mae7d1f5bbb\" x=\"114.684678\" y=\"218.452369\" style=\"fill: #4c72b0; stroke: #333333\"/>\n     <use xlink:href=\"#mae7d1f5bbb\" x=\"111.930435\" y=\"201.504315\" style=\"fill: #4c72b0; stroke: #333333\"/>\n     <use xlink:href=\"#mae7d1f5bbb\" x=\"235.961113\" y=\"80.130332\" style=\"fill: #4c72b0; stroke: #333333\"/>\n     <use xlink:href=\"#mae7d1f5bbb\" x=\"243.326835\" y=\"58.408153\" style=\"fill: #4c72b0; stroke: #333333\"/>\n     <use xlink:href=\"#mae7d1f5bbb\" x=\"239.606599\" y=\"49.801958\" style=\"fill: #4c72b0; stroke: #333333\"/>\n     <use xlink:href=\"#mae7d1f5bbb\" x=\"235.689266\" y=\"32.398125\" style=\"fill: #4c72b0; stroke: #333333\"/>\n     <use xlink:href=\"#mae7d1f5bbb\" x=\"248.250356\" y=\"81.551371\" style=\"fill: #4c72b0; stroke: #333333\"/>\n     <use xlink:href=\"#mae7d1f5bbb\" x=\"83.230065\" y=\"200.546739\" style=\"fill: #4c72b0; stroke: #333333\"/>\n     <use xlink:href=\"#mae7d1f5bbb\" x=\"236.270449\" y=\"59.963315\" style=\"fill: #4c72b0; stroke: #333333\"/>\n     <use xlink:href=\"#mae7d1f5bbb\" x=\"92.039062\" y=\"195.408909\" style=\"fill: #4c72b0; stroke: #333333\"/>\n     <use xlink:href=\"#mae7d1f5bbb\" x=\"101.359224\" y=\"224.292737\" style=\"fill: #4c72b0; stroke: #333333\"/>\n     <use xlink:href=\"#mae7d1f5bbb\" x=\"241.866478\" y=\"64.479487\" style=\"fill: #4c72b0; stroke: #333333\"/>\n     <use xlink:href=\"#mae7d1f5bbb\" x=\"226.953301\" y=\"67.66162\" style=\"fill: #4c72b0; stroke: #333333\"/>\n     <use xlink:href=\"#mae7d1f5bbb\" x=\"244.470986\" y=\"62.068538\" style=\"fill: #4c72b0; stroke: #333333\"/>\n     <use xlink:href=\"#mae7d1f5bbb\" x=\"106.393072\" y=\"191.573095\" style=\"fill: #4c72b0; stroke: #333333\"/>\n     <use xlink:href=\"#mae7d1f5bbb\" x=\"111.798177\" y=\"198.225757\" style=\"fill: #4c72b0; stroke: #333333\"/>\n     <use xlink:href=\"#mae7d1f5bbb\" x=\"93.890735\" y=\"196.747613\" style=\"fill: #4c72b0; stroke: #333333\"/>\n     <use xlink:href=\"#mae7d1f5bbb\" x=\"272.079389\" y=\"95.430466\" style=\"fill: #4c72b0; stroke: #333333\"/>\n     <use xlink:href=\"#mae7d1f5bbb\" x=\"249.105227\" y=\"91.932902\" style=\"fill: #4c72b0; stroke: #333333\"/>\n     <use xlink:href=\"#mae7d1f5bbb\" x=\"229.331339\" y=\"60.436015\" style=\"fill: #4c72b0; stroke: #333333\"/>\n     <use xlink:href=\"#mae7d1f5bbb\" x=\"69.767078\" y=\"204.614092\" style=\"fill: #4c72b0; stroke: #333333\"/>\n     <use xlink:href=\"#mae7d1f5bbb\" x=\"228.241923\" y=\"71.350342\" style=\"fill: #4c72b0; stroke: #333333\"/>\n     <use xlink:href=\"#mae7d1f5bbb\" x=\"246.547744\" y=\"57.878174\" style=\"fill: #4c72b0; stroke: #333333\"/>\n     <use xlink:href=\"#mae7d1f5bbb\" x=\"222.488843\" y=\"74.369957\" style=\"fill: #4c72b0; stroke: #333333\"/>\n     <use xlink:href=\"#mae7d1f5bbb\" x=\"232.722418\" y=\"78.750727\" style=\"fill: #4c72b0; stroke: #333333\"/>\n     <use xlink:href=\"#mae7d1f5bbb\" x=\"264.330969\" y=\"64.209305\" style=\"fill: #4c72b0; stroke: #333333\"/>\n     <use xlink:href=\"#mae7d1f5bbb\" x=\"217.987207\" y=\"76.427319\" style=\"fill: #4c72b0; stroke: #333333\"/>\n     <use xlink:href=\"#mae7d1f5bbb\" x=\"257.297305\" y=\"79.497367\" style=\"fill: #4c72b0; stroke: #333333\"/>\n     <use xlink:href=\"#mae7d1f5bbb\" x=\"245.684766\" y=\"59.130199\" style=\"fill: #4c72b0; stroke: #333333\"/>\n     <use xlink:href=\"#mae7d1f5bbb\" x=\"235.859815\" y=\"86.918651\" style=\"fill: #4c72b0; stroke: #333333\"/>\n     <use xlink:href=\"#mae7d1f5bbb\" x=\"241.024708\" y=\"60.676025\" style=\"fill: #4c72b0; stroke: #333333\"/>\n     <use xlink:href=\"#mae7d1f5bbb\" x=\"128.432482\" y=\"233.998125\" style=\"fill: #4c72b0; stroke: #333333\"/>\n     <use xlink:href=\"#mae7d1f5bbb\" x=\"96.197242\" y=\"199.092408\" style=\"fill: #4c72b0; stroke: #333333\"/>\n     <use xlink:href=\"#mae7d1f5bbb\" x=\"102.303053\" y=\"215.732042\" style=\"fill: #4c72b0; stroke: #333333\"/>\n     <use xlink:href=\"#mae7d1f5bbb\" x=\"95.402413\" y=\"213.949955\" style=\"fill: #4c72b0; stroke: #333333\"/>\n     <use xlink:href=\"#mae7d1f5bbb\" x=\"244.460087\" y=\"79.294563\" style=\"fill: #4c72b0; stroke: #333333\"/>\n     <use xlink:href=\"#mae7d1f5bbb\" x=\"109.806916\" y=\"198.524777\" style=\"fill: #4c72b0; stroke: #333333\"/>\n     <use xlink:href=\"#mae7d1f5bbb\" x=\"108.881846\" y=\"198.789394\" style=\"fill: #4c72b0; stroke: #333333\"/>\n     <use xlink:href=\"#mae7d1f5bbb\" x=\"98.043805\" y=\"205.563911\" style=\"fill: #4c72b0; stroke: #333333\"/>\n     <use xlink:href=\"#mae7d1f5bbb\" x=\"109.984037\" y=\"195.998214\" style=\"fill: #4c72b0; stroke: #333333\"/>\n     <use xlink:href=\"#mae7d1f5bbb\" x=\"257.841436\" y=\"69.485245\" style=\"fill: #4c72b0; stroke: #333333\"/>\n     <use xlink:href=\"#mae7d1f5bbb\" x=\"255.762307\" y=\"58.896216\" style=\"fill: #4c72b0; stroke: #333333\"/>\n     <use xlink:href=\"#mae7d1f5bbb\" x=\"107.144055\" y=\"198.54241\" style=\"fill: #4c72b0; stroke: #333333\"/>\n     <use xlink:href=\"#mae7d1f5bbb\" x=\"98.165911\" y=\"219.504485\" style=\"fill: #4c72b0; stroke: #333333\"/>\n     <use xlink:href=\"#mae7d1f5bbb\" x=\"99.408179\" y=\"216.480364\" style=\"fill: #4c72b0; stroke: #333333\"/>\n     <use xlink:href=\"#mae7d1f5bbb\" x=\"86.692211\" y=\"211.591926\" style=\"fill: #4c72b0; stroke: #333333\"/>\n     <use xlink:href=\"#mae7d1f5bbb\" x=\"101.794792\" y=\"214.141524\" style=\"fill: #4c72b0; stroke: #333333\"/>\n     <use xlink:href=\"#mae7d1f5bbb\" x=\"91.693076\" y=\"203.987598\" style=\"fill: #4c72b0; stroke: #333333\"/>\n     <use xlink:href=\"#mae7d1f5bbb\" x=\"229.28703\" y=\"72.706648\" style=\"fill: #4c72b0; stroke: #333333\"/>\n     <use xlink:href=\"#mae7d1f5bbb\" x=\"102.725117\" y=\"186.904299\" style=\"fill: #4c72b0; stroke: #333333\"/>\n     <use xlink:href=\"#mae7d1f5bbb\" x=\"98.070405\" y=\"220.950986\" style=\"fill: #4c72b0; stroke: #333333\"/>\n     <use xlink:href=\"#mae7d1f5bbb\" x=\"243.976217\" y=\"81.140168\" style=\"fill: #4c72b0; stroke: #333333\"/>\n     <use xlink:href=\"#mae7d1f5bbb\" x=\"96.804258\" y=\"201.656408\" style=\"fill: #4c72b0; stroke: #333333\"/>\n     <use xlink:href=\"#mae7d1f5bbb\" x=\"108.075554\" y=\"212.688871\" style=\"fill: #4c72b0; stroke: #333333\"/>\n     <use xlink:href=\"#mae7d1f5bbb\" x=\"101.500291\" y=\"207.002992\" style=\"fill: #4c72b0; stroke: #333333\"/>\n     <use xlink:href=\"#mae7d1f5bbb\" x=\"118.812076\" y=\"193.995425\" style=\"fill: #4c72b0; stroke: #333333\"/>\n     <use xlink:href=\"#mae7d1f5bbb\" x=\"269.801212\" y=\"80.317363\" style=\"fill: #4c72b0; stroke: #333333\"/>\n     <use xlink:href=\"#mae7d1f5bbb\" x=\"251.730254\" y=\"67.254685\" style=\"fill: #4c72b0; stroke: #333333\"/>\n     <use xlink:href=\"#mae7d1f5bbb\" x=\"86.491523\" y=\"215.4118\" style=\"fill: #4c72b0; stroke: #333333\"/>\n     <use xlink:href=\"#mae7d1f5bbb\" x=\"209.458287\" y=\"76.997829\" style=\"fill: #4c72b0; stroke: #333333\"/>\n     <use xlink:href=\"#mae7d1f5bbb\" x=\"228.712978\" y=\"67.707401\" style=\"fill: #4c72b0; stroke: #333333\"/>\n     <use xlink:href=\"#mae7d1f5bbb\" x=\"244.24481\" y=\"43.994844\" style=\"fill: #4c72b0; stroke: #333333\"/>\n     <use xlink:href=\"#mae7d1f5bbb\" x=\"252.832157\" y=\"77.700621\" style=\"fill: #4c72b0; stroke: #333333\"/>\n     <use xlink:href=\"#mae7d1f5bbb\" x=\"96.722715\" y=\"190.168149\" style=\"fill: #4c72b0; stroke: #333333\"/>\n     <use xlink:href=\"#mae7d1f5bbb\" x=\"75.843797\" y=\"215.411558\" style=\"fill: #4c72b0; stroke: #333333\"/>\n     <use xlink:href=\"#mae7d1f5bbb\" x=\"83.276228\" y=\"209.13234\" style=\"fill: #4c72b0; stroke: #333333\"/>\n     <use xlink:href=\"#mae7d1f5bbb\" x=\"103.027129\" y=\"217.460382\" style=\"fill: #4c72b0; stroke: #333333\"/>\n     <use xlink:href=\"#mae7d1f5bbb\" x=\"256.061207\" y=\"68.846112\" style=\"fill: #4c72b0; stroke: #333333\"/>\n     <use xlink:href=\"#mae7d1f5bbb\" x=\"127.412645\" y=\"183.057249\" style=\"fill: #4c72b0; stroke: #333333\"/>\n     <use xlink:href=\"#mae7d1f5bbb\" x=\"235.910657\" y=\"56.424237\" style=\"fill: #4c72b0; stroke: #333333\"/>\n     <use xlink:href=\"#mae7d1f5bbb\" x=\"248.528417\" y=\"50.968547\" style=\"fill: #4c72b0; stroke: #333333\"/>\n     <use xlink:href=\"#mae7d1f5bbb\" x=\"235.622244\" y=\"59.914651\" style=\"fill: #4c72b0; stroke: #333333\"/>\n     <use xlink:href=\"#mae7d1f5bbb\" x=\"74.306614\" y=\"207.939252\" style=\"fill: #4c72b0; stroke: #333333\"/>\n     <use xlink:href=\"#mae7d1f5bbb\" x=\"69.170298\" y=\"208.400543\" style=\"fill: #4c72b0; stroke: #333333\"/>\n     <use xlink:href=\"#mae7d1f5bbb\" x=\"244.595292\" y=\"82.687993\" style=\"fill: #4c72b0; stroke: #333333\"/>\n     <use xlink:href=\"#mae7d1f5bbb\" x=\"84.431631\" y=\"200.250305\" style=\"fill: #4c72b0; stroke: #333333\"/>\n     <use xlink:href=\"#mae7d1f5bbb\" x=\"231.61203\" y=\"86.232943\" style=\"fill: #4c72b0; stroke: #333333\"/>\n     <use xlink:href=\"#mae7d1f5bbb\" x=\"267.14238\" y=\"69.289312\" style=\"fill: #4c72b0; stroke: #333333\"/>\n     <use xlink:href=\"#mae7d1f5bbb\" x=\"90.854147\" y=\"215.087882\" style=\"fill: #4c72b0; stroke: #333333\"/>\n     <use xlink:href=\"#mae7d1f5bbb\" x=\"262.631098\" y=\"73.195645\" style=\"fill: #4c72b0; stroke: #333333\"/>\n     <use xlink:href=\"#mae7d1f5bbb\" x=\"247.557481\" y=\"65.497185\" style=\"fill: #4c72b0; stroke: #333333\"/>\n     <use xlink:href=\"#mae7d1f5bbb\" x=\"141.776921\" y=\"191.792812\" style=\"fill: #4c72b0; stroke: #333333\"/>\n     <use xlink:href=\"#mae7d1f5bbb\" x=\"237.618441\" y=\"82.903172\" style=\"fill: #4c72b0; stroke: #333333\"/>\n     <use xlink:href=\"#mae7d1f5bbb\" x=\"75.674232\" y=\"204.38038\" style=\"fill: #4c72b0; stroke: #333333\"/>\n     <use xlink:href=\"#mae7d1f5bbb\" x=\"230.301022\" y=\"84.634538\" style=\"fill: #4c72b0; stroke: #333333\"/>\n     <use xlink:href=\"#mae7d1f5bbb\" x=\"122.141642\" y=\"195.062092\" style=\"fill: #4c72b0; stroke: #333333\"/>\n     <use xlink:href=\"#mae7d1f5bbb\" x=\"239.310676\" y=\"49.439084\" style=\"fill: #4c72b0; stroke: #333333\"/>\n     <use xlink:href=\"#mae7d1f5bbb\" x=\"83.704763\" y=\"209.791309\" style=\"fill: #4c72b0; stroke: #333333\"/>\n     <use xlink:href=\"#mae7d1f5bbb\" x=\"240.107725\" y=\"81.191273\" style=\"fill: #4c72b0; stroke: #333333\"/>\n     <use xlink:href=\"#mae7d1f5bbb\" x=\"102.15442\" y=\"207.866297\" style=\"fill: #4c72b0; stroke: #333333\"/>\n     <use xlink:href=\"#mae7d1f5bbb\" x=\"105.405857\" y=\"220.607836\" style=\"fill: #4c72b0; stroke: #333333\"/>\n     <use xlink:href=\"#mae7d1f5bbb\" x=\"240.824583\" y=\"59.449618\" style=\"fill: #4c72b0; stroke: #333333\"/>\n     <use xlink:href=\"#mae7d1f5bbb\" x=\"74.78598\" y=\"199.710127\" style=\"fill: #4c72b0; stroke: #333333\"/>\n     <use xlink:href=\"#mae7d1f5bbb\" x=\"230.074568\" y=\"61.933685\" style=\"fill: #4c72b0; stroke: #333333\"/>\n     <use xlink:href=\"#mae7d1f5bbb\" x=\"228.654761\" y=\"94.573313\" style=\"fill: #4c72b0; stroke: #333333\"/>\n     <use xlink:href=\"#mae7d1f5bbb\" x=\"238.490871\" y=\"86.413463\" style=\"fill: #4c72b0; stroke: #333333\"/>\n     <use xlink:href=\"#mae7d1f5bbb\" x=\"112.535922\" y=\"215.102634\" style=\"fill: #4c72b0; stroke: #333333\"/>\n     <use xlink:href=\"#mae7d1f5bbb\" x=\"110.129012\" y=\"222.698433\" style=\"fill: #4c72b0; stroke: #333333\"/>\n     <use xlink:href=\"#mae7d1f5bbb\" x=\"105.813408\" y=\"187.368548\" style=\"fill: #4c72b0; stroke: #333333\"/>\n     <use xlink:href=\"#mae7d1f5bbb\" x=\"204.552098\" y=\"80.723348\" style=\"fill: #4c72b0; stroke: #333333\"/>\n     <use xlink:href=\"#mae7d1f5bbb\" x=\"244.659455\" y=\"78.072725\" style=\"fill: #4c72b0; stroke: #333333\"/>\n    </g>\n   </g>\n   <g id=\"PathCollection_2\">\n    <defs>\n     <path id=\"ma9141f5b8a\" d=\"M 0 3 \nC 0.795609 3 1.55874 2.683901 2.12132 2.12132 \nC 2.683901 1.55874 3 0.795609 3 0 \nC 3 -0.795609 2.683901 -1.55874 2.12132 -2.12132 \nC 1.55874 -2.683901 0.795609 -3 0 -3 \nC -0.795609 -3 -1.55874 -2.683901 -2.12132 -2.12132 \nC -2.683901 -1.55874 -3 -0.795609 -3 0 \nC -3 0.795609 -2.683901 1.55874 -2.12132 2.12132 \nC -1.55874 2.683901 -0.795609 3 0 3 \nz\n\" style=\"stroke: #333333\"/>\n    </defs>\n    <g clip-path=\"url(#pf925f04154)\">\n     <use xlink:href=\"#ma9141f5b8a\" x=\"88.744602\" y=\"66.582613\" style=\"fill: #dd8452; stroke: #333333\"/>\n     <use xlink:href=\"#ma9141f5b8a\" x=\"124.661874\" y=\"63.263267\" style=\"fill: #dd8452; stroke: #333333\"/>\n     <use xlink:href=\"#ma9141f5b8a\" x=\"84.58745\" y=\"58.95913\" style=\"fill: #dd8452; stroke: #333333\"/>\n     <use xlink:href=\"#ma9141f5b8a\" x=\"251.021149\" y=\"181.113666\" style=\"fill: #dd8452; stroke: #333333\"/>\n     <use xlink:href=\"#ma9141f5b8a\" x=\"226.873488\" y=\"218.385425\" style=\"fill: #dd8452; stroke: #333333\"/>\n     <use xlink:href=\"#ma9141f5b8a\" x=\"238.335375\" y=\"202.488512\" style=\"fill: #dd8452; stroke: #333333\"/>\n     <use xlink:href=\"#ma9141f5b8a\" x=\"246.099798\" y=\"208.1767\" style=\"fill: #dd8452; stroke: #333333\"/>\n     <use xlink:href=\"#ma9141f5b8a\" x=\"227.476216\" y=\"227.990346\" style=\"fill: #dd8452; stroke: #333333\"/>\n     <use xlink:href=\"#ma9141f5b8a\" x=\"240.244393\" y=\"222.880676\" style=\"fill: #dd8452; stroke: #333333\"/>\n     <use xlink:href=\"#ma9141f5b8a\" x=\"113.618865\" y=\"55.294371\" style=\"fill: #dd8452; stroke: #333333\"/>\n     <use xlink:href=\"#ma9141f5b8a\" x=\"78.901919\" y=\"82.659755\" style=\"fill: #dd8452; stroke: #333333\"/>\n     <use xlink:href=\"#ma9141f5b8a\" x=\"105.605042\" y=\"62.714304\" style=\"fill: #dd8452; stroke: #333333\"/>\n     <use xlink:href=\"#ma9141f5b8a\" x=\"246.689676\" y=\"154.238644\" style=\"fill: #dd8452; stroke: #333333\"/>\n     <use xlink:href=\"#ma9141f5b8a\" x=\"87.435332\" y=\"73.027779\" style=\"fill: #dd8452; stroke: #333333\"/>\n     <use xlink:href=\"#ma9141f5b8a\" x=\"232.575432\" y=\"206.051046\" style=\"fill: #dd8452; stroke: #333333\"/>\n     <use xlink:href=\"#ma9141f5b8a\" x=\"91.680469\" y=\"54.811418\" style=\"fill: #dd8452; stroke: #333333\"/>\n     <use xlink:href=\"#ma9141f5b8a\" x=\"99.245585\" y=\"84.582287\" style=\"fill: #dd8452; stroke: #333333\"/>\n     <use xlink:href=\"#ma9141f5b8a\" x=\"88.034356\" y=\"66.799643\" style=\"fill: #dd8452; stroke: #333333\"/>\n     <use xlink:href=\"#ma9141f5b8a\" x=\"98.981642\" y=\"78.726968\" style=\"fill: #dd8452; stroke: #333333\"/>\n     <use xlink:href=\"#ma9141f5b8a\" x=\"128.586414\" y=\"61.063649\" style=\"fill: #dd8452; stroke: #333333\"/>\n     <use xlink:href=\"#ma9141f5b8a\" x=\"230.086383\" y=\"195.463394\" style=\"fill: #dd8452; stroke: #333333\"/>\n     <use xlink:href=\"#ma9141f5b8a\" x=\"221.634047\" y=\"194.564391\" style=\"fill: #dd8452; stroke: #333333\"/>\n     <use xlink:href=\"#ma9141f5b8a\" x=\"128.279021\" y=\"55.587534\" style=\"fill: #dd8452; stroke: #333333\"/>\n     <use xlink:href=\"#ma9141f5b8a\" x=\"226.345612\" y=\"207.993906\" style=\"fill: #dd8452; stroke: #333333\"/>\n     <use xlink:href=\"#ma9141f5b8a\" x=\"193.693914\" y=\"221.251324\" style=\"fill: #dd8452; stroke: #333333\"/>\n     <use xlink:href=\"#ma9141f5b8a\" x=\"121.369482\" y=\"89.42429\" style=\"fill: #dd8452; stroke: #333333\"/>\n     <use xlink:href=\"#ma9141f5b8a\" x=\"92.13035\" y=\"67.977435\" style=\"fill: #dd8452; stroke: #333333\"/>\n     <use xlink:href=\"#ma9141f5b8a\" x=\"259.757291\" y=\"226.905074\" style=\"fill: #dd8452; stroke: #333333\"/>\n     <use xlink:href=\"#ma9141f5b8a\" x=\"255.833584\" y=\"207.03541\" style=\"fill: #dd8452; stroke: #333333\"/>\n     <use xlink:href=\"#ma9141f5b8a\" x=\"225.575598\" y=\"200.826612\" style=\"fill: #dd8452; stroke: #333333\"/>\n     <use xlink:href=\"#ma9141f5b8a\" x=\"101.147117\" y=\"78.020949\" style=\"fill: #dd8452; stroke: #333333\"/>\n     <use xlink:href=\"#ma9141f5b8a\" x=\"240.407954\" y=\"212.470307\" style=\"fill: #dd8452; stroke: #333333\"/>\n     <use xlink:href=\"#ma9141f5b8a\" x=\"261.799386\" y=\"224.183869\" style=\"fill: #dd8452; stroke: #333333\"/>\n     <use xlink:href=\"#ma9141f5b8a\" x=\"231.108137\" y=\"195.502297\" style=\"fill: #dd8452; stroke: #333333\"/>\n     <use xlink:href=\"#ma9141f5b8a\" x=\"252.115114\" y=\"202.953652\" style=\"fill: #dd8452; stroke: #333333\"/>\n     <use xlink:href=\"#ma9141f5b8a\" x=\"86.642862\" y=\"77.470848\" style=\"fill: #dd8452; stroke: #333333\"/>\n     <use xlink:href=\"#ma9141f5b8a\" x=\"116.364561\" y=\"77.902156\" style=\"fill: #dd8452; stroke: #333333\"/>\n     <use xlink:href=\"#ma9141f5b8a\" x=\"106.057388\" y=\"72.552008\" style=\"fill: #dd8452; stroke: #333333\"/>\n     <use xlink:href=\"#ma9141f5b8a\" x=\"95.267551\" y=\"54.676401\" style=\"fill: #dd8452; stroke: #333333\"/>\n     <use xlink:href=\"#ma9141f5b8a\" x=\"249.044462\" y=\"211.439147\" style=\"fill: #dd8452; stroke: #333333\"/>\n     <use xlink:href=\"#ma9141f5b8a\" x=\"243.996635\" y=\"208.964208\" style=\"fill: #dd8452; stroke: #333333\"/>\n     <use xlink:href=\"#ma9141f5b8a\" x=\"99.707157\" y=\"61.596248\" style=\"fill: #dd8452; stroke: #333333\"/>\n     <use xlink:href=\"#ma9141f5b8a\" x=\"227.879332\" y=\"178.426158\" style=\"fill: #dd8452; stroke: #333333\"/>\n     <use xlink:href=\"#ma9141f5b8a\" x=\"84.145352\" y=\"86.457049\" style=\"fill: #dd8452; stroke: #333333\"/>\n     <use xlink:href=\"#ma9141f5b8a\" x=\"253.180588\" y=\"209.196615\" style=\"fill: #dd8452; stroke: #333333\"/>\n     <use xlink:href=\"#ma9141f5b8a\" x=\"245.24898\" y=\"214.921713\" style=\"fill: #dd8452; stroke: #333333\"/>\n     <use xlink:href=\"#ma9141f5b8a\" x=\"86.738442\" y=\"66.425516\" style=\"fill: #dd8452; stroke: #333333\"/>\n     <use xlink:href=\"#ma9141f5b8a\" x=\"77.908473\" y=\"89.112693\" style=\"fill: #dd8452; stroke: #333333\"/>\n     <use xlink:href=\"#ma9141f5b8a\" x=\"110.43894\" y=\"71.971425\" style=\"fill: #dd8452; stroke: #333333\"/>\n     <use xlink:href=\"#ma9141f5b8a\" x=\"239.161966\" y=\"211.142247\" style=\"fill: #dd8452; stroke: #333333\"/>\n     <use xlink:href=\"#ma9141f5b8a\" x=\"246.750324\" y=\"186.115848\" style=\"fill: #dd8452; stroke: #333333\"/>\n     <use xlink:href=\"#ma9141f5b8a\" x=\"240.801222\" y=\"217.797338\" style=\"fill: #dd8452; stroke: #333333\"/>\n     <use xlink:href=\"#ma9141f5b8a\" x=\"239.768965\" y=\"200.333409\" style=\"fill: #dd8452; stroke: #333333\"/>\n     <use xlink:href=\"#ma9141f5b8a\" x=\"129.233412\" y=\"80.880027\" style=\"fill: #dd8452; stroke: #333333\"/>\n     <use xlink:href=\"#ma9141f5b8a\" x=\"85.663459\" y=\"63.014756\" style=\"fill: #dd8452; stroke: #333333\"/>\n     <use xlink:href=\"#ma9141f5b8a\" x=\"220.796717\" y=\"182.011372\" style=\"fill: #dd8452; stroke: #333333\"/>\n     <use xlink:href=\"#ma9141f5b8a\" x=\"256.063225\" y=\"213.62259\" style=\"fill: #dd8452; stroke: #333333\"/>\n     <use xlink:href=\"#ma9141f5b8a\" x=\"74.169028\" y=\"51.171343\" style=\"fill: #dd8452; stroke: #333333\"/>\n     <use xlink:href=\"#ma9141f5b8a\" x=\"239.497143\" y=\"206.530491\" style=\"fill: #dd8452; stroke: #333333\"/>\n     <use xlink:href=\"#ma9141f5b8a\" x=\"233.07343\" y=\"198.617921\" style=\"fill: #dd8452; stroke: #333333\"/>\n     <use xlink:href=\"#ma9141f5b8a\" x=\"100.035879\" y=\"62.705328\" style=\"fill: #dd8452; stroke: #333333\"/>\n     <use xlink:href=\"#ma9141f5b8a\" x=\"249.462942\" y=\"222.628842\" style=\"fill: #dd8452; stroke: #333333\"/>\n     <use xlink:href=\"#ma9141f5b8a\" x=\"76.694727\" y=\"52.218279\" style=\"fill: #dd8452; stroke: #333333\"/>\n     <use xlink:href=\"#ma9141f5b8a\" x=\"120.223039\" y=\"68.184441\" style=\"fill: #dd8452; stroke: #333333\"/>\n     <use xlink:href=\"#ma9141f5b8a\" x=\"84.725124\" y=\"60.347335\" style=\"fill: #dd8452; stroke: #333333\"/>\n     <use xlink:href=\"#ma9141f5b8a\" x=\"113.271419\" y=\"93.939299\" style=\"fill: #dd8452; stroke: #333333\"/>\n     <use xlink:href=\"#ma9141f5b8a\" x=\"81.644755\" y=\"97.793332\" style=\"fill: #dd8452; stroke: #333333\"/>\n     <use xlink:href=\"#ma9141f5b8a\" x=\"260.619075\" y=\"206.157936\" style=\"fill: #dd8452; stroke: #333333\"/>\n     <use xlink:href=\"#ma9141f5b8a\" x=\"262.400398\" y=\"226.138909\" style=\"fill: #dd8452; stroke: #333333\"/>\n     <use xlink:href=\"#ma9141f5b8a\" x=\"103.757261\" y=\"70.223073\" style=\"fill: #dd8452; stroke: #333333\"/>\n     <use xlink:href=\"#ma9141f5b8a\" x=\"79.934655\" y=\"60.572391\" style=\"fill: #dd8452; stroke: #333333\"/>\n     <use xlink:href=\"#ma9141f5b8a\" x=\"232.173291\" y=\"221.729839\" style=\"fill: #dd8452; stroke: #333333\"/>\n     <use xlink:href=\"#ma9141f5b8a\" x=\"97.45439\" y=\"56.649981\" style=\"fill: #dd8452; stroke: #333333\"/>\n     <use xlink:href=\"#ma9141f5b8a\" x=\"90.857583\" y=\"80.668083\" style=\"fill: #dd8452; stroke: #333333\"/>\n     <use xlink:href=\"#ma9141f5b8a\" x=\"237.913128\" y=\"221.400469\" style=\"fill: #dd8452; stroke: #333333\"/>\n     <use xlink:href=\"#ma9141f5b8a\" x=\"229.551115\" y=\"204.235884\" style=\"fill: #dd8452; stroke: #333333\"/>\n     <use xlink:href=\"#ma9141f5b8a\" x=\"237.838386\" y=\"210.212185\" style=\"fill: #dd8452; stroke: #333333\"/>\n     <use xlink:href=\"#ma9141f5b8a\" x=\"107.003632\" y=\"59.365508\" style=\"fill: #dd8452; stroke: #333333\"/>\n     <use xlink:href=\"#ma9141f5b8a\" x=\"94.458142\" y=\"101.402736\" style=\"fill: #dd8452; stroke: #333333\"/>\n     <use xlink:href=\"#ma9141f5b8a\" x=\"218.046165\" y=\"188.394864\" style=\"fill: #dd8452; stroke: #333333\"/>\n     <use xlink:href=\"#ma9141f5b8a\" x=\"228.752224\" y=\"226.71809\" style=\"fill: #dd8452; stroke: #333333\"/>\n     <use xlink:href=\"#ma9141f5b8a\" x=\"99.430241\" y=\"81.608069\" style=\"fill: #dd8452; stroke: #333333\"/>\n     <use xlink:href=\"#ma9141f5b8a\" x=\"119.827609\" y=\"62.369088\" style=\"fill: #dd8452; stroke: #333333\"/>\n     <use xlink:href=\"#ma9141f5b8a\" x=\"85.985081\" y=\"88.773807\" style=\"fill: #dd8452; stroke: #333333\"/>\n     <use xlink:href=\"#ma9141f5b8a\" x=\"252.490084\" y=\"180.940214\" style=\"fill: #dd8452; stroke: #333333\"/>\n     <use xlink:href=\"#ma9141f5b8a\" x=\"219.691543\" y=\"199.440695\" style=\"fill: #dd8452; stroke: #333333\"/>\n     <use xlink:href=\"#ma9141f5b8a\" x=\"89.159138\" y=\"76.467048\" style=\"fill: #dd8452; stroke: #333333\"/>\n     <use xlink:href=\"#ma9141f5b8a\" x=\"231.065401\" y=\"219.047436\" style=\"fill: #dd8452; stroke: #333333\"/>\n     <use xlink:href=\"#ma9141f5b8a\" x=\"236.051975\" y=\"219.646137\" style=\"fill: #dd8452; stroke: #333333\"/>\n     <use xlink:href=\"#ma9141f5b8a\" x=\"90.201347\" y=\"59.394599\" style=\"fill: #dd8452; stroke: #333333\"/>\n     <use xlink:href=\"#ma9141f5b8a\" x=\"75.3766\" y=\"69.113132\" style=\"fill: #dd8452; stroke: #333333\"/>\n     <use xlink:href=\"#ma9141f5b8a\" x=\"243.087439\" y=\"219.601522\" style=\"fill: #dd8452; stroke: #333333\"/>\n     <use xlink:href=\"#ma9141f5b8a\" x=\"248.432703\" y=\"230.005661\" style=\"fill: #dd8452; stroke: #333333\"/>\n     <use xlink:href=\"#ma9141f5b8a\" x=\"230.22676\" y=\"206.524746\" style=\"fill: #dd8452; stroke: #333333\"/>\n     <use xlink:href=\"#ma9141f5b8a\" x=\"86.199598\" y=\"75.057713\" style=\"fill: #dd8452; stroke: #333333\"/>\n     <use xlink:href=\"#ma9141f5b8a\" x=\"106.480285\" y=\"72.563728\" style=\"fill: #dd8452; stroke: #333333\"/>\n     <use xlink:href=\"#ma9141f5b8a\" x=\"240.64481\" y=\"209.315054\" style=\"fill: #dd8452; stroke: #333333\"/>\n    </g>\n   </g>\n   <g id=\"patch_3\">\n    <path d=\"M 59.024844 244.078125 \nL 59.024844 22.318125 \n\" style=\"fill: none; stroke: #ffffff; stroke-width: 1.25; stroke-linejoin: miter; stroke-linecap: square\"/>\n   </g>\n   <g id=\"patch_4\">\n    <path d=\"M 282.224844 244.078125 \nL 282.224844 22.318125 \n\" style=\"fill: none; stroke: #ffffff; stroke-width: 1.25; stroke-linejoin: miter; stroke-linecap: square\"/>\n   </g>\n   <g id=\"patch_5\">\n    <path d=\"M 59.024844 244.078125 \nL 282.224844 244.078125 \n\" style=\"fill: none; stroke: #ffffff; stroke-width: 1.25; stroke-linejoin: miter; stroke-linecap: square\"/>\n   </g>\n   <g id=\"patch_6\">\n    <path d=\"M 59.024844 22.318125 \nL 282.224844 22.318125 \n\" style=\"fill: none; stroke: #ffffff; stroke-width: 1.25; stroke-linejoin: miter; stroke-linecap: square\"/>\n   </g>\n   <g id=\"text_14\">\n    <!-- Dataset samples -->\n    <g style=\"fill: #262626\" transform=\"translate(120.282031 16.318125) scale(0.12 -0.12)\">\n     <defs>\n      <path id=\"DejaVuSans-44\" d=\"M 1259 4147 \nL 1259 519 \nL 2022 519 \nQ 2988 519 3436 956 \nQ 3884 1394 3884 2338 \nQ 3884 3275 3436 3711 \nQ 2988 4147 2022 4147 \nL 1259 4147 \nz\nM 628 4666 \nL 1925 4666 \nQ 3281 4666 3915 4102 \nQ 4550 3538 4550 2338 \nQ 4550 1131 3912 565 \nQ 3275 0 1925 0 \nL 628 0 \nL 628 4666 \nz\n\" transform=\"scale(0.015625)\"/>\n      <path id=\"DejaVuSans-61\" d=\"M 2194 1759 \nQ 1497 1759 1228 1600 \nQ 959 1441 959 1056 \nQ 959 750 1161 570 \nQ 1363 391 1709 391 \nQ 2188 391 2477 730 \nQ 2766 1069 2766 1631 \nL 2766 1759 \nL 2194 1759 \nz\nM 3341 1997 \nL 3341 0 \nL 2766 0 \nL 2766 531 \nQ 2569 213 2275 61 \nQ 1981 -91 1556 -91 \nQ 1019 -91 701 211 \nQ 384 513 384 1019 \nQ 384 1609 779 1909 \nQ 1175 2209 1959 2209 \nL 2766 2209 \nL 2766 2266 \nQ 2766 2663 2505 2880 \nQ 2244 3097 1772 3097 \nQ 1472 3097 1187 3025 \nQ 903 2953 641 2809 \nL 641 3341 \nQ 956 3463 1253 3523 \nQ 1550 3584 1831 3584 \nQ 2591 3584 2966 3190 \nQ 3341 2797 3341 1997 \nz\n\" transform=\"scale(0.015625)\"/>\n      <path id=\"DejaVuSans-74\" d=\"M 1172 4494 \nL 1172 3500 \nL 2356 3500 \nL 2356 3053 \nL 1172 3053 \nL 1172 1153 \nQ 1172 725 1289 603 \nQ 1406 481 1766 481 \nL 2356 481 \nL 2356 0 \nL 1766 0 \nQ 1100 0 847 248 \nQ 594 497 594 1153 \nL 594 3053 \nL 172 3053 \nL 172 3500 \nL 594 3500 \nL 594 4494 \nL 1172 4494 \nz\n\" transform=\"scale(0.015625)\"/>\n      <path id=\"DejaVuSans-73\" d=\"M 2834 3397 \nL 2834 2853 \nQ 2591 2978 2328 3040 \nQ 2066 3103 1784 3103 \nQ 1356 3103 1142 2972 \nQ 928 2841 928 2578 \nQ 928 2378 1081 2264 \nQ 1234 2150 1697 2047 \nL 1894 2003 \nQ 2506 1872 2764 1633 \nQ 3022 1394 3022 966 \nQ 3022 478 2636 193 \nQ 2250 -91 1575 -91 \nQ 1294 -91 989 -36 \nQ 684 19 347 128 \nL 347 722 \nQ 666 556 975 473 \nQ 1284 391 1588 391 \nQ 1994 391 2212 530 \nQ 2431 669 2431 922 \nQ 2431 1156 2273 1281 \nQ 2116 1406 1581 1522 \nL 1381 1569 \nQ 847 1681 609 1914 \nQ 372 2147 372 2553 \nQ 372 3047 722 3315 \nQ 1072 3584 1716 3584 \nQ 2034 3584 2315 3537 \nQ 2597 3491 2834 3397 \nz\n\" transform=\"scale(0.015625)\"/>\n      <path id=\"DejaVuSans-65\" d=\"M 3597 1894 \nL 3597 1613 \nL 953 1613 \nQ 991 1019 1311 708 \nQ 1631 397 2203 397 \nQ 2534 397 2845 478 \nQ 3156 559 3463 722 \nL 3463 178 \nQ 3153 47 2828 -22 \nQ 2503 -91 2169 -91 \nQ 1331 -91 842 396 \nQ 353 884 353 1716 \nQ 353 2575 817 3079 \nQ 1281 3584 2069 3584 \nQ 2775 3584 3186 3129 \nQ 3597 2675 3597 1894 \nz\nM 3022 2063 \nQ 3016 2534 2758 2815 \nQ 2500 3097 2075 3097 \nQ 1594 3097 1305 2825 \nQ 1016 2553 972 2059 \nL 3022 2063 \nz\n\" transform=\"scale(0.015625)\"/>\n      <path id=\"DejaVuSans-20\" transform=\"scale(0.015625)\"/>\n      <path id=\"DejaVuSans-6d\" d=\"M 3328 2828 \nQ 3544 3216 3844 3400 \nQ 4144 3584 4550 3584 \nQ 5097 3584 5394 3201 \nQ 5691 2819 5691 2113 \nL 5691 0 \nL 5113 0 \nL 5113 2094 \nQ 5113 2597 4934 2840 \nQ 4756 3084 4391 3084 \nQ 3944 3084 3684 2787 \nQ 3425 2491 3425 1978 \nL 3425 0 \nL 2847 0 \nL 2847 2094 \nQ 2847 2600 2669 2842 \nQ 2491 3084 2119 3084 \nQ 1678 3084 1418 2786 \nQ 1159 2488 1159 1978 \nL 1159 0 \nL 581 0 \nL 581 3500 \nL 1159 3500 \nL 1159 2956 \nQ 1356 3278 1631 3431 \nQ 1906 3584 2284 3584 \nQ 2666 3584 2933 3390 \nQ 3200 3197 3328 2828 \nz\n\" transform=\"scale(0.015625)\"/>\n      <path id=\"DejaVuSans-70\" d=\"M 1159 525 \nL 1159 -1331 \nL 581 -1331 \nL 581 3500 \nL 1159 3500 \nL 1159 2969 \nQ 1341 3281 1617 3432 \nQ 1894 3584 2278 3584 \nQ 2916 3584 3314 3078 \nQ 3713 2572 3713 1747 \nQ 3713 922 3314 415 \nQ 2916 -91 2278 -91 \nQ 1894 -91 1617 61 \nQ 1341 213 1159 525 \nz\nM 3116 1747 \nQ 3116 2381 2855 2742 \nQ 2594 3103 2138 3103 \nQ 1681 3103 1420 2742 \nQ 1159 2381 1159 1747 \nQ 1159 1113 1420 752 \nQ 1681 391 2138 391 \nQ 2594 391 2855 752 \nQ 3116 1113 3116 1747 \nz\n\" transform=\"scale(0.015625)\"/>\n      <path id=\"DejaVuSans-6c\" d=\"M 603 4863 \nL 1178 4863 \nL 1178 0 \nL 603 0 \nL 603 4863 \nz\n\" transform=\"scale(0.015625)\"/>\n     </defs>\n     <use xlink:href=\"#DejaVuSans-44\"/>\n     <use xlink:href=\"#DejaVuSans-61\" x=\"77.001953\"/>\n     <use xlink:href=\"#DejaVuSans-74\" x=\"138.28125\"/>\n     <use xlink:href=\"#DejaVuSans-61\" x=\"177.490234\"/>\n     <use xlink:href=\"#DejaVuSans-73\" x=\"238.769531\"/>\n     <use xlink:href=\"#DejaVuSans-65\" x=\"290.869141\"/>\n     <use xlink:href=\"#DejaVuSans-74\" x=\"352.392578\"/>\n     <use xlink:href=\"#DejaVuSans-20\" x=\"391.601562\"/>\n     <use xlink:href=\"#DejaVuSans-73\" x=\"423.388672\"/>\n     <use xlink:href=\"#DejaVuSans-61\" x=\"475.488281\"/>\n     <use xlink:href=\"#DejaVuSans-6d\" x=\"536.767578\"/>\n     <use xlink:href=\"#DejaVuSans-70\" x=\"634.179688\"/>\n     <use xlink:href=\"#DejaVuSans-6c\" x=\"697.65625\"/>\n     <use xlink:href=\"#DejaVuSans-65\" x=\"725.439453\"/>\n     <use xlink:href=\"#DejaVuSans-73\" x=\"786.962891\"/>\n    </g>\n   </g>\n   <g id=\"legend_1\">\n    <g id=\"patch_7\">\n     <path d=\"M 199.891562 150.994063 \nL 274.524844 150.994063 \nQ 276.724844 150.994063 276.724844 148.794063 \nL 276.724844 117.602188 \nQ 276.724844 115.402188 274.524844 115.402188 \nL 199.891562 115.402188 \nQ 197.691562 115.402188 197.691562 117.602188 \nL 197.691562 148.794063 \nQ 197.691562 150.994063 199.891562 150.994063 \nz\n\" style=\"fill: #eaeaf2; opacity: 0.8; stroke: #cccccc; stroke-linejoin: miter\"/>\n    </g>\n    <g id=\"PathCollection_3\">\n     <g>\n      <use xlink:href=\"#mae7d1f5bbb\" x=\"213.091562\" y=\"125.272969\" style=\"fill: #4c72b0; stroke: #333333\"/>\n     </g>\n    </g>\n    <g id=\"text_15\">\n     <!-- Class 0 -->\n     <g style=\"fill: #262626\" transform=\"translate(232.891562 128.160469) scale(0.11 -0.11)\">\n      <defs>\n       <path id=\"DejaVuSans-43\" d=\"M 4122 4306 \nL 4122 3641 \nQ 3803 3938 3442 4084 \nQ 3081 4231 2675 4231 \nQ 1875 4231 1450 3742 \nQ 1025 3253 1025 2328 \nQ 1025 1406 1450 917 \nQ 1875 428 2675 428 \nQ 3081 428 3442 575 \nQ 3803 722 4122 1019 \nL 4122 359 \nQ 3791 134 3420 21 \nQ 3050 -91 2638 -91 \nQ 1578 -91 968 557 \nQ 359 1206 359 2328 \nQ 359 3453 968 4101 \nQ 1578 4750 2638 4750 \nQ 3056 4750 3426 4639 \nQ 3797 4528 4122 4306 \nz\n\" transform=\"scale(0.015625)\"/>\n      </defs>\n      <use xlink:href=\"#DejaVuSans-43\"/>\n      <use xlink:href=\"#DejaVuSans-6c\" x=\"69.824219\"/>\n      <use xlink:href=\"#DejaVuSans-61\" x=\"97.607422\"/>\n      <use xlink:href=\"#DejaVuSans-73\" x=\"158.886719\"/>\n      <use xlink:href=\"#DejaVuSans-73\" x=\"210.986328\"/>\n      <use xlink:href=\"#DejaVuSans-20\" x=\"263.085938\"/>\n      <use xlink:href=\"#DejaVuSans-30\" x=\"294.873047\"/>\n     </g>\n    </g>\n    <g id=\"PathCollection_4\">\n     <g>\n      <use xlink:href=\"#ma9141f5b8a\" x=\"213.091562\" y=\"141.418906\" style=\"fill: #dd8452; stroke: #333333\"/>\n     </g>\n    </g>\n    <g id=\"text_16\">\n     <!-- Class 1 -->\n     <g style=\"fill: #262626\" transform=\"translate(232.891562 144.306406) scale(0.11 -0.11)\">\n      <use xlink:href=\"#DejaVuSans-43\"/>\n      <use xlink:href=\"#DejaVuSans-6c\" x=\"69.824219\"/>\n      <use xlink:href=\"#DejaVuSans-61\" x=\"97.607422\"/>\n      <use xlink:href=\"#DejaVuSans-73\" x=\"158.886719\"/>\n      <use xlink:href=\"#DejaVuSans-73\" x=\"210.986328\"/>\n      <use xlink:href=\"#DejaVuSans-20\" x=\"263.085938\"/>\n      <use xlink:href=\"#DejaVuSans-31\" x=\"294.873047\"/>\n     </g>\n    </g>\n   </g>\n  </g>\n </g>\n <defs>\n  <clipPath id=\"pf925f04154\">\n   <rect x=\"59.024844\" y=\"22.318125\" width=\"223.2\" height=\"221.76\"/>\n  </clipPath>\n </defs>\n</svg>\n",
      "text/plain": [
       "<Figure size 400x400 with 1 Axes>"
      ]
     },
     "metadata": {},
     "output_type": "display_data"
    }
   ],
   "source": [
    "visualize_samples(dataset.data, dataset.label)\n",
    "plt.show()"
   ]
  },
  {
   "cell_type": "markdown",
   "id": "dcc14f55",
   "metadata": {},
   "source": [
    "#### The data loader class\n",
    "\n",
    "The class `torch.utils.data.DataLoader` represents a Python iterable over a dataset with support for automatic batching, multi-process data loading and many more features. The data loader communicates with the dataset using the function `__getitem__`, and stacks its outputs as tensors over the first dimension to form a batch.\n",
    "In contrast to the dataset class, we usually don't have to define our own data loader class, but can just create an object of it with the dataset as input. Additionally, we can configure our data loader with the following input arguments (only a selection, see full list [here](https://pytorch.org/docs/stable/data.html#torch.utils.data.DataLoader)):\n",
    "\n",
    "* `batch_size`: Number of samples to stack per batch\n",
    "* `shuffle`: If True, the data is returned in a random order. This is important during training for introducing stochasticity. \n",
    "* `num_workers`: Number of subprocesses to use for data loading. The default, 0, means that the data will be loaded in the main process which can slow down training for datasets where loading a data point takes a considerable amount of time (e.g. large images). More workers are recommended for those, but can cause issues on Windows computers. For tiny datasets as ours, 0 workers are usually faster.\n",
    "* `persistent_workers`: If True, workers will not be shutdown after an iteration over the dataset has finished. This can be useful if the time per epoch is small, or if you face issues with workers being killed during training. \n",
    "* `drop_last`: If True, the last batch is dropped in case it is smaller than the specified batch size. This occurs when the dataset size is not a multiple of the batch size. Only potentially helpful during training to keep a consistent batch size.\n",
    "* `collate_fn`: A function that defines how the elements per batch are combined. By default, PyTorch stacks them as PyTorch tensors. For JAX, we will change it to NumPy arrays.\n",
    "\n",
    "Let's create a simple data loader below with a function that stacks batch elements as NumPy array instead of PyTorch Tensors:"
   ]
  },
  {
   "cell_type": "code",
   "execution_count": 42,
   "id": "73a2f9ae",
   "metadata": {},
   "outputs": [],
   "source": [
    "# This collate function is taken from the JAX tutorial with PyTorch Data Loading\n",
    "# https://jax.readthedocs.io/en/latest/notebooks/Neural_Network_and_Data_Loading.html\n",
    "def numpy_collate(batch):\n",
    "    if isinstance(batch[0], np.ndarray):\n",
    "        return np.stack(batch)\n",
    "    elif isinstance(batch[0], (tuple, list)):\n",
    "        transposed = zip(*batch)\n",
    "        return [numpy_collate(samples) for samples in transposed]\n",
    "    else:\n",
    "        return np.array(batch)\n",
    "\n",
    "\n",
    "data_loader = data.DataLoader(\n",
    "    dataset, batch_size=8, shuffle=True, collate_fn=numpy_collate\n",
    ")"
   ]
  },
  {
   "cell_type": "code",
   "execution_count": 43,
   "id": "05c00219",
   "metadata": {},
   "outputs": [
    {
     "name": "stdout",
     "output_type": "stream",
     "text": [
      "Data inputs (8, 2) \n",
      " [[ 0.02704568 -0.00502381]\n",
      " [ 0.8799704   0.9665499 ]\n",
      " [-0.08984147  1.049192  ]\n",
      " [ 0.9410635   0.08496021]\n",
      " [ 1.0324166  -0.01301431]\n",
      " [ 0.12776649  0.94084287]\n",
      " [-0.20251426  0.01864543]\n",
      " [ 1.0473237  -0.00728289]]\n",
      "Data labels (8,) \n",
      " [0 0 1 1 1 1 0 1]\n"
     ]
    }
   ],
   "source": [
    "# next(iter(...)) catches the first batch of the data loader\n",
    "# If shuffle is True, this will return a different batch every time we run this cell\n",
    "# For iterating over the whole dataset, we can simple use \"for batch in data_loader: ...\"\n",
    "data_inputs, data_labels = next(iter(data_loader))\n",
    "\n",
    "# The shape of the outputs are [batch_size, d_1,...,d_N] where d_1,...,d_N are the\n",
    "# dimensions of the data point returned from the dataset class\n",
    "print(\"Data inputs\", data_inputs.shape, \"\\n\", data_inputs)\n",
    "print(\"Data labels\", data_labels.shape, \"\\n\", data_labels)"
   ]
  },
  {
   "cell_type": "markdown",
   "id": "65a6c190",
   "metadata": {},
   "source": [
    "### Optimization\n",
    "\n",
    "After defining the model and the dataset, it is time to prepare the optimization of the model. During training, we will perform the following steps:\n",
    "\n",
    "1. Get a batch from the data loader\n",
    "2. Obtain the predictions from the model for the batch\n",
    "3. Calculate the loss based on the difference between predictions and labels\n",
    "4. Backpropagation: calculate the gradients for every parameter with respect to the loss\n",
    "5. Update the parameters of the model in the direction of the gradients\n",
    "\n",
    "We have seen how we can do step 1, 2 and 4 in JAX and Flax. Now, we will look at step 3 and 5."
   ]
  },
  {
   "cell_type": "markdown",
   "id": "6f70ea1c",
   "metadata": {},
   "source": [
    "#### Stochastic Gradient Descent\n",
    "\n",
    "For updating the parameters, Flax does not directly provide support for optimizers, but instead refers to another package called `optax` ([documentation](https://optax.readthedocs.io/en/latest/index.html)). Optax is an optimization library for JAX, which offers most common deep learning optimizers (SGD, Adam, Adagrad, RMSProp, etc.) and utilities (gradient clipping, weight decay, etc.)."
   ]
  },
  {
   "cell_type": "code",
   "execution_count": 44,
   "id": "b8706e3f",
   "metadata": {},
   "outputs": [],
   "source": [
    "try:\n",
    "    import optax\n",
    "except ModuleNotFoundError:  # Install optax if missing\n",
    "    !pip install --quiet optax\n",
    "    import optax"
   ]
  },
  {
   "cell_type": "markdown",
   "id": "12cac2ef",
   "metadata": {},
   "source": [
    "For now, we will use the simplest optimizer, namely `optax.sgd`. Stochastic Gradient Descent updates parameters by multiplying the gradients with a small constant, called learning rate, and subtracting those from the parameters (hence minimizing the loss). Therefore, we slowly move towards the direction of minimizing the loss. A good default value of the learning rate for a small network as ours is 0.1. Remember that we again aim to write functional code. Hence, the optimizer does not take as input the parameters, but only the optimizer hyperparameters."
   ]
  },
  {
   "cell_type": "code",
   "execution_count": 45,
   "id": "d9cf2212",
   "metadata": {},
   "outputs": [],
   "source": [
    "# Input to the optimizer are optimizer settings like learning rate\n",
    "optimizer = optax.sgd(learning_rate=0.1)"
   ]
  },
  {
   "cell_type": "markdown",
   "id": "9a7a01f3",
   "metadata": {},
   "source": [
    "Since JAX calculates gradients via function transformations, we do not have functions like `backward()`, `optimizer.step()` or `optimizer.backward()` as in PyTorch. Instead, a optimizer is a function on the parameters and gradients. To simplify this step and bundle important parts of the training procedure, Flax offers the `flax.training` package. As a first step, we can create a `TrainState` which bundles the parameters, the optimizer, and the forward step of the model:"
   ]
  },
  {
   "cell_type": "code",
   "execution_count": 46,
   "id": "40aecbc6",
   "metadata": {},
   "outputs": [],
   "source": [
    "from flax.training import train_state\n",
    "\n",
    "model_state = train_state.TrainState.create(\n",
    "    apply_fn=model.apply, params=params, tx=optimizer\n",
    ")"
   ]
  },
  {
   "cell_type": "markdown",
   "id": "1c303b3a",
   "metadata": {},
   "source": [
    "With this state object, it is easier to handle the training."
   ]
  },
  {
   "cell_type": "markdown",
   "id": "83850de5",
   "metadata": {},
   "source": [
    "#### Loss function\n",
    "\n",
    "For performing gradient updates, we need a function that can calculate the loss for a batch. Afterwards, we can apply JAX's gradient transformation to obtain a gradient function of it. In our setting, which is binary classification, we can use Binary Cross Entropy (BCE) which is defined as follows:\n",
    "\n",
    "$$\\mathcal{L}_{BCE} = -\\sum_i \\left[ y_i \\log x_i + (1 - y_i) \\log (1 - x_i) \\right]$$\n",
    "\n",
    "where $y$ are our labels, and $x$ our predictions, both in the range of $[0,1]$. Similar to PyTorch, Optax already provides a function for this: `optax.sigmoid_binary_cross_entropy(logits, labels)`. We calculate the loss on the logits instead of the sigmoid outputs for numerical stability. Let's write a function that takes as input a state (for the forward function), parameters, and a batch, and return the binary cross entropy loss and accuracy: "
   ]
  },
  {
   "cell_type": "code",
   "execution_count": 47,
   "id": "609fb4b3",
   "metadata": {},
   "outputs": [],
   "source": [
    "def calculate_loss_acc(state, params, batch):\n",
    "    data_input, labels = batch\n",
    "    # Obtain the logits and predictions of the model for the input data\n",
    "    logits = state.apply_fn(params, data_input).squeeze(axis=-1)\n",
    "    pred_labels = (logits > 0).astype(jnp.float32)\n",
    "    # Calculate the loss and accuracy\n",
    "    loss = optax.sigmoid_binary_cross_entropy(logits, labels).mean()\n",
    "    acc = (pred_labels == labels).mean()\n",
    "    return loss, acc"
   ]
  },
  {
   "cell_type": "markdown",
   "id": "4c47e776",
   "metadata": {},
   "source": [
    "Note that we explicitly add the parameters here as an input argument since we want to calculate the gradients with respect to them later. An example execution of the function would look like:"
   ]
  },
  {
   "cell_type": "code",
   "execution_count": 48,
   "id": "237b08e7",
   "metadata": {},
   "outputs": [
    {
     "data": {
      "text/plain": [
       "(Array(0.6751858, dtype=float32), Array(0.625, dtype=float32))"
      ]
     },
     "execution_count": 48,
     "metadata": {},
     "output_type": "execute_result"
    }
   ],
   "source": [
    "batch = next(iter(data_loader))\n",
    "calculate_loss_acc(model_state, model_state.params, batch)"
   ]
  },
  {
   "cell_type": "markdown",
   "id": "979978ba",
   "metadata": {},
   "source": [
    "### Creating an efficient training and validation step\n",
    "\n",
    "With this loss function and the optimizer, we are now ready to create an efficient training and validation/test step. First, let's consider the training. As input to each training step, we have a training state and a batch. We then want to calculate the loss for the input and take the gradients of it. Finally, we update the parameters with our optimizer and return the new state. All this can be summarized in the following function:"
   ]
  },
  {
   "cell_type": "code",
   "execution_count": 49,
   "id": "348a627f",
   "metadata": {},
   "outputs": [],
   "source": [
    "@jax.jit  # Jit the function for efficiency\n",
    "def train_step(state, batch):\n",
    "    # Gradient function\n",
    "    grad_fn = jax.value_and_grad(\n",
    "        calculate_loss_acc,  # Function to calculate the loss\n",
    "        argnums=1,  # Parameters are second argument of the function\n",
    "        has_aux=True,  # Function has additional outputs, here accuracy\n",
    "    )\n",
    "    # Determine gradients for current model, parameters and batch\n",
    "    (loss, acc), grads = grad_fn(state, state.params, batch)\n",
    "    # Perform parameter update with gradients and optimizer\n",
    "    state = state.apply_gradients(grads=grads)\n",
    "    # Return state and any other value we might want\n",
    "    return state, loss, acc"
   ]
  },
  {
   "cell_type": "markdown",
   "id": "37d8a0bb",
   "metadata": {},
   "source": [
    "By using the transformation `jax.jit`, the whole gradient calculation and application is optimized in XLA, providing an efficient function for updating the model.\n",
    "\n",
    "Next, let's look at the evaluation function. Here, we do not need to calculate gradients, but only want to get the accuracy of the model for the batch. This becomes a simpler version of the training step:"
   ]
  },
  {
   "cell_type": "code",
   "execution_count": 50,
   "id": "85205245",
   "metadata": {},
   "outputs": [],
   "source": [
    "@jax.jit  # Jit the function for efficiency\n",
    "def eval_step(state, batch):\n",
    "    # Determine the accuracy\n",
    "    _, acc = calculate_loss_acc(state, state.params, batch)\n",
    "    return acc"
   ]
  },
  {
   "cell_type": "markdown",
   "id": "4ebd224e",
   "metadata": {},
   "source": [
    "These two functions provide us now efficient utilities to train our model."
   ]
  },
  {
   "cell_type": "markdown",
   "id": "df0b91f6",
   "metadata": {},
   "source": [
    "### Training\n",
    "\n",
    "Finally, we are ready to train our model. As a first step, we create a slightly larger dataset and specify a data loader with a larger batch size. "
   ]
  },
  {
   "cell_type": "code",
   "execution_count": 51,
   "id": "ec924160",
   "metadata": {},
   "outputs": [],
   "source": [
    "train_dataset = XORDataset(size=2500, seed=42)\n",
    "train_data_loader = data.DataLoader(\n",
    "    train_dataset, batch_size=128, shuffle=True, collate_fn=numpy_collate\n",
    ")"
   ]
  },
  {
   "cell_type": "markdown",
   "id": "f074d1a0",
   "metadata": {},
   "source": [
    "Now, we can write a small training function. In contrast to PyTorch, we do not need to explicitly push our model to GPU, since the parameters are already automatically created on GPU. Further, since the model itself is stateless, we do not have a `train()` or `eval()` function to switch between modes of e.g. dropout. When necessary, we can add an argument `train : bool` to the model forward pass. For this simple network here, however, this is not necessary.\n",
    "\n",
    "Following the PyTorch tutorial, let's write a function here that trains a model for several epochs:"
   ]
  },
  {
   "cell_type": "code",
   "execution_count": 52,
   "id": "afdc0424",
   "metadata": {},
   "outputs": [],
   "source": [
    "def train_model(state, data_loader, num_epochs=100):\n",
    "    # Training loop\n",
    "    for epoch in tqdm(range(num_epochs)):\n",
    "        for batch in data_loader:\n",
    "            state, loss, acc = train_step(state, batch)\n",
    "            # We could use the loss and accuracy for logging here, e.g. in TensorBoard\n",
    "            # For simplicity, we skip this part here\n",
    "    return state"
   ]
  },
  {
   "cell_type": "code",
   "execution_count": 53,
   "id": "5eb65c92",
   "metadata": {},
   "outputs": [
    {
     "data": {
      "application/vnd.jupyter.widget-view+json": {
       "model_id": "5090bb07510549ae964eb4fc788cba5a",
       "version_major": 2,
       "version_minor": 0
      },
      "text/plain": [
       "  0%|          | 0/100 [00:00<?, ?it/s]"
      ]
     },
     "metadata": {},
     "output_type": "display_data"
    }
   ],
   "source": [
    "trained_model_state = train_model(model_state, train_data_loader, num_epochs=100)"
   ]
  },
  {
   "cell_type": "markdown",
   "id": "0dd18970",
   "metadata": {},
   "source": [
    "Training this model for 100 epochs does take barely a second... This shows the impressive speed JAX can reach, especially for small models!"
   ]
  },
  {
   "cell_type": "markdown",
   "id": "d93c37e6",
   "metadata": {},
   "source": [
    "#### Saving a model\n",
    "\n",
    "After we finished training a model, we save the model to disk so that we can load the same weights at a later time. In JAX, this means we want to save the `state.params` dictionary. Luckily, the `flax.training` package again provides us with nice utilities for that, which uses TensorFlow as underlying framework."
   ]
  },
  {
   "cell_type": "code",
   "execution_count": 54,
   "id": "dba666a2",
   "metadata": {},
   "outputs": [
    {
     "name": "stderr",
     "output_type": "stream",
     "text": [
      "WARNING:absl:Tensorflow library not found, tensorflow.io.gfile operations will use native shim calls. GCS paths (i.e. 'gs://...') cannot be accessed.\n"
     ]
    }
   ],
   "source": [
    "from flax.training import checkpoints\n",
    "from pathlib import Path"
   ]
  },
  {
   "cell_type": "markdown",
   "id": "1b83eab5",
   "metadata": {},
   "source": [
    "To save the whole model state, we can write:"
   ]
  },
  {
   "cell_type": "code",
   "execution_count": 55,
   "id": "a50e8ded",
   "metadata": {},
   "outputs": [
    {
     "data": {
      "text/plain": [
       "'statedicts/my_jax_model100'"
      ]
     },
     "execution_count": 55,
     "metadata": {},
     "output_type": "execute_result"
    }
   ],
   "source": [
    "# define where to save model checkpoints\n",
    "statedicts_folder = Path(\"statedicts\")\n",
    "\n",
    "# create statedicts folder if it does not already exist\n",
    "statedicts_folder.mkdir(parents=True, exist_ok=True)\n",
    "\n",
    "checkpoints.save_checkpoint(\n",
    "    ckpt_dir=str(statedicts_folder),  # Folder to save checkpoint in\n",
    "    target=trained_model_state,  # What to save. To only save parameters, use model_state.params\n",
    "    step=100,  # Training step or other metric to save best model on\n",
    "    prefix=\"my_jax_model\",  # Checkpoint file name prefix\n",
    "    overwrite=True,  # Overwrite existing checkpoint files\n",
    ")"
   ]
  },
  {
   "cell_type": "markdown",
   "id": "ad255da8",
   "metadata": {},
   "source": [
    "To load this state dict again, we can use `checkpoints.restore_checkpoint`:"
   ]
  },
  {
   "cell_type": "code",
   "execution_count": 56,
   "id": "4254ffa7",
   "metadata": {},
   "outputs": [],
   "source": [
    "loaded_model_state = checkpoints.restore_checkpoint(\n",
    "    ckpt_dir=\"my_checkpoints/\",  # Folder with the checkpoints\n",
    "    target=model_state,  # (optional) matching object to rebuild state in\n",
    "    prefix=\"my_model\",  # Checkpoint file name prefix\n",
    ")"
   ]
  },
  {
   "cell_type": "markdown",
   "id": "20e4f27b",
   "metadata": {},
   "source": [
    "The states `loaded_model_state` and `trained_model_state` have the identical parameter values."
   ]
  },
  {
   "cell_type": "markdown",
   "id": "e7be32dc",
   "metadata": {},
   "source": [
    "### Evaluation\n",
    "\n",
    "Once we have trained a model, it is time to evaluate it on a held-out test set. As our dataset consist of randomly generated data points, we need to first create a test set with a corresponding data loader."
   ]
  },
  {
   "cell_type": "code",
   "execution_count": 57,
   "id": "9ef9eeca",
   "metadata": {},
   "outputs": [],
   "source": [
    "test_dataset = XORDataset(size=500, seed=123)\n",
    "# drop_last -> Don't drop the last batch although it is smaller than 128\n",
    "test_data_loader = data.DataLoader(\n",
    "    test_dataset,\n",
    "    batch_size=128,\n",
    "    shuffle=False,\n",
    "    drop_last=False,\n",
    "    collate_fn=numpy_collate,\n",
    ")"
   ]
  },
  {
   "cell_type": "markdown",
   "id": "c4310486",
   "metadata": {},
   "source": [
    "We can use our `eval_step` function to efficiently evaluate our model:"
   ]
  },
  {
   "cell_type": "code",
   "execution_count": 58,
   "id": "4e860561",
   "metadata": {},
   "outputs": [],
   "source": [
    "def eval_model(state, data_loader):\n",
    "    all_accs, batch_sizes = [], []\n",
    "    for batch in data_loader:\n",
    "        batch_acc = eval_step(state, batch)\n",
    "        all_accs.append(batch_acc)\n",
    "        batch_sizes.append(batch[0].shape[0])\n",
    "    # Weighted average since some batches might be smaller\n",
    "    acc = sum([a * b for a, b in zip(all_accs, batch_sizes)]) / sum(batch_sizes)\n",
    "    print(f\"Accuracy of the model: {100.0*acc:4.2f}%\")"
   ]
  },
  {
   "cell_type": "code",
   "execution_count": 59,
   "id": "cf27466c",
   "metadata": {},
   "outputs": [
    {
     "name": "stdout",
     "output_type": "stream",
     "text": [
      "Accuracy of the model: 100.00%\n"
     ]
    }
   ],
   "source": [
    "eval_model(trained_model_state, test_data_loader)"
   ]
  },
  {
   "cell_type": "markdown",
   "id": "277e4ff5",
   "metadata": {},
   "source": [
    "If we trained our model correctly, we should see a score close to 100% accuracy. However, this is only possible because of our simple task, and unfortunately, we usually don't get such high scores on test sets of more complex tasks."
   ]
  },
  {
   "cell_type": "markdown",
   "id": "279eeb39",
   "metadata": {},
   "source": [
    "#### Binding model parameters\n",
    "\n",
    "Once we have trained the model, we might want to do multiple application of the same model and parameters. It can get a bit annoying to always write `model.apply(params, ...)` and keep track of the model and parameters separately. To prevent this, Flax's module can be bound to specific parameters to simplify our application. Specifically, we can bind the instance `model` of our `SimpleClassifier` class to our trained parameter as follows:"
   ]
  },
  {
   "cell_type": "code",
   "execution_count": 60,
   "id": "e56bdbb2",
   "metadata": {},
   "outputs": [],
   "source": [
    "trained_model = model.bind(trained_model_state.params)"
   ]
  },
  {
   "cell_type": "markdown",
   "id": "3fab4544",
   "metadata": {},
   "source": [
    "With the model being binded to the parameters, we can use it as we would any PyTorch module. For instance, to apply it to an input array, we can simply run:"
   ]
  },
  {
   "cell_type": "code",
   "execution_count": 61,
   "id": "43470946",
   "metadata": {},
   "outputs": [
    {
     "data": {
      "text/plain": [
       "(8, 1)"
      ]
     },
     "execution_count": 61,
     "metadata": {},
     "output_type": "execute_result"
    }
   ],
   "source": [
    "data_input, labels = next(iter(data_loader))\n",
    "out = trained_model(data_input)  # No explicit parameter passing necessary anymore\n",
    "out.shape"
   ]
  },
  {
   "cell_type": "markdown",
   "id": "0adebac4",
   "metadata": {},
   "source": [
    "This can simplify the analysis of models, and provide a more familiar interface to PyTorch users."
   ]
  },
  {
   "cell_type": "markdown",
   "id": "d9ae9f5a",
   "metadata": {},
   "source": [
    "#### Visualizing classification boundaries\n",
    "\n",
    "To visualize what our model has learned, we can perform a prediction for every data point in a range of $[-0.5, 1.5]$, and visualize the predicted class as in the sample figure at the beginning of this section. This shows where the model has created decision boundaries, and which points would be classified as $0$, and which as $1$. We therefore get a background image out of blue (class 0) and orange (class 1). The spots where the model is uncertain we will see a blurry overlap. The specific code is less relevant compared to the output figure which should hopefully show us a clear separation of classes:"
   ]
  },
  {
   "cell_type": "code",
   "execution_count": 62,
   "id": "3402ee4c",
   "metadata": {},
   "outputs": [
    {
     "data": {
      "application/pdf": "[encoded data removed]",
      "image/svg+xml": "<?xml version=\"1.0\" encoding=\"utf-8\" standalone=\"no\"?>\n<!DOCTYPE svg PUBLIC \"-//W3C//DTD SVG 1.1//EN\"\n  \"http://www.w3.org/Graphics/SVG/1.1/DTD/svg11.dtd\">\n<svg xmlns:xlink=\"http://www.w3.org/1999/xlink\" width=\"303.730313pt\" height=\"287.037813pt\" viewBox=\"0 0 303.730313 287.037813\" xmlns=\"http://www.w3.org/2000/svg\" version=\"1.1\">\n <metadata>\n  <rdf:RDF xmlns:dc=\"http://purl.org/dc/elements/1.1/\" xmlns:cc=\"http://creativecommons.org/ns#\" xmlns:rdf=\"http://www.w3.org/1999/02/22-rdf-syntax-ns#\">\n   <cc:Work>\n    <dc:type rdf:resource=\"http://purl.org/dc/dcmitype/StillImage\"/>\n    <dc:date>2023-03-28T15:20:58.789275</dc:date>\n    <dc:format>image/svg+xml</dc:format>\n    <dc:creator>\n     <cc:Agent>\n      <dc:title>Matplotlib v3.7.1, https://matplotlib.org/</dc:title>\n     </cc:Agent>\n    </dc:creator>\n   </cc:Work>\n  </rdf:RDF>\n </metadata>\n <defs>\n  <style type=\"text/css\">*{stroke-linejoin: round; stroke-linecap: butt}</style>\n </defs>\n <g id=\"figure_1\">\n  <g id=\"patch_1\">\n   <path d=\"M 0 287.037813 \nL 303.730313 287.037813 \nL 303.730313 0 \nL 0 0 \nz\n\" style=\"fill: #ffffff\"/>\n  </g>\n  <g id=\"axes_1\">\n   <g id=\"patch_2\">\n    <path d=\"M 66.023594 244.078125 \nL 287.783594 244.078125 \nL 287.783594 22.318125 \nL 66.023594 22.318125 \nz\n\" style=\"fill: #eaeaf2\"/>\n   </g>\n   <g clip-path=\"url(#p539c3d1887)\">\n    <image xlink:href=\"data:image/png;base64,\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\" id=\"imageae5c0f066b\" transform=\"scale(1 -1) translate(0 -221.904)\" x=\"66.023594\" y=\"-22.174125\" width=\"221.904\" height=\"221.904\"/>\n   </g>\n   <g id=\"matplotlib.axis_1\">\n    <g id=\"xtick_1\">\n     <g id=\"text_1\">\n      <!-- −0.5 -->\n      <g style=\"fill: #262626\" transform=\"translate(52.668047 261.936406) scale(0.11 -0.11)\">\n       <defs>\n        <path id=\"DejaVuSans-2212\" d=\"M 678 2272 \nL 4684 2272 \nL 4684 1741 \nL 678 1741 \nL 678 2272 \nz\n\" transform=\"scale(0.015625)\"/>\n        <path id=\"DejaVuSans-30\" d=\"M 2034 4250 \nQ 1547 4250 1301 3770 \nQ 1056 3291 1056 2328 \nQ 1056 1369 1301 889 \nQ 1547 409 2034 409 \nQ 2525 409 2770 889 \nQ 3016 1369 3016 2328 \nQ 3016 3291 2770 3770 \nQ 2525 4250 2034 4250 \nz\nM 2034 4750 \nQ 2819 4750 3233 4129 \nQ 3647 3509 3647 2328 \nQ 3647 1150 3233 529 \nQ 2819 -91 2034 -91 \nQ 1250 -91 836 529 \nQ 422 1150 422 2328 \nQ 422 3509 836 4129 \nQ 1250 4750 2034 4750 \nz\n\" transform=\"scale(0.015625)\"/>\n        <path id=\"DejaVuSans-2e\" d=\"M 684 794 \nL 1344 794 \nL 1344 0 \nL 684 0 \nL 684 794 \nz\n\" transform=\"scale(0.015625)\"/>\n        <path id=\"DejaVuSans-35\" d=\"M 691 4666 \nL 3169 4666 \nL 3169 4134 \nL 1269 4134 \nL 1269 2991 \nQ 1406 3038 1543 3061 \nQ 1681 3084 1819 3084 \nQ 2600 3084 3056 2656 \nQ 3513 2228 3513 1497 \nQ 3513 744 3044 326 \nQ 2575 -91 1722 -91 \nQ 1428 -91 1123 -41 \nQ 819 9 494 109 \nL 494 744 \nQ 775 591 1075 516 \nQ 1375 441 1709 441 \nQ 2250 441 2565 725 \nQ 2881 1009 2881 1497 \nQ 2881 1984 2565 2268 \nQ 2250 2553 1709 2553 \nQ 1456 2553 1204 2497 \nQ 953 2441 691 2322 \nL 691 4666 \nz\n\" transform=\"scale(0.015625)\"/>\n       </defs>\n       <use xlink:href=\"#DejaVuSans-2212\"/>\n       <use xlink:href=\"#DejaVuSans-30\" x=\"83.789062\"/>\n       <use xlink:href=\"#DejaVuSans-2e\" x=\"147.412109\"/>\n       <use xlink:href=\"#DejaVuSans-35\" x=\"179.199219\"/>\n      </g>\n     </g>\n    </g>\n    <g id=\"xtick_2\">\n     <g id=\"text_2\">\n      <!-- 0.0 -->\n      <g style=\"fill: #262626\" transform=\"translate(112.716875 261.936406) scale(0.11 -0.11)\">\n       <use xlink:href=\"#DejaVuSans-30\"/>\n       <use xlink:href=\"#DejaVuSans-2e\" x=\"63.623047\"/>\n       <use xlink:href=\"#DejaVuSans-30\" x=\"95.410156\"/>\n      </g>\n     </g>\n    </g>\n    <g id=\"xtick_3\">\n     <g id=\"text_3\">\n      <!-- 0.5 -->\n      <g style=\"fill: #262626\" transform=\"translate(168.156875 261.936406) scale(0.11 -0.11)\">\n       <use xlink:href=\"#DejaVuSans-30\"/>\n       <use xlink:href=\"#DejaVuSans-2e\" x=\"63.623047\"/>\n       <use xlink:href=\"#DejaVuSans-35\" x=\"95.410156\"/>\n      </g>\n     </g>\n    </g>\n    <g id=\"xtick_4\">\n     <g id=\"text_4\">\n      <!-- 1.0 -->\n      <g style=\"fill: #262626\" transform=\"translate(223.596875 261.936406) scale(0.11 -0.11)\">\n       <defs>\n        <path id=\"DejaVuSans-31\" d=\"M 794 531 \nL 1825 531 \nL 1825 4091 \nL 703 3866 \nL 703 4441 \nL 1819 4666 \nL 2450 4666 \nL 2450 531 \nL 3481 531 \nL 3481 0 \nL 794 0 \nL 794 531 \nz\n\" transform=\"scale(0.015625)\"/>\n       </defs>\n       <use xlink:href=\"#DejaVuSans-31\"/>\n       <use xlink:href=\"#DejaVuSans-2e\" x=\"63.623047\"/>\n       <use xlink:href=\"#DejaVuSans-30\" x=\"95.410156\"/>\n      </g>\n     </g>\n    </g>\n    <g id=\"xtick_5\">\n     <g id=\"text_5\">\n      <!-- 1.5 -->\n      <g style=\"fill: #262626\" transform=\"translate(279.036875 261.936406) scale(0.11 -0.11)\">\n       <use xlink:href=\"#DejaVuSans-31\"/>\n       <use xlink:href=\"#DejaVuSans-2e\" x=\"63.623047\"/>\n       <use xlink:href=\"#DejaVuSans-35\" x=\"95.410156\"/>\n      </g>\n     </g>\n    </g>\n    <g id=\"text_6\">\n     <!-- $x_1$ -->\n     <g style=\"fill: #262626\" transform=\"translate(170.483594 277.342188) scale(0.12 -0.12)\">\n      <defs>\n       <path id=\"DejaVuSans-Oblique-78\" d=\"M 3841 3500 \nL 2234 1784 \nL 3219 0 \nL 2559 0 \nL 1819 1388 \nL 531 0 \nL -166 0 \nL 1556 1844 \nL 641 3500 \nL 1300 3500 \nL 1972 2234 \nL 3144 3500 \nL 3841 3500 \nz\n\" transform=\"scale(0.015625)\"/>\n      </defs>\n      <use xlink:href=\"#DejaVuSans-Oblique-78\" transform=\"translate(0 0.3125)\"/>\n      <use xlink:href=\"#DejaVuSans-31\" transform=\"translate(59.179688 -16.09375) scale(0.7)\"/>\n     </g>\n    </g>\n   </g>\n   <g id=\"matplotlib.axis_2\">\n    <g id=\"ytick_1\">\n     <g id=\"text_7\">\n      <!-- −0.50 -->\n      <g style=\"fill: #262626\" transform=\"translate(22.81375 248.257266) scale(0.11 -0.11)\">\n       <use xlink:href=\"#DejaVuSans-2212\"/>\n       <use xlink:href=\"#DejaVuSans-30\" x=\"83.789062\"/>\n       <use xlink:href=\"#DejaVuSans-2e\" x=\"147.412109\"/>\n       <use xlink:href=\"#DejaVuSans-35\" x=\"179.199219\"/>\n       <use xlink:href=\"#DejaVuSans-30\" x=\"242.822266\"/>\n      </g>\n     </g>\n    </g>\n    <g id=\"ytick_2\">\n     <g id=\"text_8\">\n      <!-- −0.25 -->\n      <g style=\"fill: #262626\" transform=\"translate(22.81375 220.537266) scale(0.11 -0.11)\">\n       <defs>\n        <path id=\"DejaVuSans-32\" d=\"M 1228 531 \nL 3431 531 \nL 3431 0 \nL 469 0 \nL 469 531 \nQ 828 903 1448 1529 \nQ 2069 2156 2228 2338 \nQ 2531 2678 2651 2914 \nQ 2772 3150 2772 3378 \nQ 2772 3750 2511 3984 \nQ 2250 4219 1831 4219 \nQ 1534 4219 1204 4116 \nQ 875 4013 500 3803 \nL 500 4441 \nQ 881 4594 1212 4672 \nQ 1544 4750 1819 4750 \nQ 2544 4750 2975 4387 \nQ 3406 4025 3406 3419 \nQ 3406 3131 3298 2873 \nQ 3191 2616 2906 2266 \nQ 2828 2175 2409 1742 \nQ 1991 1309 1228 531 \nz\n\" transform=\"scale(0.015625)\"/>\n       </defs>\n       <use xlink:href=\"#DejaVuSans-2212\"/>\n       <use xlink:href=\"#DejaVuSans-30\" x=\"83.789062\"/>\n       <use xlink:href=\"#DejaVuSans-2e\" x=\"147.412109\"/>\n       <use xlink:href=\"#DejaVuSans-32\" x=\"179.199219\"/>\n       <use xlink:href=\"#DejaVuSans-35\" x=\"242.822266\"/>\n      </g>\n     </g>\n    </g>\n    <g id=\"ytick_3\">\n     <g id=\"text_9\">\n      <!-- 0.00 -->\n      <g style=\"fill: #262626\" transform=\"translate(32.031406 192.817266) scale(0.11 -0.11)\">\n       <use xlink:href=\"#DejaVuSans-30\"/>\n       <use xlink:href=\"#DejaVuSans-2e\" x=\"63.623047\"/>\n       <use xlink:href=\"#DejaVuSans-30\" x=\"95.410156\"/>\n       <use xlink:href=\"#DejaVuSans-30\" x=\"159.033203\"/>\n      </g>\n     </g>\n    </g>\n    <g id=\"ytick_4\">\n     <g id=\"text_10\">\n      <!-- 0.25 -->\n      <g style=\"fill: #262626\" transform=\"translate(32.031406 165.097266) scale(0.11 -0.11)\">\n       <use xlink:href=\"#DejaVuSans-30\"/>\n       <use xlink:href=\"#DejaVuSans-2e\" x=\"63.623047\"/>\n       <use xlink:href=\"#DejaVuSans-32\" x=\"95.410156\"/>\n       <use xlink:href=\"#DejaVuSans-35\" x=\"159.033203\"/>\n      </g>\n     </g>\n    </g>\n    <g id=\"ytick_5\">\n     <g id=\"text_11\">\n      <!-- 0.50 -->\n      <g style=\"fill: #262626\" transform=\"translate(32.031406 137.377266) scale(0.11 -0.11)\">\n       <use xlink:href=\"#DejaVuSans-30\"/>\n       <use xlink:href=\"#DejaVuSans-2e\" x=\"63.623047\"/>\n       <use xlink:href=\"#DejaVuSans-35\" x=\"95.410156\"/>\n       <use xlink:href=\"#DejaVuSans-30\" x=\"159.033203\"/>\n      </g>\n     </g>\n    </g>\n    <g id=\"ytick_6\">\n     <g id=\"text_12\">\n      <!-- 0.75 -->\n      <g style=\"fill: #262626\" transform=\"translate(32.031406 109.657266) scale(0.11 -0.11)\">\n       <defs>\n        <path id=\"DejaVuSans-37\" d=\"M 525 4666 \nL 3525 4666 \nL 3525 4397 \nL 1831 0 \nL 1172 0 \nL 2766 4134 \nL 525 4134 \nL 525 4666 \nz\n\" transform=\"scale(0.015625)\"/>\n       </defs>\n       <use xlink:href=\"#DejaVuSans-30\"/>\n       <use xlink:href=\"#DejaVuSans-2e\" x=\"63.623047\"/>\n       <use xlink:href=\"#DejaVuSans-37\" x=\"95.410156\"/>\n       <use xlink:href=\"#DejaVuSans-35\" x=\"159.033203\"/>\n      </g>\n     </g>\n    </g>\n    <g id=\"ytick_7\">\n     <g id=\"text_13\">\n      <!-- 1.00 -->\n      <g style=\"fill: #262626\" transform=\"translate(32.031406 81.937266) scale(0.11 -0.11)\">\n       <use xlink:href=\"#DejaVuSans-31\"/>\n       <use xlink:href=\"#DejaVuSans-2e\" x=\"63.623047\"/>\n       <use xlink:href=\"#DejaVuSans-30\" x=\"95.410156\"/>\n       <use xlink:href=\"#DejaVuSans-30\" x=\"159.033203\"/>\n      </g>\n     </g>\n    </g>\n    <g id=\"ytick_8\">\n     <g id=\"text_14\">\n      <!-- 1.25 -->\n      <g style=\"fill: #262626\" transform=\"translate(32.031406 54.217266) scale(0.11 -0.11)\">\n       <use xlink:href=\"#DejaVuSans-31\"/>\n       <use xlink:href=\"#DejaVuSans-2e\" x=\"63.623047\"/>\n       <use xlink:href=\"#DejaVuSans-32\" x=\"95.410156\"/>\n       <use xlink:href=\"#DejaVuSans-35\" x=\"159.033203\"/>\n      </g>\n     </g>\n    </g>\n    <g id=\"ytick_9\">\n     <g id=\"text_15\">\n      <!-- 1.50 -->\n      <g style=\"fill: #262626\" transform=\"translate(32.031406 26.497266) scale(0.11 -0.11)\">\n       <use xlink:href=\"#DejaVuSans-31\"/>\n       <use xlink:href=\"#DejaVuSans-2e\" x=\"63.623047\"/>\n       <use xlink:href=\"#DejaVuSans-35\" x=\"95.410156\"/>\n       <use xlink:href=\"#DejaVuSans-30\" x=\"159.033203\"/>\n      </g>\n     </g>\n    </g>\n    <g id=\"text_16\">\n     <!-- $x_2$ -->\n     <g style=\"fill: #262626\" transform=\"translate(16.318125 139.618125) rotate(-90) scale(0.12 -0.12)\">\n      <use xlink:href=\"#DejaVuSans-Oblique-78\" transform=\"translate(0 0.3125)\"/>\n      <use xlink:href=\"#DejaVuSans-32\" transform=\"translate(59.179688 -16.09375) scale(0.7)\"/>\n     </g>\n    </g>\n   </g>\n   <g id=\"PathCollection_1\">\n    <defs>\n     <path id=\"mdf8453bfe6\" d=\"M 0 3 \nC 0.795609 3 1.55874 2.683901 2.12132 2.12132 \nC 2.683901 1.55874 3 0.795609 3 0 \nC 3 -0.795609 2.683901 -1.55874 2.12132 -2.12132 \nC 1.55874 -2.683901 0.795609 -3 0 -3 \nC -0.795609 -3 -1.55874 -2.683901 -2.12132 -2.12132 \nC -2.683901 -1.55874 -3 -0.795609 -3 0 \nC -3 0.795609 -2.683901 1.55874 -2.12132 2.12132 \nC -1.55874 2.683901 -0.795609 3 0 3 \nz\n\" style=\"stroke: #333333\"/>\n    </defs>\n    <g clip-path=\"url(#p539c3d1887)\">\n     <use xlink:href=\"#mdf8453bfe6\" x=\"124.713181\" y=\"196.558853\" style=\"fill: #4c72b0; stroke: #333333\"/>\n     <use xlink:href=\"#mdf8453bfe6\" x=\"108.25442\" y=\"181.358259\" style=\"fill: #4c72b0; stroke: #333333\"/>\n     <use xlink:href=\"#mdf8453bfe6\" x=\"134.310102\" y=\"197.737851\" style=\"fill: #4c72b0; stroke: #333333\"/>\n     <use xlink:href=\"#mdf8453bfe6\" x=\"132.145509\" y=\"184.06121\" style=\"fill: #4c72b0; stroke: #333333\"/>\n     <use xlink:href=\"#mdf8453bfe6\" x=\"229.62273\" y=\"86.115549\" style=\"fill: #4c72b0; stroke: #333333\"/>\n     <use xlink:href=\"#mdf8453bfe6\" x=\"235.41154\" y=\"68.586312\" style=\"fill: #4c72b0; stroke: #333333\"/>\n     <use xlink:href=\"#mdf8453bfe6\" x=\"232.487762\" y=\"61.641336\" style=\"fill: #4c72b0; stroke: #333333\"/>\n     <use xlink:href=\"#mdf8453bfe6\" x=\"229.409082\" y=\"47.596893\" style=\"fill: #4c72b0; stroke: #333333\"/>\n     <use xlink:href=\"#mdf8453bfe6\" x=\"239.280996\" y=\"87.26229\" style=\"fill: #4c72b0; stroke: #333333\"/>\n     <use xlink:href=\"#mdf8453bfe6\" x=\"109.589538\" y=\"183.288471\" style=\"fill: #4c72b0; stroke: #333333\"/>\n     <use xlink:href=\"#mdf8453bfe6\" x=\"229.865841\" y=\"69.841288\" style=\"fill: #4c72b0; stroke: #333333\"/>\n     <use xlink:href=\"#mdf8453bfe6\" x=\"116.512636\" y=\"179.142375\" style=\"fill: #4c72b0; stroke: #333333\"/>\n     <use xlink:href=\"#mdf8453bfe6\" x=\"123.837465\" y=\"202.450877\" style=\"fill: #4c72b0; stroke: #333333\"/>\n     <use xlink:href=\"#mdf8453bfe6\" x=\"234.263828\" y=\"73.485721\" style=\"fill: #4c72b0; stroke: #333333\"/>\n     <use xlink:href=\"#mdf8453bfe6\" x=\"222.543381\" y=\"76.053621\" style=\"fill: #4c72b0; stroke: #333333\"/>\n     <use xlink:href=\"#mdf8453bfe6\" x=\"236.310743\" y=\"71.540148\" style=\"fill: #4c72b0; stroke: #333333\"/>\n     <use xlink:href=\"#mdf8453bfe6\" x=\"127.793628\" y=\"176.046973\" style=\"fill: #4c72b0; stroke: #333333\"/>\n     <use xlink:href=\"#mdf8453bfe6\" x=\"132.041565\" y=\"181.415499\" style=\"fill: #4c72b0; stroke: #333333\"/>\n     <use xlink:href=\"#mdf8453bfe6\" x=\"117.967889\" y=\"180.222675\" style=\"fill: #4c72b0; stroke: #333333\"/>\n     <use xlink:href=\"#mdf8453bfe6\" x=\"258.008523\" y=\"98.46236\" style=\"fill: #4c72b0; stroke: #333333\"/>\n     <use xlink:href=\"#mdf8453bfe6\" x=\"239.95285\" y=\"95.639917\" style=\"fill: #4c72b0; stroke: #333333\"/>\n     <use xlink:href=\"#mdf8453bfe6\" x=\"224.412309\" y=\"70.222744\" style=\"fill: #4c72b0; stroke: #333333\"/>\n     <use xlink:href=\"#mdf8453bfe6\" x=\"99.008812\" y=\"186.57072\" style=\"fill: #4c72b0; stroke: #333333\"/>\n     <use xlink:href=\"#mdf8453bfe6\" x=\"223.556125\" y=\"79.030324\" style=\"fill: #4c72b0; stroke: #333333\"/>\n     <use xlink:href=\"#mdf8453bfe6\" x=\"237.942892\" y=\"68.158633\" style=\"fill: #4c72b0; stroke: #333333\"/>\n     <use xlink:href=\"#mdf8453bfe6\" x=\"219.034709\" y=\"81.467075\" style=\"fill: #4c72b0; stroke: #333333\"/>\n     <use xlink:href=\"#mdf8453bfe6\" x=\"227.0774\" y=\"85.002242\" style=\"fill: #4c72b0; stroke: #333333\"/>\n     <use xlink:href=\"#mdf8453bfe6\" x=\"251.918946\" y=\"73.267692\" style=\"fill: #4c72b0; stroke: #333333\"/>\n     <use xlink:href=\"#mdf8453bfe6\" x=\"215.496818\" y=\"83.127313\" style=\"fill: #4c72b0; stroke: #333333\"/>\n     <use xlink:href=\"#mdf8453bfe6\" x=\"246.391103\" y=\"85.604762\" style=\"fill: #4c72b0; stroke: #333333\"/>\n     <use xlink:href=\"#mdf8453bfe6\" x=\"237.264667\" y=\"69.168984\" style=\"fill: #4c72b0; stroke: #333333\"/>\n     <use xlink:href=\"#mdf8453bfe6\" x=\"229.543118\" y=\"91.593546\" style=\"fill: #4c72b0; stroke: #333333\"/>\n     <use xlink:href=\"#mdf8453bfe6\" x=\"233.602271\" y=\"70.416426\" style=\"fill: #4c72b0; stroke: #333333\"/>\n     <use xlink:href=\"#mdf8453bfe6\" x=\"145.114668\" y=\"210.282874\" style=\"fill: #4c72b0; stroke: #333333\"/>\n     <use xlink:href=\"#mdf8453bfe6\" x=\"119.780601\" y=\"182.114864\" style=\"fill: #4c72b0; stroke: #333333\"/>\n     <use xlink:href=\"#mdf8453bfe6\" x=\"124.579232\" y=\"195.542617\" style=\"fill: #4c72b0; stroke: #333333\"/>\n     <use xlink:href=\"#mdf8453bfe6\" x=\"119.155934\" y=\"194.104519\" style=\"fill: #4c72b0; stroke: #333333\"/>\n     <use xlink:href=\"#mdf8453bfe6\" x=\"236.302178\" y=\"85.441104\" style=\"fill: #4c72b0; stroke: #333333\"/>\n     <use xlink:href=\"#mdf8453bfe6\" x=\"130.476609\" y=\"181.656801\" style=\"fill: #4c72b0; stroke: #333333\"/>\n     <use xlink:href=\"#mdf8453bfe6\" x=\"129.749585\" y=\"181.87034\" style=\"fill: #4c72b0; stroke: #333333\"/>\n     <use xlink:href=\"#mdf8453bfe6\" x=\"121.231837\" y=\"187.337199\" style=\"fill: #4c72b0; stroke: #333333\"/>\n     <use xlink:href=\"#mdf8453bfe6\" x=\"130.61581\" y=\"179.61793\" style=\"fill: #4c72b0; stroke: #333333\"/>\n     <use xlink:href=\"#mdf8453bfe6\" x=\"246.818743\" y=\"77.525238\" style=\"fill: #4c72b0; stroke: #333333\"/>\n     <use xlink:href=\"#mdf8453bfe6\" x=\"245.18473\" y=\"68.980166\" style=\"fill: #4c72b0; stroke: #333333\"/>\n     <use xlink:href=\"#mdf8453bfe6\" x=\"128.383834\" y=\"181.67103\" style=\"fill: #4c72b0; stroke: #333333\"/>\n     <use xlink:href=\"#mdf8453bfe6\" x=\"121.327802\" y=\"198.586881\" style=\"fill: #4c72b0; stroke: #333333\"/>\n     <use xlink:href=\"#mdf8453bfe6\" x=\"122.304115\" y=\"196.146494\" style=\"fill: #4c72b0; stroke: #333333\"/>\n     <use xlink:href=\"#mdf8453bfe6\" x=\"112.310481\" y=\"192.201651\" style=\"fill: #4c72b0; stroke: #333333\"/>\n     <use xlink:href=\"#mdf8453bfe6\" x=\"124.179783\" y=\"194.259111\" style=\"fill: #4c72b0; stroke: #333333\"/>\n     <use xlink:href=\"#mdf8453bfe6\" x=\"116.240721\" y=\"186.065155\" style=\"fill: #4c72b0; stroke: #333333\"/>\n     <use xlink:href=\"#mdf8453bfe6\" x=\"224.377487\" y=\"80.124828\" style=\"fill: #4c72b0; stroke: #333333\"/>\n     <use xlink:href=\"#mdf8453bfe6\" x=\"124.910937\" y=\"172.279375\" style=\"fill: #4c72b0; stroke: #333333\"/>\n     <use xlink:href=\"#mdf8453bfe6\" x=\"121.252742\" y=\"199.75417\" style=\"fill: #4c72b0; stroke: #333333\"/>\n     <use xlink:href=\"#mdf8453bfe6\" x=\"235.921898\" y=\"86.93046\" style=\"fill: #4c72b0; stroke: #333333\"/>\n     <use xlink:href=\"#mdf8453bfe6\" x=\"120.257661\" y=\"184.183945\" style=\"fill: #4c72b0; stroke: #333333\"/>\n     <use xlink:href=\"#mdf8453bfe6\" x=\"129.11591\" y=\"193.086858\" style=\"fill: #4c72b0; stroke: #333333\"/>\n     <use xlink:href=\"#mdf8453bfe6\" x=\"123.948331\" y=\"188.4985\" style=\"fill: #4c72b0; stroke: #333333\"/>\n     <use xlink:href=\"#mdf8453bfe6\" x=\"137.553874\" y=\"178.00173\" style=\"fill: #4c72b0; stroke: #333333\"/>\n     <use xlink:href=\"#mdf8453bfe6\" x=\"256.218076\" y=\"86.266478\" style=\"fill: #4c72b0; stroke: #333333\"/>\n     <use xlink:href=\"#mdf8453bfe6\" x=\"242.01589\" y=\"75.725234\" style=\"fill: #4c72b0; stroke: #333333\"/>\n     <use xlink:href=\"#mdf8453bfe6\" x=\"112.152758\" y=\"195.284191\" style=\"fill: #4c72b0; stroke: #333333\"/>\n     <use xlink:href=\"#mdf8453bfe6\" x=\"208.793836\" y=\"83.5877\" style=\"fill: #4c72b0; stroke: #333333\"/>\n     <use xlink:href=\"#mdf8453bfe6\" x=\"223.926333\" y=\"76.090565\" style=\"fill: #4c72b0; stroke: #333333\"/>\n     <use xlink:href=\"#mdf8453bfe6\" x=\"236.132988\" y=\"56.955145\" style=\"fill: #4c72b0; stroke: #333333\"/>\n     <use xlink:href=\"#mdf8453bfe6\" x=\"242.881889\" y=\"84.154835\" style=\"fill: #4c72b0; stroke: #333333\"/>\n     <use xlink:href=\"#mdf8453bfe6\" x=\"120.193576\" y=\"174.913218\" style=\"fill: #4c72b0; stroke: #333333\"/>\n     <use xlink:href=\"#mdf8453bfe6\" x=\"103.78458\" y=\"195.283995\" style=\"fill: #4c72b0; stroke: #333333\"/>\n     <use xlink:href=\"#mdf8453bfe6\" x=\"109.625818\" y=\"190.216829\" style=\"fill: #4c72b0; stroke: #333333\"/>\n     <use xlink:href=\"#mdf8453bfe6\" x=\"125.148291\" y=\"196.937344\" style=\"fill: #4c72b0; stroke: #333333\"/>\n     <use xlink:href=\"#mdf8453bfe6\" x=\"245.419639\" y=\"77.009475\" style=\"fill: #4c72b0; stroke: #333333\"/>\n     <use xlink:href=\"#mdf8453bfe6\" x=\"144.313166\" y=\"169.174906\" style=\"fill: #4c72b0; stroke: #333333\"/>\n     <use xlink:href=\"#mdf8453bfe6\" x=\"229.583076\" y=\"66.985343\" style=\"fill: #4c72b0; stroke: #333333\"/>\n     <use xlink:href=\"#mdf8453bfe6\" x=\"239.499528\" y=\"62.582743\" style=\"fill: #4c72b0; stroke: #333333\"/>\n     <use xlink:href=\"#mdf8453bfe6\" x=\"229.356409\" y=\"69.802017\" style=\"fill: #4c72b0; stroke: #333333\"/>\n     <use xlink:href=\"#mdf8453bfe6\" x=\"102.576489\" y=\"189.254038\" style=\"fill: #4c72b0; stroke: #333333\"/>\n     <use xlink:href=\"#mdf8453bfe6\" x=\"98.539796\" y=\"189.626288\" style=\"fill: #4c72b0; stroke: #333333\"/>\n     <use xlink:href=\"#mdf8453bfe6\" x=\"236.408436\" y=\"88.179515\" style=\"fill: #4c72b0; stroke: #333333\"/>\n     <use xlink:href=\"#mdf8453bfe6\" x=\"110.533863\" y=\"183.049257\" style=\"fill: #4c72b0; stroke: #333333\"/>\n     <use xlink:href=\"#mdf8453bfe6\" x=\"226.204733\" y=\"91.040198\" style=\"fill: #4c72b0; stroke: #333333\"/>\n     <use xlink:href=\"#mdf8453bfe6\" x=\"254.128467\" y=\"77.367126\" style=\"fill: #4c72b0; stroke: #333333\"/>\n     <use xlink:href=\"#mdf8453bfe6\" x=\"115.581397\" y=\"195.022798\" style=\"fill: #4c72b0; stroke: #333333\"/>\n     <use xlink:href=\"#mdf8453bfe6\" x=\"250.582997\" y=\"80.519436\" style=\"fill: #4c72b0; stroke: #333333\"/>\n     <use xlink:href=\"#mdf8453bfe6\" x=\"238.736457\" y=\"74.306977\" style=\"fill: #4c72b0; stroke: #333333\"/>\n     <use xlink:href=\"#mdf8453bfe6\" x=\"155.602225\" y=\"176.224278\" style=\"fill: #4c72b0; stroke: #333333\"/>\n     <use xlink:href=\"#mdf8453bfe6\" x=\"230.925244\" y=\"88.353158\" style=\"fill: #4c72b0; stroke: #333333\"/>\n     <use xlink:href=\"#mdf8453bfe6\" x=\"103.651317\" y=\"186.38212\" style=\"fill: #4c72b0; stroke: #333333\"/>\n     <use xlink:href=\"#mdf8453bfe6\" x=\"225.174396\" y=\"89.750326\" style=\"fill: #4c72b0; stroke: #333333\"/>\n     <use xlink:href=\"#mdf8453bfe6\" x=\"140.17062\" y=\"178.862503\" style=\"fill: #4c72b0; stroke: #333333\"/>\n     <use xlink:href=\"#mdf8453bfe6\" x=\"232.255192\" y=\"61.348506\" style=\"fill: #4c72b0; stroke: #333333\"/>\n     <use xlink:href=\"#mdf8453bfe6\" x=\"109.962609\" y=\"190.7486\" style=\"fill: #4c72b0; stroke: #333333\"/>\n     <use xlink:href=\"#mdf8453bfe6\" x=\"232.881603\" y=\"86.9717\" style=\"fill: #4c72b0; stroke: #333333\"/>\n     <use xlink:href=\"#mdf8453bfe6\" x=\"124.462419\" y=\"189.195165\" style=\"fill: #4c72b0; stroke: #333333\"/>\n     <use xlink:href=\"#mdf8453bfe6\" x=\"127.017763\" y=\"199.477257\" style=\"fill: #4c72b0; stroke: #333333\"/>\n     <use xlink:href=\"#mdf8453bfe6\" x=\"233.444991\" y=\"69.426747\" style=\"fill: #4c72b0; stroke: #333333\"/>\n     <use xlink:href=\"#mdf8453bfe6\" x=\"102.953228\" y=\"182.613347\" style=\"fill: #4c72b0; stroke: #333333\"/>\n     <use xlink:href=\"#mdf8453bfe6\" x=\"224.996423\" y=\"71.431325\" style=\"fill: #4c72b0; stroke: #333333\"/>\n     <use xlink:href=\"#mdf8453bfe6\" x=\"223.880579\" y=\"97.77066\" style=\"fill: #4c72b0; stroke: #333333\"/>\n     <use xlink:href=\"#mdf8453bfe6\" x=\"231.610898\" y=\"91.185872\" style=\"fill: #4c72b0; stroke: #333333\"/>\n     <use xlink:href=\"#mdf8453bfe6\" x=\"132.621368\" y=\"195.034702\" style=\"fill: #4c72b0; stroke: #333333\"/>\n     <use xlink:href=\"#mdf8453bfe6\" x=\"130.729748\" y=\"201.164315\" style=\"fill: #4c72b0; stroke: #333333\"/>\n     <use xlink:href=\"#mdf8453bfe6\" x=\"127.338063\" y=\"172.654013\" style=\"fill: #4c72b0; stroke: #333333\"/>\n     <use xlink:href=\"#mdf8453bfe6\" x=\"204.938002\" y=\"86.594097\" style=\"fill: #4c72b0; stroke: #333333\"/>\n     <use xlink:href=\"#mdf8453bfe6\" x=\"236.458863\" y=\"84.455113\" style=\"fill: #4c72b0; stroke: #333333\"/>\n    </g>\n   </g>\n   <g id=\"PathCollection_2\">\n    <defs>\n     <path id=\"m7ffca31e90\" d=\"M 0 3 \nC 0.795609 3 1.55874 2.683901 2.12132 2.12132 \nC 2.683901 1.55874 3 0.795609 3 0 \nC 3 -0.795609 2.683901 -1.55874 2.12132 -2.12132 \nC 1.55874 -2.683901 0.795609 -3 0 -3 \nC -0.795609 -3 -1.55874 -2.683901 -2.12132 -2.12132 \nC -2.683901 -1.55874 -3 -0.795609 -3 0 \nC -3 0.795609 -2.683901 1.55874 -2.12132 2.12132 \nC -1.55874 2.683901 -0.795609 3 0 3 \nz\n\" style=\"stroke: #333333\"/>\n    </defs>\n    <g clip-path=\"url(#p539c3d1887)\">\n     <use xlink:href=\"#m7ffca31e90\" x=\"113.92348\" y=\"75.18289\" style=\"fill: #dd8452; stroke: #333333\"/>\n     <use xlink:href=\"#m7ffca31e90\" x=\"142.151302\" y=\"72.504264\" style=\"fill: #dd8452; stroke: #333333\"/>\n     <use xlink:href=\"#m7ffca31e90\" x=\"110.656323\" y=\"69.030936\" style=\"fill: #dd8452; stroke: #333333\"/>\n     <use xlink:href=\"#m7ffca31e90\" x=\"241.458596\" y=\"167.606485\" style=\"fill: #dd8452; stroke: #333333\"/>\n     <use xlink:href=\"#m7ffca31e90\" x=\"222.480655\" y=\"197.683829\" style=\"fill: #dd8452; stroke: #333333\"/>\n     <use xlink:href=\"#m7ffca31e90\" x=\"231.488691\" y=\"184.855432\" style=\"fill: #dd8452; stroke: #333333\"/>\n     <use xlink:href=\"#m7ffca31e90\" x=\"237.590846\" y=\"189.445652\" style=\"fill: #dd8452; stroke: #333333\"/>\n     <use xlink:href=\"#m7ffca31e90\" x=\"222.954346\" y=\"205.434752\" style=\"fill: #dd8452; stroke: #333333\"/>\n     <use xlink:href=\"#m7ffca31e90\" x=\"232.989012\" y=\"201.31138\" style=\"fill: #dd8452; stroke: #333333\"/>\n     <use xlink:href=\"#m7ffca31e90\" x=\"133.472466\" y=\"66.073571\" style=\"fill: #dd8452; stroke: #333333\"/>\n     <use xlink:href=\"#m7ffca31e90\" x=\"106.187995\" y=\"88.156727\" style=\"fill: #dd8452; stroke: #333333\"/>\n     <use xlink:href=\"#m7ffca31e90\" x=\"127.174305\" y=\"72.061265\" style=\"fill: #dd8452; stroke: #333333\"/>\n     <use xlink:href=\"#m7ffca31e90\" x=\"238.054438\" y=\"145.919037\" style=\"fill: #dd8452; stroke: #333333\"/>\n     <use xlink:href=\"#m7ffca31e90\" x=\"112.894508\" y=\"80.383972\" style=\"fill: #dd8452; stroke: #333333\"/>\n     <use xlink:href=\"#m7ffca31e90\" x=\"226.961882\" y=\"187.730305\" style=\"fill: #dd8452; stroke: #333333\"/>\n     <use xlink:href=\"#m7ffca31e90\" x=\"116.230813\" y=\"65.68384\" style=\"fill: #dd8452; stroke: #333333\"/>\n     <use xlink:href=\"#m7ffca31e90\" x=\"122.176331\" y=\"89.708161\" style=\"fill: #dd8452; stroke: #333333\"/>\n     <use xlink:href=\"#m7ffca31e90\" x=\"113.365289\" y=\"75.358027\" style=\"fill: #dd8452; stroke: #333333\"/>\n     <use xlink:href=\"#m7ffca31e90\" x=\"121.968894\" y=\"84.98307\" style=\"fill: #dd8452; stroke: #333333\"/>\n     <use xlink:href=\"#m7ffca31e90\" x=\"145.235645\" y=\"70.729228\" style=\"fill: #dd8452; stroke: #333333\"/>\n     <use xlink:href=\"#m7ffca31e90\" x=\"225.005708\" y=\"179.186344\" style=\"fill: #dd8452; stroke: #333333\"/>\n     <use xlink:href=\"#m7ffca31e90\" x=\"218.362914\" y=\"178.460871\" style=\"fill: #dd8452; stroke: #333333\"/>\n     <use xlink:href=\"#m7ffca31e90\" x=\"144.994061\" y=\"66.310145\" style=\"fill: #dd8452; stroke: #333333\"/>\n     <use xlink:href=\"#m7ffca31e90\" x=\"222.06579\" y=\"189.298142\" style=\"fill: #dd8452; stroke: #333333\"/>\n     <use xlink:href=\"#m7ffca31e90\" x=\"196.404423\" y=\"199.996535\" style=\"fill: #dd8452; stroke: #333333\"/>\n     <use xlink:href=\"#m7ffca31e90\" x=\"139.563771\" y=\"93.615532\" style=\"fill: #dd8452; stroke: #333333\"/>\n     <use xlink:href=\"#m7ffca31e90\" x=\"116.584381\" y=\"76.308475\" style=\"fill: #dd8452; stroke: #333333\"/>\n     <use xlink:href=\"#m7ffca31e90\" x=\"248.324436\" y=\"204.558965\" style=\"fill: #dd8452; stroke: #333333\"/>\n     <use xlink:href=\"#m7ffca31e90\" x=\"245.240747\" y=\"188.524661\" style=\"fill: #dd8452; stroke: #333333\"/>\n     <use xlink:href=\"#m7ffca31e90\" x=\"221.460628\" y=\"183.514322\" style=\"fill: #dd8452; stroke: #333333\"/>\n     <use xlink:href=\"#m7ffca31e90\" x=\"123.670768\" y=\"84.413331\" style=\"fill: #dd8452; stroke: #333333\"/>\n     <use xlink:href=\"#m7ffca31e90\" x=\"233.117556\" y=\"192.910482\" style=\"fill: #dd8452; stroke: #333333\"/>\n     <use xlink:href=\"#m7ffca31e90\" x=\"249.929344\" y=\"202.363023\" style=\"fill: #dd8452; stroke: #333333\"/>\n     <use xlink:href=\"#m7ffca31e90\" x=\"225.808717\" y=\"179.217737\" style=\"fill: #dd8452; stroke: #333333\"/>\n     <use xlink:href=\"#m7ffca31e90\" x=\"242.318356\" y=\"185.230788\" style=\"fill: #dd8452; stroke: #333333\"/>\n     <use xlink:href=\"#m7ffca31e90\" x=\"112.271697\" y=\"83.969413\" style=\"fill: #dd8452; stroke: #333333\"/>\n     <use xlink:href=\"#m7ffca31e90\" x=\"135.630342\" y=\"84.317468\" style=\"fill: #dd8452; stroke: #333333\"/>\n     <use xlink:href=\"#m7ffca31e90\" x=\"127.529809\" y=\"80.000037\" style=\"fill: #dd8452; stroke: #333333\"/>\n     <use xlink:href=\"#m7ffca31e90\" x=\"119.049944\" y=\"65.574885\" style=\"fill: #dd8452; stroke: #333333\"/>\n     <use xlink:href=\"#m7ffca31e90\" x=\"239.905093\" y=\"192.078363\" style=\"fill: #dd8452; stroke: #333333\"/>\n     <use xlink:href=\"#m7ffca31e90\" x=\"235.937944\" y=\"190.081151\" style=\"fill: #dd8452; stroke: #333333\"/>\n     <use xlink:href=\"#m7ffca31e90\" x=\"122.539085\" y=\"71.159023\" style=\"fill: #dd8452; stroke: #333333\"/>\n     <use xlink:href=\"#m7ffca31e90\" x=\"223.27116\" y=\"165.437735\" style=\"fill: #dd8452; stroke: #333333\"/>\n     <use xlink:href=\"#m7ffca31e90\" x=\"110.308873\" y=\"91.221045\" style=\"fill: #dd8452; stroke: #333333\"/>\n     <use xlink:href=\"#m7ffca31e90\" x=\"243.155725\" y=\"190.268697\" style=\"fill: #dd8452; stroke: #333333\"/>\n     <use xlink:href=\"#m7ffca31e90\" x=\"236.922178\" y=\"194.888703\" style=\"fill: #dd8452; stroke: #333333\"/>\n     <use xlink:href=\"#m7ffca31e90\" x=\"112.346814\" y=\"75.056117\" style=\"fill: #dd8452; stroke: #333333\"/>\n     <use xlink:href=\"#m7ffca31e90\" x=\"105.407234\" y=\"93.364081\" style=\"fill: #dd8452; stroke: #333333\"/>\n     <use xlink:href=\"#m7ffca31e90\" x=\"130.973324\" y=\"79.531521\" style=\"fill: #dd8452; stroke: #333333\"/>\n     <use xlink:href=\"#m7ffca31e90\" x=\"232.138319\" y=\"191.838772\" style=\"fill: #dd8452; stroke: #333333\"/>\n     <use xlink:href=\"#m7ffca31e90\" x=\"238.102102\" y=\"171.643115\" style=\"fill: #dd8452; stroke: #333333\"/>\n     <use xlink:href=\"#m7ffca31e90\" x=\"233.426631\" y=\"197.209258\" style=\"fill: #dd8452; stroke: #333333\"/>\n     <use xlink:href=\"#m7ffca31e90\" x=\"232.615368\" y=\"183.11632\" style=\"fill: #dd8452; stroke: #333333\"/>\n     <use xlink:href=\"#m7ffca31e90\" x=\"145.744129\" y=\"86.720533\" style=\"fill: #dd8452; stroke: #333333\"/>\n     <use xlink:href=\"#m7ffca31e90\" x=\"111.501972\" y=\"72.303721\" style=\"fill: #dd8452; stroke: #333333\"/>\n     <use xlink:href=\"#m7ffca31e90\" x=\"217.704846\" y=\"168.33091\" style=\"fill: #dd8452; stroke: #333333\"/>\n     <use xlink:href=\"#m7ffca31e90\" x=\"245.421225\" y=\"193.840345\" style=\"fill: #dd8452; stroke: #333333\"/>\n     <use xlink:href=\"#m7ffca31e90\" x=\"102.468358\" y=\"62.746394\" style=\"fill: #dd8452; stroke: #333333\"/>\n     <use xlink:href=\"#m7ffca31e90\" x=\"232.401739\" y=\"188.117204\" style=\"fill: #dd8452; stroke: #333333\"/>\n     <use xlink:href=\"#m7ffca31e90\" x=\"227.353265\" y=\"181.731965\" style=\"fill: #dd8452; stroke: #333333\"/>\n     <use xlink:href=\"#m7ffca31e90\" x=\"122.797432\" y=\"72.054022\" style=\"fill: #dd8452; stroke: #333333\"/>\n     <use xlink:href=\"#m7ffca31e90\" x=\"240.233982\" y=\"201.108157\" style=\"fill: #dd8452; stroke: #333333\"/>\n     <use xlink:href=\"#m7ffca31e90\" x=\"104.453336\" y=\"63.591244\" style=\"fill: #dd8452; stroke: #333333\"/>\n     <use xlink:href=\"#m7ffca31e90\" x=\"138.662767\" y=\"76.475524\" style=\"fill: #dd8452; stroke: #333333\"/>\n     <use xlink:href=\"#m7ffca31e90\" x=\"110.764523\" y=\"70.151182\" style=\"fill: #dd8452; stroke: #333333\"/>\n     <use xlink:href=\"#m7ffca31e90\" x=\"133.199404\" y=\"97.259027\" style=\"fill: #dd8452; stroke: #333333\"/>\n     <use xlink:href=\"#m7ffca31e90\" x=\"108.343623\" y=\"100.369132\" style=\"fill: #dd8452; stroke: #333333\"/>\n     <use xlink:href=\"#m7ffca31e90\" x=\"249.001723\" y=\"187.816562\" style=\"fill: #dd8452; stroke: #333333\"/>\n     <use xlink:href=\"#m7ffca31e90\" x=\"250.401686\" y=\"203.94069\" style=\"fill: #dd8452; stroke: #333333\"/>\n     <use xlink:href=\"#m7ffca31e90\" x=\"125.722111\" y=\"78.120646\" style=\"fill: #dd8452; stroke: #333333\"/>\n     <use xlink:href=\"#m7ffca31e90\" x=\"106.999635\" y=\"70.332796\" style=\"fill: #dd8452; stroke: #333333\"/>\n     <use xlink:href=\"#m7ffca31e90\" x=\"226.645835\" y=\"200.382684\" style=\"fill: #dd8452; stroke: #333333\"/>\n     <use xlink:href=\"#m7ffca31e90\" x=\"120.768608\" y=\"67.167513\" style=\"fill: #dd8452; stroke: #333333\"/>\n     <use xlink:href=\"#m7ffca31e90\" x=\"115.584097\" y=\"86.5495\" style=\"fill: #dd8452; stroke: #333333\"/>\n     <use xlink:href=\"#m7ffca31e90\" x=\"231.156842\" y=\"200.116892\" style=\"fill: #dd8452; stroke: #333333\"/>\n     <use xlink:href=\"#m7ffca31e90\" x=\"224.585035\" y=\"186.265516\" style=\"fill: #dd8452; stroke: #333333\"/>\n     <use xlink:href=\"#m7ffca31e90\" x=\"231.098102\" y=\"191.088236\" style=\"fill: #dd8452; stroke: #333333\"/>\n     <use xlink:href=\"#m7ffca31e90\" x=\"128.273474\" y=\"69.358873\" style=\"fill: #dd8452; stroke: #333333\"/>\n     <use xlink:href=\"#m7ffca31e90\" x=\"118.41382\" y=\"103.281828\" style=\"fill: #dd8452; stroke: #333333\"/>\n     <use xlink:href=\"#m7ffca31e90\" x=\"215.543154\" y=\"173.482223\" style=\"fill: #dd8452; stroke: #333333\"/>\n     <use xlink:href=\"#m7ffca31e90\" x=\"223.957177\" y=\"204.408074\" style=\"fill: #dd8452; stroke: #333333\"/>\n     <use xlink:href=\"#m7ffca31e90\" x=\"122.321454\" y=\"87.308044\" style=\"fill: #dd8452; stroke: #333333\"/>\n     <use xlink:href=\"#m7ffca31e90\" x=\"138.351994\" y=\"71.782684\" style=\"fill: #dd8452; stroke: #333333\"/>\n     <use xlink:href=\"#m7ffca31e90\" x=\"111.754739\" y=\"93.090609\" style=\"fill: #dd8452; stroke: #333333\"/>\n     <use xlink:href=\"#m7ffca31e90\" x=\"242.61305\" y=\"167.466514\" style=\"fill: #dd8452; stroke: #333333\"/>\n     <use xlink:href=\"#m7ffca31e90\" x=\"216.836277\" y=\"182.395922\" style=\"fill: #dd8452; stroke: #333333\"/>\n     <use xlink:href=\"#m7ffca31e90\" x=\"114.249269\" y=\"83.159373\" style=\"fill: #dd8452; stroke: #333333\"/>\n     <use xlink:href=\"#m7ffca31e90\" x=\"225.77513\" y=\"198.218055\" style=\"fill: #dd8452; stroke: #333333\"/>\n     <use xlink:href=\"#m7ffca31e90\" x=\"229.69414\" y=\"198.701191\" style=\"fill: #dd8452; stroke: #333333\"/>\n     <use xlink:href=\"#m7ffca31e90\" x=\"115.068353\" y=\"69.382348\" style=\"fill: #dd8452; stroke: #333333\"/>\n     <use xlink:href=\"#m7ffca31e90\" x=\"103.417404\" y=\"77.224954\" style=\"fill: #dd8452; stroke: #333333\"/>\n     <use xlink:href=\"#m7ffca31e90\" x=\"235.223397\" y=\"198.665188\" style=\"fill: #dd8452; stroke: #333333\"/>\n     <use xlink:href=\"#m7ffca31e90\" x=\"239.424305\" y=\"207.061059\" style=\"fill: #dd8452; stroke: #333333\"/>\n     <use xlink:href=\"#m7ffca31e90\" x=\"225.116032\" y=\"188.112569\" style=\"fill: #dd8452; stroke: #333333\"/>\n     <use xlink:href=\"#m7ffca31e90\" x=\"111.92333\" y=\"82.022076\" style=\"fill: #dd8452; stroke: #333333\"/>\n     <use xlink:href=\"#m7ffca31e90\" x=\"127.86217\" y=\"80.009495\" style=\"fill: #dd8452; stroke: #333333\"/>\n     <use xlink:href=\"#m7ffca31e90\" x=\"233.303704\" y=\"190.364274\" style=\"fill: #dd8452; stroke: #333333\"/>\n    </g>\n   </g>\n   <g id=\"patch_3\">\n    <path d=\"M 66.023594 244.078125 \nL 66.023594 22.318125 \n\" style=\"fill: none; stroke: #ffffff; stroke-width: 1.25; stroke-linejoin: miter; stroke-linecap: square\"/>\n   </g>\n   <g id=\"patch_4\">\n    <path d=\"M 287.783594 244.078125 \nL 287.783594 22.318125 \n\" style=\"fill: none; stroke: #ffffff; stroke-width: 1.25; stroke-linejoin: miter; stroke-linecap: square\"/>\n   </g>\n   <g id=\"patch_5\">\n    <path d=\"M 66.023594 244.078125 \nL 287.783594 244.078125 \n\" style=\"fill: none; stroke: #ffffff; stroke-width: 1.25; stroke-linejoin: miter; stroke-linecap: square\"/>\n   </g>\n   <g id=\"patch_6\">\n    <path d=\"M 66.023594 22.318125 \nL 287.783594 22.318125 \n\" style=\"fill: none; stroke: #ffffff; stroke-width: 1.25; stroke-linejoin: miter; stroke-linecap: square\"/>\n   </g>\n   <g id=\"text_17\">\n    <!-- Dataset samples -->\n    <g style=\"fill: #262626\" transform=\"translate(126.560781 16.318125) scale(0.12 -0.12)\">\n     <defs>\n      <path id=\"DejaVuSans-44\" d=\"M 1259 4147 \nL 1259 519 \nL 2022 519 \nQ 2988 519 3436 956 \nQ 3884 1394 3884 2338 \nQ 3884 3275 3436 3711 \nQ 2988 4147 2022 4147 \nL 1259 4147 \nz\nM 628 4666 \nL 1925 4666 \nQ 3281 4666 3915 4102 \nQ 4550 3538 4550 2338 \nQ 4550 1131 3912 565 \nQ 3275 0 1925 0 \nL 628 0 \nL 628 4666 \nz\n\" transform=\"scale(0.015625)\"/>\n      <path id=\"DejaVuSans-61\" d=\"M 2194 1759 \nQ 1497 1759 1228 1600 \nQ 959 1441 959 1056 \nQ 959 750 1161 570 \nQ 1363 391 1709 391 \nQ 2188 391 2477 730 \nQ 2766 1069 2766 1631 \nL 2766 1759 \nL 2194 1759 \nz\nM 3341 1997 \nL 3341 0 \nL 2766 0 \nL 2766 531 \nQ 2569 213 2275 61 \nQ 1981 -91 1556 -91 \nQ 1019 -91 701 211 \nQ 384 513 384 1019 \nQ 384 1609 779 1909 \nQ 1175 2209 1959 2209 \nL 2766 2209 \nL 2766 2266 \nQ 2766 2663 2505 2880 \nQ 2244 3097 1772 3097 \nQ 1472 3097 1187 3025 \nQ 903 2953 641 2809 \nL 641 3341 \nQ 956 3463 1253 3523 \nQ 1550 3584 1831 3584 \nQ 2591 3584 2966 3190 \nQ 3341 2797 3341 1997 \nz\n\" transform=\"scale(0.015625)\"/>\n      <path id=\"DejaVuSans-74\" d=\"M 1172 4494 \nL 1172 3500 \nL 2356 3500 \nL 2356 3053 \nL 1172 3053 \nL 1172 1153 \nQ 1172 725 1289 603 \nQ 1406 481 1766 481 \nL 2356 481 \nL 2356 0 \nL 1766 0 \nQ 1100 0 847 248 \nQ 594 497 594 1153 \nL 594 3053 \nL 172 3053 \nL 172 3500 \nL 594 3500 \nL 594 4494 \nL 1172 4494 \nz\n\" transform=\"scale(0.015625)\"/>\n      <path id=\"DejaVuSans-73\" d=\"M 2834 3397 \nL 2834 2853 \nQ 2591 2978 2328 3040 \nQ 2066 3103 1784 3103 \nQ 1356 3103 1142 2972 \nQ 928 2841 928 2578 \nQ 928 2378 1081 2264 \nQ 1234 2150 1697 2047 \nL 1894 2003 \nQ 2506 1872 2764 1633 \nQ 3022 1394 3022 966 \nQ 3022 478 2636 193 \nQ 2250 -91 1575 -91 \nQ 1294 -91 989 -36 \nQ 684 19 347 128 \nL 347 722 \nQ 666 556 975 473 \nQ 1284 391 1588 391 \nQ 1994 391 2212 530 \nQ 2431 669 2431 922 \nQ 2431 1156 2273 1281 \nQ 2116 1406 1581 1522 \nL 1381 1569 \nQ 847 1681 609 1914 \nQ 372 2147 372 2553 \nQ 372 3047 722 3315 \nQ 1072 3584 1716 3584 \nQ 2034 3584 2315 3537 \nQ 2597 3491 2834 3397 \nz\n\" transform=\"scale(0.015625)\"/>\n      <path id=\"DejaVuSans-65\" d=\"M 3597 1894 \nL 3597 1613 \nL 953 1613 \nQ 991 1019 1311 708 \nQ 1631 397 2203 397 \nQ 2534 397 2845 478 \nQ 3156 559 3463 722 \nL 3463 178 \nQ 3153 47 2828 -22 \nQ 2503 -91 2169 -91 \nQ 1331 -91 842 396 \nQ 353 884 353 1716 \nQ 353 2575 817 3079 \nQ 1281 3584 2069 3584 \nQ 2775 3584 3186 3129 \nQ 3597 2675 3597 1894 \nz\nM 3022 2063 \nQ 3016 2534 2758 2815 \nQ 2500 3097 2075 3097 \nQ 1594 3097 1305 2825 \nQ 1016 2553 972 2059 \nL 3022 2063 \nz\n\" transform=\"scale(0.015625)\"/>\n      <path id=\"DejaVuSans-20\" transform=\"scale(0.015625)\"/>\n      <path id=\"DejaVuSans-6d\" d=\"M 3328 2828 \nQ 3544 3216 3844 3400 \nQ 4144 3584 4550 3584 \nQ 5097 3584 5394 3201 \nQ 5691 2819 5691 2113 \nL 5691 0 \nL 5113 0 \nL 5113 2094 \nQ 5113 2597 4934 2840 \nQ 4756 3084 4391 3084 \nQ 3944 3084 3684 2787 \nQ 3425 2491 3425 1978 \nL 3425 0 \nL 2847 0 \nL 2847 2094 \nQ 2847 2600 2669 2842 \nQ 2491 3084 2119 3084 \nQ 1678 3084 1418 2786 \nQ 1159 2488 1159 1978 \nL 1159 0 \nL 581 0 \nL 581 3500 \nL 1159 3500 \nL 1159 2956 \nQ 1356 3278 1631 3431 \nQ 1906 3584 2284 3584 \nQ 2666 3584 2933 3390 \nQ 3200 3197 3328 2828 \nz\n\" transform=\"scale(0.015625)\"/>\n      <path id=\"DejaVuSans-70\" d=\"M 1159 525 \nL 1159 -1331 \nL 581 -1331 \nL 581 3500 \nL 1159 3500 \nL 1159 2969 \nQ 1341 3281 1617 3432 \nQ 1894 3584 2278 3584 \nQ 2916 3584 3314 3078 \nQ 3713 2572 3713 1747 \nQ 3713 922 3314 415 \nQ 2916 -91 2278 -91 \nQ 1894 -91 1617 61 \nQ 1341 213 1159 525 \nz\nM 3116 1747 \nQ 3116 2381 2855 2742 \nQ 2594 3103 2138 3103 \nQ 1681 3103 1420 2742 \nQ 1159 2381 1159 1747 \nQ 1159 1113 1420 752 \nQ 1681 391 2138 391 \nQ 2594 391 2855 752 \nQ 3116 1113 3116 1747 \nz\n\" transform=\"scale(0.015625)\"/>\n      <path id=\"DejaVuSans-6c\" d=\"M 603 4863 \nL 1178 4863 \nL 1178 0 \nL 603 0 \nL 603 4863 \nz\n\" transform=\"scale(0.015625)\"/>\n     </defs>\n     <use xlink:href=\"#DejaVuSans-44\"/>\n     <use xlink:href=\"#DejaVuSans-61\" x=\"77.001953\"/>\n     <use xlink:href=\"#DejaVuSans-74\" x=\"138.28125\"/>\n     <use xlink:href=\"#DejaVuSans-61\" x=\"177.490234\"/>\n     <use xlink:href=\"#DejaVuSans-73\" x=\"238.769531\"/>\n     <use xlink:href=\"#DejaVuSans-65\" x=\"290.869141\"/>\n     <use xlink:href=\"#DejaVuSans-74\" x=\"352.392578\"/>\n     <use xlink:href=\"#DejaVuSans-20\" x=\"391.601562\"/>\n     <use xlink:href=\"#DejaVuSans-73\" x=\"423.388672\"/>\n     <use xlink:href=\"#DejaVuSans-61\" x=\"475.488281\"/>\n     <use xlink:href=\"#DejaVuSans-6d\" x=\"536.767578\"/>\n     <use xlink:href=\"#DejaVuSans-70\" x=\"634.179688\"/>\n     <use xlink:href=\"#DejaVuSans-6c\" x=\"697.65625\"/>\n     <use xlink:href=\"#DejaVuSans-65\" x=\"725.439453\"/>\n     <use xlink:href=\"#DejaVuSans-73\" x=\"786.962891\"/>\n    </g>\n   </g>\n   <g id=\"legend_1\">\n    <g id=\"patch_7\">\n     <path d=\"M 73.723594 150.994063 \nL 148.356875 150.994063 \nQ 150.556875 150.994063 150.556875 148.794063 \nL 150.556875 117.602188 \nQ 150.556875 115.402188 148.356875 115.402188 \nL 73.723594 115.402188 \nQ 71.523594 115.402188 71.523594 117.602188 \nL 71.523594 148.794063 \nQ 71.523594 150.994063 73.723594 150.994063 \nz\n\" style=\"fill: #eaeaf2; opacity: 0.8; stroke: #cccccc; stroke-linejoin: miter\"/>\n    </g>\n    <g id=\"PathCollection_3\">\n     <g>\n      <use xlink:href=\"#mdf8453bfe6\" x=\"86.923594\" y=\"125.272969\" style=\"fill: #4c72b0; stroke: #333333\"/>\n     </g>\n    </g>\n    <g id=\"text_18\">\n     <!-- Class 0 -->\n     <g style=\"fill: #262626\" transform=\"translate(106.723594 128.160469) scale(0.11 -0.11)\">\n      <defs>\n       <path id=\"DejaVuSans-43\" d=\"M 4122 4306 \nL 4122 3641 \nQ 3803 3938 3442 4084 \nQ 3081 4231 2675 4231 \nQ 1875 4231 1450 3742 \nQ 1025 3253 1025 2328 \nQ 1025 1406 1450 917 \nQ 1875 428 2675 428 \nQ 3081 428 3442 575 \nQ 3803 722 4122 1019 \nL 4122 359 \nQ 3791 134 3420 21 \nQ 3050 -91 2638 -91 \nQ 1578 -91 968 557 \nQ 359 1206 359 2328 \nQ 359 3453 968 4101 \nQ 1578 4750 2638 4750 \nQ 3056 4750 3426 4639 \nQ 3797 4528 4122 4306 \nz\n\" transform=\"scale(0.015625)\"/>\n      </defs>\n      <use xlink:href=\"#DejaVuSans-43\"/>\n      <use xlink:href=\"#DejaVuSans-6c\" x=\"69.824219\"/>\n      <use xlink:href=\"#DejaVuSans-61\" x=\"97.607422\"/>\n      <use xlink:href=\"#DejaVuSans-73\" x=\"158.886719\"/>\n      <use xlink:href=\"#DejaVuSans-73\" x=\"210.986328\"/>\n      <use xlink:href=\"#DejaVuSans-20\" x=\"263.085938\"/>\n      <use xlink:href=\"#DejaVuSans-30\" x=\"294.873047\"/>\n     </g>\n    </g>\n    <g id=\"PathCollection_4\">\n     <g>\n      <use xlink:href=\"#m7ffca31e90\" x=\"86.923594\" y=\"141.418906\" style=\"fill: #dd8452; stroke: #333333\"/>\n     </g>\n    </g>\n    <g id=\"text_19\">\n     <!-- Class 1 -->\n     <g style=\"fill: #262626\" transform=\"translate(106.723594 144.306406) scale(0.11 -0.11)\">\n      <use xlink:href=\"#DejaVuSans-43\"/>\n      <use xlink:href=\"#DejaVuSans-6c\" x=\"69.824219\"/>\n      <use xlink:href=\"#DejaVuSans-61\" x=\"97.607422\"/>\n      <use xlink:href=\"#DejaVuSans-73\" x=\"158.886719\"/>\n      <use xlink:href=\"#DejaVuSans-73\" x=\"210.986328\"/>\n      <use xlink:href=\"#DejaVuSans-20\" x=\"263.085938\"/>\n      <use xlink:href=\"#DejaVuSans-31\" x=\"294.873047\"/>\n     </g>\n    </g>\n   </g>\n  </g>\n </g>\n <defs>\n  <clipPath id=\"p539c3d1887\">\n   <rect x=\"66.023594\" y=\"22.318125\" width=\"221.76\" height=\"221.76\"/>\n  </clipPath>\n </defs>\n</svg>\n",
      "text/plain": [
       "<Figure size 2000x2000 with 1 Axes>"
      ]
     },
     "metadata": {},
     "output_type": "display_data"
    }
   ],
   "source": [
    "def visualize_classification(model, data, label):\n",
    "    data_0 = data[label == 0]\n",
    "    data_1 = data[label == 1]\n",
    "\n",
    "    fig = plt.figure(figsize=(4, 4), dpi=500)\n",
    "    plt.scatter(data_0[:, 0], data_0[:, 1], edgecolor=\"#333\", label=\"Class 0\")\n",
    "    plt.scatter(data_1[:, 0], data_1[:, 1], edgecolor=\"#333\", label=\"Class 1\")\n",
    "    plt.title(\"Dataset samples\")\n",
    "    plt.ylabel(r\"$x_2$\")\n",
    "    plt.xlabel(r\"$x_1$\")\n",
    "    plt.legend()\n",
    "\n",
    "    # Let's make use of a lot of operations we have learned above\n",
    "    c0 = np.array(to_rgba(\"C0\"))\n",
    "    c1 = np.array(to_rgba(\"C1\"))\n",
    "    x1 = jnp.arange(-0.5, 1.5, step=0.01)\n",
    "    x2 = jnp.arange(-0.5, 1.5, step=0.01)\n",
    "    xx1, xx2 = jnp.meshgrid(x1, x2, indexing=\"ij\")  # Meshgrid function as in numpy\n",
    "    model_inputs = np.stack([xx1, xx2], axis=-1)\n",
    "    logits = model(model_inputs)\n",
    "    preds = nn.sigmoid(logits)\n",
    "    output_image = (1 - preds) * c0[None, None] + preds * c1[\n",
    "        None, None\n",
    "    ]  # Specifying \"None\" in a dimension creates a new one\n",
    "    output_image = jax.device_get(\n",
    "        output_image\n",
    "    )  # Convert to numpy array. This only works for tensors on CPU, hence first push to CPU\n",
    "    plt.imshow(output_image, origin=\"lower\", extent=(-0.5, 1.5, -0.5, 1.5))\n",
    "    plt.grid(False)\n",
    "    return fig\n",
    "\n",
    "\n",
    "_ = visualize_classification(trained_model, dataset.data, dataset.label)\n",
    "plt.show()"
   ]
  },
  {
   "cell_type": "markdown",
   "id": "a55bb0f7",
   "metadata": {},
   "source": [
    "The decision boundaries might not look exactly as in the figure in the preamble of this section, since this has been created with the PyTorch version of the tutorial. Nevertheless, the result on the accuracy metric should be the approximately the same. "
   ]
  },
  {
   "cell_type": "markdown",
   "id": "e32cc81e",
   "metadata": {},
   "source": [
    "### Conclusion\n",
    "\n",
    "This concludes our tutorial on training a neural network with JAX. While the functional programming perspective of JAX may seem very different to PyTorch at first, it enables a considerable speedup in training, not only for tiny models like here. If you are interested in seeing more practical use cases of JAX, we recommend checking out our other JAX Tutorials, such as:\n",
    "\n",
    "* [Tutorial 5 (JAX): Inception, ResNet and DenseNet](https://uvadlc-notebooks.readthedocs.io/en/latest/tutorial_notebooks/JAX/tutorial5/Inception_ResNet_DenseNet.html) gives an intro to training convolutional classifiers on CIFAR10;\n",
    "* [Tutorial 6 (JAX): Transformers and Multi-Head Attention](https://uvadlc-notebooks.readthedocs.io/en/latest/tutorial_notebooks/JAX/tutorial6/Transformers_and_MHAttention.html) builds a Transformer from scratch with Flax;\n",
    "* [Tutorial 7 (JAX): Graph Neural Networks](https://uvadlc-notebooks.readthedocs.io/en/latest/tutorial_notebooks/JAX/tutorial7/GNN_overview.html) implements basic Graph Neural Network layers;\n",
    "* [Tutorial 9 (JAX): Deep Autoencoders](https://uvadlc-notebooks.readthedocs.io/en/latest/tutorial_notebooks/JAX/tutorial9/AE_CIFAR10.html) shows how to train autoencoders on CIFAR10;\n",
    "* [Tutorial 11 (JAX): Normalizing Flows for image modeling](https://uvadlc-notebooks.readthedocs.io/en/latest/tutorial_notebooks/JAX/tutorial11/NF_image_modeling.html) discusses Normalizing Flows as generative model on images;\n",
    "* [Tutorial 15 (JAX): Vision Transformers](https://uvadlc-notebooks.readthedocs.io/en/latest/tutorial_notebooks/JAX/tutorial15/Vision_Transformer.html) trains a Transformer on image classification for CIFAR10."
   ]
  },
  {
   "cell_type": "markdown",
   "id": "308c6ef4",
   "metadata": {},
   "source": [
    "## ✨ The Fancy Bits ✨\n",
    "\n",
    "After reading this tutorial, you might wonder why we left out some key advertisement points of JAX: automatic vectorization, easy parallelization on multiple accelerators, etc. The reason why we did not include them in our previous discuss is that for building simple networks, and actual most models in our tutorials, you do not really need these methods. However, since they can be handy at some times, for instance, if you have access to a large cluster or are faced with functions that are annoying to vectorize, we review them here in a separate section: the Fancy Bits of JAX (the title is inspired by JAX's tutorial [🔪 JAX - The Sharp Bits 🔪](https://jax.readthedocs.io/en/latest/notebooks/Common_Gotchas_in_JAX.html))."
   ]
  },
  {
   "cell_type": "markdown",
   "id": "84ffa266",
   "metadata": {},
   "source": [
    "### Automatic Vectorization with vmap\n",
    "\n",
    "In machine learning, we often vectorize methods to efficiently process multiple inputs or batch elements at the same time. Usually, we have to write the code ourselves to support additional dimensions to vectorize over. However, since JAX can already transform functions to run efficiently on accelerators or calculate gradients, it can also automatically vectorize a function. For instance, let's consider a simple linear layer where we write a function for a single input `x` of shape `[c_in]`, a weight matrix `[c_in, c_out]`, and a bias vector `[c_out]`: "
   ]
  },
  {
   "cell_type": "code",
   "execution_count": 63,
   "id": "cf303717",
   "metadata": {},
   "outputs": [],
   "source": [
    "def simple_linear(x, w, b):\n",
    "    # We could already vectorize this function with matmul, but as an example,\n",
    "    # let us use a non-vectorized function with same output\n",
    "    return (x[:, None] * w).sum(axis=0) + b"
   ]
  },
  {
   "cell_type": "code",
   "execution_count": 64,
   "id": "6d7ae3f9",
   "metadata": {},
   "outputs": [
    {
     "data": {
      "text/plain": [
       "Array([-0.5393317,  1.4906642,  0.7108946], dtype=float32)"
      ]
     },
     "execution_count": 64,
     "metadata": {},
     "output_type": "execute_result"
    }
   ],
   "source": [
    "# Example inputs\n",
    "rng, x_rng, w_rng, b_rng = jax.random.split(rng, 4)\n",
    "x_in = jax.random.normal(x_rng, (4,))\n",
    "w_in = jax.random.normal(w_rng, (4, 3))\n",
    "b_in = jax.random.normal(b_rng, (3,))\n",
    "\n",
    "simple_linear(x_in, w_in, b_in)"
   ]
  },
  {
   "cell_type": "markdown",
   "id": "ff73b578",
   "metadata": {},
   "source": [
    "Now, we would like the function to support a batch dimension on `x`, i.e. `[batch, c_in]`. Our naive implementation above does not support this, since we specialized the axis we sum over. So, let's make JAX do the work for us and vectorize the function by using `jax.vmap`:"
   ]
  },
  {
   "cell_type": "code",
   "execution_count": 65,
   "id": "e77d9ada",
   "metadata": {},
   "outputs": [],
   "source": [
    "vectorized_linear = jax.vmap(\n",
    "    simple_linear,\n",
    "    in_axes=(0, None, None),  # Which axes to vectorize for each input\n",
    "    out_axes=0,  # Which axes to map to in the output\n",
    ")"
   ]
  },
  {
   "cell_type": "markdown",
   "id": "9c8dc7f0",
   "metadata": {},
   "source": [
    "Specifying `None` for the in-axes of the input arguments `w` and `b` means that we do not want to vectorize any of their input dimensions. With this vmap specification, the function `vectorized_linear` now supports an extra batch dimension in `x`! Let's try it out:"
   ]
  },
  {
   "cell_type": "code",
   "execution_count": 66,
   "id": "4db1aab2",
   "metadata": {},
   "outputs": [
    {
     "data": {
      "text/plain": [
       "Array([[-0.5393317,  1.4906642,  0.7108946],\n",
       "       [-0.5393317,  1.4906642,  0.7108946],\n",
       "       [-0.5393317,  1.4906642,  0.7108946],\n",
       "       [-0.5393317,  1.4906642,  0.7108946],\n",
       "       [-0.5393317,  1.4906642,  0.7108946]], dtype=float32)"
      ]
     },
     "execution_count": 66,
     "metadata": {},
     "output_type": "execute_result"
    }
   ],
   "source": [
    "x_vec_in = jnp.stack([x_in] * 5, axis=0)\n",
    "\n",
    "vectorized_linear(x_vec_in, w_in, b_in)"
   ]
  },
  {
   "cell_type": "markdown",
   "id": "94883303",
   "metadata": {},
   "source": [
    "The new function indeed vectorized our code, calculating $N$ applications of the weights and bias to the input. We can also vectorize the code to run multiple inputs `x` on multiple weights `w` and biases `b` by changing the input argument `in_axes` to `(0, 0, 0)`, or simply `0`. Morever, we can again stack multiple function transformations, such as jitting a vectorized function. Further details on `jax.vmap` can be found in this [tutorial](\n",
    "https://jax.readthedocs.io/en/latest/jax-101/03-vectorization.html\n",
    ") and its [documentation](https://jax.readthedocs.io/en/latest/_autosummary/jax.vmap.html?highlight=vmap)."
   ]
  },
  {
   "cell_type": "markdown",
   "id": "15684cf7",
   "metadata": {},
   "source": [
    "### Parallel evaluation with pmap\n",
    "\n",
    "`jax.vmap` vectorizes a function on a single accelerator. But what if we have multiple GPUs or TPUs available? In PyTorch, we can parallelize a model over multiple GPUs using `nn.DistributedDataParallel`. In JAX, this is yet another function transformation: `jax.pmap`. Similar to `jax.vmap`, we can specify over which axes each input should be parallelized. In a network training, we usually want to parallelize over an extra batch dimension in the data, while the parameters are identical for all devices. For more details on `jax.pmap`, see [Parallel Evaluation in JAX](https://jax.readthedocs.io/en/latest/jax-101/06-parallelism.html)."
   ]
  },
  {
   "cell_type": "markdown",
   "id": "62796a4e",
   "metadata": {},
   "source": [
    "### Working with PyTrees\n",
    "\n",
    "Network parameters in Flax are stored in a PyTree. We have visited them before, but what we haven't discuss yet is JAX's utilities to operate on pytrees! One common application is to obtain a list of all parameters in the network. This corresponds to extracting all leafs from a PyTree, for which JAX provides the function `jax.tree_leaves`:"
   ]
  },
  {
   "cell_type": "code",
   "execution_count": 67,
   "id": "8e4bd2af",
   "metadata": {},
   "outputs": [
    {
     "name": "stdout",
     "output_type": "stream",
     "text": [
      "We have parameters with the following shapes: (8,), (2, 8), (1,), (8, 1)\n",
      "Overall parameter count: 33\n"
     ]
    },
    {
     "name": "stderr",
     "output_type": "stream",
     "text": [
      "/tmp/ipykernel_2301/3648342815.py:1: FutureWarning: jax.tree_leaves is deprecated, and will be removed in a future release. Use jax.tree_util.tree_leaves instead.\n",
      "  parameters = jax.tree_leaves(model_state.params)\n"
     ]
    }
   ],
   "source": [
    "parameters = jax.tree_leaves(model_state.params)\n",
    "print(\n",
    "    \"We have parameters with the following shapes:\",\n",
    "    \", \".join([str(p.shape) for p in parameters]),\n",
    ")\n",
    "print(\"Overall parameter count:\", sum([np.prod(p.shape) for p in parameters]))"
   ]
  },
  {
   "cell_type": "markdown",
   "id": "3349815f",
   "metadata": {},
   "source": [
    "We can also create new PyTrees that are the result of applying a function on all elements in the tree using `jax.tree_map`. For instance, let's obtain a PyTree with all parameter shapes:"
   ]
  },
  {
   "cell_type": "code",
   "execution_count": 68,
   "id": "1721a198",
   "metadata": {},
   "outputs": [
    {
     "data": {
      "text/plain": [
       "FrozenDict({\n",
       "    params: {\n",
       "        linear1: {\n",
       "            bias: (8,),\n",
       "            kernel: (2, 8),\n",
       "        },\n",
       "        linear2: {\n",
       "            bias: (1,),\n",
       "            kernel: (8, 1),\n",
       "        },\n",
       "    },\n",
       "})"
      ]
     },
     "execution_count": 68,
     "metadata": {},
     "output_type": "execute_result"
    }
   ],
   "source": [
    "jax.tree_map(lambda p: p.shape, model_state.params)"
   ]
  },
  {
   "cell_type": "markdown",
   "id": "7576e873",
   "metadata": {},
   "source": [
    "The nodes of PyTrees do not necessarily need to be NumPy or JAX arrays, but can be arbitrary objects. Overall, PyTrees provide a simple, structured representation of data useful in many applications. More details can be found in JAX's Tutorial [Working with PyTrees](https://jax.readthedocs.io/en/latest/jax-101/05.1-pytrees.html)."
   ]
  },
  {
   "cell_type": "markdown",
   "id": "972d1342",
   "metadata": {},
   "source": [
    "## 🔪 The Sharp Bits 🔪\n",
    "\n",
    "Since JAX functions need to be written with certain constraints, there are situations where this can get annoying or difficult. A great overview of those, why they are needed, and most importantly, what to do about them, can be found in the original JAX tutorial [🔪 JAX - The Sharp Bits 🔪](https://jax.readthedocs.io/en/latest/notebooks/Common_Gotchas_in_JAX.html). In this final section of the tutorial, we want to visit a few of those points we have not explicitly discussed yet. Furthermore, we also focus on the combination with Flax, and what can be annoying when training models."
   ]
  },
  {
   "cell_type": "markdown",
   "id": "4fc16606",
   "metadata": {},
   "source": [
    "### Dynamic shapes\n",
    "\n",
    "JAX has the great advantage of providing just-in-time compilation of functions to speed up the computation. For this, it uses its intermediate representation jaxpr, which is specialized to the shapes of the input arguments. However, this also means that a jitted function is specialized to a certain shape, and running the jitted function with a different input shape requires recompiling the function. For instance, consider the following simple function:"
   ]
  },
  {
   "cell_type": "code",
   "execution_count": 69,
   "id": "48c42ead",
   "metadata": {},
   "outputs": [],
   "source": [
    "def my_function(x):\n",
    "    print(\"Running the function with shape\", x.shape)\n",
    "    return x.mean()\n",
    "\n",
    "\n",
    "jitted_function = jax.jit(my_function)"
   ]
  },
  {
   "cell_type": "markdown",
   "id": "4bcf0f45",
   "metadata": {},
   "source": [
    "The print statement is only executed once when the function is compiled, and for all consecutive function calls, this print statement will be ignored since it is not part of the jaxpr representation. Let's run the function now with multiple different input shapes:"
   ]
  },
  {
   "cell_type": "code",
   "execution_count": 70,
   "id": "ff368813",
   "metadata": {},
   "outputs": [
    {
     "name": "stdout",
     "output_type": "stream",
     "text": [
      "Running the function with shape (1,)\n",
      "Running the function with shape (2,)\n",
      "Running the function with shape (3,)\n",
      "Running the function with shape (4,)\n",
      "Running the function with shape (5,)\n",
      "Running the function with shape (6,)\n",
      "Running the function with shape (7,)\n",
      "Running the function with shape (8,)\n",
      "Running the function with shape (9,)\n",
      "Running the function with shape (10,)\n"
     ]
    }
   ],
   "source": [
    "for i in range(10):\n",
    "    jitted_function(\n",
    "        jnp.zeros(\n",
    "            i + 1,\n",
    "        )\n",
    "    )"
   ]
  },
  {
   "cell_type": "markdown",
   "id": "9205769b",
   "metadata": {},
   "source": [
    "As we can see, the function is compiled for every different input we give it. This can become inefficient if we actually work with many different shapes. However, running the function again with one of the previous input shapes will not require another compilation:"
   ]
  },
  {
   "cell_type": "code",
   "execution_count": 71,
   "id": "9f929ce4",
   "metadata": {},
   "outputs": [],
   "source": [
    "# Running the functions a second time will not print out anything since\n",
    "# the functions are already jitted for the respective input shapes.\n",
    "for i in range(10):\n",
    "    jitted_function(\n",
    "        jnp.zeros(\n",
    "            i + 1,\n",
    "        )\n",
    "    )"
   ]
  },
  {
   "cell_type": "markdown",
   "id": "b6bc1b4d",
   "metadata": {},
   "source": [
    "If we have a very limited set of different shapes, we do not see a big performance difference. For instance, in our evaluation, the last batch size is smaller than the previous since we have a limited size of the evaluation dataset. However, for other applications, we might encounter this problem much more often: NLP and time series, and graphs. In these cases, it is recommend to pad the batches to prevent many re-compilations (see Flax's [padding guide](https://flax.readthedocs.io/en/latest/howtos/full_eval.html) for details). We briefly review the two scenarios below.\n",
    "\n",
    "#### NLP and time series\n",
    "\n",
    "In Natural Language Processing, our data consist of sentences which greatly vary in size. Already for batching the elements, we need to apply padding, such that the shape of the batch is determined by the largest sentence in the batch. However, this largest length can vary between batches, especially when we shuffle the dataset before each epoch. In PyTorch, this is not a problem, since the dynamic computation graph allows us to stop the computation whenever we need to. In contrast, JAX would need to recompile the forward pass for every single largest sentence length, which can quickly become very expensive. Padding is needed to reduce the number of compilations, but at the same time introduces unnecessary computation. Hence, we have a tradeoff between number of compilations and extra compute per batch. In the extreme case, PyTorch may even become faster than JAX here.\n",
    "\n",
    "#### Graphs\n",
    "\n",
    "Similar to NLP, graphs can vary in their size. Often, graphs differ in their number of nodes, but especially in the number of edges. Furthermore, when we start batching the graphs, the variation of node sizes and edge count considerably increases. Again, padding is needed to reduce the number of compilations, and we will revisit this topic in Tutorial 7 (TBD)."
   ]
  },
  {
   "cell_type": "markdown",
   "id": "63446f6d",
   "metadata": {},
   "source": [
    "### Debugging in jitted functions\n",
    "\n",
    "During coding, we likely want to debug our model and sometimes print out intermediate values. In JAX, when jitting functions, this is not as straightforward. As we could see from the previous cells, a print statement is only executed once during compilation, and afterwards removed since it is not part of the jaxpr representation. Furthermore, there can be issues when tracking NaNs in your code (see the [sharp bits tutorial](https://jax.readthedocs.io/en/latest/notebooks/Common_Gotchas_in_JAX.html#debugging-nans)), and errors like out-of-bounds indexing are silently handled on accelerators by returning -1 instead of an error (see the corresponding section in the [sharp bits tutorial](https://jax.readthedocs.io/en/latest/notebooks/Common_Gotchas_in_JAX.html#out-of-bounds-indexing)). However, if necessary, one can either run the unjitted version of the forward pass first, and even introduce print statements to the jitted version where needed (see [here](https://github.com/google/jax/issues/196) for a great explanation). Still, it is not as straight-forward as in PyTorch, for example."
   ]
  },
  {
   "cell_type": "markdown",
   "id": "c2eadd68",
   "metadata": {},
   "source": [
    "### Modules with different train and evaluation functions\n",
    "\n",
    "Certain deep learning layers have different behaviors under evaluation than during training. For instance, dropout randomly masks out a number of neurons during training, but leaves the graph untouched during evaluation. In PyTorch, we can easily switch between the two states via `model.train()` and `model.eval()` without having to manually specify it in the dropout module instance. However, in JAX, we do not have global states in the model, and thus need to pass this information to every module in the forward pass that may need it. In our example above, this was not needed, since the forward pass of the simple classifier is identical during training and evaluation. Alternatively, since the parameters are not bound to a specific model during training, one can also create two models: one training model, and one evaluation model. Nonetheless, one still needs to add the information to every module with changing behaviors, which adds a certain overhead compared to PyTorch. We will discuss two common modules with such behaviors below: dropout and BatchNorm."
   ]
  },
  {
   "cell_type": "markdown",
   "id": "756122b5",
   "metadata": {},
   "source": [
    "#### Dropout\n",
    "\n",
    "In Flax, [Dropout](https://flax.readthedocs.io/en/latest/_autosummary/flax.linen.Dropout.html) has an argument `deterministic` which turns off dropout when True, and otherwise applies the random masking as intended during training. This deterministic switch can either be defined in the constructor, or in every forward call. Furthermore, dropout has the special case that it is a random operation during training, meaning that it also needs a PRNG state. Fortunately, we do not have to pass this state in every PRNG state, but instead, can simply pass `rngs={'dropout': dropout_rng}` with `dropout_rng` being the PRNG state. For an example, see our [Tutorial 6](https://uvadlc-notebooks.readthedocs.io/en/latest/tutorial_notebooks/JAX/tutorial6/Transformers_and_MHAttention.html) on Transformers in which we use dropout in several occasions."
   ]
  },
  {
   "cell_type": "markdown",
   "id": "29f3ec61",
   "metadata": {},
   "source": [
    "#### BatchNorm\n",
    "\n",
    "Batch Normalization transforms the input in two different ways. During training, we determine the mean and standard deviation of the input, and normalize the data with it to a zero mean and standard deviation of one. During evaluation, on the other hand, we take a running statistic over the previous several batches, and use those to estimate the mean and standard deviation. This is necessary to keep the evaluation stable and invariant to the specific batches we choose. Still, in the Flax module ([documentation](https://flax.readthedocs.io/en/latest/_autosummary/flax.linen.BatchNorm.html)), we need to give the argument `use_running_average` (bool) to either the constructor or each forward pass. Furthermore, BatchNorm has a specific property we haven't discussed yet and is a bit tricky in JAX: keeping track of the running average. During every forward pass, we want to record the mean and standard deviation of the current batch, and update our current average over the past batches. However, this requires changing an input tensor, and returning this changed tensor again. In Flax, we can do this by defining the batch statistics as a mutable tensor. Check out our [Tutorial 5](https://uvadlc-notebooks.readthedocs.io/en/latest/tutorial_notebooks/JAX/tutorial5/Inception_ResNet_DenseNet.html) to see BatchNorm being used in practice with Flax."
   ]
  },
  {
   "cell_type": "markdown",
   "id": "f7ba15d3",
   "metadata": {},
   "source": [
    "---\n",
    "\n",
    "[![Star our repository](https://img.shields.io/static/v1.svg?logo=star&label=⭐&message=Star%20Our%20Repository&color=yellow)](https://github.com/phlippe/uvadlc_notebooks/)  If you found this tutorial helpful, consider ⭐-ing our repository.    \n",
    "[![Ask questions](https://img.shields.io/static/v1.svg?logo=star&label=❔&message=Ask%20Questions&color=9cf)](https://github.com/phlippe/uvadlc_notebooks/issues)  For any questions, typos, or bugs that you found, please raise an issue on GitHub. \n",
    "\n",
    "---"
   ]
  }
 ],
 "metadata": {
  "kernelspec": {
   "display_name": "Python 3 (ipykernel)",
   "language": "python",
   "name": "python3"
  },
  "language_info": {
   "codemirror_mode": {
    "name": "ipython",
    "version": 3
   },
   "file_extension": ".py",
   "mimetype": "text/x-python",
   "name": "python",
   "nbconvert_exporter": "python",
   "pygments_lexer": "ipython3",
   "version": "3.10.10"
  }
 },
 "nbformat": 4,
 "nbformat_minor": 5
}
