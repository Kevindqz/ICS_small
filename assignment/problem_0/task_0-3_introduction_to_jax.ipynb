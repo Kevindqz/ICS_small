{
 "cells": [
  {
   "cell_type": "markdown",
   "id": "ac408b5e",
   "metadata": {
    "deletable": false,
    "editable": false,
    "nbgrader": {
     "cell_type": "markdown",
     "checksum": "a96d02d6346fa7399cf6da0111ce0937",
     "grade": false,
     "grade_id": "cell-b00828259c8e42e8",
     "locked": true,
     "schema_version": 3,
     "solution": false,
     "task": false
    }
   },
   "source": [
    "# RO47019: Intelligent Control Systems Practical Assignment\n",
    "* Period: 2022-2023, Q3\n",
    "* Course homepage: https://brightspace.tudelft.nl/d2l/home/500969\n",
    "* Instructor: Cosimo Della Santina (C.DellaSantina@tudelft.nl)\n",
    "* Teaching assistant: Ruben Martin Rodriguez (R.MartinRodriguez@student.tudelft.nl)\n",
    "* (c) TU Delft, 2023\n",
    "\n",
    "Make sure you fill in any place that says `YOUR CODE HERE` or `YOUR ANSWER HERE`. Remove `raise NotImplementedError()` afterwards. Moreover, if you see an empty cell, please DO NOT delete it, instead run that cell as you would run all other cells. Please fill in your name(s) and other required details below:"
   ]
  },
  {
   "cell_type": "code",
   "execution_count": 2,
   "id": "4f9e220c",
   "metadata": {},
   "outputs": [],
   "source": [
    "# Please fill in your names, student numbers, netID, and emails below.\n",
    "STUDENT_1_NAME = \"1\"\n",
    "STUDENT_1_STUDENT_NUMBER = \"1\"\n",
    "STUDENT_1_NETID = \"1\"\n",
    "STUDENT_1_EMAIL = \"1\""
   ]
  },
  {
   "cell_type": "code",
   "execution_count": 3,
   "id": "8ba32571",
   "metadata": {
    "deletable": false,
    "editable": false,
    "nbgrader": {
     "cell_type": "code",
     "checksum": "042927213b84aa368aa3ea72caa4cb60",
     "grade": true,
     "grade_id": "cell-9f148ec62e0de49c",
     "locked": true,
     "points": 0,
     "schema_version": 3,
     "solution": false,
     "task": false
    }
   },
   "outputs": [],
   "source": [
    "# Note: this block is a check that you have filled in the above information.\n",
    "# It will throw an AssertionError until all fields are filled\n",
    "assert STUDENT_1_NAME != \"\"\n",
    "assert STUDENT_1_STUDENT_NUMBER != \"\"\n",
    "assert STUDENT_1_NETID != \"\"\n",
    "assert STUDENT_1_EMAIL != \"\""
   ]
  },
  {
   "cell_type": "markdown",
   "id": "af317a94",
   "metadata": {
    "deletable": false,
    "editable": false,
    "nbgrader": {
     "cell_type": "markdown",
     "checksum": "e76ef40fcc3f08a0484661497162a1a9",
     "grade": false,
     "grade_id": "cell-4ea391677951116c",
     "locked": true,
     "schema_version": 3,
     "solution": false,
     "task": false
    }
   },
   "source": [
    "### General announcements\n",
    "\n",
    "* Do *not* share your solutions, and do *not* copy solutions from others. By submitting your solutions, you claim that you alone are responsible for this code.\n",
    "\n",
    "* Do *not* email questions directly, since we want to provide everybody with the same information and avoid repeating the same answers. Instead, please post your questions regarding this assignment in the correct support forum on Brightspace, this way everybody can benefit from the response. If you do have a particular question that you want to ask directly, please use the scheduled Q&A hours to ask the TA.\n",
    "\n",
    "* There is a strict deadline for each assignment. Students are responsible to ensure that they have uploaded their work in time. So, please double check that your upload succeeded to the Brightspace and avoid any late penalties.\n",
    "\n",
    "* This [Jupyter notebook](https://jupyter.org/) uses `nbgrader` to help us with automated tests. `nbgrader` will make various cells in this notebook \"uneditable\" or \"unremovable\" and gives them a special id in the cell metadata. This way, when we run our checks, the system will check the existence of the cell ids and verify the number of points and which checks must be run. While there are ways that you can edit the metadata and work around the restrictions to delete or modify these special cells, you should not do that since then our nbgrader backend will not be able to parse your notebook and give you points for the assignment. You are free to add additional cells, but if you find a cell that you cannot modify or remove, please know that this is on purpose.\n",
    "\n",
    "* This notebook will have in various places a line that throws a `NotImplementedError` exception. These are locations where the assignment requires you to adapt the code! These lines are just there as a reminder for youthat you have not yet adapted that particular piece of code, especially when you execute all the cells. Once your solution code replaced these lines, it should accordingly *not* throw any exceptions anymore.\n",
    "\n",
    "Before you turn this problem in, make sure everything runs as expected. First, **restart the kernel** (in the menubar, select Kernel$\\rightarrow$Restart) and then **run all cells** (in the menubar, select Cell$\\rightarrow$Run All)."
   ]
  },
  {
   "cell_type": "code",
   "execution_count": null,
   "id": "3c956945",
   "metadata": {},
   "outputs": [],
   "source": []
  },
  {
   "cell_type": "markdown",
   "id": "bfe18e81",
   "metadata": {},
   "source": [
    "# Task 0.3 - Introduction to JAX + Flax (0p)\n",
    "  \n",
    "**Author:** Phillip Lippe, University of Amsterdam\n",
    "\n",
    "**The completion of this assignment is completely voluntarily and you will not be graded for any of the contents in this notebook.**\n",
    "\n",
    "This notebook is adapted from the [JAX tutorial](https://uvadlc-notebooks.readthedocs.io/en/latest/tutorial_notebooks/JAX/tutorial2/Introduction_to_JAX.html) for the Deep Learning course at the University of Amsterdam. Copyright belongs to Phillip Lippe / University of Amsterdam."
   ]
  },
  {
   "cell_type": "markdown",
   "id": "db2b100c",
   "metadata": {},
   "source": [
    "Welcome to our JAX tutorial for the Deep Learning course at the University of Amsterdam! The following notebook is meant to give a short introduction to JAX, including writing and training your own neural networks with [Flax](https://flax.readthedocs.io/en/latest/). But why should you learn JAX, if there are already so many other deep learning frameworks like [PyTorch](https://pytorch.org/) and [TensorFlow](https://www.tensorflow.org/)? The short answer: because it can be extremely fast. For instance, a small GoogleNet on CIFAR10, which we discuss in detail in [Tutorial 5](https://uvadlc-notebooks.readthedocs.io/en/latest/tutorial_notebooks/JAX/tutorial5/Inception_ResNet_DenseNet.html), can be trained in JAX 3x faster than in PyTorch with a similar setup. Note that for larger models, larger batch sizes, or smaller GPUs, a considerably smaller speedup is expected, and the code has not been designed for benchmarking. Nonetheless, JAX enables this speedup by compiling functions and numerical programs for accelerators (GPU/TPU) *just in time*, finding the optimal utilization of the hardware. Frameworks with dynamic computation graphs like PyTorch cannot achieve the same efficiency, since they cannot anticipate the next operations before the user calls them. For example, in an Inception block of GoogleNet, we apply multiple convolutional layers in parallel on the same input. JAX can optimize the execution of this layer by compiling the whole forward pass for the available accelerator and fusing operations where possible, reducing memory access and speeding up execution. In contrast, when calling the first convolutional layer in PyTorch, the framework does not know that multiple convolutions on the same feature map will follow. It sends each operation one by one to the GPU, and can only adapt the execution after seeing the next Python calls. Hence, JAX can make more efficient use of the GPU than, for instance, PyTorch. \n",
    "\n",
    "However, everything comes with a price. In order to efficiently compile programs just-in-time in JAX, the functions need to be written with certain constraints. Firstly, the functions are not allowed to have side-effects, meaning that they are not allowed to affect any variable outside of their namespaces. For instance, in-place operations affect a variable even outside of the function. Moreover, stochastic operations such as `torch.rand(...)` change the global state of pseudo random number generators, which is not allowed in functional JAX (we will see later how JAX handles random number generation). Secondly, JAX compiles the functions based on anticipated shapes of all arrays/tensors in the function. This becomes problematic if the shapes or the program flow within the function depends on the values of the tensor. For instance, in the operation `y = x[x>3]`, the shape of `y` depends on how many values of `x` are greater than 3. We will discuss more of these constraints in this notebook. Still, in most common cases of training neural networks, it is straightforward to write functions within these constraints.\n",
    "\n",
    "This tutorial is heavily inspired by many great JAX tutorials before, and a (non-exclusive) list of them are:\n",
    "\n",
    "* [JAX 101](https://jax.readthedocs.io/en/latest/jax-101/index.html) with many subtutorials on individual parts of JAX\n",
    "* [JAX - The Sharp Bits](https://jax.readthedocs.io/en/latest/notebooks/Common_Gotchas_in_JAX.html) discusses the constraints of JAX and how to overcome them\n",
    "* [Jax for the Impatient](https://flax.readthedocs.io/en/latest/notebooks/jax_for_the_impatient.html) for a quick intro to JAX with focus on deep learning\n",
    "* [Flax Basics](https://flax.readthedocs.io/en/latest/notebooks/flax_basics.html) as introduction to the Flax framework\n",
    "\n",
    "Throughout this tutorial, we will draw comparisons to PyTorch and also use its data loading library (see our [PyTorch tutorial](https://uvadlc-notebooks.readthedocs.io/en/latest/tutorial_notebooks/tutorial2/Introduction_to_PyTorch.html) for a refresher). JAX is not meant to 'redefine the wheel', so we can combine it framework-agnostic parts from PyTorch (e.g., data loading) and TensorFlow (e.g., logging in TensorBoard). Further, we use [Flax](https://flax.readthedocs.io/en/latest/) as a neural network library in JAX, and [Optax](https://optax.readthedocs.io/en/latest/index.html) to implement common deep learning optimizers. More on them later in the notebook. First, let's get started with some basic JAX operations."
   ]
  },
  {
   "cell_type": "code",
   "execution_count": 4,
   "id": "27bcf9b4",
   "metadata": {},
   "outputs": [],
   "source": [
    "## Standard libraries\n",
    "import os\n",
    "import math\n",
    "import numpy as np\n",
    "import time\n",
    "\n",
    "## Imports for plotting\n",
    "import matplotlib.pyplot as plt\n",
    "\n",
    "%matplotlib inline\n",
    "import matplotlib_inline.backend_inline\n",
    "\n",
    "matplotlib_inline.backend_inline.set_matplotlib_formats(\"svg\", \"pdf\")  # For export\n",
    "from matplotlib.colors import to_rgba\n",
    "import seaborn as sns\n",
    "\n",
    "sns.set()\n",
    "\n",
    "## Progress bar\n",
    "from tqdm.auto import tqdm"
   ]
  },
  {
   "cell_type": "markdown",
   "id": "596fdb56",
   "metadata": {},
   "source": [
    "## JAX as NumPy on accelerators\n",
    "\n",
    "Every deep learning framework has its own API for dealing with data arrays. For example, PyTorch uses `torch.Tensor` as data arrays on which it defines several operations like matrix multiplication, taking the mean of the elements, etc. In JAX, this basic API strongly resembles the one of [NumPy](https://numpy.org/), and even has the same name in JAX (`jax.numpy`). So, for now, let's think of JAX as NumPy that runs on accelerators. As a first step, let's import JAX and its NumPy API:"
   ]
  },
  {
   "cell_type": "code",
   "execution_count": 5,
   "id": "49e7ef6d",
   "metadata": {},
   "outputs": [
    {
     "name": "stdout",
     "output_type": "stream",
     "text": [
      "Using jax 0.4.6\n"
     ]
    }
   ],
   "source": [
    "import jax\n",
    "import jax.numpy as jnp\n",
    "\n",
    "print(\"Using jax\", jax.__version__)"
   ]
  },
  {
   "cell_type": "markdown",
   "id": "ef489888",
   "metadata": {},
   "source": [
    "At the current time of writing (January 2023), the newest JAX version is `0.4.x` which supports most of the common NumPy functionalities. The NumPy API of JAX is usually imported as `jnp`, to keep a resemblance to NumPy's import as `np`. In the following subsections, we will discuss the main differences between the classical NumPy API and the one of JAX."
   ]
  },
  {
   "cell_type": "markdown",
   "id": "59bc5499",
   "metadata": {},
   "source": [
    "### Device Arrays\n",
    "\n",
    "As a first test, let's create some arbitrary arrays like we would do in NumPy. For instance, let's create an array of zeros with shape `[2,5]`:"
   ]
  },
  {
   "cell_type": "code",
   "execution_count": 6,
   "id": "c564f925",
   "metadata": {},
   "outputs": [
    {
     "name": "stderr",
     "output_type": "stream",
     "text": [
      "No GPU/TPU found, falling back to CPU. (Set TF_CPP_MIN_LOG_LEVEL=0 and rerun for more info.)\n"
     ]
    },
    {
     "name": "stdout",
     "output_type": "stream",
     "text": [
      "[[0. 0. 0. 0. 0.]\n",
      " [0. 0. 0. 0. 3.]]\n"
     ]
    }
   ],
   "source": [
    "a = jnp.zeros((2, 5), dtype=jnp.float32)\n",
    "a = a.at[1,4].set(3)\n",
    "print(a)"
   ]
  },
  {
   "cell_type": "markdown",
   "id": "516bc6fe",
   "metadata": {},
   "source": [
    "Similarly, we can create an array with values of 0 to 5 by using `arange`:"
   ]
  },
  {
   "cell_type": "code",
   "execution_count": 7,
   "id": "ee5bd836",
   "metadata": {},
   "outputs": [
    {
     "name": "stdout",
     "output_type": "stream",
     "text": [
      "[0 1 2 3 4 5]\n"
     ]
    }
   ],
   "source": [
    "b = jnp.arange(6)\n",
    "print(b)"
   ]
  },
  {
   "cell_type": "markdown",
   "id": "77f8dab4",
   "metadata": {},
   "source": [
    "You might now wonder whether the arrays `a` and `b` are simply NumPy arrays. To check that, let's print out the class of `b`:"
   ]
  },
  {
   "cell_type": "code",
   "execution_count": 8,
   "id": "72ecee4a",
   "metadata": {},
   "outputs": [
    {
     "data": {
      "text/plain": [
       "jaxlib.xla_extension.ArrayImpl"
      ]
     },
     "execution_count": 8,
     "metadata": {},
     "output_type": "execute_result"
    }
   ],
   "source": [
    "b.__class__"
   ]
  },
  {
   "cell_type": "markdown",
   "id": "759b97ec",
   "metadata": {},
   "source": [
    "Instead of a simple NumPy array, it shows the type `DeviceArray` which is what JAX uses to represent arrays. In contrast to NumPy, JAX can execute the same code on different backends – CPU, GPU and TPU. A `DeviceArray` therefore represents an array which is on one of the backends. Similar to PyTorch, we can check the device of an array by calling `.device()`:"
   ]
  },
  {
   "cell_type": "code",
   "execution_count": 9,
   "id": "1830458e",
   "metadata": {},
   "outputs": [
    {
     "data": {
      "text/plain": [
       "CpuDevice(id=0)"
      ]
     },
     "execution_count": 9,
     "metadata": {},
     "output_type": "execute_result"
    }
   ],
   "source": [
    "b.device()"
   ]
  },
  {
   "attachments": {},
   "cell_type": "markdown",
   "id": "426ebefc",
   "metadata": {},
   "source": [
    "\n",
    "In order to change the device of an array, we can use `jax.device_get`:"
   ]
  },
  {
   "cell_type": "code",
   "execution_count": 10,
   "id": "b96105d4",
   "metadata": {},
   "outputs": [
    {
     "name": "stdout",
     "output_type": "stream",
     "text": [
      "<class 'numpy.ndarray'>\n"
     ]
    }
   ],
   "source": [
    "b_cpu = jax.device_get(b)\n",
    "print(b_cpu.__class__)"
   ]
  },
  {
   "cell_type": "markdown",
   "id": "1e768a4d",
   "metadata": {},
   "source": [
    "Unsurprisingly, a simple CPU-based array is nothing else than a NumPy array, which allows for a simple conversion between the two frameworks! To explicitly push a NumPy array to the accelerator, you can use `jax.device_put`:"
   ]
  },
  {
   "cell_type": "code",
   "execution_count": 11,
   "id": "dd15f4ba",
   "metadata": {},
   "outputs": [
    {
     "name": "stdout",
     "output_type": "stream",
     "text": [
      "Device put: <class 'jaxlib.xla_extension.ArrayImpl'> on TFRT_CPU_0\n"
     ]
    }
   ],
   "source": [
    "b_gpu = jax.device_put(b_cpu)\n",
    "print(f\"Device put: {b_gpu.__class__} on {b_gpu.device()}\")"
   ]
  },
  {
   "cell_type": "markdown",
   "id": "7db34d2f",
   "metadata": {},
   "source": [
    "Nicely enough, JAX will handle any device clash itself when you try to perform operations on a NumPy array and a DeviceArray by modeling the output as DeviceArray again:"
   ]
  },
  {
   "cell_type": "code",
   "execution_count": 12,
   "id": "3828e734",
   "metadata": {},
   "outputs": [
    {
     "data": {
      "text/plain": [
       "Array([ 0,  2,  4,  6,  8, 10], dtype=int32)"
      ]
     },
     "execution_count": 12,
     "metadata": {},
     "output_type": "execute_result"
    }
   ],
   "source": [
    "b_cpu + b_gpu"
   ]
  },
  {
   "cell_type": "markdown",
   "id": "13dcc6f1",
   "metadata": {},
   "source": [
    "Finally, we can also print all our available devices using `jax.devices()`:"
   ]
  },
  {
   "cell_type": "code",
   "execution_count": 13,
   "id": "1e7f736d",
   "metadata": {},
   "outputs": [
    {
     "data": {
      "text/plain": [
       "[CpuDevice(id=0)]"
      ]
     },
     "execution_count": 13,
     "metadata": {},
     "output_type": "execute_result"
    }
   ],
   "source": [
    "jax.devices()"
   ]
  },
  {
   "cell_type": "markdown",
   "id": "dc77f50e",
   "metadata": {},
   "source": [
    "A technical detail of running operations on DeviceArrays is that when a JAX function is called, the corresponding operation takes place asynchronously on the accelerator when possible. For instance, if we call `out = jnp.matmul(b, b)`, JAX first returns a placeholder array for `out` which may not be filled with the values as soon as the function calls finishes. This way, Python will not block the execution of follow-up statements, but instead only does it whenever we strictly need the value of `out`, for instance for printing or putting it on CPU. PyTorch uses a very similar principle to allow asynchronous computation. For more details, see [JAX - Asynchronous Dispatch](https://jax.readthedocs.io/en/latest/async_dispatch.html)."
   ]
  },
  {
   "cell_type": "markdown",
   "id": "1f1d99b6",
   "metadata": {},
   "source": [
    "### Immutable tensors\n",
    "\n",
    "When we would like to change a NumPy array in-place, like replacing the first element of `b` with `1` instead of `0`, we could simply write `b[0]=1`. However, in JAX, this is not possible. A `DeviceArray` object is *immutable*, which means that no in-place operations are possible. The reason for this goes back to our discussion in the introduction: JAX requires programs to be \"pure\" functions, i.e. no effects on variables outside of the function are allowed. Allowing in-place operations of variables would make the program analysis for JAX's just-in-time compilation difficult. Instead, we can use the expression `b.at[0].set(1)` which, analogous to the in-place operation, returns a new array which is identical to `b`, except that its value at the first position is 1. Let's try that out below:"
   ]
  },
  {
   "cell_type": "code",
   "execution_count": 14,
   "id": "e857ecdd",
   "metadata": {},
   "outputs": [
    {
     "name": "stdout",
     "output_type": "stream",
     "text": [
      "Original array: [0 1 2 3 4 5]\n",
      "Changed array: [1 1 2 3 4 5]\n"
     ]
    }
   ],
   "source": [
    "b_new = b.at[0].set(1)\n",
    "print(\"Original array:\", b)\n",
    "print(\"Changed array:\", b_new)"
   ]
  },
  {
   "cell_type": "markdown",
   "id": "350bbb40",
   "metadata": {},
   "source": [
    "However, we said that JAX is very efficient. Isn't creating a new array in this case the opposite? While it is indeed less efficient, it can made much more efficient with JAX's just-in-time compilation. The compiler can recognize unnecessary array duplications, and replace them with in-place operations again. More on the just-in-time compilation later! "
   ]
  },
  {
   "cell_type": "markdown",
   "id": "0910f0a3",
   "metadata": {},
   "source": [
    "### Pseudo Random Numbers in JAX\n",
    "\n",
    "In machine learning, we come across several situations where we need to generate pseudo random numbers: randomly shuffling a dataset, sampling a dropout mask for regularization, training a VAE by sampling from the approximate posterior, etc. In libraries like NumPy and PyTorch, the random number generator are controlled by a seed, which we set initially to obtain the same samples every time we run the code (this is why the numbers are not truly random, hence \"pseudo\"-random). However, if we call `np.random.normal()` 5 times consecutively, we will get 5 different numbers since every execution changes the state/seed of the pseudo random number generation (PRNG). In JAX, if we would try to generate a random number with this approach, a function creating pseudo-random number would have an effect outside of it. To prevent this, JAX takes a different approach by explicitly passing and iterating the PRNG state. First, let's create a PRNG for the seed 42:"
   ]
  },
  {
   "cell_type": "code",
   "execution_count": 15,
   "id": "d64c5f0b",
   "metadata": {},
   "outputs": [],
   "source": [
    "rng = jax.random.PRNGKey(42)"
   ]
  },
  {
   "cell_type": "markdown",
   "id": "775949c4",
   "metadata": {},
   "source": [
    "Now, we can use this PRNG state to generate random numbers. Since with this state, the random number generation becomes deterministic, we sample the same number every time. This is not the case in NumPy if we set the seed once before both operations:"
   ]
  },
  {
   "cell_type": "code",
   "execution_count": 16,
   "id": "88ddffce",
   "metadata": {},
   "outputs": [
    {
     "name": "stdout",
     "output_type": "stream",
     "text": [
      "JAX - Random number 1: -0.18471177\n",
      "JAX - Random number 2: -0.18471177\n",
      "NumPy - Random number 1: 0.4967141530112327\n",
      "NumPy - Random number 2: -0.13826430117118466\n"
     ]
    }
   ],
   "source": [
    "# A non-desirable way of generating pseudo-random numbers...\n",
    "jax_random_number_1 = jax.random.normal(rng)\n",
    "jax_random_number_2 = jax.random.normal(rng)\n",
    "print(\"JAX - Random number 1:\", jax_random_number_1)\n",
    "print(\"JAX - Random number 2:\", jax_random_number_2)\n",
    "\n",
    "# Typical random numbers in NumPy\n",
    "np.random.seed(42)\n",
    "np_random_number_1 = np.random.normal()\n",
    "np_random_number_2 = np.random.normal()\n",
    "print(\"NumPy - Random number 1:\", np_random_number_1)\n",
    "print(\"NumPy - Random number 2:\", np_random_number_2)"
   ]
  },
  {
   "cell_type": "markdown",
   "id": "d60e59d3",
   "metadata": {},
   "source": [
    "Usually, we want to have a behavior like NumPy where we get a different random number every time we sample. To achieve this, we can *split* the PRNG state to get usable subkeys every time we need a new pseudo-random number. We can do this with `jax.random.split(...)`:"
   ]
  },
  {
   "cell_type": "code",
   "execution_count": 17,
   "id": "be3d64de",
   "metadata": {},
   "outputs": [
    {
     "name": "stdout",
     "output_type": "stream",
     "text": [
      "JAX new - Random number 1: 0.107961535\n",
      "JAX new - Random number 2: -1.2226542\n"
     ]
    }
   ],
   "source": [
    "rng, subkey1, subkey2 = jax.random.split(rng, num=3)  # We create 3 new keys\n",
    "jax_random_number_1 = jax.random.normal(subkey1)\n",
    "jax_random_number_2 = jax.random.normal(subkey2)\n",
    "print(\"JAX new - Random number 1:\", jax_random_number_1)\n",
    "print(\"JAX new - Random number 2:\", jax_random_number_2)"
   ]
  },
  {
   "cell_type": "markdown",
   "id": "aebc39d0",
   "metadata": {},
   "source": [
    "Every time you run this cell, you will obtain different random numbers for both operations since we create new PRNG states before sampling. In general, you want to split the PRNG key every time before generating a pseudo-number, to prevent accidentally obtaining the exact same numbers (for instance, sampling the exact same dropout mask every time you run the network makes dropout itself quite useless...). For a deeper dive into the ideas behind the random number generation in JAX, see JAX's tutorial on [Pseudo Random Numbers](https://jax.readthedocs.io/en/latest/jax-101/05-random-numbers.html)."
   ]
  },
  {
   "cell_type": "markdown",
   "id": "b4543cda",
   "metadata": {},
   "source": [
    "## Function transformations with Jaxpr\n",
    "\n",
    "Rosalia Schneider and Vladimir Mikulik summarize the key points of JAX in the [JAX 101 tutorial](https://jax.readthedocs.io/en/latest/jax-101/01-jax-basics.html) as follows: \n",
    "\n",
    "> The most important difference, and in some sense the root of all the rest, is that JAX is designed to be functional, as in functional programming. The reason behind this is that the kinds of program transformations that JAX enables are much more feasible in functional-style programs. [...] The important feature of functional programming to grok when working with JAX is very simple: don’t write code with side-effects.\n",
    "\n",
    "Essentially, we want to write our main code of JAX in functions that do not affect anything else besides its outputs. For instance, we do not want to change input arrays in-place, or access global variables. While this might seem limiting at first, you get used to this quite quickly and most JAX functions that need to fulfill these constraints can be written this way without problems. Note that not all possible functions in training a neural network need to fulfill the constraints. For instance, loading or saving of models, the logging, or the data generation can be done in naive functions. Only the network execution, which we want to do very efficiently on our accelerator (GPU or TPU), should strictly follow these constraints.\n",
    "\n",
    "What does make JAX functions so special, and how can we think about them? A good way of gaining understanding in how JAX handles function is to understand its intermediate representation: jaxpr. Conceptually, you can think of any operation that JAX does on a function, as first trace-specializing the Python function to be transformed into a small and well-behaved intermediate form. This means that we check which operations are performed on which array, and what shapes the arrays are. Based on this representation, JAX then interprets the function with transformation-specific interpretation rules, which includes automatic differentiation or compiling a function in XLA to efficiently use the accelerator.\n",
    "\n",
    "To illustrate this intermediate representation, let's consider the same simple function we used in the [PyTorch tutorial](https://uvadlc-notebooks.readthedocs.io/en/latest/tutorial_notebooks/tutorial2/Introduction_to_PyTorch.html) to discuss the concept of dynamic computation graphs:\n",
    "\n",
    "$$ y = \\frac{1}{|x|}\\sum_{i}\\left[\\left(x_i+2\\right)^2+3\\right]$$\n",
    "\n",
    "Using common NumPy operations in JAX, we can write it as follows:"
   ]
  },
  {
   "cell_type": "code",
   "execution_count": 40,
   "id": "71064b84",
   "metadata": {},
   "outputs": [
    {
     "name": "stdout",
     "output_type": "stream",
     "text": [
      "Input [0. 1. 2.]\n",
      "Output ()\n"
     ]
    }
   ],
   "source": [
    "def simple_graph(x):\n",
    "    x = x + 2\n",
    "    x = x**2\n",
    "    x = x + 3\n",
    "    y = x.mean()\n",
    "    return y\n",
    "\n",
    "\n",
    "inp = jnp.arange(3, dtype=jnp.float32)\n",
    "print(\"Input\", inp)\n",
    "print(\"Output\", simple_graph(inp))"
   ]
  },
  {
   "cell_type": "markdown",
   "id": "bad49df6",
   "metadata": {},
   "source": [
    "To view the jaxpr representation of this function, we can use `jax.make_jaxpr`. Since the tracing depends on the shape of the input, we need to pass an input to the function (here of shape `[3]`):"
   ]
  },
  {
   "cell_type": "code",
   "execution_count": 19,
   "id": "a0323430",
   "metadata": {},
   "outputs": [
    {
     "data": {
      "text/plain": [
       "{ lambda ; a:f32[3]. let\n",
       "    b:f32[3] = add a 2.0\n",
       "    c:f32[3] = integer_pow[y=2] b\n",
       "    d:f32[3] = add c 3.0\n",
       "    e:f32[] = reduce_sum[axes=(0,)] d\n",
       "    f:f32[] = div e 3.0\n",
       "  in (f,) }"
      ]
     },
     "execution_count": 19,
     "metadata": {},
     "output_type": "execute_result"
    }
   ],
   "source": [
    "jax.make_jaxpr(simple_graph)(inp)"
   ]
  },
  {
   "cell_type": "markdown",
   "id": "d5409ffb",
   "metadata": {},
   "source": [
    "A jaxpr representation follows the structure:\n",
    "\n",
    "```python\n",
    "jaxpr ::= { lambda Var* ; Var+.\n",
    "            let Eqn*\n",
    "            in  [Expr+] }\n",
    "```\n",
    "where `Var*` are constants and `Var+` are input arguments. In the cell above, this is `a:f32[3]`, i.e. an array of shape 3 with type `jnp.float32` (`inp`). The list of equations, `Eqn*`, define the intermediate results of the function. You can see that each operation in `simple_graph` is translated to a corresponding equation, like `x = x + 2` is translated to `b:f32[3] = add a 2.0`. Furthermore, you see the specialization of the operations on the input shape, like `x.mean()` being replacing in `e` and `f` with summing and dividing by 3. Finally, `Expr+` in the jaxpr representation are the outputs of the functions. In the example, this is `f`, i.e. the final result of the function.\n",
    "Based on these atomic operations, JAX offers all kind of function transformations, of which we will discuss the most important ones later in this section. \n",
    "Hence, you can consider the jaxpr representation is an intermediate compilation stage of JAX. What happens if we actually try to look at the jaxpr representation of a function with side-effect? Let's consider the following function, which, as an illustrative example, appends the input to a global list:"
   ]
  },
  {
   "cell_type": "code",
   "execution_count": 20,
   "id": "a714bb61",
   "metadata": {},
   "outputs": [
    {
     "data": {
      "text/plain": [
       "{ lambda ; a:f32[3]. let\n",
       "    b:f32[3] = integer_pow[y=2] a\n",
       "    c:f32[] = reduce_sum[axes=(0,)] b\n",
       "    d:f32[] = sqrt c\n",
       "  in (d,) }"
      ]
     },
     "execution_count": 20,
     "metadata": {},
     "output_type": "execute_result"
    }
   ],
   "source": [
    "global_list = []\n",
    "\n",
    "\n",
    "# Invalid function with side-effect\n",
    "def norm(x):\n",
    "    global_list.append(x)\n",
    "    x = x**2\n",
    "    n = x.sum()\n",
    "    n = jnp.sqrt(n)\n",
    "    return n\n",
    "\n",
    "\n",
    "jax.make_jaxpr(norm)(inp)"
   ]
  },
  {
   "cell_type": "markdown",
   "id": "3dd631c2",
   "metadata": {},
   "source": [
    "As you can see, the jaxpr representation of the function does not contain any operation for `global_list.append(x)`. This is because jaxpr only understand side-effect-free code, and cannot represent such effects. Thus, we need to stick with pure functions without any side effects, to prevent any unwanted errors in our functions. If you are interested in learning more about the jaxpr representation, check out the JAX [documentation](https://jax.readthedocs.io/en/latest/jaxpr.html) on it. But for this tutorial, we just need the basics as discussed above."
   ]
  },
  {
   "cell_type": "markdown",
   "id": "1ccd928e",
   "metadata": {},
   "source": [
    "### Automatic differentiation\n",
    "\n",
    "The intermediate jaxpr representation defines a computation graph, on which we can perform an essential operation of deep learning framework: automatic differentiation. In frameworks like PyTorch with a dynamic computation graph, we would compute the gradients based on the loss tensor itself, e.g. by calling `loss.backward()`. However, JAX directly works with functions. Instead of backpropagating gradients through tensors, JAX takes as input a function, and outputs another function which directly calculates the gradients for it. While this might seem quite different to what you are used to from other frameworks, it is quite intuitive: your gradient of parameters is really a function of parameters and data.\n",
    "\n",
    "The transformation that allows us to do this is `jax.grad`, which takes as input the function, and returns another function representing the gradient calculation of the (first) input with respect to the output:"
   ]
  },
  {
   "cell_type": "code",
   "execution_count": 21,
   "id": "fd3f3ba9",
   "metadata": {},
   "outputs": [
    {
     "name": "stdout",
     "output_type": "stream",
     "text": [
      "Gradient [1.3333334 2.        2.6666667]\n"
     ]
    }
   ],
   "source": [
    "grad_function = jax.grad(simple_graph)\n",
    "gradients = grad_function(inp)\n",
    "print(\"Gradient\", gradients)"
   ]
  },
  {
   "cell_type": "markdown",
   "id": "7951a63f",
   "metadata": {},
   "source": [
    "The gradient we get here is exactly the one we would obtain when doing the calculation by hand. Moreover, we can also print the jaxpr representation of the gradient function:"
   ]
  },
  {
   "cell_type": "code",
   "execution_count": 22,
   "id": "cc3d85b0",
   "metadata": {},
   "outputs": [
    {
     "data": {
      "text/plain": [
       "{ lambda ; a:f32[3]. let\n",
       "    b:f32[3] = add a 2.0\n",
       "    c:f32[3] = integer_pow[y=2] b\n",
       "    d:f32[3] = integer_pow[y=1] b\n",
       "    e:f32[3] = mul 2.0 d\n",
       "    f:f32[3] = add c 3.0\n",
       "    g:f32[] = reduce_sum[axes=(0,)] f\n",
       "    _:f32[] = div g 3.0\n",
       "    h:f32[] = div 1.0 3.0\n",
       "    i:f32[3] = broadcast_in_dim[broadcast_dimensions=() shape=(3,)] h\n",
       "    j:f32[3] = mul i e\n",
       "  in (j,) }"
      ]
     },
     "execution_count": 22,
     "metadata": {},
     "output_type": "execute_result"
    }
   ],
   "source": [
    "jax.make_jaxpr(grad_function)(inp)"
   ]
  },
  {
   "cell_type": "markdown",
   "id": "fb8ee5ae",
   "metadata": {},
   "source": [
    "This shows an unique property of JAX: we can print out the exact computation graph for determining the gradients. Compared to the original function, you can see new equations like `d:f32[3] = integer_pow[y=1] b` and `e:f32[3] = mul 2.0 d`, which model the intermediate gradient of $\\partial b_i^2/\\partial b_i = 2b_i$. Furthermore, the return value `j` is the multiplication of `e` with $1/3$, which maps to the gradient being:\n",
    "\n",
    "$$ \\frac{\\partial y}{\\partial x_i} = \\frac{2}{3}(x_i + 2)$$\n",
    "\n",
    "Hence, we can not only use JAX to estimate the gradients at a certain input value, but actually return the analytical gradient function which is quite a nice feature and highlights the properties of JAX!"
   ]
  },
  {
   "cell_type": "markdown",
   "id": "07ca4428",
   "metadata": {},
   "source": [
    "Often, we do not only want the gradients, but also the actual output of the function, for instance for logging the loss. This can be efficiently done using `jax.value_and_grad`:"
   ]
  },
  {
   "cell_type": "code",
   "execution_count": 23,
   "id": "bf220dd8",
   "metadata": {},
   "outputs": [
    {
     "data": {
      "text/plain": [
       "(Array(12.666667, dtype=float32),\n",
       " Array([1.3333334, 2.       , 2.6666667], dtype=float32))"
      ]
     },
     "execution_count": 23,
     "metadata": {},
     "output_type": "execute_result"
    }
   ],
   "source": [
    "val_grad_function = jax.value_and_grad(simple_graph)\n",
    "val_grad_function(inp)"
   ]
  },
  {
   "cell_type": "markdown",
   "id": "a6f9fe03",
   "metadata": {},
   "source": [
    "Further, we can specialize the gradient function to consider multiple input arguments, and add extra outputs that we may not want to differentiate (for instance the accuracy in classification). We will visit the most important ones in the network training later in this section, and refer to other great resources for more details ([JAX Quickstart](https://jax.readthedocs.io/en/latest/notebooks/quickstart.html#taking-derivatives-with-grad), [Autodiff cookbook](https://jax.readthedocs.io/en/latest/notebooks/autodiff_cookbook.html), [Advanced autodiff](https://jax.readthedocs.io/en/latest/jax-101/04-advanced-autodiff.html)).\n",
    "\n",
    "To train neural networks, we need to determine the gradient for every parameter in the network with respect to the loss. Listing all parameters as input arguments quickly gets annoying and infeasible. JAX offers an elegant data structure to summarize all parameters: a pytree ([documentation](https://jax.readthedocs.io/en/latest/pytrees.html)). A pytree is a container-like object which structures its elements as a tree. For instance, a linear neural network might have its parameters organized similar to:\n",
    "\n",
    "```python\n",
    "params = {\n",
    "    'linear1': {\n",
    "        'weights': ...,\n",
    "        'bias': ...\n",
    "    },\n",
    "    ...\n",
    "}\n",
    "```\n",
    "JAX offers functions to process pytrees efficiently, such as obtaining all leafs (i.e. all parameters in a network) or applying a function on each element. We will come back to these structures when training a full network."
   ]
  },
  {
   "cell_type": "markdown",
   "id": "ba40a111",
   "metadata": {},
   "source": [
    "### Speeding up computation with Just-In-Time compilation\n",
    "\n",
    "Interestingly, from the previous code cell, you can see in the jaxpr representation of the gradient function that calculating the array `f` and scalar `g` are unnecessary. Intuitively, the gradient of taking the mean is independent of the actual output of the mean, hence we could drop `f` and `g` without any drawback. Finding such cases to improve efficiency and optimizing the code to take full advantage of the available accelerator hardware is one of the big selling points of JAX. It achieves that by *compiling functions just-in-time* with [XLA](https://www.tensorflow.org/xla) (Accelerated Linear Algebra), using their jaxpr representation. Thereby, XLA fuses operations to reduce execution time of short-lived operations and eliminates intermediate storage buffers where not needed. For more details, see the [XLA documentation](https://docs.w3cub.com/tensorflow~guide/performance/xla/index). \n",
    "\n",
    "To compile a function, JAX provides the `jax.jit` transformation. We can either apply the transformation directly on a function (as we will do in the next cell), or use the decorator `@jax.jit` before a function."
   ]
  },
  {
   "cell_type": "code",
   "execution_count": 24,
   "id": "861f1cfb",
   "metadata": {},
   "outputs": [],
   "source": [
    "jitted_function = jax.jit(simple_graph)"
   ]
  },
  {
   "cell_type": "markdown",
   "id": "b482467e",
   "metadata": {},
   "source": [
    "The `jitted_function` takes the same input arguments as the original function `simple_graph`. Since the jaxpr representation of a function depends on the input shape, the compilation is started once we put the first input in. However, note that this also means that for every different shape we want to run the function, a new XLA compilation is needed. This is why it is recommended to use padding in cases where your input shape strongly varies (we revisit this topic in the final section of this tutorial). For now, let's create an array with 1000 random values, on which we apply the jitted function:"
   ]
  },
  {
   "cell_type": "code",
   "execution_count": 25,
   "id": "f568e7ae",
   "metadata": {},
   "outputs": [],
   "source": [
    "# Create a new random subkey for generating new random values\n",
    "rng, normal_rng = jax.random.split(rng)\n",
    "large_input = jax.random.normal(normal_rng, (1000,))\n",
    "# Run the jitted function once to start compilation\n",
    "_ = jitted_function(large_input)"
   ]
  },
  {
   "cell_type": "markdown",
   "id": "fdfcfabe",
   "metadata": {},
   "source": [
    "The output is not any different from what you would get from the non-jitted function. However, how is it about the runtime? Let's time both the original and the jitted function. Due to the asynchronous execution on the GPU, we add `.block_until_ready()` on the output, which blocks the Python execution until the accelerator (here GPU) finished computing the result and hence get an accurate time estimate."
   ]
  },
  {
   "cell_type": "code",
   "execution_count": 26,
   "id": "5115b24d",
   "metadata": {},
   "outputs": [
    {
     "name": "stdout",
     "output_type": "stream",
     "text": [
      "153 µs ± 8.21 µs per loop (mean ± std. dev. of 7 runs, 10,000 loops each)\n"
     ]
    }
   ],
   "source": [
    "%%timeit\n",
    "simple_graph(large_input).block_until_ready()"
   ]
  },
  {
   "cell_type": "code",
   "execution_count": 27,
   "id": "593fae73",
   "metadata": {},
   "outputs": [
    {
     "name": "stdout",
     "output_type": "stream",
     "text": [
      "5.85 µs ± 392 ns per loop (mean ± std. dev. of 7 runs, 100,000 loops each)\n"
     ]
    }
   ],
   "source": [
    "%%timeit\n",
    "jitted_function(large_input).block_until_ready()"
   ]
  },
  {
   "cell_type": "markdown",
   "id": "dc0d7d8d",
   "metadata": {},
   "source": [
    "We see that the compiled function is almost 10-15x faster! This is quite an improvement in performance, and shows the potential of compiling functions with XLA. Furthermore, we can also apply multiple transformations on the same function in JAX, such as applying `jax.jit` on a gradient function:"
   ]
  },
  {
   "cell_type": "code",
   "execution_count": 28,
   "id": "ac7991b2",
   "metadata": {},
   "outputs": [],
   "source": [
    "jitted_grad_function = jax.jit(grad_function)\n",
    "_ = jitted_grad_function(large_input)  # Apply once to compile"
   ]
  },
  {
   "cell_type": "markdown",
   "id": "aeec0d3d",
   "metadata": {},
   "source": [
    "Let's time the functions once more:"
   ]
  },
  {
   "cell_type": "code",
   "execution_count": 29,
   "id": "84e68aa8",
   "metadata": {},
   "outputs": [
    {
     "name": "stdout",
     "output_type": "stream",
     "text": [
      "4.38 ms ± 547 µs per loop (mean ± std. dev. of 7 runs, 100 loops each)\n"
     ]
    }
   ],
   "source": [
    "%%timeit\n",
    "grad_function(large_input).block_until_ready()"
   ]
  },
  {
   "cell_type": "code",
   "execution_count": 30,
   "id": "14388264",
   "metadata": {},
   "outputs": [
    {
     "name": "stdout",
     "output_type": "stream",
     "text": [
      "4.96 µs ± 591 ns per loop (mean ± std. dev. of 7 runs, 100,000 loops each)\n"
     ]
    }
   ],
   "source": [
    "%%timeit\n",
    "jitted_grad_function(large_input).block_until_ready()"
   ]
  },
  {
   "cell_type": "markdown",
   "id": "04e7e67e",
   "metadata": {},
   "source": [
    "Once more, the jitted function is much faster than the original one. Intuitively, this shows the potential speed up we can gain by using `jax.jit` to compile the whole training step of a network. Generally, we want to jit the largest possible chunk of computation to give the compiler maximum freedom. \n",
    "\n",
    "There are situations in which applying jit to a function is not straight-forward, for instance, if an input argument cannot be traced, or you need to use loops that depend on input arguments. To keep the tutorial simple, and since most neural network training functions do not run into these issues, we do not discuss such special cases here. Instead, we refer to the section on just-in-time compilation in the great tutorials of [JAX 101 Tutorial](https://jax.readthedocs.io/en/latest/jax-101/02-jitting.html), [JAX Quickstart](https://jax.readthedocs.io/en/latest/notebooks/quickstart.html#using-jit-to-speed-up-functions), and [Thinking in JAX](https://jax.readthedocs.io/en/latest/notebooks/thinking_in_jax.html#to-jit-or-not-to-jit)."
   ]
  },
  {
   "cell_type": "markdown",
   "id": "b82f544e",
   "metadata": {},
   "source": [
    "## Implementing a Neural Network with Flax\n",
    "\n",
    "With having reviewed the basics of JAX, we are now ready to implement our own neural network. Technically, we could implement our own neural network from scratch with JAX (see [here](https://jax.readthedocs.io/en/latest/notebooks/Neural_Network_and_Data_Loading.html) for an example), but we do not really want to do that every time. Similarly to PyTorch's `torch.nn` package, there exist neural network libraries based on JAX which provide such basic functionality. A (non-exclusive) collection of them are:\n",
    "\n",
    "* [Flax](https://flax.readthedocs.io/en/latest/index.html), started by the Google Brain Team, focuses on flexibility and clarity.\n",
    "* [Haiku](https://dm-haiku.readthedocs.io/en/latest/), from DeepMind, focuses on simplicity and compositionality.\n",
    "* [Trax](https://github.com/google/trax), maintained by the Google Brain Team, provides solutions for common training tasks\n",
    "* [Equinox](https://github.com/patrick-kidger/equinox), created by Patrick Kidger and Cristian Garcia, implements neural networks as callable PyTrees\n",
    "* [Jraph](https://github.com/deepmind/jraph), from DeepMind, is a graph neural network library (similar to PyTorch Geometric)\n",
    "\n",
    "For this tutorial series, we will use Flax due to its flexibility, intuitive API, and larger community. However, this should not mean that the other libraries are necessarily worse, and we recommend giving them a try as well to find the best library for yourself!\n",
    "\n",
    "We will introduce the libraries and all additional parts you might need to train a neural network in Flax, using a simple example classifier on a simple yet well known example: XOR. Given two binary inputs $x_1$ and $x_2$, the label to predict is $1$ if either $x_1$ or $x_2$ is $1$ while the other is $0$, or the label is $0$ in all other cases. The example became famous by the fact that a single neuron, i.e. a linear classifier, cannot learn this simple function. Hence, we will learn how to build a small neural network that can learn this function. \n",
    "To make it a little bit more interesting, we move the XOR into continuous space and introduce some gaussian noise on the binary inputs. Our desired separation of an XOR dataset could look as follows:\n",
    "\n",
    "<center style=\"width: 100%\"><img src=\"assets/continuous_xor.svg\" width=\"350px\"></center>"
   ]
  },
  {
   "cell_type": "markdown",
   "id": "507f9a04",
   "metadata": {},
   "source": [
    "### The model\n",
    "\n",
    "The package `flax.linen` defines a series of useful classes like linear networks layers, convolutions, activation functions etc. A full list can be found [here](https://flax.readthedocs.io/en/latest/flax.linen.html). In case you need a certain network layer, check the documentation of the package first before writing the layer yourself as the package likely contains the code for it already. We import it below:"
   ]
  },
  {
   "cell_type": "code",
   "execution_count": 31,
   "id": "5ae8e998",
   "metadata": {},
   "outputs": [
    {
     "name": "stderr",
     "output_type": "stream",
     "text": [
      "/usr/local/lib/python3.10/site-packages/flax/core/frozen_dict.py:169: FutureWarning: jax.tree_util.register_keypaths is deprecated, and will be removed in a future release. Please use `register_pytree_with_keys()` instead.\n",
      "  jax.tree_util.register_keypaths(\n"
     ]
    }
   ],
   "source": [
    "try:\n",
    "    import flax\n",
    "except ModuleNotFoundError:  # Install flax if missing\n",
    "    !pip install --quiet flax\n",
    "    import flax\n",
    "\n",
    "from flax import linen as nn"
   ]
  },
  {
   "cell_type": "markdown",
   "id": "b63429e0",
   "metadata": {},
   "source": [
    "#### nn.Module\n",
    "\n",
    "Similar to PyTorch, a neural network is built up out of modules. Modules can contain other modules, and a neural network is considered to be a module itself as well. The basic template of a module is as follows:"
   ]
  },
  {
   "cell_type": "code",
   "execution_count": 32,
   "id": "55fcd52c",
   "metadata": {},
   "outputs": [],
   "source": [
    "class MyModule(nn.Module):\n",
    "    # Some dataclass attributes, like hidden dimension, number of layers, etc. of the form:\n",
    "    # varname : vartype\n",
    "\n",
    "    def setup(self):\n",
    "        # Flax uses \"lazy\" initialization. This function is called once before you\n",
    "        # call the model, or try to access attributes. In here, define your submodules etc.\n",
    "        pass\n",
    "\n",
    "    def __call__(self, x):\n",
    "        # Function for performing the calculation of the module.\n",
    "        pass"
   ]
  },
  {
   "cell_type": "markdown",
   "id": "315c8cf3",
   "metadata": {},
   "source": [
    "The main, obvious difference to PyTorch is that Flax uses lazy initialization. The function `setup` is called once on a module instance before any other methods are called, or when you try to access a attribute of *self* defined in setup. Additional object attributes are defined below the class name. However, in contrast to PyTorch, the parameters are not part of the module. Instead, we can create a set of parameters of the module by calling its `init()` function. This function takes as input a PRNG state for sampling pseudo-random numbers and an example input to the model, and returns a set of parameters for the module as a pytree. Further, since the init function requires an input to the network, we can infer the input shape for all modules and do not need to explicitly define it during the module creation. This becomes more clear in the example we show in a second.\n",
    "\n",
    "The `__call__` method represents the `forward` function in PyTorch, and performs the actual computation of the module. It can take additional arguments if needed, like whether we are training or validation."
   ]
  },
  {
   "cell_type": "markdown",
   "id": "140a1566",
   "metadata": {},
   "source": [
    "#### Simple classifier\n",
    "\n",
    "To get an intuition behind how we work with modules in Flax, let's define our own small neural network. We will use a minimal network with a input layer, one hidden layer with tanh as activation function, and a output layer. In other words, our networks should look something like this:\n",
    "\n",
    "<center width=\"100%\"><img src=\"assets/small_neural_network.svg\" width=\"300px\"></center>\n",
    "\n",
    "The input neurons are shown in blue, which represent the coordinates $x_1$ and $x_2$ of a data point. The hidden neurons including a tanh activation are shown in white, and the output neuron in red.\n",
    "In Flax, we can define this as follows:"
   ]
  },
  {
   "cell_type": "code",
   "execution_count": 33,
   "id": "f0709370",
   "metadata": {},
   "outputs": [],
   "source": [
    "class SimpleClassifier(nn.Module):\n",
    "    num_hidden: int  # Number of hidden neurons\n",
    "    num_outputs: int  # Number of output neurons\n",
    "\n",
    "    def setup(self):\n",
    "        # Create the modules we need to build the network\n",
    "        # nn.Dense is a linear layer\n",
    "        self.linear1 = nn.Dense(features=self.num_hidden)\n",
    "        self.linear2 = nn.Dense(features=self.num_outputs)\n",
    "\n",
    "    def __call__(self, x):\n",
    "        # Perform the calculation of the model to determine the prediction\n",
    "        x = self.linear1(x)\n",
    "        x = nn.tanh(x)\n",
    "        x = self.linear2(x)\n",
    "        return x"
   ]
  },
  {
   "cell_type": "markdown",
   "id": "c9c5062b",
   "metadata": {},
   "source": [
    "One thing you may notice is that usually, all layers that we define in `setup` are also used in the `__call__` function. To reduce the code overhead, Flax provides an alternative, more compact network creation with `nn.compact`. With that, we can remove the setup function and instead our model as:"
   ]
  },
  {
   "cell_type": "code",
   "execution_count": 34,
   "id": "c68c1706",
   "metadata": {},
   "outputs": [],
   "source": [
    "class SimpleClassifierCompact(nn.Module):\n",
    "    num_hidden: int  # Number of hidden neurons\n",
    "    num_outputs: int  # Number of output neurons\n",
    "\n",
    "    @nn.compact  # Tells Flax to look for defined submodules\n",
    "    def __call__(self, x):\n",
    "        # Perform the calculation of the model to determine the prediction\n",
    "        # while defining necessary layers\n",
    "        x = nn.Dense(features=self.num_hidden)(x)\n",
    "        x = nn.tanh(x)\n",
    "        x = nn.Dense(features=self.num_outputs)(x)\n",
    "        return x"
   ]
  },
  {
   "cell_type": "markdown",
   "id": "8835db24",
   "metadata": {},
   "source": [
    "The `nn.compact` annotation of the `__call__` method signals Flax to look for submodules that we define in the forward pass. These are automatically recognized as such, so that we can use them for initialization etc. Which of the two model definition you use is often up to you (see the [Flax documentation](https://flax.readthedocs.io/en/latest/design_notes/setup_or_nncompact.html) for some pros and cons for both methods). In the following tutorials, we will mostly use the compact version, but occasionally come back to the explicit setup function where necessary. For instance, if we define more functions on a module besides `__call__` and want to reuse some modules, it is recommended to use the setup version."
   ]
  },
  {
   "cell_type": "markdown",
   "id": "c8096c54",
   "metadata": {},
   "source": [
    "For the examples in this notebook, we will use a tiny neural network with two input neurons and eight hidden neurons. As we perform binary classification, we will use a single output neuron. Note that we do not apply a sigmoid on the output yet. This is because other functions, especially the loss, are more efficient and precise to calculate on the original outputs instead of the sigmoid output. We will discuss the detailed reason later.\n",
    "\n",
    "Now, let's create an instance of this network:"
   ]
  },
  {
   "cell_type": "code",
   "execution_count": 35,
   "id": "f3773927",
   "metadata": {},
   "outputs": [
    {
     "name": "stdout",
     "output_type": "stream",
     "text": [
      "SimpleClassifier(\n",
      "    # attributes\n",
      "    num_hidden = 8\n",
      "    num_outputs = 1\n",
      ")\n"
     ]
    }
   ],
   "source": [
    "model = SimpleClassifier(num_hidden=8, num_outputs=1)\n",
    "# Printing the model shows its attributes\n",
    "print(model)"
   ]
  },
  {
   "cell_type": "markdown",
   "id": "3e828055",
   "metadata": {},
   "source": [
    "At this stage, the model has no parameters initialized. To do this, let's create a random input of our dataset, and apply the init function:"
   ]
  },
  {
   "cell_type": "code",
   "execution_count": 36,
   "id": "5cde7905",
   "metadata": {},
   "outputs": [
    {
     "name": "stdout",
     "output_type": "stream",
     "text": [
      "FrozenDict({\n",
      "    params: {\n",
      "        linear1: {\n",
      "            kernel: Array([[ 0.31476858, -0.46477678, -0.78620416, -0.48842612, -0.65373844,\n",
      "                     0.38925445,  0.3038055 ,  0.0417986 ],\n",
      "                   [-0.32982358,  1.1110363 ,  0.54909384, -0.81688154,  0.4005725 ,\n",
      "                    -0.86659867,  1.2087963 ,  1.0364621 ]], dtype=float32),\n",
      "            bias: Array([0., 0., 0., 0., 0., 0., 0., 0.], dtype=float32),\n",
      "        },\n",
      "        linear2: {\n",
      "            kernel: Array([[-0.2797181 ],\n",
      "                   [-0.74667746],\n",
      "                   [ 0.29791605],\n",
      "                   [-0.26267233],\n",
      "                   [-0.50843847],\n",
      "                   [ 0.04573093],\n",
      "                   [-0.4725701 ],\n",
      "                   [ 0.50458497]], dtype=float32),\n",
      "            bias: Array([0.], dtype=float32),\n",
      "        },\n",
      "    },\n",
      "})\n"
     ]
    }
   ],
   "source": [
    "rng, inp_rng, init_rng = jax.random.split(rng, 3)\n",
    "inp = jax.random.normal(inp_rng, (8, 2))  # Batch size 8, input size 2\n",
    "# Initialize the model\n",
    "params = model.init(init_rng, inp)\n",
    "print(params)"
   ]
  },
  {
   "cell_type": "markdown",
   "id": "8c8fbfc7",
   "metadata": {},
   "source": [
    "Now, we have parameters with which we can apply the network. We see that the parameters follow the same structure as defined in our module, and each linear layer contains one `kernel`, i.e. the weights, and a bias parameter. With this, we could apply the model on an input using the `apply` function:"
   ]
  },
  {
   "cell_type": "code",
   "execution_count": 37,
   "id": "bd41972d",
   "metadata": {},
   "outputs": [
    {
     "data": {
      "text/plain": [
       "Array([[-0.4836821 ],\n",
       "       [ 0.04365462],\n",
       "       [ 0.0666853 ],\n",
       "       [-0.34203655],\n",
       "       [ 0.48351482],\n",
       "       [ 0.37424877],\n",
       "       [ 0.14232653],\n",
       "       [-0.5916512 ]], dtype=float32)"
      ]
     },
     "execution_count": 37,
     "metadata": {},
     "output_type": "execute_result"
    }
   ],
   "source": [
    "model.apply(params, inp)"
   ]
  },
  {
   "cell_type": "markdown",
   "id": "e15dfa58",
   "metadata": {},
   "source": [
    "The model returns an output array of shape `[8,1]`, which corresponds to the one output neuron in the model for all 8 batch elements. With that, we now know how to initialize a model, and run a model. Next, let's look at the data."
   ]
  },
  {
   "cell_type": "markdown",
   "id": "aa45f48d",
   "metadata": {},
   "source": [
    "### The data\n",
    "\n",
    "As mentioned before, JAX is not meant to 'reinvent the wheel' for every part of the deep learning pipeline. Hence, JAX and Flax do not natively provide a data loading functionality, but instead refer to other available libraries like Tensorflow and PyTorch. Here, let's use again the package `torch.utils.data` library."
   ]
  },
  {
   "cell_type": "code",
   "execution_count": 38,
   "id": "50d8c7c8",
   "metadata": {},
   "outputs": [
    {
     "ename": "KeyboardInterrupt",
     "evalue": "",
     "output_type": "error",
     "traceback": [
      "\u001b[0;31m---------------------------------------------------------------------------\u001b[0m",
      "\u001b[0;31mKeyboardInterrupt\u001b[0m                         Traceback (most recent call last)",
      "Cell \u001b[0;32mIn[38], line 1\u001b[0m\n\u001b[0;32m----> 1\u001b[0m \u001b[39mimport\u001b[39;00m \u001b[39mtorch\u001b[39;00m\u001b[39m.\u001b[39;00m\u001b[39mutils\u001b[39;00m\u001b[39m.\u001b[39;00m\u001b[39mdata\u001b[39;00m \u001b[39mas\u001b[39;00m \u001b[39mdata\u001b[39;00m\n",
      "File \u001b[0;32m/usr/local/lib/python3.10/site-packages/torch/__init__.py:905\u001b[0m\n\u001b[1;32m    901\u001b[0m \u001b[39mfrom\u001b[39;00m \u001b[39mtorch\u001b[39;00m\u001b[39m.\u001b[39;00m\u001b[39m_classes\u001b[39;00m \u001b[39mimport\u001b[39;00m classes\n\u001b[1;32m    903\u001b[0m \u001b[39m# quantization depends on torch.fx\u001b[39;00m\n\u001b[1;32m    904\u001b[0m \u001b[39m# Import quantization\u001b[39;00m\n\u001b[0;32m--> 905\u001b[0m \u001b[39mfrom\u001b[39;00m \u001b[39mtorch\u001b[39;00m \u001b[39mimport\u001b[39;00m quantization \u001b[39mas\u001b[39;00m quantization\n\u001b[1;32m    907\u001b[0m \u001b[39m# Import the quasi random sampler\u001b[39;00m\n\u001b[1;32m    908\u001b[0m \u001b[39mfrom\u001b[39;00m \u001b[39mtorch\u001b[39;00m \u001b[39mimport\u001b[39;00m quasirandom \u001b[39mas\u001b[39;00m quasirandom\n",
      "File \u001b[0;32m/usr/local/lib/python3.10/site-packages/torch/quantization/__init__.py:1\u001b[0m\n\u001b[0;32m----> 1\u001b[0m \u001b[39mfrom\u001b[39;00m \u001b[39m.\u001b[39;00m\u001b[39mquantize\u001b[39;00m \u001b[39mimport\u001b[39;00m \u001b[39m*\u001b[39m  \u001b[39m# noqa: F403\u001b[39;00m\n\u001b[1;32m      2\u001b[0m \u001b[39mfrom\u001b[39;00m \u001b[39m.\u001b[39;00m\u001b[39mobserver\u001b[39;00m \u001b[39mimport\u001b[39;00m \u001b[39m*\u001b[39m  \u001b[39m# noqa: F403\u001b[39;00m\n\u001b[1;32m      3\u001b[0m \u001b[39mfrom\u001b[39;00m \u001b[39m.\u001b[39;00m\u001b[39mqconfig\u001b[39;00m \u001b[39mimport\u001b[39;00m \u001b[39m*\u001b[39m  \u001b[39m# noqa: F403\u001b[39;00m\n",
      "File \u001b[0;32m/usr/local/lib/python3.10/site-packages/torch/quantization/quantize.py:10\u001b[0m\n\u001b[1;32m      1\u001b[0m \u001b[39m# flake8: noqa: F401\u001b[39;00m\n\u001b[1;32m      2\u001b[0m \u001b[39mr\u001b[39m\u001b[39m\"\"\"\u001b[39;00m\n\u001b[1;32m      3\u001b[0m \u001b[39mThis file is in the process of migration to `torch/ao/quantization`, and\u001b[39;00m\n\u001b[1;32m      4\u001b[0m \u001b[39mis kept here for compatibility while the migration process is ongoing.\u001b[39;00m\n\u001b[0;32m   (...)\u001b[0m\n\u001b[1;32m      7\u001b[0m \u001b[39mhere.\u001b[39;00m\n\u001b[1;32m      8\u001b[0m \u001b[39m\"\"\"\u001b[39;00m\n\u001b[0;32m---> 10\u001b[0m \u001b[39mfrom\u001b[39;00m \u001b[39mtorch\u001b[39;00m\u001b[39m.\u001b[39;00m\u001b[39mao\u001b[39;00m\u001b[39m.\u001b[39;00m\u001b[39mquantization\u001b[39;00m\u001b[39m.\u001b[39;00m\u001b[39mquantize\u001b[39;00m \u001b[39mimport\u001b[39;00m _convert\n\u001b[1;32m     11\u001b[0m \u001b[39mfrom\u001b[39;00m \u001b[39mtorch\u001b[39;00m\u001b[39m.\u001b[39;00m\u001b[39mao\u001b[39;00m\u001b[39m.\u001b[39;00m\u001b[39mquantization\u001b[39;00m\u001b[39m.\u001b[39;00m\u001b[39mquantize\u001b[39;00m \u001b[39mimport\u001b[39;00m _observer_forward_hook\n\u001b[1;32m     12\u001b[0m \u001b[39mfrom\u001b[39;00m \u001b[39mtorch\u001b[39;00m\u001b[39m.\u001b[39;00m\u001b[39mao\u001b[39;00m\u001b[39m.\u001b[39;00m\u001b[39mquantization\u001b[39;00m\u001b[39m.\u001b[39;00m\u001b[39mquantize\u001b[39;00m \u001b[39mimport\u001b[39;00m _propagate_qconfig_helper\n",
      "File \u001b[0;32m/usr/local/lib/python3.10/site-packages/torch/ao/quantization/__init__.py:10\u001b[0m\n\u001b[1;32m      8\u001b[0m \u001b[39mfrom\u001b[39;00m \u001b[39m.\u001b[39;00m\u001b[39mqconfig\u001b[39;00m \u001b[39mimport\u001b[39;00m \u001b[39m*\u001b[39m  \u001b[39m# noqa: F403\u001b[39;00m\n\u001b[1;32m      9\u001b[0m \u001b[39mfrom\u001b[39;00m \u001b[39m.\u001b[39;00m\u001b[39mquant_type\u001b[39;00m \u001b[39mimport\u001b[39;00m \u001b[39m*\u001b[39m  \u001b[39m# noqa: F403\u001b[39;00m\n\u001b[0;32m---> 10\u001b[0m \u001b[39mfrom\u001b[39;00m \u001b[39m.\u001b[39;00m\u001b[39mquantization_mappings\u001b[39;00m \u001b[39mimport\u001b[39;00m \u001b[39m*\u001b[39m  \u001b[39m# noqa: F403\u001b[39;00m\n\u001b[1;32m     11\u001b[0m \u001b[39mfrom\u001b[39;00m \u001b[39m.\u001b[39;00m\u001b[39mquantize\u001b[39;00m \u001b[39mimport\u001b[39;00m \u001b[39m*\u001b[39m  \u001b[39m# noqa: F403\u001b[39;00m\n\u001b[1;32m     12\u001b[0m \u001b[39mfrom\u001b[39;00m \u001b[39m.\u001b[39;00m\u001b[39mquantize_jit\u001b[39;00m \u001b[39mimport\u001b[39;00m \u001b[39m*\u001b[39m  \u001b[39m# noqa: F403\u001b[39;00m\n",
      "File \u001b[0;32m/usr/local/lib/python3.10/site-packages/torch/ao/quantization/quantization_mappings.py:19\u001b[0m\n\u001b[1;32m     15\u001b[0m \u001b[39mimport\u001b[39;00m \u001b[39mtorch\u001b[39;00m\u001b[39m.\u001b[39;00m\u001b[39mnn\u001b[39;00m\u001b[39m.\u001b[39;00m\u001b[39mqat\u001b[39;00m\u001b[39m.\u001b[39;00m\u001b[39mdynamic\u001b[39;00m \u001b[39mas\u001b[39;00m \u001b[39mnnqatd\u001b[39;00m\n\u001b[1;32m     17\u001b[0m \u001b[39mfrom\u001b[39;00m \u001b[39mtyping\u001b[39;00m \u001b[39mimport\u001b[39;00m Optional, Union, Dict, Set, Callable, Any\n\u001b[0;32m---> 19\u001b[0m \u001b[39mimport\u001b[39;00m \u001b[39mtorch\u001b[39;00m\u001b[39m.\u001b[39;00m\u001b[39mao\u001b[39;00m\u001b[39m.\u001b[39;00m\u001b[39mnn\u001b[39;00m \u001b[39mas\u001b[39;00m \u001b[39mao_nn\u001b[39;00m\n\u001b[1;32m     20\u001b[0m \u001b[39mfrom\u001b[39;00m \u001b[39mtorch\u001b[39;00m\u001b[39m.\u001b[39;00m\u001b[39mao\u001b[39;00m\u001b[39m.\u001b[39;00m\u001b[39mquantization\u001b[39;00m\u001b[39m.\u001b[39;00m\u001b[39mstubs\u001b[39;00m \u001b[39mimport\u001b[39;00m QuantStub, DeQuantStub\n\u001b[1;32m     21\u001b[0m \u001b[39mfrom\u001b[39;00m \u001b[39mtorch\u001b[39;00m\u001b[39m.\u001b[39;00m\u001b[39mao\u001b[39;00m\u001b[39m.\u001b[39;00m\u001b[39mquantization\u001b[39;00m\u001b[39m.\u001b[39;00m\u001b[39mfake_quantize\u001b[39;00m \u001b[39mimport\u001b[39;00m (\n\u001b[1;32m     22\u001b[0m     default_fixed_qparams_range_0to1_fake_quant,\n\u001b[1;32m     23\u001b[0m     default_fixed_qparams_range_neg1to1_fake_quant,\n\u001b[1;32m     24\u001b[0m )\n",
      "File \u001b[0;32m/usr/local/lib/python3.10/site-packages/torch/ao/nn/__init__.py:1\u001b[0m\n\u001b[0;32m----> 1\u001b[0m \u001b[39mfrom\u001b[39;00m \u001b[39mtorch\u001b[39;00m\u001b[39m.\u001b[39;00m\u001b[39mao\u001b[39;00m\u001b[39m.\u001b[39;00m\u001b[39mnn\u001b[39;00m \u001b[39mimport\u001b[39;00m sparse\n",
      "File \u001b[0;32m/usr/local/lib/python3.10/site-packages/torch/ao/nn/sparse/__init__.py:1\u001b[0m\n\u001b[0;32m----> 1\u001b[0m \u001b[39mfrom\u001b[39;00m \u001b[39m.\u001b[39;00m \u001b[39mimport\u001b[39;00m quantized\n",
      "File \u001b[0;32m<frozen importlib._bootstrap>:1027\u001b[0m, in \u001b[0;36m_find_and_load\u001b[0;34m(name, import_)\u001b[0m\n",
      "File \u001b[0;32m<frozen importlib._bootstrap>:1002\u001b[0m, in \u001b[0;36m_find_and_load_unlocked\u001b[0;34m(name, import_)\u001b[0m\n",
      "File \u001b[0;32m<frozen importlib._bootstrap>:937\u001b[0m, in \u001b[0;36m_find_spec\u001b[0;34m(name, path, target)\u001b[0m\n",
      "File \u001b[0;32m<frozen importlib._bootstrap>:893\u001b[0m, in \u001b[0;36m__enter__\u001b[0;34m(self)\u001b[0m\n",
      "\u001b[0;31mKeyboardInterrupt\u001b[0m: "
     ]
    }
   ],
   "source": [
    "import torch.utils.data as data"
   ]
  },
  {
   "cell_type": "markdown",
   "id": "59d418ec",
   "metadata": {},
   "source": [
    "The data package defines two classes which are the standard interface for handling data in PyTorch: `data.Dataset`, and `data.DataLoader`. The dataset class provides an uniform interface to access the training/test data, while the data loader makes sure to efficiently load and stack the data points from the dataset into batches during training."
   ]
  },
  {
   "cell_type": "markdown",
   "id": "c28a204c",
   "metadata": {},
   "source": [
    "#### The dataset class\n",
    "\n",
    "The dataset class summarizes the basic functionality of a dataset in a natural way. To define a dataset in PyTorch, we simply specify two functions: `__getitem__`, and `__len__`. The get-item function has to return the $i$-th data point in the dataset, while the len function returns the size of the dataset. For the XOR dataset, we can define the dataset class as follows:"
   ]
  },
  {
   "cell_type": "code",
   "execution_count": null,
   "id": "22c49212",
   "metadata": {},
   "outputs": [],
   "source": [
    "class XORDataset(data.Dataset):\n",
    "    def __init__(self, size, seed, std=0.1):\n",
    "        \"\"\"\n",
    "        Inputs:\n",
    "            size - Number of data points we want to generate\n",
    "            seed - The seed to use to create the PRNG state with which we want to generate the data points\n",
    "            std - Standard deviation of the noise (see generate_continuous_xor function)\n",
    "        \"\"\"\n",
    "        super().__init__()\n",
    "        self.size = size\n",
    "        self.np_rng = np.random.RandomState(seed=seed)\n",
    "        self.std = std\n",
    "        self.generate_continuous_xor()\n",
    "\n",
    "    def generate_continuous_xor(self):\n",
    "        # Each data point in the XOR dataset has two variables, x and y, that can be either 0 or 1\n",
    "        # The label is their XOR combination, i.e. 1 if only x or only y is 1 while the other is 0.\n",
    "        # If x=y, the label is 0.\n",
    "        data = self.np_rng.randint(low=0, high=2, size=(self.size, 2)).astype(\n",
    "            np.float32\n",
    "        )\n",
    "        label = (data.sum(axis=1) == 1).astype(np.int32)\n",
    "        # To make it slightly more challenging, we add a bit of gaussian noise to the data points.\n",
    "        data += self.np_rng.normal(loc=0.0, scale=self.std, size=data.shape)\n",
    "\n",
    "        self.data = data\n",
    "        self.label = label\n",
    "\n",
    "    def __len__(self):\n",
    "        # Number of data point we have. Alternatively self.data.shape[0], or self.label.shape[0]\n",
    "        return self.size\n",
    "\n",
    "    def __getitem__(self, idx):\n",
    "        # Return the idx-th data point of the dataset\n",
    "        # If we have multiple things to return (data point and label), we can return them as tuple\n",
    "        data_point = self.data[idx]\n",
    "        data_label = self.label[idx]\n",
    "        return data_point, data_label"
   ]
  },
  {
   "cell_type": "markdown",
   "id": "34a8769a",
   "metadata": {},
   "source": [
    "Note that in contrast to our [PyTorch tutorial](https://uvadlc-notebooks.readthedocs.io/en/latest/tutorial_notebooks/tutorial2/Introduction_to_PyTorch.html#The-data), we use NumPy to generate the random data. Similar to JAX, NumPy also allows the pseudo-number generation based on a PRNG state. Hence, for better reproducibility, we are doing the same here. Let's try to create such a dataset and inspect it:"
   ]
  },
  {
   "cell_type": "code",
   "execution_count": null,
   "id": "de1d5448",
   "metadata": {},
   "outputs": [
    {
     "name": "stdout",
     "output_type": "stream",
     "text": [
      "Size of dataset: 200\n",
      "Data point 0: (array([-0.06800247,  1.0232254 ], dtype=float32), 1)\n"
     ]
    }
   ],
   "source": [
    "dataset = XORDataset(size=200, seed=42)\n",
    "print(\"Size of dataset:\", len(dataset))\n",
    "print(\"Data point 0:\", dataset[0])"
   ]
  },
  {
   "cell_type": "markdown",
   "id": "c49d37c0",
   "metadata": {},
   "source": [
    "To better relate to the dataset, we visualize the samples below. "
   ]
  },
  {
   "cell_type": "code",
   "execution_count": null,
   "id": "4a133ca4",
   "metadata": {},
   "outputs": [],
   "source": [
    "def visualize_samples(data, label):\n",
    "    data_0 = data[label == 0]\n",
    "    data_1 = data[label == 1]\n",
    "\n",
    "    plt.figure(figsize=(4, 4))\n",
    "    plt.scatter(data_0[:, 0], data_0[:, 1], edgecolor=\"#333\", label=\"Class 0\")\n",
    "    plt.scatter(data_1[:, 0], data_1[:, 1], edgecolor=\"#333\", label=\"Class 1\")\n",
    "    plt.title(\"Dataset samples\")\n",
    "    plt.ylabel(r\"$x_2$\")\n",
    "    plt.xlabel(r\"$x_1$\")\n",
    "    plt.legend()"
   ]
  },
  {
   "cell_type": "code",
   "execution_count": null,
   "id": "b6783615",
   "metadata": {},
   "outputs": [
    {
     "data": {
      "application/pdf": "[encoded data removed]",
      "image/svg+xml": "<?xml version=\"1.0\" encoding=\"utf-8\" standalone=\"no\"?>\n<!DOCTYPE svg PUBLIC \"-//W3C//DTD SVG 1.1//EN\"\n  \"http://www.w3.org/Graphics/SVG/1.1/DTD/svg11.dtd\">\n<svg xmlns:xlink=\"http://www.w3.org/1999/xlink\" width=\"289.424844pt\" height=\"287.037813pt\" viewBox=\"0 0 289.424844 287.037813\" xmlns=\"http://www.w3.org/2000/svg\" version=\"1.1\">\n <metadata>\n  <rdf:RDF xmlns:dc=\"http://purl.org/dc/elements/1.1/\" xmlns:cc=\"http://creativecommons.org/ns#\" xmlns:rdf=\"http://www.w3.org/1999/02/22-rdf-syntax-ns#\">\n   <cc:Work>\n    <dc:type rdf:resource=\"http://purl.org/dc/dcmitype/StillImage\"/>\n    <dc:date>2023-03-27T17:40:09.095568</dc:date>\n    <dc:format>image/svg+xml</dc:format>\n    <dc:creator>\n     <cc:Agent>\n      <dc:title>Matplotlib v3.7.1, https://matplotlib.org/</dc:title>\n     </cc:Agent>\n    </dc:creator>\n   </cc:Work>\n  </rdf:RDF>\n </metadata>\n <defs>\n  <style type=\"text/css\">*{stroke-linejoin: round; stroke-linecap: butt}</style>\n </defs>\n <g id=\"figure_1\">\n  <g id=\"patch_1\">\n   <path d=\"M 0 287.037813 \nL 289.424844 287.037813 \nL 289.424844 0 \nL 0 0 \nz\n\" style=\"fill: #ffffff\"/>\n  </g>\n  <g id=\"axes_1\">\n   <g id=\"patch_2\">\n    <path d=\"M 59.024844 244.078125 \nL 282.224844 244.078125 \nL 282.224844 22.318125 \nL 59.024844 22.318125 \nz\n\" style=\"fill: #eaeaf2\"/>\n   </g>\n   <g id=\"matplotlib.axis_1\">\n    <g id=\"xtick_1\">\n     <g id=\"line2d_1\">\n      <path d=\"M 98.338694 244.078125 \nL 98.338694 22.318125 \n\" clip-path=\"url(#p221b9864dc)\" style=\"fill: none; stroke: #ffffff; stroke-linecap: round\"/>\n     </g>\n     <g id=\"text_1\">\n      <!-- 0.0 -->\n      <g style=\"fill: #262626\" transform=\"translate(89.591975 261.936406) scale(0.11 -0.11)\">\n       <defs>\n        <path id=\"DejaVuSans-30\" d=\"M 2034 4250 \nQ 1547 4250 1301 3770 \nQ 1056 3291 1056 2328 \nQ 1056 1369 1301 889 \nQ 1547 409 2034 409 \nQ 2525 409 2770 889 \nQ 3016 1369 3016 2328 \nQ 3016 3291 2770 3770 \nQ 2525 4250 2034 4250 \nz\nM 2034 4750 \nQ 2819 4750 3233 4129 \nQ 3647 3509 3647 2328 \nQ 3647 1150 3233 529 \nQ 2819 -91 2034 -91 \nQ 1250 -91 836 529 \nQ 422 1150 422 2328 \nQ 422 3509 836 4129 \nQ 1250 4750 2034 4750 \nz\n\" transform=\"scale(0.015625)\"/>\n        <path id=\"DejaVuSans-2e\" d=\"M 684 794 \nL 1344 794 \nL 1344 0 \nL 684 0 \nL 684 794 \nz\n\" transform=\"scale(0.015625)\"/>\n       </defs>\n       <use xlink:href=\"#DejaVuSans-30\"/>\n       <use xlink:href=\"#DejaVuSans-2e\" x=\"63.623047\"/>\n       <use xlink:href=\"#DejaVuSans-30\" x=\"95.410156\"/>\n      </g>\n     </g>\n    </g>\n    <g id=\"xtick_2\">\n     <g id=\"line2d_2\">\n      <path d=\"M 168.880926 244.078125 \nL 168.880926 22.318125 \n\" clip-path=\"url(#p221b9864dc)\" style=\"fill: none; stroke: #ffffff; stroke-linecap: round\"/>\n     </g>\n     <g id=\"text_2\">\n      <!-- 0.5 -->\n      <g style=\"fill: #262626\" transform=\"translate(160.134208 261.936406) scale(0.11 -0.11)\">\n       <defs>\n        <path id=\"DejaVuSans-35\" d=\"M 691 4666 \nL 3169 4666 \nL 3169 4134 \nL 1269 4134 \nL 1269 2991 \nQ 1406 3038 1543 3061 \nQ 1681 3084 1819 3084 \nQ 2600 3084 3056 2656 \nQ 3513 2228 3513 1497 \nQ 3513 744 3044 326 \nQ 2575 -91 1722 -91 \nQ 1428 -91 1123 -41 \nQ 819 9 494 109 \nL 494 744 \nQ 775 591 1075 516 \nQ 1375 441 1709 441 \nQ 2250 441 2565 725 \nQ 2881 1009 2881 1497 \nQ 2881 1984 2565 2268 \nQ 2250 2553 1709 2553 \nQ 1456 2553 1204 2497 \nQ 953 2441 691 2322 \nL 691 4666 \nz\n\" transform=\"scale(0.015625)\"/>\n       </defs>\n       <use xlink:href=\"#DejaVuSans-30\"/>\n       <use xlink:href=\"#DejaVuSans-2e\" x=\"63.623047\"/>\n       <use xlink:href=\"#DejaVuSans-35\" x=\"95.410156\"/>\n      </g>\n     </g>\n    </g>\n    <g id=\"xtick_3\">\n     <g id=\"line2d_3\">\n      <path d=\"M 239.423158 244.078125 \nL 239.423158 22.318125 \n\" clip-path=\"url(#p221b9864dc)\" style=\"fill: none; stroke: #ffffff; stroke-linecap: round\"/>\n     </g>\n     <g id=\"text_3\">\n      <!-- 1.0 -->\n      <g style=\"fill: #262626\" transform=\"translate(230.67644 261.936406) scale(0.11 -0.11)\">\n       <defs>\n        <path id=\"DejaVuSans-31\" d=\"M 794 531 \nL 1825 531 \nL 1825 4091 \nL 703 3866 \nL 703 4441 \nL 1819 4666 \nL 2450 4666 \nL 2450 531 \nL 3481 531 \nL 3481 0 \nL 794 0 \nL 794 531 \nz\n\" transform=\"scale(0.015625)\"/>\n       </defs>\n       <use xlink:href=\"#DejaVuSans-31\"/>\n       <use xlink:href=\"#DejaVuSans-2e\" x=\"63.623047\"/>\n       <use xlink:href=\"#DejaVuSans-30\" x=\"95.410156\"/>\n      </g>\n     </g>\n    </g>\n    <g id=\"text_4\">\n     <!-- $x_1$ -->\n     <g style=\"fill: #262626\" transform=\"translate(164.204844 277.342188) scale(0.12 -0.12)\">\n      <defs>\n       <path id=\"DejaVuSans-Oblique-78\" d=\"M 3841 3500 \nL 2234 1784 \nL 3219 0 \nL 2559 0 \nL 1819 1388 \nL 531 0 \nL -166 0 \nL 1556 1844 \nL 641 3500 \nL 1300 3500 \nL 1972 2234 \nL 3144 3500 \nL 3841 3500 \nz\n\" transform=\"scale(0.015625)\"/>\n      </defs>\n      <use xlink:href=\"#DejaVuSans-Oblique-78\" transform=\"translate(0 0.3125)\"/>\n      <use xlink:href=\"#DejaVuSans-31\" transform=\"translate(59.179688 -16.09375) scale(0.7)\"/>\n     </g>\n    </g>\n   </g>\n   <g id=\"matplotlib.axis_2\">\n    <g id=\"ytick_1\">\n     <g id=\"line2d_4\">\n      <path d=\"M 59.024844 234.65645 \nL 282.224844 234.65645 \n\" clip-path=\"url(#p221b9864dc)\" style=\"fill: none; stroke: #ffffff; stroke-linecap: round\"/>\n     </g>\n     <g id=\"text_5\">\n      <!-- −0.2 -->\n      <g style=\"fill: #262626\" transform=\"translate(22.81375 238.835591) scale(0.11 -0.11)\">\n       <defs>\n        <path id=\"DejaVuSans-2212\" d=\"M 678 2272 \nL 4684 2272 \nL 4684 1741 \nL 678 1741 \nL 678 2272 \nz\n\" transform=\"scale(0.015625)\"/>\n        <path id=\"DejaVuSans-32\" d=\"M 1228 531 \nL 3431 531 \nL 3431 0 \nL 469 0 \nL 469 531 \nQ 828 903 1448 1529 \nQ 2069 2156 2228 2338 \nQ 2531 2678 2651 2914 \nQ 2772 3150 2772 3378 \nQ 2772 3750 2511 3984 \nQ 2250 4219 1831 4219 \nQ 1534 4219 1204 4116 \nQ 875 4013 500 3803 \nL 500 4441 \nQ 881 4594 1212 4672 \nQ 1544 4750 1819 4750 \nQ 2544 4750 2975 4387 \nQ 3406 4025 3406 3419 \nQ 3406 3131 3298 2873 \nQ 3191 2616 2906 2266 \nQ 2828 2175 2409 1742 \nQ 1991 1309 1228 531 \nz\n\" transform=\"scale(0.015625)\"/>\n       </defs>\n       <use xlink:href=\"#DejaVuSans-2212\"/>\n       <use xlink:href=\"#DejaVuSans-30\" x=\"83.789062\"/>\n       <use xlink:href=\"#DejaVuSans-2e\" x=\"147.412109\"/>\n       <use xlink:href=\"#DejaVuSans-32\" x=\"179.199219\"/>\n      </g>\n     </g>\n    </g>\n    <g id=\"ytick_2\">\n     <g id=\"line2d_5\">\n      <path d=\"M 59.024844 207.176015 \nL 282.224844 207.176015 \n\" clip-path=\"url(#p221b9864dc)\" style=\"fill: none; stroke: #ffffff; stroke-linecap: round\"/>\n     </g>\n     <g id=\"text_6\">\n      <!-- 0.0 -->\n      <g style=\"fill: #262626\" transform=\"translate(32.031406 211.355155) scale(0.11 -0.11)\">\n       <use xlink:href=\"#DejaVuSans-30\"/>\n       <use xlink:href=\"#DejaVuSans-2e\" x=\"63.623047\"/>\n       <use xlink:href=\"#DejaVuSans-30\" x=\"95.410156\"/>\n      </g>\n     </g>\n    </g>\n    <g id=\"ytick_3\">\n     <g id=\"line2d_6\">\n      <path d=\"M 59.024844 179.695579 \nL 282.224844 179.695579 \n\" clip-path=\"url(#p221b9864dc)\" style=\"fill: none; stroke: #ffffff; stroke-linecap: round\"/>\n     </g>\n     <g id=\"text_7\">\n      <!-- 0.2 -->\n      <g style=\"fill: #262626\" transform=\"translate(32.031406 183.87472) scale(0.11 -0.11)\">\n       <use xlink:href=\"#DejaVuSans-30\"/>\n       <use xlink:href=\"#DejaVuSans-2e\" x=\"63.623047\"/>\n       <use xlink:href=\"#DejaVuSans-32\" x=\"95.410156\"/>\n      </g>\n     </g>\n    </g>\n    <g id=\"ytick_4\">\n     <g id=\"line2d_7\">\n      <path d=\"M 59.024844 152.215144 \nL 282.224844 152.215144 \n\" clip-path=\"url(#p221b9864dc)\" style=\"fill: none; stroke: #ffffff; stroke-linecap: round\"/>\n     </g>\n     <g id=\"text_8\">\n      <!-- 0.4 -->\n      <g style=\"fill: #262626\" transform=\"translate(32.031406 156.394284) scale(0.11 -0.11)\">\n       <defs>\n        <path id=\"DejaVuSans-34\" d=\"M 2419 4116 \nL 825 1625 \nL 2419 1625 \nL 2419 4116 \nz\nM 2253 4666 \nL 3047 4666 \nL 3047 1625 \nL 3713 1625 \nL 3713 1100 \nL 3047 1100 \nL 3047 0 \nL 2419 0 \nL 2419 1100 \nL 313 1100 \nL 313 1709 \nL 2253 4666 \nz\n\" transform=\"scale(0.015625)\"/>\n       </defs>\n       <use xlink:href=\"#DejaVuSans-30\"/>\n       <use xlink:href=\"#DejaVuSans-2e\" x=\"63.623047\"/>\n       <use xlink:href=\"#DejaVuSans-34\" x=\"95.410156\"/>\n      </g>\n     </g>\n    </g>\n    <g id=\"ytick_5\">\n     <g id=\"line2d_8\">\n      <path d=\"M 59.024844 124.734708 \nL 282.224844 124.734708 \n\" clip-path=\"url(#p221b9864dc)\" style=\"fill: none; stroke: #ffffff; stroke-linecap: round\"/>\n     </g>\n     <g id=\"text_9\">\n      <!-- 0.6 -->\n      <g style=\"fill: #262626\" transform=\"translate(32.031406 128.913849) scale(0.11 -0.11)\">\n       <defs>\n        <path id=\"DejaVuSans-36\" d=\"M 2113 2584 \nQ 1688 2584 1439 2293 \nQ 1191 2003 1191 1497 \nQ 1191 994 1439 701 \nQ 1688 409 2113 409 \nQ 2538 409 2786 701 \nQ 3034 994 3034 1497 \nQ 3034 2003 2786 2293 \nQ 2538 2584 2113 2584 \nz\nM 3366 4563 \nL 3366 3988 \nQ 3128 4100 2886 4159 \nQ 2644 4219 2406 4219 \nQ 1781 4219 1451 3797 \nQ 1122 3375 1075 2522 \nQ 1259 2794 1537 2939 \nQ 1816 3084 2150 3084 \nQ 2853 3084 3261 2657 \nQ 3669 2231 3669 1497 \nQ 3669 778 3244 343 \nQ 2819 -91 2113 -91 \nQ 1303 -91 875 529 \nQ 447 1150 447 2328 \nQ 447 3434 972 4092 \nQ 1497 4750 2381 4750 \nQ 2619 4750 2861 4703 \nQ 3103 4656 3366 4563 \nz\n\" transform=\"scale(0.015625)\"/>\n       </defs>\n       <use xlink:href=\"#DejaVuSans-30\"/>\n       <use xlink:href=\"#DejaVuSans-2e\" x=\"63.623047\"/>\n       <use xlink:href=\"#DejaVuSans-36\" x=\"95.410156\"/>\n      </g>\n     </g>\n    </g>\n    <g id=\"ytick_6\">\n     <g id=\"line2d_9\">\n      <path d=\"M 59.024844 97.254273 \nL 282.224844 97.254273 \n\" clip-path=\"url(#p221b9864dc)\" style=\"fill: none; stroke: #ffffff; stroke-linecap: round\"/>\n     </g>\n     <g id=\"text_10\">\n      <!-- 0.8 -->\n      <g style=\"fill: #262626\" transform=\"translate(32.031406 101.433413) scale(0.11 -0.11)\">\n       <defs>\n        <path id=\"DejaVuSans-38\" d=\"M 2034 2216 \nQ 1584 2216 1326 1975 \nQ 1069 1734 1069 1313 \nQ 1069 891 1326 650 \nQ 1584 409 2034 409 \nQ 2484 409 2743 651 \nQ 3003 894 3003 1313 \nQ 3003 1734 2745 1975 \nQ 2488 2216 2034 2216 \nz\nM 1403 2484 \nQ 997 2584 770 2862 \nQ 544 3141 544 3541 \nQ 544 4100 942 4425 \nQ 1341 4750 2034 4750 \nQ 2731 4750 3128 4425 \nQ 3525 4100 3525 3541 \nQ 3525 3141 3298 2862 \nQ 3072 2584 2669 2484 \nQ 3125 2378 3379 2068 \nQ 3634 1759 3634 1313 \nQ 3634 634 3220 271 \nQ 2806 -91 2034 -91 \nQ 1263 -91 848 271 \nQ 434 634 434 1313 \nQ 434 1759 690 2068 \nQ 947 2378 1403 2484 \nz\nM 1172 3481 \nQ 1172 3119 1398 2916 \nQ 1625 2713 2034 2713 \nQ 2441 2713 2670 2916 \nQ 2900 3119 2900 3481 \nQ 2900 3844 2670 4047 \nQ 2441 4250 2034 4250 \nQ 1625 4250 1398 4047 \nQ 1172 3844 1172 3481 \nz\n\" transform=\"scale(0.015625)\"/>\n       </defs>\n       <use xlink:href=\"#DejaVuSans-30\"/>\n       <use xlink:href=\"#DejaVuSans-2e\" x=\"63.623047\"/>\n       <use xlink:href=\"#DejaVuSans-38\" x=\"95.410156\"/>\n      </g>\n     </g>\n    </g>\n    <g id=\"ytick_7\">\n     <g id=\"line2d_10\">\n      <path d=\"M 59.024844 69.773837 \nL 282.224844 69.773837 \n\" clip-path=\"url(#p221b9864dc)\" style=\"fill: none; stroke: #ffffff; stroke-linecap: round\"/>\n     </g>\n     <g id=\"text_11\">\n      <!-- 1.0 -->\n      <g style=\"fill: #262626\" transform=\"translate(32.031406 73.952978) scale(0.11 -0.11)\">\n       <use xlink:href=\"#DejaVuSans-31\"/>\n       <use xlink:href=\"#DejaVuSans-2e\" x=\"63.623047\"/>\n       <use xlink:href=\"#DejaVuSans-30\" x=\"95.410156\"/>\n      </g>\n     </g>\n    </g>\n    <g id=\"ytick_8\">\n     <g id=\"line2d_11\">\n      <path d=\"M 59.024844 42.293402 \nL 282.224844 42.293402 \n\" clip-path=\"url(#p221b9864dc)\" style=\"fill: none; stroke: #ffffff; stroke-linecap: round\"/>\n     </g>\n     <g id=\"text_12\">\n      <!-- 1.2 -->\n      <g style=\"fill: #262626\" transform=\"translate(32.031406 46.472542) scale(0.11 -0.11)\">\n       <use xlink:href=\"#DejaVuSans-31\"/>\n       <use xlink:href=\"#DejaVuSans-2e\" x=\"63.623047\"/>\n       <use xlink:href=\"#DejaVuSans-32\" x=\"95.410156\"/>\n      </g>\n     </g>\n    </g>\n    <g id=\"text_13\">\n     <!-- $x_2$ -->\n     <g style=\"fill: #262626\" transform=\"translate(16.318125 139.618125) rotate(-90) scale(0.12 -0.12)\">\n      <use xlink:href=\"#DejaVuSans-Oblique-78\" transform=\"translate(0 0.3125)\"/>\n      <use xlink:href=\"#DejaVuSans-32\" transform=\"translate(59.179688 -16.09375) scale(0.7)\"/>\n     </g>\n    </g>\n   </g>\n   <g id=\"PathCollection_1\">\n    <defs>\n     <path id=\"me990524517\" d=\"M 0 3 \nC 0.795609 3 1.55874 2.683901 2.12132 2.12132 \nC 2.683901 1.55874 3 0.795609 3 0 \nC 3 -0.795609 2.683901 -1.55874 2.12132 -2.12132 \nC 1.55874 -2.683901 0.795609 -3 0 -3 \nC -0.795609 -3 -1.55874 -2.683901 -2.12132 -2.12132 \nC -2.683901 -1.55874 -3 -0.795609 -3 0 \nC -3 0.795609 -2.683901 1.55874 -2.12132 2.12132 \nC -1.55874 2.683901 -0.795609 3 0 3 \nz\n\" style=\"stroke: #333333\"/>\n    </defs>\n    <g clip-path=\"url(#p221b9864dc)\">\n     <use xlink:href=\"#me990524517\" x=\"102.473492\" y=\"216.991358\" style=\"fill: #4c72b0; stroke: #333333\"/>\n     <use xlink:href=\"#me990524517\" x=\"81.531253\" y=\"198.154825\" style=\"fill: #4c72b0; stroke: #333333\"/>\n     <use xlink:href=\"#me990524517\" x=\"114.684678\" y=\"218.452369\" style=\"fill: #4c72b0; stroke: #333333\"/>\n     <use xlink:href=\"#me990524517\" x=\"111.930435\" y=\"201.504315\" style=\"fill: #4c72b0; stroke: #333333\"/>\n     <use xlink:href=\"#me990524517\" x=\"235.961113\" y=\"80.130332\" style=\"fill: #4c72b0; stroke: #333333\"/>\n     <use xlink:href=\"#me990524517\" x=\"243.326835\" y=\"58.408153\" style=\"fill: #4c72b0; stroke: #333333\"/>\n     <use xlink:href=\"#me990524517\" x=\"239.606599\" y=\"49.801958\" style=\"fill: #4c72b0; stroke: #333333\"/>\n     <use xlink:href=\"#me990524517\" x=\"235.689266\" y=\"32.398125\" style=\"fill: #4c72b0; stroke: #333333\"/>\n     <use xlink:href=\"#me990524517\" x=\"248.250356\" y=\"81.551371\" style=\"fill: #4c72b0; stroke: #333333\"/>\n     <use xlink:href=\"#me990524517\" x=\"83.230065\" y=\"200.546739\" style=\"fill: #4c72b0; stroke: #333333\"/>\n     <use xlink:href=\"#me990524517\" x=\"236.270449\" y=\"59.963315\" style=\"fill: #4c72b0; stroke: #333333\"/>\n     <use xlink:href=\"#me990524517\" x=\"92.039062\" y=\"195.408909\" style=\"fill: #4c72b0; stroke: #333333\"/>\n     <use xlink:href=\"#me990524517\" x=\"101.359224\" y=\"224.292737\" style=\"fill: #4c72b0; stroke: #333333\"/>\n     <use xlink:href=\"#me990524517\" x=\"241.866478\" y=\"64.479487\" style=\"fill: #4c72b0; stroke: #333333\"/>\n     <use xlink:href=\"#me990524517\" x=\"226.953301\" y=\"67.66162\" style=\"fill: #4c72b0; stroke: #333333\"/>\n     <use xlink:href=\"#me990524517\" x=\"244.470986\" y=\"62.068538\" style=\"fill: #4c72b0; stroke: #333333\"/>\n     <use xlink:href=\"#me990524517\" x=\"106.393072\" y=\"191.573095\" style=\"fill: #4c72b0; stroke: #333333\"/>\n     <use xlink:href=\"#me990524517\" x=\"111.798177\" y=\"198.225757\" style=\"fill: #4c72b0; stroke: #333333\"/>\n     <use xlink:href=\"#me990524517\" x=\"93.890735\" y=\"196.747613\" style=\"fill: #4c72b0; stroke: #333333\"/>\n     <use xlink:href=\"#me990524517\" x=\"272.079389\" y=\"95.430466\" style=\"fill: #4c72b0; stroke: #333333\"/>\n     <use xlink:href=\"#me990524517\" x=\"249.105227\" y=\"91.932902\" style=\"fill: #4c72b0; stroke: #333333\"/>\n     <use xlink:href=\"#me990524517\" x=\"229.331339\" y=\"60.436015\" style=\"fill: #4c72b0; stroke: #333333\"/>\n     <use xlink:href=\"#me990524517\" x=\"69.767078\" y=\"204.614092\" style=\"fill: #4c72b0; stroke: #333333\"/>\n     <use xlink:href=\"#me990524517\" x=\"228.241923\" y=\"71.350342\" style=\"fill: #4c72b0; stroke: #333333\"/>\n     <use xlink:href=\"#me990524517\" x=\"246.547744\" y=\"57.878174\" style=\"fill: #4c72b0; stroke: #333333\"/>\n     <use xlink:href=\"#me990524517\" x=\"222.488843\" y=\"74.369957\" style=\"fill: #4c72b0; stroke: #333333\"/>\n     <use xlink:href=\"#me990524517\" x=\"232.722418\" y=\"78.750727\" style=\"fill: #4c72b0; stroke: #333333\"/>\n     <use xlink:href=\"#me990524517\" x=\"264.330969\" y=\"64.209305\" style=\"fill: #4c72b0; stroke: #333333\"/>\n     <use xlink:href=\"#me990524517\" x=\"217.987207\" y=\"76.427319\" style=\"fill: #4c72b0; stroke: #333333\"/>\n     <use xlink:href=\"#me990524517\" x=\"257.297305\" y=\"79.497367\" style=\"fill: #4c72b0; stroke: #333333\"/>\n     <use xlink:href=\"#me990524517\" x=\"245.684766\" y=\"59.130199\" style=\"fill: #4c72b0; stroke: #333333\"/>\n     <use xlink:href=\"#me990524517\" x=\"235.859815\" y=\"86.918651\" style=\"fill: #4c72b0; stroke: #333333\"/>\n     <use xlink:href=\"#me990524517\" x=\"241.024708\" y=\"60.676025\" style=\"fill: #4c72b0; stroke: #333333\"/>\n     <use xlink:href=\"#me990524517\" x=\"128.432482\" y=\"233.998125\" style=\"fill: #4c72b0; stroke: #333333\"/>\n     <use xlink:href=\"#me990524517\" x=\"96.197242\" y=\"199.092408\" style=\"fill: #4c72b0; stroke: #333333\"/>\n     <use xlink:href=\"#me990524517\" x=\"102.303053\" y=\"215.732042\" style=\"fill: #4c72b0; stroke: #333333\"/>\n     <use xlink:href=\"#me990524517\" x=\"95.402413\" y=\"213.949955\" style=\"fill: #4c72b0; stroke: #333333\"/>\n     <use xlink:href=\"#me990524517\" x=\"244.460087\" y=\"79.294563\" style=\"fill: #4c72b0; stroke: #333333\"/>\n     <use xlink:href=\"#me990524517\" x=\"109.806916\" y=\"198.524777\" style=\"fill: #4c72b0; stroke: #333333\"/>\n     <use xlink:href=\"#me990524517\" x=\"108.881846\" y=\"198.789394\" style=\"fill: #4c72b0; stroke: #333333\"/>\n     <use xlink:href=\"#me990524517\" x=\"98.043805\" y=\"205.563911\" style=\"fill: #4c72b0; stroke: #333333\"/>\n     <use xlink:href=\"#me990524517\" x=\"109.984037\" y=\"195.998214\" style=\"fill: #4c72b0; stroke: #333333\"/>\n     <use xlink:href=\"#me990524517\" x=\"257.841436\" y=\"69.485245\" style=\"fill: #4c72b0; stroke: #333333\"/>\n     <use xlink:href=\"#me990524517\" x=\"255.762307\" y=\"58.896216\" style=\"fill: #4c72b0; stroke: #333333\"/>\n     <use xlink:href=\"#me990524517\" x=\"107.144055\" y=\"198.54241\" style=\"fill: #4c72b0; stroke: #333333\"/>\n     <use xlink:href=\"#me990524517\" x=\"98.165911\" y=\"219.504485\" style=\"fill: #4c72b0; stroke: #333333\"/>\n     <use xlink:href=\"#me990524517\" x=\"99.408179\" y=\"216.480364\" style=\"fill: #4c72b0; stroke: #333333\"/>\n     <use xlink:href=\"#me990524517\" x=\"86.692211\" y=\"211.591926\" style=\"fill: #4c72b0; stroke: #333333\"/>\n     <use xlink:href=\"#me990524517\" x=\"101.794792\" y=\"214.141524\" style=\"fill: #4c72b0; stroke: #333333\"/>\n     <use xlink:href=\"#me990524517\" x=\"91.693076\" y=\"203.987598\" style=\"fill: #4c72b0; stroke: #333333\"/>\n     <use xlink:href=\"#me990524517\" x=\"229.28703\" y=\"72.706648\" style=\"fill: #4c72b0; stroke: #333333\"/>\n     <use xlink:href=\"#me990524517\" x=\"102.725117\" y=\"186.904299\" style=\"fill: #4c72b0; stroke: #333333\"/>\n     <use xlink:href=\"#me990524517\" x=\"98.070405\" y=\"220.950986\" style=\"fill: #4c72b0; stroke: #333333\"/>\n     <use xlink:href=\"#me990524517\" x=\"243.976217\" y=\"81.140168\" style=\"fill: #4c72b0; stroke: #333333\"/>\n     <use xlink:href=\"#me990524517\" x=\"96.804258\" y=\"201.656408\" style=\"fill: #4c72b0; stroke: #333333\"/>\n     <use xlink:href=\"#me990524517\" x=\"108.075554\" y=\"212.688871\" style=\"fill: #4c72b0; stroke: #333333\"/>\n     <use xlink:href=\"#me990524517\" x=\"101.500291\" y=\"207.002992\" style=\"fill: #4c72b0; stroke: #333333\"/>\n     <use xlink:href=\"#me990524517\" x=\"118.812076\" y=\"193.995425\" style=\"fill: #4c72b0; stroke: #333333\"/>\n     <use xlink:href=\"#me990524517\" x=\"269.801212\" y=\"80.317363\" style=\"fill: #4c72b0; stroke: #333333\"/>\n     <use xlink:href=\"#me990524517\" x=\"251.730254\" y=\"67.254685\" style=\"fill: #4c72b0; stroke: #333333\"/>\n     <use xlink:href=\"#me990524517\" x=\"86.491523\" y=\"215.4118\" style=\"fill: #4c72b0; stroke: #333333\"/>\n     <use xlink:href=\"#me990524517\" x=\"209.458287\" y=\"76.997829\" style=\"fill: #4c72b0; stroke: #333333\"/>\n     <use xlink:href=\"#me990524517\" x=\"228.712978\" y=\"67.707401\" style=\"fill: #4c72b0; stroke: #333333\"/>\n     <use xlink:href=\"#me990524517\" x=\"244.24481\" y=\"43.994844\" style=\"fill: #4c72b0; stroke: #333333\"/>\n     <use xlink:href=\"#me990524517\" x=\"252.832157\" y=\"77.700621\" style=\"fill: #4c72b0; stroke: #333333\"/>\n     <use xlink:href=\"#me990524517\" x=\"96.722715\" y=\"190.168149\" style=\"fill: #4c72b0; stroke: #333333\"/>\n     <use xlink:href=\"#me990524517\" x=\"75.843797\" y=\"215.411558\" style=\"fill: #4c72b0; stroke: #333333\"/>\n     <use xlink:href=\"#me990524517\" x=\"83.276228\" y=\"209.13234\" style=\"fill: #4c72b0; stroke: #333333\"/>\n     <use xlink:href=\"#me990524517\" x=\"103.027129\" y=\"217.460382\" style=\"fill: #4c72b0; stroke: #333333\"/>\n     <use xlink:href=\"#me990524517\" x=\"256.061207\" y=\"68.846112\" style=\"fill: #4c72b0; stroke: #333333\"/>\n     <use xlink:href=\"#me990524517\" x=\"127.412645\" y=\"183.057249\" style=\"fill: #4c72b0; stroke: #333333\"/>\n     <use xlink:href=\"#me990524517\" x=\"235.910657\" y=\"56.424237\" style=\"fill: #4c72b0; stroke: #333333\"/>\n     <use xlink:href=\"#me990524517\" x=\"248.528417\" y=\"50.968547\" style=\"fill: #4c72b0; stroke: #333333\"/>\n     <use xlink:href=\"#me990524517\" x=\"235.622244\" y=\"59.914651\" style=\"fill: #4c72b0; stroke: #333333\"/>\n     <use xlink:href=\"#me990524517\" x=\"74.306614\" y=\"207.939252\" style=\"fill: #4c72b0; stroke: #333333\"/>\n     <use xlink:href=\"#me990524517\" x=\"69.170298\" y=\"208.400543\" style=\"fill: #4c72b0; stroke: #333333\"/>\n     <use xlink:href=\"#me990524517\" x=\"244.595292\" y=\"82.687993\" style=\"fill: #4c72b0; stroke: #333333\"/>\n     <use xlink:href=\"#me990524517\" x=\"84.431631\" y=\"200.250305\" style=\"fill: #4c72b0; stroke: #333333\"/>\n     <use xlink:href=\"#me990524517\" x=\"231.61203\" y=\"86.232943\" style=\"fill: #4c72b0; stroke: #333333\"/>\n     <use xlink:href=\"#me990524517\" x=\"267.14238\" y=\"69.289312\" style=\"fill: #4c72b0; stroke: #333333\"/>\n     <use xlink:href=\"#me990524517\" x=\"90.854147\" y=\"215.087882\" style=\"fill: #4c72b0; stroke: #333333\"/>\n     <use xlink:href=\"#me990524517\" x=\"262.631098\" y=\"73.195645\" style=\"fill: #4c72b0; stroke: #333333\"/>\n     <use xlink:href=\"#me990524517\" x=\"247.557481\" y=\"65.497185\" style=\"fill: #4c72b0; stroke: #333333\"/>\n     <use xlink:href=\"#me990524517\" x=\"141.776921\" y=\"191.792812\" style=\"fill: #4c72b0; stroke: #333333\"/>\n     <use xlink:href=\"#me990524517\" x=\"237.618441\" y=\"82.903172\" style=\"fill: #4c72b0; stroke: #333333\"/>\n     <use xlink:href=\"#me990524517\" x=\"75.674232\" y=\"204.38038\" style=\"fill: #4c72b0; stroke: #333333\"/>\n     <use xlink:href=\"#me990524517\" x=\"230.301022\" y=\"84.634538\" style=\"fill: #4c72b0; stroke: #333333\"/>\n     <use xlink:href=\"#me990524517\" x=\"122.141642\" y=\"195.062092\" style=\"fill: #4c72b0; stroke: #333333\"/>\n     <use xlink:href=\"#me990524517\" x=\"239.310676\" y=\"49.439084\" style=\"fill: #4c72b0; stroke: #333333\"/>\n     <use xlink:href=\"#me990524517\" x=\"83.704763\" y=\"209.791309\" style=\"fill: #4c72b0; stroke: #333333\"/>\n     <use xlink:href=\"#me990524517\" x=\"240.107725\" y=\"81.191273\" style=\"fill: #4c72b0; stroke: #333333\"/>\n     <use xlink:href=\"#me990524517\" x=\"102.15442\" y=\"207.866297\" style=\"fill: #4c72b0; stroke: #333333\"/>\n     <use xlink:href=\"#me990524517\" x=\"105.405857\" y=\"220.607836\" style=\"fill: #4c72b0; stroke: #333333\"/>\n     <use xlink:href=\"#me990524517\" x=\"240.824583\" y=\"59.449618\" style=\"fill: #4c72b0; stroke: #333333\"/>\n     <use xlink:href=\"#me990524517\" x=\"74.78598\" y=\"199.710127\" style=\"fill: #4c72b0; stroke: #333333\"/>\n     <use xlink:href=\"#me990524517\" x=\"230.074568\" y=\"61.933685\" style=\"fill: #4c72b0; stroke: #333333\"/>\n     <use xlink:href=\"#me990524517\" x=\"228.654761\" y=\"94.573313\" style=\"fill: #4c72b0; stroke: #333333\"/>\n     <use xlink:href=\"#me990524517\" x=\"238.490871\" y=\"86.413463\" style=\"fill: #4c72b0; stroke: #333333\"/>\n     <use xlink:href=\"#me990524517\" x=\"112.535922\" y=\"215.102634\" style=\"fill: #4c72b0; stroke: #333333\"/>\n     <use xlink:href=\"#me990524517\" x=\"110.129012\" y=\"222.698433\" style=\"fill: #4c72b0; stroke: #333333\"/>\n     <use xlink:href=\"#me990524517\" x=\"105.813408\" y=\"187.368548\" style=\"fill: #4c72b0; stroke: #333333\"/>\n     <use xlink:href=\"#me990524517\" x=\"204.552098\" y=\"80.723348\" style=\"fill: #4c72b0; stroke: #333333\"/>\n     <use xlink:href=\"#me990524517\" x=\"244.659455\" y=\"78.072725\" style=\"fill: #4c72b0; stroke: #333333\"/>\n    </g>\n   </g>\n   <g id=\"PathCollection_2\">\n    <defs>\n     <path id=\"mbe3896afea\" d=\"M 0 3 \nC 0.795609 3 1.55874 2.683901 2.12132 2.12132 \nC 2.683901 1.55874 3 0.795609 3 0 \nC 3 -0.795609 2.683901 -1.55874 2.12132 -2.12132 \nC 1.55874 -2.683901 0.795609 -3 0 -3 \nC -0.795609 -3 -1.55874 -2.683901 -2.12132 -2.12132 \nC -2.683901 -1.55874 -3 -0.795609 -3 0 \nC -3 0.795609 -2.683901 1.55874 -2.12132 2.12132 \nC -1.55874 2.683901 -0.795609 3 0 3 \nz\n\" style=\"stroke: #333333\"/>\n    </defs>\n    <g clip-path=\"url(#p221b9864dc)\">\n     <use xlink:href=\"#mbe3896afea\" x=\"88.744602\" y=\"66.582613\" style=\"fill: #dd8452; stroke: #333333\"/>\n     <use xlink:href=\"#mbe3896afea\" x=\"124.661874\" y=\"63.263267\" style=\"fill: #dd8452; stroke: #333333\"/>\n     <use xlink:href=\"#mbe3896afea\" x=\"84.58745\" y=\"58.95913\" style=\"fill: #dd8452; stroke: #333333\"/>\n     <use xlink:href=\"#mbe3896afea\" x=\"251.021149\" y=\"181.113666\" style=\"fill: #dd8452; stroke: #333333\"/>\n     <use xlink:href=\"#mbe3896afea\" x=\"226.873488\" y=\"218.385425\" style=\"fill: #dd8452; stroke: #333333\"/>\n     <use xlink:href=\"#mbe3896afea\" x=\"238.335375\" y=\"202.488512\" style=\"fill: #dd8452; stroke: #333333\"/>\n     <use xlink:href=\"#mbe3896afea\" x=\"246.099798\" y=\"208.1767\" style=\"fill: #dd8452; stroke: #333333\"/>\n     <use xlink:href=\"#mbe3896afea\" x=\"227.476216\" y=\"227.990346\" style=\"fill: #dd8452; stroke: #333333\"/>\n     <use xlink:href=\"#mbe3896afea\" x=\"240.244393\" y=\"222.880676\" style=\"fill: #dd8452; stroke: #333333\"/>\n     <use xlink:href=\"#mbe3896afea\" x=\"113.618865\" y=\"55.294371\" style=\"fill: #dd8452; stroke: #333333\"/>\n     <use xlink:href=\"#mbe3896afea\" x=\"78.901919\" y=\"82.659755\" style=\"fill: #dd8452; stroke: #333333\"/>\n     <use xlink:href=\"#mbe3896afea\" x=\"105.605042\" y=\"62.714304\" style=\"fill: #dd8452; stroke: #333333\"/>\n     <use xlink:href=\"#mbe3896afea\" x=\"246.689676\" y=\"154.238644\" style=\"fill: #dd8452; stroke: #333333\"/>\n     <use xlink:href=\"#mbe3896afea\" x=\"87.435332\" y=\"73.027779\" style=\"fill: #dd8452; stroke: #333333\"/>\n     <use xlink:href=\"#mbe3896afea\" x=\"232.575432\" y=\"206.051046\" style=\"fill: #dd8452; stroke: #333333\"/>\n     <use xlink:href=\"#mbe3896afea\" x=\"91.680469\" y=\"54.811418\" style=\"fill: #dd8452; stroke: #333333\"/>\n     <use xlink:href=\"#mbe3896afea\" x=\"99.245585\" y=\"84.582287\" style=\"fill: #dd8452; stroke: #333333\"/>\n     <use xlink:href=\"#mbe3896afea\" x=\"88.034356\" y=\"66.799643\" style=\"fill: #dd8452; stroke: #333333\"/>\n     <use xlink:href=\"#mbe3896afea\" x=\"98.981642\" y=\"78.726968\" style=\"fill: #dd8452; stroke: #333333\"/>\n     <use xlink:href=\"#mbe3896afea\" x=\"128.586414\" y=\"61.063649\" style=\"fill: #dd8452; stroke: #333333\"/>\n     <use xlink:href=\"#mbe3896afea\" x=\"230.086383\" y=\"195.463394\" style=\"fill: #dd8452; stroke: #333333\"/>\n     <use xlink:href=\"#mbe3896afea\" x=\"221.634047\" y=\"194.564391\" style=\"fill: #dd8452; stroke: #333333\"/>\n     <use xlink:href=\"#mbe3896afea\" x=\"128.279021\" y=\"55.587534\" style=\"fill: #dd8452; stroke: #333333\"/>\n     <use xlink:href=\"#mbe3896afea\" x=\"226.345612\" y=\"207.993906\" style=\"fill: #dd8452; stroke: #333333\"/>\n     <use xlink:href=\"#mbe3896afea\" x=\"193.693914\" y=\"221.251324\" style=\"fill: #dd8452; stroke: #333333\"/>\n     <use xlink:href=\"#mbe3896afea\" x=\"121.369482\" y=\"89.42429\" style=\"fill: #dd8452; stroke: #333333\"/>\n     <use xlink:href=\"#mbe3896afea\" x=\"92.13035\" y=\"67.977435\" style=\"fill: #dd8452; stroke: #333333\"/>\n     <use xlink:href=\"#mbe3896afea\" x=\"259.757291\" y=\"226.905074\" style=\"fill: #dd8452; stroke: #333333\"/>\n     <use xlink:href=\"#mbe3896afea\" x=\"255.833584\" y=\"207.03541\" style=\"fill: #dd8452; stroke: #333333\"/>\n     <use xlink:href=\"#mbe3896afea\" x=\"225.575598\" y=\"200.826612\" style=\"fill: #dd8452; stroke: #333333\"/>\n     <use xlink:href=\"#mbe3896afea\" x=\"101.147117\" y=\"78.020949\" style=\"fill: #dd8452; stroke: #333333\"/>\n     <use xlink:href=\"#mbe3896afea\" x=\"240.407954\" y=\"212.470307\" style=\"fill: #dd8452; stroke: #333333\"/>\n     <use xlink:href=\"#mbe3896afea\" x=\"261.799386\" y=\"224.183869\" style=\"fill: #dd8452; stroke: #333333\"/>\n     <use xlink:href=\"#mbe3896afea\" x=\"231.108137\" y=\"195.502297\" style=\"fill: #dd8452; stroke: #333333\"/>\n     <use xlink:href=\"#mbe3896afea\" x=\"252.115114\" y=\"202.953652\" style=\"fill: #dd8452; stroke: #333333\"/>\n     <use xlink:href=\"#mbe3896afea\" x=\"86.642862\" y=\"77.470848\" style=\"fill: #dd8452; stroke: #333333\"/>\n     <use xlink:href=\"#mbe3896afea\" x=\"116.364561\" y=\"77.902156\" style=\"fill: #dd8452; stroke: #333333\"/>\n     <use xlink:href=\"#mbe3896afea\" x=\"106.057388\" y=\"72.552008\" style=\"fill: #dd8452; stroke: #333333\"/>\n     <use xlink:href=\"#mbe3896afea\" x=\"95.267551\" y=\"54.676401\" style=\"fill: #dd8452; stroke: #333333\"/>\n     <use xlink:href=\"#mbe3896afea\" x=\"249.044462\" y=\"211.439147\" style=\"fill: #dd8452; stroke: #333333\"/>\n     <use xlink:href=\"#mbe3896afea\" x=\"243.996635\" y=\"208.964208\" style=\"fill: #dd8452; stroke: #333333\"/>\n     <use xlink:href=\"#mbe3896afea\" x=\"99.707157\" y=\"61.596248\" style=\"fill: #dd8452; stroke: #333333\"/>\n     <use xlink:href=\"#mbe3896afea\" x=\"227.879332\" y=\"178.426158\" style=\"fill: #dd8452; stroke: #333333\"/>\n     <use xlink:href=\"#mbe3896afea\" x=\"84.145352\" y=\"86.457049\" style=\"fill: #dd8452; stroke: #333333\"/>\n     <use xlink:href=\"#mbe3896afea\" x=\"253.180588\" y=\"209.196615\" style=\"fill: #dd8452; stroke: #333333\"/>\n     <use xlink:href=\"#mbe3896afea\" x=\"245.24898\" y=\"214.921713\" style=\"fill: #dd8452; stroke: #333333\"/>\n     <use xlink:href=\"#mbe3896afea\" x=\"86.738442\" y=\"66.425516\" style=\"fill: #dd8452; stroke: #333333\"/>\n     <use xlink:href=\"#mbe3896afea\" x=\"77.908473\" y=\"89.112693\" style=\"fill: #dd8452; stroke: #333333\"/>\n     <use xlink:href=\"#mbe3896afea\" x=\"110.43894\" y=\"71.971425\" style=\"fill: #dd8452; stroke: #333333\"/>\n     <use xlink:href=\"#mbe3896afea\" x=\"239.161966\" y=\"211.142247\" style=\"fill: #dd8452; stroke: #333333\"/>\n     <use xlink:href=\"#mbe3896afea\" x=\"246.750324\" y=\"186.115848\" style=\"fill: #dd8452; stroke: #333333\"/>\n     <use xlink:href=\"#mbe3896afea\" x=\"240.801222\" y=\"217.797338\" style=\"fill: #dd8452; stroke: #333333\"/>\n     <use xlink:href=\"#mbe3896afea\" x=\"239.768965\" y=\"200.333409\" style=\"fill: #dd8452; stroke: #333333\"/>\n     <use xlink:href=\"#mbe3896afea\" x=\"129.233412\" y=\"80.880027\" style=\"fill: #dd8452; stroke: #333333\"/>\n     <use xlink:href=\"#mbe3896afea\" x=\"85.663459\" y=\"63.014756\" style=\"fill: #dd8452; stroke: #333333\"/>\n     <use xlink:href=\"#mbe3896afea\" x=\"220.796717\" y=\"182.011372\" style=\"fill: #dd8452; stroke: #333333\"/>\n     <use xlink:href=\"#mbe3896afea\" x=\"256.063225\" y=\"213.62259\" style=\"fill: #dd8452; stroke: #333333\"/>\n     <use xlink:href=\"#mbe3896afea\" x=\"74.169028\" y=\"51.171343\" style=\"fill: #dd8452; stroke: #333333\"/>\n     <use xlink:href=\"#mbe3896afea\" x=\"239.497143\" y=\"206.530491\" style=\"fill: #dd8452; stroke: #333333\"/>\n     <use xlink:href=\"#mbe3896afea\" x=\"233.07343\" y=\"198.617921\" style=\"fill: #dd8452; stroke: #333333\"/>\n     <use xlink:href=\"#mbe3896afea\" x=\"100.035879\" y=\"62.705328\" style=\"fill: #dd8452; stroke: #333333\"/>\n     <use xlink:href=\"#mbe3896afea\" x=\"249.462942\" y=\"222.628842\" style=\"fill: #dd8452; stroke: #333333\"/>\n     <use xlink:href=\"#mbe3896afea\" x=\"76.694727\" y=\"52.218279\" style=\"fill: #dd8452; stroke: #333333\"/>\n     <use xlink:href=\"#mbe3896afea\" x=\"120.223039\" y=\"68.184441\" style=\"fill: #dd8452; stroke: #333333\"/>\n     <use xlink:href=\"#mbe3896afea\" x=\"84.725124\" y=\"60.347335\" style=\"fill: #dd8452; stroke: #333333\"/>\n     <use xlink:href=\"#mbe3896afea\" x=\"113.271419\" y=\"93.939299\" style=\"fill: #dd8452; stroke: #333333\"/>\n     <use xlink:href=\"#mbe3896afea\" x=\"81.644755\" y=\"97.793332\" style=\"fill: #dd8452; stroke: #333333\"/>\n     <use xlink:href=\"#mbe3896afea\" x=\"260.619075\" y=\"206.157936\" style=\"fill: #dd8452; stroke: #333333\"/>\n     <use xlink:href=\"#mbe3896afea\" x=\"262.400398\" y=\"226.138909\" style=\"fill: #dd8452; stroke: #333333\"/>\n     <use xlink:href=\"#mbe3896afea\" x=\"103.757261\" y=\"70.223073\" style=\"fill: #dd8452; stroke: #333333\"/>\n     <use xlink:href=\"#mbe3896afea\" x=\"79.934655\" y=\"60.572391\" style=\"fill: #dd8452; stroke: #333333\"/>\n     <use xlink:href=\"#mbe3896afea\" x=\"232.173291\" y=\"221.729839\" style=\"fill: #dd8452; stroke: #333333\"/>\n     <use xlink:href=\"#mbe3896afea\" x=\"97.45439\" y=\"56.649981\" style=\"fill: #dd8452; stroke: #333333\"/>\n     <use xlink:href=\"#mbe3896afea\" x=\"90.857583\" y=\"80.668083\" style=\"fill: #dd8452; stroke: #333333\"/>\n     <use xlink:href=\"#mbe3896afea\" x=\"237.913128\" y=\"221.400469\" style=\"fill: #dd8452; stroke: #333333\"/>\n     <use xlink:href=\"#mbe3896afea\" x=\"229.551115\" y=\"204.235884\" style=\"fill: #dd8452; stroke: #333333\"/>\n     <use xlink:href=\"#mbe3896afea\" x=\"237.838386\" y=\"210.212185\" style=\"fill: #dd8452; stroke: #333333\"/>\n     <use xlink:href=\"#mbe3896afea\" x=\"107.003632\" y=\"59.365508\" style=\"fill: #dd8452; stroke: #333333\"/>\n     <use xlink:href=\"#mbe3896afea\" x=\"94.458142\" y=\"101.402736\" style=\"fill: #dd8452; stroke: #333333\"/>\n     <use xlink:href=\"#mbe3896afea\" x=\"218.046165\" y=\"188.394864\" style=\"fill: #dd8452; stroke: #333333\"/>\n     <use xlink:href=\"#mbe3896afea\" x=\"228.752224\" y=\"226.71809\" style=\"fill: #dd8452; stroke: #333333\"/>\n     <use xlink:href=\"#mbe3896afea\" x=\"99.430241\" y=\"81.608069\" style=\"fill: #dd8452; stroke: #333333\"/>\n     <use xlink:href=\"#mbe3896afea\" x=\"119.827609\" y=\"62.369088\" style=\"fill: #dd8452; stroke: #333333\"/>\n     <use xlink:href=\"#mbe3896afea\" x=\"85.985081\" y=\"88.773807\" style=\"fill: #dd8452; stroke: #333333\"/>\n     <use xlink:href=\"#mbe3896afea\" x=\"252.490084\" y=\"180.940214\" style=\"fill: #dd8452; stroke: #333333\"/>\n     <use xlink:href=\"#mbe3896afea\" x=\"219.691543\" y=\"199.440695\" style=\"fill: #dd8452; stroke: #333333\"/>\n     <use xlink:href=\"#mbe3896afea\" x=\"89.159138\" y=\"76.467048\" style=\"fill: #dd8452; stroke: #333333\"/>\n     <use xlink:href=\"#mbe3896afea\" x=\"231.065401\" y=\"219.047436\" style=\"fill: #dd8452; stroke: #333333\"/>\n     <use xlink:href=\"#mbe3896afea\" x=\"236.051975\" y=\"219.646137\" style=\"fill: #dd8452; stroke: #333333\"/>\n     <use xlink:href=\"#mbe3896afea\" x=\"90.201347\" y=\"59.394599\" style=\"fill: #dd8452; stroke: #333333\"/>\n     <use xlink:href=\"#mbe3896afea\" x=\"75.3766\" y=\"69.113132\" style=\"fill: #dd8452; stroke: #333333\"/>\n     <use xlink:href=\"#mbe3896afea\" x=\"243.087439\" y=\"219.601522\" style=\"fill: #dd8452; stroke: #333333\"/>\n     <use xlink:href=\"#mbe3896afea\" x=\"248.432703\" y=\"230.005661\" style=\"fill: #dd8452; stroke: #333333\"/>\n     <use xlink:href=\"#mbe3896afea\" x=\"230.22676\" y=\"206.524746\" style=\"fill: #dd8452; stroke: #333333\"/>\n     <use xlink:href=\"#mbe3896afea\" x=\"86.199598\" y=\"75.057713\" style=\"fill: #dd8452; stroke: #333333\"/>\n     <use xlink:href=\"#mbe3896afea\" x=\"106.480285\" y=\"72.563728\" style=\"fill: #dd8452; stroke: #333333\"/>\n     <use xlink:href=\"#mbe3896afea\" x=\"240.64481\" y=\"209.315054\" style=\"fill: #dd8452; stroke: #333333\"/>\n    </g>\n   </g>\n   <g id=\"patch_3\">\n    <path d=\"M 59.024844 244.078125 \nL 59.024844 22.318125 \n\" style=\"fill: none; stroke: #ffffff; stroke-width: 1.25; stroke-linejoin: miter; stroke-linecap: square\"/>\n   </g>\n   <g id=\"patch_4\">\n    <path d=\"M 282.224844 244.078125 \nL 282.224844 22.318125 \n\" style=\"fill: none; stroke: #ffffff; stroke-width: 1.25; stroke-linejoin: miter; stroke-linecap: square\"/>\n   </g>\n   <g id=\"patch_5\">\n    <path d=\"M 59.024844 244.078125 \nL 282.224844 244.078125 \n\" style=\"fill: none; stroke: #ffffff; stroke-width: 1.25; stroke-linejoin: miter; stroke-linecap: square\"/>\n   </g>\n   <g id=\"patch_6\">\n    <path d=\"M 59.024844 22.318125 \nL 282.224844 22.318125 \n\" style=\"fill: none; stroke: #ffffff; stroke-width: 1.25; stroke-linejoin: miter; stroke-linecap: square\"/>\n   </g>\n   <g id=\"text_14\">\n    <!-- Dataset samples -->\n    <g style=\"fill: #262626\" transform=\"translate(120.282031 16.318125) scale(0.12 -0.12)\">\n     <defs>\n      <path id=\"DejaVuSans-44\" d=\"M 1259 4147 \nL 1259 519 \nL 2022 519 \nQ 2988 519 3436 956 \nQ 3884 1394 3884 2338 \nQ 3884 3275 3436 3711 \nQ 2988 4147 2022 4147 \nL 1259 4147 \nz\nM 628 4666 \nL 1925 4666 \nQ 3281 4666 3915 4102 \nQ 4550 3538 4550 2338 \nQ 4550 1131 3912 565 \nQ 3275 0 1925 0 \nL 628 0 \nL 628 4666 \nz\n\" transform=\"scale(0.015625)\"/>\n      <path id=\"DejaVuSans-61\" d=\"M 2194 1759 \nQ 1497 1759 1228 1600 \nQ 959 1441 959 1056 \nQ 959 750 1161 570 \nQ 1363 391 1709 391 \nQ 2188 391 2477 730 \nQ 2766 1069 2766 1631 \nL 2766 1759 \nL 2194 1759 \nz\nM 3341 1997 \nL 3341 0 \nL 2766 0 \nL 2766 531 \nQ 2569 213 2275 61 \nQ 1981 -91 1556 -91 \nQ 1019 -91 701 211 \nQ 384 513 384 1019 \nQ 384 1609 779 1909 \nQ 1175 2209 1959 2209 \nL 2766 2209 \nL 2766 2266 \nQ 2766 2663 2505 2880 \nQ 2244 3097 1772 3097 \nQ 1472 3097 1187 3025 \nQ 903 2953 641 2809 \nL 641 3341 \nQ 956 3463 1253 3523 \nQ 1550 3584 1831 3584 \nQ 2591 3584 2966 3190 \nQ 3341 2797 3341 1997 \nz\n\" transform=\"scale(0.015625)\"/>\n      <path id=\"DejaVuSans-74\" d=\"M 1172 4494 \nL 1172 3500 \nL 2356 3500 \nL 2356 3053 \nL 1172 3053 \nL 1172 1153 \nQ 1172 725 1289 603 \nQ 1406 481 1766 481 \nL 2356 481 \nL 2356 0 \nL 1766 0 \nQ 1100 0 847 248 \nQ 594 497 594 1153 \nL 594 3053 \nL 172 3053 \nL 172 3500 \nL 594 3500 \nL 594 4494 \nL 1172 4494 \nz\n\" transform=\"scale(0.015625)\"/>\n      <path id=\"DejaVuSans-73\" d=\"M 2834 3397 \nL 2834 2853 \nQ 2591 2978 2328 3040 \nQ 2066 3103 1784 3103 \nQ 1356 3103 1142 2972 \nQ 928 2841 928 2578 \nQ 928 2378 1081 2264 \nQ 1234 2150 1697 2047 \nL 1894 2003 \nQ 2506 1872 2764 1633 \nQ 3022 1394 3022 966 \nQ 3022 478 2636 193 \nQ 2250 -91 1575 -91 \nQ 1294 -91 989 -36 \nQ 684 19 347 128 \nL 347 722 \nQ 666 556 975 473 \nQ 1284 391 1588 391 \nQ 1994 391 2212 530 \nQ 2431 669 2431 922 \nQ 2431 1156 2273 1281 \nQ 2116 1406 1581 1522 \nL 1381 1569 \nQ 847 1681 609 1914 \nQ 372 2147 372 2553 \nQ 372 3047 722 3315 \nQ 1072 3584 1716 3584 \nQ 2034 3584 2315 3537 \nQ 2597 3491 2834 3397 \nz\n\" transform=\"scale(0.015625)\"/>\n      <path id=\"DejaVuSans-65\" d=\"M 3597 1894 \nL 3597 1613 \nL 953 1613 \nQ 991 1019 1311 708 \nQ 1631 397 2203 397 \nQ 2534 397 2845 478 \nQ 3156 559 3463 722 \nL 3463 178 \nQ 3153 47 2828 -22 \nQ 2503 -91 2169 -91 \nQ 1331 -91 842 396 \nQ 353 884 353 1716 \nQ 353 2575 817 3079 \nQ 1281 3584 2069 3584 \nQ 2775 3584 3186 3129 \nQ 3597 2675 3597 1894 \nz\nM 3022 2063 \nQ 3016 2534 2758 2815 \nQ 2500 3097 2075 3097 \nQ 1594 3097 1305 2825 \nQ 1016 2553 972 2059 \nL 3022 2063 \nz\n\" transform=\"scale(0.015625)\"/>\n      <path id=\"DejaVuSans-20\" transform=\"scale(0.015625)\"/>\n      <path id=\"DejaVuSans-6d\" d=\"M 3328 2828 \nQ 3544 3216 3844 3400 \nQ 4144 3584 4550 3584 \nQ 5097 3584 5394 3201 \nQ 5691 2819 5691 2113 \nL 5691 0 \nL 5113 0 \nL 5113 2094 \nQ 5113 2597 4934 2840 \nQ 4756 3084 4391 3084 \nQ 3944 3084 3684 2787 \nQ 3425 2491 3425 1978 \nL 3425 0 \nL 2847 0 \nL 2847 2094 \nQ 2847 2600 2669 2842 \nQ 2491 3084 2119 3084 \nQ 1678 3084 1418 2786 \nQ 1159 2488 1159 1978 \nL 1159 0 \nL 581 0 \nL 581 3500 \nL 1159 3500 \nL 1159 2956 \nQ 1356 3278 1631 3431 \nQ 1906 3584 2284 3584 \nQ 2666 3584 2933 3390 \nQ 3200 3197 3328 2828 \nz\n\" transform=\"scale(0.015625)\"/>\n      <path id=\"DejaVuSans-70\" d=\"M 1159 525 \nL 1159 -1331 \nL 581 -1331 \nL 581 3500 \nL 1159 3500 \nL 1159 2969 \nQ 1341 3281 1617 3432 \nQ 1894 3584 2278 3584 \nQ 2916 3584 3314 3078 \nQ 3713 2572 3713 1747 \nQ 3713 922 3314 415 \nQ 2916 -91 2278 -91 \nQ 1894 -91 1617 61 \nQ 1341 213 1159 525 \nz\nM 3116 1747 \nQ 3116 2381 2855 2742 \nQ 2594 3103 2138 3103 \nQ 1681 3103 1420 2742 \nQ 1159 2381 1159 1747 \nQ 1159 1113 1420 752 \nQ 1681 391 2138 391 \nQ 2594 391 2855 752 \nQ 3116 1113 3116 1747 \nz\n\" transform=\"scale(0.015625)\"/>\n      <path id=\"DejaVuSans-6c\" d=\"M 603 4863 \nL 1178 4863 \nL 1178 0 \nL 603 0 \nL 603 4863 \nz\n\" transform=\"scale(0.015625)\"/>\n     </defs>\n     <use xlink:href=\"#DejaVuSans-44\"/>\n     <use xlink:href=\"#DejaVuSans-61\" x=\"77.001953\"/>\n     <use xlink:href=\"#DejaVuSans-74\" x=\"138.28125\"/>\n     <use xlink:href=\"#DejaVuSans-61\" x=\"177.490234\"/>\n     <use xlink:href=\"#DejaVuSans-73\" x=\"238.769531\"/>\n     <use xlink:href=\"#DejaVuSans-65\" x=\"290.869141\"/>\n     <use xlink:href=\"#DejaVuSans-74\" x=\"352.392578\"/>\n     <use xlink:href=\"#DejaVuSans-20\" x=\"391.601562\"/>\n     <use xlink:href=\"#DejaVuSans-73\" x=\"423.388672\"/>\n     <use xlink:href=\"#DejaVuSans-61\" x=\"475.488281\"/>\n     <use xlink:href=\"#DejaVuSans-6d\" x=\"536.767578\"/>\n     <use xlink:href=\"#DejaVuSans-70\" x=\"634.179688\"/>\n     <use xlink:href=\"#DejaVuSans-6c\" x=\"697.65625\"/>\n     <use xlink:href=\"#DejaVuSans-65\" x=\"725.439453\"/>\n     <use xlink:href=\"#DejaVuSans-73\" x=\"786.962891\"/>\n    </g>\n   </g>\n   <g id=\"legend_1\">\n    <g id=\"patch_7\">\n     <path d=\"M 199.891562 150.994063 \nL 274.524844 150.994063 \nQ 276.724844 150.994063 276.724844 148.794063 \nL 276.724844 117.602188 \nQ 276.724844 115.402188 274.524844 115.402188 \nL 199.891562 115.402188 \nQ 197.691562 115.402188 197.691562 117.602188 \nL 197.691562 148.794063 \nQ 197.691562 150.994063 199.891562 150.994063 \nz\n\" style=\"fill: #eaeaf2; opacity: 0.8; stroke: #cccccc; stroke-linejoin: miter\"/>\n    </g>\n    <g id=\"PathCollection_3\">\n     <g>\n      <use xlink:href=\"#me990524517\" x=\"213.091562\" y=\"125.272969\" style=\"fill: #4c72b0; stroke: #333333\"/>\n     </g>\n    </g>\n    <g id=\"text_15\">\n     <!-- Class 0 -->\n     <g style=\"fill: #262626\" transform=\"translate(232.891562 128.160469) scale(0.11 -0.11)\">\n      <defs>\n       <path id=\"DejaVuSans-43\" d=\"M 4122 4306 \nL 4122 3641 \nQ 3803 3938 3442 4084 \nQ 3081 4231 2675 4231 \nQ 1875 4231 1450 3742 \nQ 1025 3253 1025 2328 \nQ 1025 1406 1450 917 \nQ 1875 428 2675 428 \nQ 3081 428 3442 575 \nQ 3803 722 4122 1019 \nL 4122 359 \nQ 3791 134 3420 21 \nQ 3050 -91 2638 -91 \nQ 1578 -91 968 557 \nQ 359 1206 359 2328 \nQ 359 3453 968 4101 \nQ 1578 4750 2638 4750 \nQ 3056 4750 3426 4639 \nQ 3797 4528 4122 4306 \nz\n\" transform=\"scale(0.015625)\"/>\n      </defs>\n      <use xlink:href=\"#DejaVuSans-43\"/>\n      <use xlink:href=\"#DejaVuSans-6c\" x=\"69.824219\"/>\n      <use xlink:href=\"#DejaVuSans-61\" x=\"97.607422\"/>\n      <use xlink:href=\"#DejaVuSans-73\" x=\"158.886719\"/>\n      <use xlink:href=\"#DejaVuSans-73\" x=\"210.986328\"/>\n      <use xlink:href=\"#DejaVuSans-20\" x=\"263.085938\"/>\n      <use xlink:href=\"#DejaVuSans-30\" x=\"294.873047\"/>\n     </g>\n    </g>\n    <g id=\"PathCollection_4\">\n     <g>\n      <use xlink:href=\"#mbe3896afea\" x=\"213.091562\" y=\"141.418906\" style=\"fill: #dd8452; stroke: #333333\"/>\n     </g>\n    </g>\n    <g id=\"text_16\">\n     <!-- Class 1 -->\n     <g style=\"fill: #262626\" transform=\"translate(232.891562 144.306406) scale(0.11 -0.11)\">\n      <use xlink:href=\"#DejaVuSans-43\"/>\n      <use xlink:href=\"#DejaVuSans-6c\" x=\"69.824219\"/>\n      <use xlink:href=\"#DejaVuSans-61\" x=\"97.607422\"/>\n      <use xlink:href=\"#DejaVuSans-73\" x=\"158.886719\"/>\n      <use xlink:href=\"#DejaVuSans-73\" x=\"210.986328\"/>\n      <use xlink:href=\"#DejaVuSans-20\" x=\"263.085938\"/>\n      <use xlink:href=\"#DejaVuSans-31\" x=\"294.873047\"/>\n     </g>\n    </g>\n   </g>\n  </g>\n </g>\n <defs>\n  <clipPath id=\"p221b9864dc\">\n   <rect x=\"59.024844\" y=\"22.318125\" width=\"223.2\" height=\"221.76\"/>\n  </clipPath>\n </defs>\n</svg>\n",
      "text/plain": [
       "<Figure size 400x400 with 1 Axes>"
      ]
     },
     "metadata": {},
     "output_type": "display_data"
    }
   ],
   "source": [
    "visualize_samples(dataset.data, dataset.label)\n",
    "plt.show()"
   ]
  },
  {
   "cell_type": "markdown",
   "id": "dcc14f55",
   "metadata": {},
   "source": [
    "#### The data loader class\n",
    "\n",
    "The class `torch.utils.data.DataLoader` represents a Python iterable over a dataset with support for automatic batching, multi-process data loading and many more features. The data loader communicates with the dataset using the function `__getitem__`, and stacks its outputs as tensors over the first dimension to form a batch.\n",
    "In contrast to the dataset class, we usually don't have to define our own data loader class, but can just create an object of it with the dataset as input. Additionally, we can configure our data loader with the following input arguments (only a selection, see full list [here](https://pytorch.org/docs/stable/data.html#torch.utils.data.DataLoader)):\n",
    "\n",
    "* `batch_size`: Number of samples to stack per batch\n",
    "* `shuffle`: If True, the data is returned in a random order. This is important during training for introducing stochasticity. \n",
    "* `num_workers`: Number of subprocesses to use for data loading. The default, 0, means that the data will be loaded in the main process which can slow down training for datasets where loading a data point takes a considerable amount of time (e.g. large images). More workers are recommended for those, but can cause issues on Windows computers. For tiny datasets as ours, 0 workers are usually faster.\n",
    "* `persistent_workers`: If True, workers will not be shutdown after an iteration over the dataset has finished. This can be useful if the time per epoch is small, or if you face issues with workers being killed during training. \n",
    "* `drop_last`: If True, the last batch is dropped in case it is smaller than the specified batch size. This occurs when the dataset size is not a multiple of the batch size. Only potentially helpful during training to keep a consistent batch size.\n",
    "* `collate_fn`: A function that defines how the elements per batch are combined. By default, PyTorch stacks them as PyTorch tensors. For JAX, we will change it to NumPy arrays.\n",
    "\n",
    "Let's create a simple data loader below with a function that stacks batch elements as NumPy array instead of PyTorch Tensors:"
   ]
  },
  {
   "cell_type": "code",
   "execution_count": null,
   "id": "73a2f9ae",
   "metadata": {},
   "outputs": [],
   "source": [
    "# This collate function is taken from the JAX tutorial with PyTorch Data Loading\n",
    "# https://jax.readthedocs.io/en/latest/notebooks/Neural_Network_and_Data_Loading.html\n",
    "def numpy_collate(batch):\n",
    "    if isinstance(batch[0], np.ndarray):\n",
    "        return np.stack(batch)\n",
    "    elif isinstance(batch[0], (tuple, list)):\n",
    "        transposed = zip(*batch)\n",
    "        return [numpy_collate(samples) for samples in transposed]\n",
    "    else:\n",
    "        return np.array(batch)\n",
    "\n",
    "\n",
    "data_loader = data.DataLoader(\n",
    "    dataset, batch_size=8, shuffle=True, collate_fn=numpy_collate\n",
    ")"
   ]
  },
  {
   "cell_type": "code",
   "execution_count": null,
   "id": "05c00219",
   "metadata": {},
   "outputs": [
    {
     "name": "stdout",
     "output_type": "stream",
     "text": [
      "Data inputs (8, 2) \n",
      " [[ 0.9236741   0.8195118 ]\n",
      " [-0.02750517  0.7698079 ]\n",
      " [ 1.1266911   0.9292331 ]\n",
      " [ 0.05470974  0.97978073]\n",
      " [ 1.0005244   0.00469806]\n",
      " [-0.07303666  1.0216459 ]\n",
      " [-0.05305012 -0.05758182]\n",
      " [ 1.1179297   1.0067519 ]]\n",
      "Data labels (8,) \n",
      " [0 1 0 1 1 1 0 0]\n"
     ]
    }
   ],
   "source": [
    "# next(iter(...)) catches the first batch of the data loader\n",
    "# If shuffle is True, this will return a different batch every time we run this cell\n",
    "# For iterating over the whole dataset, we can simple use \"for batch in data_loader: ...\"\n",
    "data_inputs, data_labels = next(iter(data_loader))\n",
    "\n",
    "# The shape of the outputs are [batch_size, d_1,...,d_N] where d_1,...,d_N are the\n",
    "# dimensions of the data point returned from the dataset class\n",
    "print(\"Data inputs\", data_inputs.shape, \"\\n\", data_inputs)\n",
    "print(\"Data labels\", data_labels.shape, \"\\n\", data_labels)"
   ]
  },
  {
   "cell_type": "markdown",
   "id": "65a6c190",
   "metadata": {},
   "source": [
    "### Optimization\n",
    "\n",
    "After defining the model and the dataset, it is time to prepare the optimization of the model. During training, we will perform the following steps:\n",
    "\n",
    "1. Get a batch from the data loader\n",
    "2. Obtain the predictions from the model for the batch\n",
    "3. Calculate the loss based on the difference between predictions and labels\n",
    "4. Backpropagation: calculate the gradients for every parameter with respect to the loss\n",
    "5. Update the parameters of the model in the direction of the gradients\n",
    "\n",
    "We have seen how we can do step 1, 2 and 4 in JAX and Flax. Now, we will look at step 3 and 5."
   ]
  },
  {
   "cell_type": "markdown",
   "id": "6f70ea1c",
   "metadata": {},
   "source": [
    "#### Stochastic Gradient Descent\n",
    "\n",
    "For updating the parameters, Flax does not directly provide support for optimizers, but instead refers to another package called `optax` ([documentation](https://optax.readthedocs.io/en/latest/index.html)). Optax is an optimization library for JAX, which offers most common deep learning optimizers (SGD, Adam, Adagrad, RMSProp, etc.) and utilities (gradient clipping, weight decay, etc.)."
   ]
  },
  {
   "cell_type": "code",
   "execution_count": null,
   "id": "b8706e3f",
   "metadata": {},
   "outputs": [],
   "source": [
    "try:\n",
    "    import optax\n",
    "except ModuleNotFoundError:  # Install optax if missing\n",
    "    !pip install --quiet optax\n",
    "    import optax"
   ]
  },
  {
   "cell_type": "markdown",
   "id": "12cac2ef",
   "metadata": {},
   "source": [
    "For now, we will use the simplest optimizer, namely `optax.sgd`. Stochastic Gradient Descent updates parameters by multiplying the gradients with a small constant, called learning rate, and subtracting those from the parameters (hence minimizing the loss). Therefore, we slowly move towards the direction of minimizing the loss. A good default value of the learning rate for a small network as ours is 0.1. Remember that we again aim to write functional code. Hence, the optimizer does not take as input the parameters, but only the optimizer hyperparameters."
   ]
  },
  {
   "cell_type": "code",
   "execution_count": null,
   "id": "d9cf2212",
   "metadata": {},
   "outputs": [],
   "source": [
    "# Input to the optimizer are optimizer settings like learning rate\n",
    "optimizer = optax.sgd(learning_rate=0.1)"
   ]
  },
  {
   "cell_type": "markdown",
   "id": "9a7a01f3",
   "metadata": {},
   "source": [
    "Since JAX calculates gradients via function transformations, we do not have functions like `backward()`, `optimizer.step()` or `optimizer.backward()` as in PyTorch. Instead, a optimizer is a function on the parameters and gradients. To simplify this step and bundle important parts of the training procedure, Flax offers the `flax.training` package. As a first step, we can create a `TrainState` which bundles the parameters, the optimizer, and the forward step of the model:"
   ]
  },
  {
   "cell_type": "code",
   "execution_count": null,
   "id": "40aecbc6",
   "metadata": {},
   "outputs": [],
   "source": [
    "from flax.training import train_state\n",
    "\n",
    "model_state = train_state.TrainState.create(\n",
    "    apply_fn=model.apply, params=params, tx=optimizer\n",
    ")"
   ]
  },
  {
   "cell_type": "markdown",
   "id": "1c303b3a",
   "metadata": {},
   "source": [
    "With this state object, it is easier to handle the training."
   ]
  },
  {
   "cell_type": "markdown",
   "id": "83850de5",
   "metadata": {},
   "source": [
    "#### Loss function\n",
    "\n",
    "For performing gradient updates, we need a function that can calculate the loss for a batch. Afterwards, we can apply JAX's gradient transformation to obtain a gradient function of it. In our setting, which is binary classification, we can use Binary Cross Entropy (BCE) which is defined as follows:\n",
    "\n",
    "$$\\mathcal{L}_{BCE} = -\\sum_i \\left[ y_i \\log x_i + (1 - y_i) \\log (1 - x_i) \\right]$$\n",
    "\n",
    "where $y$ are our labels, and $x$ our predictions, both in the range of $[0,1]$. Similar to PyTorch, Optax already provides a function for this: `optax.sigmoid_binary_cross_entropy(logits, labels)`. We calculate the loss on the logits instead of the sigmoid outputs for numerical stability. Let's write a function that takes as input a state (for the forward function), parameters, and a batch, and return the binary cross entropy loss and accuracy: "
   ]
  },
  {
   "cell_type": "code",
   "execution_count": null,
   "id": "609fb4b3",
   "metadata": {},
   "outputs": [],
   "source": [
    "def calculate_loss_acc(state, params, batch):\n",
    "    data_input, labels = batch\n",
    "    # Obtain the logits and predictions of the model for the input data\n",
    "    logits = state.apply_fn(params, data_input).squeeze(axis=-1)\n",
    "    pred_labels = (logits > 0).astype(jnp.float32)\n",
    "    # Calculate the loss and accuracy\n",
    "    loss = optax.sigmoid_binary_cross_entropy(logits, labels).mean()\n",
    "    acc = (pred_labels == labels).mean()\n",
    "    return loss, acc"
   ]
  },
  {
   "cell_type": "markdown",
   "id": "4c47e776",
   "metadata": {},
   "source": [
    "Note that we explicitly add the parameters here as an input argument since we want to calculate the gradients with respect to them later. An example execution of the function would look like:"
   ]
  },
  {
   "cell_type": "code",
   "execution_count": null,
   "id": "237b08e7",
   "metadata": {},
   "outputs": [
    {
     "data": {
      "text/plain": [
       "(Array(0.6153343, dtype=float32), Array(0.875, dtype=float32))"
      ]
     },
     "execution_count": 48,
     "metadata": {},
     "output_type": "execute_result"
    }
   ],
   "source": [
    "batch = next(iter(data_loader))\n",
    "calculate_loss_acc(model_state, model_state.params, batch)"
   ]
  },
  {
   "cell_type": "markdown",
   "id": "979978ba",
   "metadata": {},
   "source": [
    "### Creating an efficient training and validation step\n",
    "\n",
    "With this loss function and the optimizer, we are now ready to create an efficient training and validation/test step. First, let's consider the training. As input to each training step, we have a training state and a batch. We then want to calculate the loss for the input and take the gradients of it. Finally, we update the parameters with our optimizer and return the new state. All this can be summarized in the following function:"
   ]
  },
  {
   "cell_type": "code",
   "execution_count": null,
   "id": "348a627f",
   "metadata": {},
   "outputs": [],
   "source": [
    "@jax.jit  # Jit the function for efficiency\n",
    "def train_step(state, batch):\n",
    "    # Gradient function\n",
    "    grad_fn = jax.value_and_grad(\n",
    "        calculate_loss_acc,  # Function to calculate the loss\n",
    "        argnums=1,  # Parameters are second argument of the function\n",
    "        has_aux=True,  # Function has additional outputs, here accuracy\n",
    "    )\n",
    "    # Determine gradients for current model, parameters and batch\n",
    "    (loss, acc), grads = grad_fn(state, state.params, batch)\n",
    "    # Perform parameter update with gradients and optimizer\n",
    "    state = state.apply_gradients(grads=grads)\n",
    "    # Return state and any other value we might want\n",
    "    return state, loss, acc"
   ]
  },
  {
   "cell_type": "markdown",
   "id": "37d8a0bb",
   "metadata": {},
   "source": [
    "By using the transformation `jax.jit`, the whole gradient calculation and application is optimized in XLA, providing an efficient function for updating the model.\n",
    "\n",
    "Next, let's look at the evaluation function. Here, we do not need to calculate gradients, but only want to get the accuracy of the model for the batch. This becomes a simpler version of the training step:"
   ]
  },
  {
   "cell_type": "code",
   "execution_count": null,
   "id": "85205245",
   "metadata": {},
   "outputs": [],
   "source": [
    "@jax.jit  # Jit the function for efficiency\n",
    "def eval_step(state, batch):\n",
    "    # Determine the accuracy\n",
    "    _, acc = calculate_loss_acc(state, state.params, batch)\n",
    "    return acc"
   ]
  },
  {
   "cell_type": "markdown",
   "id": "4ebd224e",
   "metadata": {},
   "source": [
    "These two functions provide us now efficient utilities to train our model."
   ]
  },
  {
   "cell_type": "markdown",
   "id": "df0b91f6",
   "metadata": {},
   "source": [
    "### Training\n",
    "\n",
    "Finally, we are ready to train our model. As a first step, we create a slightly larger dataset and specify a data loader with a larger batch size. "
   ]
  },
  {
   "cell_type": "code",
   "execution_count": null,
   "id": "ec924160",
   "metadata": {},
   "outputs": [],
   "source": [
    "train_dataset = XORDataset(size=2500, seed=42)\n",
    "train_data_loader = data.DataLoader(\n",
    "    train_dataset, batch_size=128, shuffle=True, collate_fn=numpy_collate\n",
    ")"
   ]
  },
  {
   "cell_type": "markdown",
   "id": "f074d1a0",
   "metadata": {},
   "source": [
    "Now, we can write a small training function. In contrast to PyTorch, we do not need to explicitly push our model to GPU, since the parameters are already automatically created on GPU. Further, since the model itself is stateless, we do not have a `train()` or `eval()` function to switch between modes of e.g. dropout. When necessary, we can add an argument `train : bool` to the model forward pass. For this simple network here, however, this is not necessary.\n",
    "\n",
    "Following the PyTorch tutorial, let's write a function here that trains a model for several epochs:"
   ]
  },
  {
   "cell_type": "code",
   "execution_count": null,
   "id": "afdc0424",
   "metadata": {},
   "outputs": [],
   "source": [
    "def train_model(state, data_loader, num_epochs=100):\n",
    "    # Training loop\n",
    "    for epoch in tqdm(range(num_epochs)):\n",
    "        for batch in data_loader:\n",
    "            state, loss, acc = train_step(state, batch)\n",
    "            # We could use the loss and accuracy for logging here, e.g. in TensorBoard\n",
    "            # For simplicity, we skip this part here\n",
    "    return state"
   ]
  },
  {
   "cell_type": "code",
   "execution_count": null,
   "id": "5eb65c92",
   "metadata": {},
   "outputs": [
    {
     "data": {
      "application/vnd.jupyter.widget-view+json": {
       "model_id": "34b99858d36b4838a63ba3e35ed1ab55",
       "version_major": 2,
       "version_minor": 0
      },
      "text/plain": [
       "  0%|          | 0/100 [00:00<?, ?it/s]"
      ]
     },
     "metadata": {},
     "output_type": "display_data"
    }
   ],
   "source": [
    "trained_model_state = train_model(model_state, train_data_loader, num_epochs=100)"
   ]
  },
  {
   "cell_type": "markdown",
   "id": "0dd18970",
   "metadata": {},
   "source": [
    "Training this model for 100 epochs does take barely a second... This shows the impressive speed JAX can reach, especially for small models!"
   ]
  },
  {
   "cell_type": "markdown",
   "id": "d93c37e6",
   "metadata": {},
   "source": [
    "#### Saving a model\n",
    "\n",
    "After we finished training a model, we save the model to disk so that we can load the same weights at a later time. In JAX, this means we want to save the `state.params` dictionary. Luckily, the `flax.training` package again provides us with nice utilities for that, which uses TensorFlow as underlying framework."
   ]
  },
  {
   "cell_type": "code",
   "execution_count": null,
   "id": "dba666a2",
   "metadata": {},
   "outputs": [
    {
     "name": "stderr",
     "output_type": "stream",
     "text": [
      "WARNING:absl:Tensorflow library not found, tensorflow.io.gfile operations will use native shim calls. GCS paths (i.e. 'gs://...') cannot be accessed.\n"
     ]
    }
   ],
   "source": [
    "from flax.training import checkpoints\n",
    "from pathlib import Path"
   ]
  },
  {
   "cell_type": "markdown",
   "id": "1b83eab5",
   "metadata": {},
   "source": [
    "To save the whole model state, we can write:"
   ]
  },
  {
   "cell_type": "code",
   "execution_count": null,
   "id": "a50e8ded",
   "metadata": {},
   "outputs": [
    {
     "data": {
      "text/plain": [
       "'statedicts/my_jax_model100'"
      ]
     },
     "execution_count": 55,
     "metadata": {},
     "output_type": "execute_result"
    }
   ],
   "source": [
    "# define where to save model checkpoints\n",
    "statedicts_folder = Path(\"statedicts\")\n",
    "\n",
    "# create statedicts folder if it does not already exist\n",
    "statedicts_folder.mkdir(parents=True, exist_ok=True)\n",
    "\n",
    "checkpoints.save_checkpoint(\n",
    "    ckpt_dir=str(statedicts_folder),  # Folder to save checkpoint in\n",
    "    target=trained_model_state,  # What to save. To only save parameters, use model_state.params\n",
    "    step=100,  # Training step or other metric to save best model on\n",
    "    prefix=\"my_jax_model\",  # Checkpoint file name prefix\n",
    "    overwrite=True,  # Overwrite existing checkpoint files\n",
    ")"
   ]
  },
  {
   "cell_type": "markdown",
   "id": "ad255da8",
   "metadata": {},
   "source": [
    "To load this state dict again, we can use `checkpoints.restore_checkpoint`:"
   ]
  },
  {
   "cell_type": "code",
   "execution_count": null,
   "id": "4254ffa7",
   "metadata": {},
   "outputs": [],
   "source": [
    "loaded_model_state = checkpoints.restore_checkpoint(\n",
    "    ckpt_dir=\"my_checkpoints/\",  # Folder with the checkpoints\n",
    "    target=model_state,  # (optional) matching object to rebuild state in\n",
    "    prefix=\"my_model\",  # Checkpoint file name prefix\n",
    ")"
   ]
  },
  {
   "cell_type": "markdown",
   "id": "20e4f27b",
   "metadata": {},
   "source": [
    "The states `loaded_model_state` and `trained_model_state` have the identical parameter values."
   ]
  },
  {
   "cell_type": "markdown",
   "id": "e7be32dc",
   "metadata": {},
   "source": [
    "### Evaluation\n",
    "\n",
    "Once we have trained a model, it is time to evaluate it on a held-out test set. As our dataset consist of randomly generated data points, we need to first create a test set with a corresponding data loader."
   ]
  },
  {
   "cell_type": "code",
   "execution_count": null,
   "id": "9ef9eeca",
   "metadata": {},
   "outputs": [],
   "source": [
    "test_dataset = XORDataset(size=500, seed=123)\n",
    "# drop_last -> Don't drop the last batch although it is smaller than 128\n",
    "test_data_loader = data.DataLoader(\n",
    "    test_dataset,\n",
    "    batch_size=128,\n",
    "    shuffle=False,\n",
    "    drop_last=False,\n",
    "    collate_fn=numpy_collate,\n",
    ")"
   ]
  },
  {
   "cell_type": "markdown",
   "id": "c4310486",
   "metadata": {},
   "source": [
    "We can use our `eval_step` function to efficiently evaluate our model:"
   ]
  },
  {
   "cell_type": "code",
   "execution_count": null,
   "id": "4e860561",
   "metadata": {},
   "outputs": [],
   "source": [
    "def eval_model(state, data_loader):\n",
    "    all_accs, batch_sizes = [], []\n",
    "    for batch in data_loader:\n",
    "        batch_acc = eval_step(state, batch)\n",
    "        all_accs.append(batch_acc)\n",
    "        batch_sizes.append(batch[0].shape[0])\n",
    "    # Weighted average since some batches might be smaller\n",
    "    acc = sum([a * b for a, b in zip(all_accs, batch_sizes)]) / sum(batch_sizes)\n",
    "    print(f\"Accuracy of the model: {100.0*acc:4.2f}%\")"
   ]
  },
  {
   "cell_type": "code",
   "execution_count": null,
   "id": "cf27466c",
   "metadata": {},
   "outputs": [
    {
     "name": "stdout",
     "output_type": "stream",
     "text": [
      "Accuracy of the model: 100.00%\n"
     ]
    }
   ],
   "source": [
    "eval_model(trained_model_state, test_data_loader)"
   ]
  },
  {
   "cell_type": "markdown",
   "id": "277e4ff5",
   "metadata": {},
   "source": [
    "If we trained our model correctly, we should see a score close to 100% accuracy. However, this is only possible because of our simple task, and unfortunately, we usually don't get such high scores on test sets of more complex tasks."
   ]
  },
  {
   "cell_type": "markdown",
   "id": "279eeb39",
   "metadata": {},
   "source": [
    "#### Binding model parameters\n",
    "\n",
    "Once we have trained the model, we might want to do multiple application of the same model and parameters. It can get a bit annoying to always write `model.apply(params, ...)` and keep track of the model and parameters separately. To prevent this, Flax's module can be bound to specific parameters to simplify our application. Specifically, we can bind the instance `model` of our `SimpleClassifier` class to our trained parameter as follows:"
   ]
  },
  {
   "cell_type": "code",
   "execution_count": null,
   "id": "e56bdbb2",
   "metadata": {},
   "outputs": [],
   "source": [
    "trained_model = model.bind(trained_model_state.params)"
   ]
  },
  {
   "cell_type": "markdown",
   "id": "3fab4544",
   "metadata": {},
   "source": [
    "With the model being binded to the parameters, we can use it as we would any PyTorch module. For instance, to apply it to an input array, we can simply run:"
   ]
  },
  {
   "cell_type": "code",
   "execution_count": null,
   "id": "43470946",
   "metadata": {},
   "outputs": [
    {
     "data": {
      "text/plain": [
       "(8, 1)"
      ]
     },
     "execution_count": 61,
     "metadata": {},
     "output_type": "execute_result"
    }
   ],
   "source": [
    "data_input, labels = next(iter(data_loader))\n",
    "out = trained_model(data_input)  # No explicit parameter passing necessary anymore\n",
    "out.shape"
   ]
  },
  {
   "cell_type": "markdown",
   "id": "0adebac4",
   "metadata": {},
   "source": [
    "This can simplify the analysis of models, and provide a more familiar interface to PyTorch users."
   ]
  },
  {
   "cell_type": "markdown",
   "id": "d9ae9f5a",
   "metadata": {},
   "source": [
    "#### Visualizing classification boundaries\n",
    "\n",
    "To visualize what our model has learned, we can perform a prediction for every data point in a range of $[-0.5, 1.5]$, and visualize the predicted class as in the sample figure at the beginning of this section. This shows where the model has created decision boundaries, and which points would be classified as $0$, and which as $1$. We therefore get a background image out of blue (class 0) and orange (class 1). The spots where the model is uncertain we will see a blurry overlap. The specific code is less relevant compared to the output figure which should hopefully show us a clear separation of classes:"
   ]
  },
  {
   "cell_type": "code",
   "execution_count": null,
   "id": "3402ee4c",
   "metadata": {},
   "outputs": [
    {
     "data": {
      "application/pdf": "[encoded data removed]",
      "image/svg+xml": "<?xml version=\"1.0\" encoding=\"utf-8\" standalone=\"no\"?>\n<!DOCTYPE svg PUBLIC \"-//W3C//DTD SVG 1.1//EN\"\n  \"http://www.w3.org/Graphics/SVG/1.1/DTD/svg11.dtd\">\n<svg xmlns:xlink=\"http://www.w3.org/1999/xlink\" width=\"303.730313pt\" height=\"287.037813pt\" viewBox=\"0 0 303.730313 287.037813\" xmlns=\"http://www.w3.org/2000/svg\" version=\"1.1\">\n <metadata>\n  <rdf:RDF xmlns:dc=\"http://purl.org/dc/elements/1.1/\" xmlns:cc=\"http://creativecommons.org/ns#\" xmlns:rdf=\"http://www.w3.org/1999/02/22-rdf-syntax-ns#\">\n   <cc:Work>\n    <dc:type rdf:resource=\"http://purl.org/dc/dcmitype/StillImage\"/>\n    <dc:date>2023-03-27T17:40:15.682473</dc:date>\n    <dc:format>image/svg+xml</dc:format>\n    <dc:creator>\n     <cc:Agent>\n      <dc:title>Matplotlib v3.7.1, https://matplotlib.org/</dc:title>\n     </cc:Agent>\n    </dc:creator>\n   </cc:Work>\n  </rdf:RDF>\n </metadata>\n <defs>\n  <style type=\"text/css\">*{stroke-linejoin: round; stroke-linecap: butt}</style>\n </defs>\n <g id=\"figure_1\">\n  <g id=\"patch_1\">\n   <path d=\"M 0 287.037813 \nL 303.730313 287.037813 \nL 303.730313 0 \nL 0 0 \nz\n\" style=\"fill: #ffffff\"/>\n  </g>\n  <g id=\"axes_1\">\n   <g id=\"patch_2\">\n    <path d=\"M 66.023594 244.078125 \nL 287.783594 244.078125 \nL 287.783594 22.318125 \nL 66.023594 22.318125 \nz\n\" style=\"fill: #eaeaf2\"/>\n   </g>\n   <g clip-path=\"url(#pba366ebbcd)\">\n    <image xlink:href=\"data:image/png;base64,\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\" id=\"imaged0dd6d2793\" transform=\"scale(1 -1) translate(0 -221.904)\" x=\"66.023594\" y=\"-22.174125\" width=\"221.904\" height=\"221.904\"/>\n   </g>\n   <g id=\"matplotlib.axis_1\">\n    <g id=\"xtick_1\">\n     <g id=\"text_1\">\n      <!-- −0.5 -->\n      <g style=\"fill: #262626\" transform=\"translate(52.668047 261.936406) scale(0.11 -0.11)\">\n       <defs>\n        <path id=\"DejaVuSans-2212\" d=\"M 678 2272 \nL 4684 2272 \nL 4684 1741 \nL 678 1741 \nL 678 2272 \nz\n\" transform=\"scale(0.015625)\"/>\n        <path id=\"DejaVuSans-30\" d=\"M 2034 4250 \nQ 1547 4250 1301 3770 \nQ 1056 3291 1056 2328 \nQ 1056 1369 1301 889 \nQ 1547 409 2034 409 \nQ 2525 409 2770 889 \nQ 3016 1369 3016 2328 \nQ 3016 3291 2770 3770 \nQ 2525 4250 2034 4250 \nz\nM 2034 4750 \nQ 2819 4750 3233 4129 \nQ 3647 3509 3647 2328 \nQ 3647 1150 3233 529 \nQ 2819 -91 2034 -91 \nQ 1250 -91 836 529 \nQ 422 1150 422 2328 \nQ 422 3509 836 4129 \nQ 1250 4750 2034 4750 \nz\n\" transform=\"scale(0.015625)\"/>\n        <path id=\"DejaVuSans-2e\" d=\"M 684 794 \nL 1344 794 \nL 1344 0 \nL 684 0 \nL 684 794 \nz\n\" transform=\"scale(0.015625)\"/>\n        <path id=\"DejaVuSans-35\" d=\"M 691 4666 \nL 3169 4666 \nL 3169 4134 \nL 1269 4134 \nL 1269 2991 \nQ 1406 3038 1543 3061 \nQ 1681 3084 1819 3084 \nQ 2600 3084 3056 2656 \nQ 3513 2228 3513 1497 \nQ 3513 744 3044 326 \nQ 2575 -91 1722 -91 \nQ 1428 -91 1123 -41 \nQ 819 9 494 109 \nL 494 744 \nQ 775 591 1075 516 \nQ 1375 441 1709 441 \nQ 2250 441 2565 725 \nQ 2881 1009 2881 1497 \nQ 2881 1984 2565 2268 \nQ 2250 2553 1709 2553 \nQ 1456 2553 1204 2497 \nQ 953 2441 691 2322 \nL 691 4666 \nz\n\" transform=\"scale(0.015625)\"/>\n       </defs>\n       <use xlink:href=\"#DejaVuSans-2212\"/>\n       <use xlink:href=\"#DejaVuSans-30\" x=\"83.789062\"/>\n       <use xlink:href=\"#DejaVuSans-2e\" x=\"147.412109\"/>\n       <use xlink:href=\"#DejaVuSans-35\" x=\"179.199219\"/>\n      </g>\n     </g>\n    </g>\n    <g id=\"xtick_2\">\n     <g id=\"text_2\">\n      <!-- 0.0 -->\n      <g style=\"fill: #262626\" transform=\"translate(112.716875 261.936406) scale(0.11 -0.11)\">\n       <use xlink:href=\"#DejaVuSans-30\"/>\n       <use xlink:href=\"#DejaVuSans-2e\" x=\"63.623047\"/>\n       <use xlink:href=\"#DejaVuSans-30\" x=\"95.410156\"/>\n      </g>\n     </g>\n    </g>\n    <g id=\"xtick_3\">\n     <g id=\"text_3\">\n      <!-- 0.5 -->\n      <g style=\"fill: #262626\" transform=\"translate(168.156875 261.936406) scale(0.11 -0.11)\">\n       <use xlink:href=\"#DejaVuSans-30\"/>\n       <use xlink:href=\"#DejaVuSans-2e\" x=\"63.623047\"/>\n       <use xlink:href=\"#DejaVuSans-35\" x=\"95.410156\"/>\n      </g>\n     </g>\n    </g>\n    <g id=\"xtick_4\">\n     <g id=\"text_4\">\n      <!-- 1.0 -->\n      <g style=\"fill: #262626\" transform=\"translate(223.596875 261.936406) scale(0.11 -0.11)\">\n       <defs>\n        <path id=\"DejaVuSans-31\" d=\"M 794 531 \nL 1825 531 \nL 1825 4091 \nL 703 3866 \nL 703 4441 \nL 1819 4666 \nL 2450 4666 \nL 2450 531 \nL 3481 531 \nL 3481 0 \nL 794 0 \nL 794 531 \nz\n\" transform=\"scale(0.015625)\"/>\n       </defs>\n       <use xlink:href=\"#DejaVuSans-31\"/>\n       <use xlink:href=\"#DejaVuSans-2e\" x=\"63.623047\"/>\n       <use xlink:href=\"#DejaVuSans-30\" x=\"95.410156\"/>\n      </g>\n     </g>\n    </g>\n    <g id=\"xtick_5\">\n     <g id=\"text_5\">\n      <!-- 1.5 -->\n      <g style=\"fill: #262626\" transform=\"translate(279.036875 261.936406) scale(0.11 -0.11)\">\n       <use xlink:href=\"#DejaVuSans-31\"/>\n       <use xlink:href=\"#DejaVuSans-2e\" x=\"63.623047\"/>\n       <use xlink:href=\"#DejaVuSans-35\" x=\"95.410156\"/>\n      </g>\n     </g>\n    </g>\n    <g id=\"text_6\">\n     <!-- $x_1$ -->\n     <g style=\"fill: #262626\" transform=\"translate(170.483594 277.342188) scale(0.12 -0.12)\">\n      <defs>\n       <path id=\"DejaVuSans-Oblique-78\" d=\"M 3841 3500 \nL 2234 1784 \nL 3219 0 \nL 2559 0 \nL 1819 1388 \nL 531 0 \nL -166 0 \nL 1556 1844 \nL 641 3500 \nL 1300 3500 \nL 1972 2234 \nL 3144 3500 \nL 3841 3500 \nz\n\" transform=\"scale(0.015625)\"/>\n      </defs>\n      <use xlink:href=\"#DejaVuSans-Oblique-78\" transform=\"translate(0 0.3125)\"/>\n      <use xlink:href=\"#DejaVuSans-31\" transform=\"translate(59.179688 -16.09375) scale(0.7)\"/>\n     </g>\n    </g>\n   </g>\n   <g id=\"matplotlib.axis_2\">\n    <g id=\"ytick_1\">\n     <g id=\"text_7\">\n      <!-- −0.50 -->\n      <g style=\"fill: #262626\" transform=\"translate(22.81375 248.257266) scale(0.11 -0.11)\">\n       <use xlink:href=\"#DejaVuSans-2212\"/>\n       <use xlink:href=\"#DejaVuSans-30\" x=\"83.789062\"/>\n       <use xlink:href=\"#DejaVuSans-2e\" x=\"147.412109\"/>\n       <use xlink:href=\"#DejaVuSans-35\" x=\"179.199219\"/>\n       <use xlink:href=\"#DejaVuSans-30\" x=\"242.822266\"/>\n      </g>\n     </g>\n    </g>\n    <g id=\"ytick_2\">\n     <g id=\"text_8\">\n      <!-- −0.25 -->\n      <g style=\"fill: #262626\" transform=\"translate(22.81375 220.537266) scale(0.11 -0.11)\">\n       <defs>\n        <path id=\"DejaVuSans-32\" d=\"M 1228 531 \nL 3431 531 \nL 3431 0 \nL 469 0 \nL 469 531 \nQ 828 903 1448 1529 \nQ 2069 2156 2228 2338 \nQ 2531 2678 2651 2914 \nQ 2772 3150 2772 3378 \nQ 2772 3750 2511 3984 \nQ 2250 4219 1831 4219 \nQ 1534 4219 1204 4116 \nQ 875 4013 500 3803 \nL 500 4441 \nQ 881 4594 1212 4672 \nQ 1544 4750 1819 4750 \nQ 2544 4750 2975 4387 \nQ 3406 4025 3406 3419 \nQ 3406 3131 3298 2873 \nQ 3191 2616 2906 2266 \nQ 2828 2175 2409 1742 \nQ 1991 1309 1228 531 \nz\n\" transform=\"scale(0.015625)\"/>\n       </defs>\n       <use xlink:href=\"#DejaVuSans-2212\"/>\n       <use xlink:href=\"#DejaVuSans-30\" x=\"83.789062\"/>\n       <use xlink:href=\"#DejaVuSans-2e\" x=\"147.412109\"/>\n       <use xlink:href=\"#DejaVuSans-32\" x=\"179.199219\"/>\n       <use xlink:href=\"#DejaVuSans-35\" x=\"242.822266\"/>\n      </g>\n     </g>\n    </g>\n    <g id=\"ytick_3\">\n     <g id=\"text_9\">\n      <!-- 0.00 -->\n      <g style=\"fill: #262626\" transform=\"translate(32.031406 192.817266) scale(0.11 -0.11)\">\n       <use xlink:href=\"#DejaVuSans-30\"/>\n       <use xlink:href=\"#DejaVuSans-2e\" x=\"63.623047\"/>\n       <use xlink:href=\"#DejaVuSans-30\" x=\"95.410156\"/>\n       <use xlink:href=\"#DejaVuSans-30\" x=\"159.033203\"/>\n      </g>\n     </g>\n    </g>\n    <g id=\"ytick_4\">\n     <g id=\"text_10\">\n      <!-- 0.25 -->\n      <g style=\"fill: #262626\" transform=\"translate(32.031406 165.097266) scale(0.11 -0.11)\">\n       <use xlink:href=\"#DejaVuSans-30\"/>\n       <use xlink:href=\"#DejaVuSans-2e\" x=\"63.623047\"/>\n       <use xlink:href=\"#DejaVuSans-32\" x=\"95.410156\"/>\n       <use xlink:href=\"#DejaVuSans-35\" x=\"159.033203\"/>\n      </g>\n     </g>\n    </g>\n    <g id=\"ytick_5\">\n     <g id=\"text_11\">\n      <!-- 0.50 -->\n      <g style=\"fill: #262626\" transform=\"translate(32.031406 137.377266) scale(0.11 -0.11)\">\n       <use xlink:href=\"#DejaVuSans-30\"/>\n       <use xlink:href=\"#DejaVuSans-2e\" x=\"63.623047\"/>\n       <use xlink:href=\"#DejaVuSans-35\" x=\"95.410156\"/>\n       <use xlink:href=\"#DejaVuSans-30\" x=\"159.033203\"/>\n      </g>\n     </g>\n    </g>\n    <g id=\"ytick_6\">\n     <g id=\"text_12\">\n      <!-- 0.75 -->\n      <g style=\"fill: #262626\" transform=\"translate(32.031406 109.657266) scale(0.11 -0.11)\">\n       <defs>\n        <path id=\"DejaVuSans-37\" d=\"M 525 4666 \nL 3525 4666 \nL 3525 4397 \nL 1831 0 \nL 1172 0 \nL 2766 4134 \nL 525 4134 \nL 525 4666 \nz\n\" transform=\"scale(0.015625)\"/>\n       </defs>\n       <use xlink:href=\"#DejaVuSans-30\"/>\n       <use xlink:href=\"#DejaVuSans-2e\" x=\"63.623047\"/>\n       <use xlink:href=\"#DejaVuSans-37\" x=\"95.410156\"/>\n       <use xlink:href=\"#DejaVuSans-35\" x=\"159.033203\"/>\n      </g>\n     </g>\n    </g>\n    <g id=\"ytick_7\">\n     <g id=\"text_13\">\n      <!-- 1.00 -->\n      <g style=\"fill: #262626\" transform=\"translate(32.031406 81.937266) scale(0.11 -0.11)\">\n       <use xlink:href=\"#DejaVuSans-31\"/>\n       <use xlink:href=\"#DejaVuSans-2e\" x=\"63.623047\"/>\n       <use xlink:href=\"#DejaVuSans-30\" x=\"95.410156\"/>\n       <use xlink:href=\"#DejaVuSans-30\" x=\"159.033203\"/>\n      </g>\n     </g>\n    </g>\n    <g id=\"ytick_8\">\n     <g id=\"text_14\">\n      <!-- 1.25 -->\n      <g style=\"fill: #262626\" transform=\"translate(32.031406 54.217266) scale(0.11 -0.11)\">\n       <use xlink:href=\"#DejaVuSans-31\"/>\n       <use xlink:href=\"#DejaVuSans-2e\" x=\"63.623047\"/>\n       <use xlink:href=\"#DejaVuSans-32\" x=\"95.410156\"/>\n       <use xlink:href=\"#DejaVuSans-35\" x=\"159.033203\"/>\n      </g>\n     </g>\n    </g>\n    <g id=\"ytick_9\">\n     <g id=\"text_15\">\n      <!-- 1.50 -->\n      <g style=\"fill: #262626\" transform=\"translate(32.031406 26.497266) scale(0.11 -0.11)\">\n       <use xlink:href=\"#DejaVuSans-31\"/>\n       <use xlink:href=\"#DejaVuSans-2e\" x=\"63.623047\"/>\n       <use xlink:href=\"#DejaVuSans-35\" x=\"95.410156\"/>\n       <use xlink:href=\"#DejaVuSans-30\" x=\"159.033203\"/>\n      </g>\n     </g>\n    </g>\n    <g id=\"text_16\">\n     <!-- $x_2$ -->\n     <g style=\"fill: #262626\" transform=\"translate(16.318125 139.618125) rotate(-90) scale(0.12 -0.12)\">\n      <use xlink:href=\"#DejaVuSans-Oblique-78\" transform=\"translate(0 0.3125)\"/>\n      <use xlink:href=\"#DejaVuSans-32\" transform=\"translate(59.179688 -16.09375) scale(0.7)\"/>\n     </g>\n    </g>\n   </g>\n   <g id=\"PathCollection_1\">\n    <defs>\n     <path id=\"m06f8c369c8\" d=\"M 0 3 \nC 0.795609 3 1.55874 2.683901 2.12132 2.12132 \nC 2.683901 1.55874 3 0.795609 3 0 \nC 3 -0.795609 2.683901 -1.55874 2.12132 -2.12132 \nC 1.55874 -2.683901 0.795609 -3 0 -3 \nC -0.795609 -3 -1.55874 -2.683901 -2.12132 -2.12132 \nC -2.683901 -1.55874 -3 -0.795609 -3 0 \nC -3 0.795609 -2.683901 1.55874 -2.12132 2.12132 \nC -1.55874 2.683901 -0.795609 3 0 3 \nz\n\" style=\"stroke: #333333\"/>\n    </defs>\n    <g clip-path=\"url(#pba366ebbcd)\">\n     <use xlink:href=\"#m06f8c369c8\" x=\"124.713181\" y=\"196.558853\" style=\"fill: #4c72b0; stroke: #333333\"/>\n     <use xlink:href=\"#m06f8c369c8\" x=\"108.25442\" y=\"181.358259\" style=\"fill: #4c72b0; stroke: #333333\"/>\n     <use xlink:href=\"#m06f8c369c8\" x=\"134.310102\" y=\"197.737851\" style=\"fill: #4c72b0; stroke: #333333\"/>\n     <use xlink:href=\"#m06f8c369c8\" x=\"132.145509\" y=\"184.06121\" style=\"fill: #4c72b0; stroke: #333333\"/>\n     <use xlink:href=\"#m06f8c369c8\" x=\"229.62273\" y=\"86.115549\" style=\"fill: #4c72b0; stroke: #333333\"/>\n     <use xlink:href=\"#m06f8c369c8\" x=\"235.41154\" y=\"68.586312\" style=\"fill: #4c72b0; stroke: #333333\"/>\n     <use xlink:href=\"#m06f8c369c8\" x=\"232.487762\" y=\"61.641336\" style=\"fill: #4c72b0; stroke: #333333\"/>\n     <use xlink:href=\"#m06f8c369c8\" x=\"229.409082\" y=\"47.596893\" style=\"fill: #4c72b0; stroke: #333333\"/>\n     <use xlink:href=\"#m06f8c369c8\" x=\"239.280996\" y=\"87.26229\" style=\"fill: #4c72b0; stroke: #333333\"/>\n     <use xlink:href=\"#m06f8c369c8\" x=\"109.589538\" y=\"183.288471\" style=\"fill: #4c72b0; stroke: #333333\"/>\n     <use xlink:href=\"#m06f8c369c8\" x=\"229.865841\" y=\"69.841288\" style=\"fill: #4c72b0; stroke: #333333\"/>\n     <use xlink:href=\"#m06f8c369c8\" x=\"116.512636\" y=\"179.142375\" style=\"fill: #4c72b0; stroke: #333333\"/>\n     <use xlink:href=\"#m06f8c369c8\" x=\"123.837465\" y=\"202.450877\" style=\"fill: #4c72b0; stroke: #333333\"/>\n     <use xlink:href=\"#m06f8c369c8\" x=\"234.263828\" y=\"73.485721\" style=\"fill: #4c72b0; stroke: #333333\"/>\n     <use xlink:href=\"#m06f8c369c8\" x=\"222.543381\" y=\"76.053621\" style=\"fill: #4c72b0; stroke: #333333\"/>\n     <use xlink:href=\"#m06f8c369c8\" x=\"236.310743\" y=\"71.540148\" style=\"fill: #4c72b0; stroke: #333333\"/>\n     <use xlink:href=\"#m06f8c369c8\" x=\"127.793628\" y=\"176.046973\" style=\"fill: #4c72b0; stroke: #333333\"/>\n     <use xlink:href=\"#m06f8c369c8\" x=\"132.041565\" y=\"181.415499\" style=\"fill: #4c72b0; stroke: #333333\"/>\n     <use xlink:href=\"#m06f8c369c8\" x=\"117.967889\" y=\"180.222675\" style=\"fill: #4c72b0; stroke: #333333\"/>\n     <use xlink:href=\"#m06f8c369c8\" x=\"258.008523\" y=\"98.46236\" style=\"fill: #4c72b0; stroke: #333333\"/>\n     <use xlink:href=\"#m06f8c369c8\" x=\"239.95285\" y=\"95.639917\" style=\"fill: #4c72b0; stroke: #333333\"/>\n     <use xlink:href=\"#m06f8c369c8\" x=\"224.412309\" y=\"70.222744\" style=\"fill: #4c72b0; stroke: #333333\"/>\n     <use xlink:href=\"#m06f8c369c8\" x=\"99.008812\" y=\"186.57072\" style=\"fill: #4c72b0; stroke: #333333\"/>\n     <use xlink:href=\"#m06f8c369c8\" x=\"223.556125\" y=\"79.030324\" style=\"fill: #4c72b0; stroke: #333333\"/>\n     <use xlink:href=\"#m06f8c369c8\" x=\"237.942892\" y=\"68.158633\" style=\"fill: #4c72b0; stroke: #333333\"/>\n     <use xlink:href=\"#m06f8c369c8\" x=\"219.034709\" y=\"81.467075\" style=\"fill: #4c72b0; stroke: #333333\"/>\n     <use xlink:href=\"#m06f8c369c8\" x=\"227.0774\" y=\"85.002242\" style=\"fill: #4c72b0; stroke: #333333\"/>\n     <use xlink:href=\"#m06f8c369c8\" x=\"251.918946\" y=\"73.267692\" style=\"fill: #4c72b0; stroke: #333333\"/>\n     <use xlink:href=\"#m06f8c369c8\" x=\"215.496818\" y=\"83.127313\" style=\"fill: #4c72b0; stroke: #333333\"/>\n     <use xlink:href=\"#m06f8c369c8\" x=\"246.391103\" y=\"85.604762\" style=\"fill: #4c72b0; stroke: #333333\"/>\n     <use xlink:href=\"#m06f8c369c8\" x=\"237.264667\" y=\"69.168984\" style=\"fill: #4c72b0; stroke: #333333\"/>\n     <use xlink:href=\"#m06f8c369c8\" x=\"229.543118\" y=\"91.593546\" style=\"fill: #4c72b0; stroke: #333333\"/>\n     <use xlink:href=\"#m06f8c369c8\" x=\"233.602271\" y=\"70.416426\" style=\"fill: #4c72b0; stroke: #333333\"/>\n     <use xlink:href=\"#m06f8c369c8\" x=\"145.114668\" y=\"210.282874\" style=\"fill: #4c72b0; stroke: #333333\"/>\n     <use xlink:href=\"#m06f8c369c8\" x=\"119.780601\" y=\"182.114864\" style=\"fill: #4c72b0; stroke: #333333\"/>\n     <use xlink:href=\"#m06f8c369c8\" x=\"124.579232\" y=\"195.542617\" style=\"fill: #4c72b0; stroke: #333333\"/>\n     <use xlink:href=\"#m06f8c369c8\" x=\"119.155934\" y=\"194.104519\" style=\"fill: #4c72b0; stroke: #333333\"/>\n     <use xlink:href=\"#m06f8c369c8\" x=\"236.302178\" y=\"85.441104\" style=\"fill: #4c72b0; stroke: #333333\"/>\n     <use xlink:href=\"#m06f8c369c8\" x=\"130.476609\" y=\"181.656801\" style=\"fill: #4c72b0; stroke: #333333\"/>\n     <use xlink:href=\"#m06f8c369c8\" x=\"129.749585\" y=\"181.87034\" style=\"fill: #4c72b0; stroke: #333333\"/>\n     <use xlink:href=\"#m06f8c369c8\" x=\"121.231837\" y=\"187.337199\" style=\"fill: #4c72b0; stroke: #333333\"/>\n     <use xlink:href=\"#m06f8c369c8\" x=\"130.61581\" y=\"179.61793\" style=\"fill: #4c72b0; stroke: #333333\"/>\n     <use xlink:href=\"#m06f8c369c8\" x=\"246.818743\" y=\"77.525238\" style=\"fill: #4c72b0; stroke: #333333\"/>\n     <use xlink:href=\"#m06f8c369c8\" x=\"245.18473\" y=\"68.980166\" style=\"fill: #4c72b0; stroke: #333333\"/>\n     <use xlink:href=\"#m06f8c369c8\" x=\"128.383834\" y=\"181.67103\" style=\"fill: #4c72b0; stroke: #333333\"/>\n     <use xlink:href=\"#m06f8c369c8\" x=\"121.327802\" y=\"198.586881\" style=\"fill: #4c72b0; stroke: #333333\"/>\n     <use xlink:href=\"#m06f8c369c8\" x=\"122.304115\" y=\"196.146494\" style=\"fill: #4c72b0; stroke: #333333\"/>\n     <use xlink:href=\"#m06f8c369c8\" x=\"112.310481\" y=\"192.201651\" style=\"fill: #4c72b0; stroke: #333333\"/>\n     <use xlink:href=\"#m06f8c369c8\" x=\"124.179783\" y=\"194.259111\" style=\"fill: #4c72b0; stroke: #333333\"/>\n     <use xlink:href=\"#m06f8c369c8\" x=\"116.240721\" y=\"186.065155\" style=\"fill: #4c72b0; stroke: #333333\"/>\n     <use xlink:href=\"#m06f8c369c8\" x=\"224.377487\" y=\"80.124828\" style=\"fill: #4c72b0; stroke: #333333\"/>\n     <use xlink:href=\"#m06f8c369c8\" x=\"124.910937\" y=\"172.279375\" style=\"fill: #4c72b0; stroke: #333333\"/>\n     <use xlink:href=\"#m06f8c369c8\" x=\"121.252742\" y=\"199.75417\" style=\"fill: #4c72b0; stroke: #333333\"/>\n     <use xlink:href=\"#m06f8c369c8\" x=\"235.921898\" y=\"86.93046\" style=\"fill: #4c72b0; stroke: #333333\"/>\n     <use xlink:href=\"#m06f8c369c8\" x=\"120.257661\" y=\"184.183945\" style=\"fill: #4c72b0; stroke: #333333\"/>\n     <use xlink:href=\"#m06f8c369c8\" x=\"129.11591\" y=\"193.086858\" style=\"fill: #4c72b0; stroke: #333333\"/>\n     <use xlink:href=\"#m06f8c369c8\" x=\"123.948331\" y=\"188.4985\" style=\"fill: #4c72b0; stroke: #333333\"/>\n     <use xlink:href=\"#m06f8c369c8\" x=\"137.553874\" y=\"178.00173\" style=\"fill: #4c72b0; stroke: #333333\"/>\n     <use xlink:href=\"#m06f8c369c8\" x=\"256.218076\" y=\"86.266478\" style=\"fill: #4c72b0; stroke: #333333\"/>\n     <use xlink:href=\"#m06f8c369c8\" x=\"242.01589\" y=\"75.725234\" style=\"fill: #4c72b0; stroke: #333333\"/>\n     <use xlink:href=\"#m06f8c369c8\" x=\"112.152758\" y=\"195.284191\" style=\"fill: #4c72b0; stroke: #333333\"/>\n     <use xlink:href=\"#m06f8c369c8\" x=\"208.793836\" y=\"83.5877\" style=\"fill: #4c72b0; stroke: #333333\"/>\n     <use xlink:href=\"#m06f8c369c8\" x=\"223.926333\" y=\"76.090565\" style=\"fill: #4c72b0; stroke: #333333\"/>\n     <use xlink:href=\"#m06f8c369c8\" x=\"236.132988\" y=\"56.955145\" style=\"fill: #4c72b0; stroke: #333333\"/>\n     <use xlink:href=\"#m06f8c369c8\" x=\"242.881889\" y=\"84.154835\" style=\"fill: #4c72b0; stroke: #333333\"/>\n     <use xlink:href=\"#m06f8c369c8\" x=\"120.193576\" y=\"174.913218\" style=\"fill: #4c72b0; stroke: #333333\"/>\n     <use xlink:href=\"#m06f8c369c8\" x=\"103.78458\" y=\"195.283995\" style=\"fill: #4c72b0; stroke: #333333\"/>\n     <use xlink:href=\"#m06f8c369c8\" x=\"109.625818\" y=\"190.216829\" style=\"fill: #4c72b0; stroke: #333333\"/>\n     <use xlink:href=\"#m06f8c369c8\" x=\"125.148291\" y=\"196.937344\" style=\"fill: #4c72b0; stroke: #333333\"/>\n     <use xlink:href=\"#m06f8c369c8\" x=\"245.419639\" y=\"77.009475\" style=\"fill: #4c72b0; stroke: #333333\"/>\n     <use xlink:href=\"#m06f8c369c8\" x=\"144.313166\" y=\"169.174906\" style=\"fill: #4c72b0; stroke: #333333\"/>\n     <use xlink:href=\"#m06f8c369c8\" x=\"229.583076\" y=\"66.985343\" style=\"fill: #4c72b0; stroke: #333333\"/>\n     <use xlink:href=\"#m06f8c369c8\" x=\"239.499528\" y=\"62.582743\" style=\"fill: #4c72b0; stroke: #333333\"/>\n     <use xlink:href=\"#m06f8c369c8\" x=\"229.356409\" y=\"69.802017\" style=\"fill: #4c72b0; stroke: #333333\"/>\n     <use xlink:href=\"#m06f8c369c8\" x=\"102.576489\" y=\"189.254038\" style=\"fill: #4c72b0; stroke: #333333\"/>\n     <use xlink:href=\"#m06f8c369c8\" x=\"98.539796\" y=\"189.626288\" style=\"fill: #4c72b0; stroke: #333333\"/>\n     <use xlink:href=\"#m06f8c369c8\" x=\"236.408436\" y=\"88.179515\" style=\"fill: #4c72b0; stroke: #333333\"/>\n     <use xlink:href=\"#m06f8c369c8\" x=\"110.533863\" y=\"183.049257\" style=\"fill: #4c72b0; stroke: #333333\"/>\n     <use xlink:href=\"#m06f8c369c8\" x=\"226.204733\" y=\"91.040198\" style=\"fill: #4c72b0; stroke: #333333\"/>\n     <use xlink:href=\"#m06f8c369c8\" x=\"254.128467\" y=\"77.367126\" style=\"fill: #4c72b0; stroke: #333333\"/>\n     <use xlink:href=\"#m06f8c369c8\" x=\"115.581397\" y=\"195.022798\" style=\"fill: #4c72b0; stroke: #333333\"/>\n     <use xlink:href=\"#m06f8c369c8\" x=\"250.582997\" y=\"80.519436\" style=\"fill: #4c72b0; stroke: #333333\"/>\n     <use xlink:href=\"#m06f8c369c8\" x=\"238.736457\" y=\"74.306977\" style=\"fill: #4c72b0; stroke: #333333\"/>\n     <use xlink:href=\"#m06f8c369c8\" x=\"155.602225\" y=\"176.224278\" style=\"fill: #4c72b0; stroke: #333333\"/>\n     <use xlink:href=\"#m06f8c369c8\" x=\"230.925244\" y=\"88.353158\" style=\"fill: #4c72b0; stroke: #333333\"/>\n     <use xlink:href=\"#m06f8c369c8\" x=\"103.651317\" y=\"186.38212\" style=\"fill: #4c72b0; stroke: #333333\"/>\n     <use xlink:href=\"#m06f8c369c8\" x=\"225.174396\" y=\"89.750326\" style=\"fill: #4c72b0; stroke: #333333\"/>\n     <use xlink:href=\"#m06f8c369c8\" x=\"140.17062\" y=\"178.862503\" style=\"fill: #4c72b0; stroke: #333333\"/>\n     <use xlink:href=\"#m06f8c369c8\" x=\"232.255192\" y=\"61.348506\" style=\"fill: #4c72b0; stroke: #333333\"/>\n     <use xlink:href=\"#m06f8c369c8\" x=\"109.962609\" y=\"190.7486\" style=\"fill: #4c72b0; stroke: #333333\"/>\n     <use xlink:href=\"#m06f8c369c8\" x=\"232.881603\" y=\"86.9717\" style=\"fill: #4c72b0; stroke: #333333\"/>\n     <use xlink:href=\"#m06f8c369c8\" x=\"124.462419\" y=\"189.195165\" style=\"fill: #4c72b0; stroke: #333333\"/>\n     <use xlink:href=\"#m06f8c369c8\" x=\"127.017763\" y=\"199.477257\" style=\"fill: #4c72b0; stroke: #333333\"/>\n     <use xlink:href=\"#m06f8c369c8\" x=\"233.444991\" y=\"69.426747\" style=\"fill: #4c72b0; stroke: #333333\"/>\n     <use xlink:href=\"#m06f8c369c8\" x=\"102.953228\" y=\"182.613347\" style=\"fill: #4c72b0; stroke: #333333\"/>\n     <use xlink:href=\"#m06f8c369c8\" x=\"224.996423\" y=\"71.431325\" style=\"fill: #4c72b0; stroke: #333333\"/>\n     <use xlink:href=\"#m06f8c369c8\" x=\"223.880579\" y=\"97.77066\" style=\"fill: #4c72b0; stroke: #333333\"/>\n     <use xlink:href=\"#m06f8c369c8\" x=\"231.610898\" y=\"91.185872\" style=\"fill: #4c72b0; stroke: #333333\"/>\n     <use xlink:href=\"#m06f8c369c8\" x=\"132.621368\" y=\"195.034702\" style=\"fill: #4c72b0; stroke: #333333\"/>\n     <use xlink:href=\"#m06f8c369c8\" x=\"130.729748\" y=\"201.164315\" style=\"fill: #4c72b0; stroke: #333333\"/>\n     <use xlink:href=\"#m06f8c369c8\" x=\"127.338063\" y=\"172.654013\" style=\"fill: #4c72b0; stroke: #333333\"/>\n     <use xlink:href=\"#m06f8c369c8\" x=\"204.938002\" y=\"86.594097\" style=\"fill: #4c72b0; stroke: #333333\"/>\n     <use xlink:href=\"#m06f8c369c8\" x=\"236.458863\" y=\"84.455113\" style=\"fill: #4c72b0; stroke: #333333\"/>\n    </g>\n   </g>\n   <g id=\"PathCollection_2\">\n    <defs>\n     <path id=\"m3311a7c08a\" d=\"M 0 3 \nC 0.795609 3 1.55874 2.683901 2.12132 2.12132 \nC 2.683901 1.55874 3 0.795609 3 0 \nC 3 -0.795609 2.683901 -1.55874 2.12132 -2.12132 \nC 1.55874 -2.683901 0.795609 -3 0 -3 \nC -0.795609 -3 -1.55874 -2.683901 -2.12132 -2.12132 \nC -2.683901 -1.55874 -3 -0.795609 -3 0 \nC -3 0.795609 -2.683901 1.55874 -2.12132 2.12132 \nC -1.55874 2.683901 -0.795609 3 0 3 \nz\n\" style=\"stroke: #333333\"/>\n    </defs>\n    <g clip-path=\"url(#pba366ebbcd)\">\n     <use xlink:href=\"#m3311a7c08a\" x=\"113.92348\" y=\"75.18289\" style=\"fill: #dd8452; stroke: #333333\"/>\n     <use xlink:href=\"#m3311a7c08a\" x=\"142.151302\" y=\"72.504264\" style=\"fill: #dd8452; stroke: #333333\"/>\n     <use xlink:href=\"#m3311a7c08a\" x=\"110.656323\" y=\"69.030936\" style=\"fill: #dd8452; stroke: #333333\"/>\n     <use xlink:href=\"#m3311a7c08a\" x=\"241.458596\" y=\"167.606485\" style=\"fill: #dd8452; stroke: #333333\"/>\n     <use xlink:href=\"#m3311a7c08a\" x=\"222.480655\" y=\"197.683829\" style=\"fill: #dd8452; stroke: #333333\"/>\n     <use xlink:href=\"#m3311a7c08a\" x=\"231.488691\" y=\"184.855432\" style=\"fill: #dd8452; stroke: #333333\"/>\n     <use xlink:href=\"#m3311a7c08a\" x=\"237.590846\" y=\"189.445652\" style=\"fill: #dd8452; stroke: #333333\"/>\n     <use xlink:href=\"#m3311a7c08a\" x=\"222.954346\" y=\"205.434752\" style=\"fill: #dd8452; stroke: #333333\"/>\n     <use xlink:href=\"#m3311a7c08a\" x=\"232.989012\" y=\"201.31138\" style=\"fill: #dd8452; stroke: #333333\"/>\n     <use xlink:href=\"#m3311a7c08a\" x=\"133.472466\" y=\"66.073571\" style=\"fill: #dd8452; stroke: #333333\"/>\n     <use xlink:href=\"#m3311a7c08a\" x=\"106.187995\" y=\"88.156727\" style=\"fill: #dd8452; stroke: #333333\"/>\n     <use xlink:href=\"#m3311a7c08a\" x=\"127.174305\" y=\"72.061265\" style=\"fill: #dd8452; stroke: #333333\"/>\n     <use xlink:href=\"#m3311a7c08a\" x=\"238.054438\" y=\"145.919037\" style=\"fill: #dd8452; stroke: #333333\"/>\n     <use xlink:href=\"#m3311a7c08a\" x=\"112.894508\" y=\"80.383972\" style=\"fill: #dd8452; stroke: #333333\"/>\n     <use xlink:href=\"#m3311a7c08a\" x=\"226.961882\" y=\"187.730305\" style=\"fill: #dd8452; stroke: #333333\"/>\n     <use xlink:href=\"#m3311a7c08a\" x=\"116.230813\" y=\"65.68384\" style=\"fill: #dd8452; stroke: #333333\"/>\n     <use xlink:href=\"#m3311a7c08a\" x=\"122.176331\" y=\"89.708161\" style=\"fill: #dd8452; stroke: #333333\"/>\n     <use xlink:href=\"#m3311a7c08a\" x=\"113.365289\" y=\"75.358027\" style=\"fill: #dd8452; stroke: #333333\"/>\n     <use xlink:href=\"#m3311a7c08a\" x=\"121.968894\" y=\"84.98307\" style=\"fill: #dd8452; stroke: #333333\"/>\n     <use xlink:href=\"#m3311a7c08a\" x=\"145.235645\" y=\"70.729228\" style=\"fill: #dd8452; stroke: #333333\"/>\n     <use xlink:href=\"#m3311a7c08a\" x=\"225.005708\" y=\"179.186344\" style=\"fill: #dd8452; stroke: #333333\"/>\n     <use xlink:href=\"#m3311a7c08a\" x=\"218.362914\" y=\"178.460871\" style=\"fill: #dd8452; stroke: #333333\"/>\n     <use xlink:href=\"#m3311a7c08a\" x=\"144.994061\" y=\"66.310145\" style=\"fill: #dd8452; stroke: #333333\"/>\n     <use xlink:href=\"#m3311a7c08a\" x=\"222.06579\" y=\"189.298142\" style=\"fill: #dd8452; stroke: #333333\"/>\n     <use xlink:href=\"#m3311a7c08a\" x=\"196.404423\" y=\"199.996535\" style=\"fill: #dd8452; stroke: #333333\"/>\n     <use xlink:href=\"#m3311a7c08a\" x=\"139.563771\" y=\"93.615532\" style=\"fill: #dd8452; stroke: #333333\"/>\n     <use xlink:href=\"#m3311a7c08a\" x=\"116.584381\" y=\"76.308475\" style=\"fill: #dd8452; stroke: #333333\"/>\n     <use xlink:href=\"#m3311a7c08a\" x=\"248.324436\" y=\"204.558965\" style=\"fill: #dd8452; stroke: #333333\"/>\n     <use xlink:href=\"#m3311a7c08a\" x=\"245.240747\" y=\"188.524661\" style=\"fill: #dd8452; stroke: #333333\"/>\n     <use xlink:href=\"#m3311a7c08a\" x=\"221.460628\" y=\"183.514322\" style=\"fill: #dd8452; stroke: #333333\"/>\n     <use xlink:href=\"#m3311a7c08a\" x=\"123.670768\" y=\"84.413331\" style=\"fill: #dd8452; stroke: #333333\"/>\n     <use xlink:href=\"#m3311a7c08a\" x=\"233.117556\" y=\"192.910482\" style=\"fill: #dd8452; stroke: #333333\"/>\n     <use xlink:href=\"#m3311a7c08a\" x=\"249.929344\" y=\"202.363023\" style=\"fill: #dd8452; stroke: #333333\"/>\n     <use xlink:href=\"#m3311a7c08a\" x=\"225.808717\" y=\"179.217737\" style=\"fill: #dd8452; stroke: #333333\"/>\n     <use xlink:href=\"#m3311a7c08a\" x=\"242.318356\" y=\"185.230788\" style=\"fill: #dd8452; stroke: #333333\"/>\n     <use xlink:href=\"#m3311a7c08a\" x=\"112.271697\" y=\"83.969413\" style=\"fill: #dd8452; stroke: #333333\"/>\n     <use xlink:href=\"#m3311a7c08a\" x=\"135.630342\" y=\"84.317468\" style=\"fill: #dd8452; stroke: #333333\"/>\n     <use xlink:href=\"#m3311a7c08a\" x=\"127.529809\" y=\"80.000037\" style=\"fill: #dd8452; stroke: #333333\"/>\n     <use xlink:href=\"#m3311a7c08a\" x=\"119.049944\" y=\"65.574885\" style=\"fill: #dd8452; stroke: #333333\"/>\n     <use xlink:href=\"#m3311a7c08a\" x=\"239.905093\" y=\"192.078363\" style=\"fill: #dd8452; stroke: #333333\"/>\n     <use xlink:href=\"#m3311a7c08a\" x=\"235.937944\" y=\"190.081151\" style=\"fill: #dd8452; stroke: #333333\"/>\n     <use xlink:href=\"#m3311a7c08a\" x=\"122.539085\" y=\"71.159023\" style=\"fill: #dd8452; stroke: #333333\"/>\n     <use xlink:href=\"#m3311a7c08a\" x=\"223.27116\" y=\"165.437735\" style=\"fill: #dd8452; stroke: #333333\"/>\n     <use xlink:href=\"#m3311a7c08a\" x=\"110.308873\" y=\"91.221045\" style=\"fill: #dd8452; stroke: #333333\"/>\n     <use xlink:href=\"#m3311a7c08a\" x=\"243.155725\" y=\"190.268697\" style=\"fill: #dd8452; stroke: #333333\"/>\n     <use xlink:href=\"#m3311a7c08a\" x=\"236.922178\" y=\"194.888703\" style=\"fill: #dd8452; stroke: #333333\"/>\n     <use xlink:href=\"#m3311a7c08a\" x=\"112.346814\" y=\"75.056117\" style=\"fill: #dd8452; stroke: #333333\"/>\n     <use xlink:href=\"#m3311a7c08a\" x=\"105.407234\" y=\"93.364081\" style=\"fill: #dd8452; stroke: #333333\"/>\n     <use xlink:href=\"#m3311a7c08a\" x=\"130.973324\" y=\"79.531521\" style=\"fill: #dd8452; stroke: #333333\"/>\n     <use xlink:href=\"#m3311a7c08a\" x=\"232.138319\" y=\"191.838772\" style=\"fill: #dd8452; stroke: #333333\"/>\n     <use xlink:href=\"#m3311a7c08a\" x=\"238.102102\" y=\"171.643115\" style=\"fill: #dd8452; stroke: #333333\"/>\n     <use xlink:href=\"#m3311a7c08a\" x=\"233.426631\" y=\"197.209258\" style=\"fill: #dd8452; stroke: #333333\"/>\n     <use xlink:href=\"#m3311a7c08a\" x=\"232.615368\" y=\"183.11632\" style=\"fill: #dd8452; stroke: #333333\"/>\n     <use xlink:href=\"#m3311a7c08a\" x=\"145.744129\" y=\"86.720533\" style=\"fill: #dd8452; stroke: #333333\"/>\n     <use xlink:href=\"#m3311a7c08a\" x=\"111.501972\" y=\"72.303721\" style=\"fill: #dd8452; stroke: #333333\"/>\n     <use xlink:href=\"#m3311a7c08a\" x=\"217.704846\" y=\"168.33091\" style=\"fill: #dd8452; stroke: #333333\"/>\n     <use xlink:href=\"#m3311a7c08a\" x=\"245.421225\" y=\"193.840345\" style=\"fill: #dd8452; stroke: #333333\"/>\n     <use xlink:href=\"#m3311a7c08a\" x=\"102.468358\" y=\"62.746394\" style=\"fill: #dd8452; stroke: #333333\"/>\n     <use xlink:href=\"#m3311a7c08a\" x=\"232.401739\" y=\"188.117204\" style=\"fill: #dd8452; stroke: #333333\"/>\n     <use xlink:href=\"#m3311a7c08a\" x=\"227.353265\" y=\"181.731965\" style=\"fill: #dd8452; stroke: #333333\"/>\n     <use xlink:href=\"#m3311a7c08a\" x=\"122.797432\" y=\"72.054022\" style=\"fill: #dd8452; stroke: #333333\"/>\n     <use xlink:href=\"#m3311a7c08a\" x=\"240.233982\" y=\"201.108157\" style=\"fill: #dd8452; stroke: #333333\"/>\n     <use xlink:href=\"#m3311a7c08a\" x=\"104.453336\" y=\"63.591244\" style=\"fill: #dd8452; stroke: #333333\"/>\n     <use xlink:href=\"#m3311a7c08a\" x=\"138.662767\" y=\"76.475524\" style=\"fill: #dd8452; stroke: #333333\"/>\n     <use xlink:href=\"#m3311a7c08a\" x=\"110.764523\" y=\"70.151182\" style=\"fill: #dd8452; stroke: #333333\"/>\n     <use xlink:href=\"#m3311a7c08a\" x=\"133.199404\" y=\"97.259027\" style=\"fill: #dd8452; stroke: #333333\"/>\n     <use xlink:href=\"#m3311a7c08a\" x=\"108.343623\" y=\"100.369132\" style=\"fill: #dd8452; stroke: #333333\"/>\n     <use xlink:href=\"#m3311a7c08a\" x=\"249.001723\" y=\"187.816562\" style=\"fill: #dd8452; stroke: #333333\"/>\n     <use xlink:href=\"#m3311a7c08a\" x=\"250.401686\" y=\"203.94069\" style=\"fill: #dd8452; stroke: #333333\"/>\n     <use xlink:href=\"#m3311a7c08a\" x=\"125.722111\" y=\"78.120646\" style=\"fill: #dd8452; stroke: #333333\"/>\n     <use xlink:href=\"#m3311a7c08a\" x=\"106.999635\" y=\"70.332796\" style=\"fill: #dd8452; stroke: #333333\"/>\n     <use xlink:href=\"#m3311a7c08a\" x=\"226.645835\" y=\"200.382684\" style=\"fill: #dd8452; stroke: #333333\"/>\n     <use xlink:href=\"#m3311a7c08a\" x=\"120.768608\" y=\"67.167513\" style=\"fill: #dd8452; stroke: #333333\"/>\n     <use xlink:href=\"#m3311a7c08a\" x=\"115.584097\" y=\"86.5495\" style=\"fill: #dd8452; stroke: #333333\"/>\n     <use xlink:href=\"#m3311a7c08a\" x=\"231.156842\" y=\"200.116892\" style=\"fill: #dd8452; stroke: #333333\"/>\n     <use xlink:href=\"#m3311a7c08a\" x=\"224.585035\" y=\"186.265516\" style=\"fill: #dd8452; stroke: #333333\"/>\n     <use xlink:href=\"#m3311a7c08a\" x=\"231.098102\" y=\"191.088236\" style=\"fill: #dd8452; stroke: #333333\"/>\n     <use xlink:href=\"#m3311a7c08a\" x=\"128.273474\" y=\"69.358873\" style=\"fill: #dd8452; stroke: #333333\"/>\n     <use xlink:href=\"#m3311a7c08a\" x=\"118.41382\" y=\"103.281828\" style=\"fill: #dd8452; stroke: #333333\"/>\n     <use xlink:href=\"#m3311a7c08a\" x=\"215.543154\" y=\"173.482223\" style=\"fill: #dd8452; stroke: #333333\"/>\n     <use xlink:href=\"#m3311a7c08a\" x=\"223.957177\" y=\"204.408074\" style=\"fill: #dd8452; stroke: #333333\"/>\n     <use xlink:href=\"#m3311a7c08a\" x=\"122.321454\" y=\"87.308044\" style=\"fill: #dd8452; stroke: #333333\"/>\n     <use xlink:href=\"#m3311a7c08a\" x=\"138.351994\" y=\"71.782684\" style=\"fill: #dd8452; stroke: #333333\"/>\n     <use xlink:href=\"#m3311a7c08a\" x=\"111.754739\" y=\"93.090609\" style=\"fill: #dd8452; stroke: #333333\"/>\n     <use xlink:href=\"#m3311a7c08a\" x=\"242.61305\" y=\"167.466514\" style=\"fill: #dd8452; stroke: #333333\"/>\n     <use xlink:href=\"#m3311a7c08a\" x=\"216.836277\" y=\"182.395922\" style=\"fill: #dd8452; stroke: #333333\"/>\n     <use xlink:href=\"#m3311a7c08a\" x=\"114.249269\" y=\"83.159373\" style=\"fill: #dd8452; stroke: #333333\"/>\n     <use xlink:href=\"#m3311a7c08a\" x=\"225.77513\" y=\"198.218055\" style=\"fill: #dd8452; stroke: #333333\"/>\n     <use xlink:href=\"#m3311a7c08a\" x=\"229.69414\" y=\"198.701191\" style=\"fill: #dd8452; stroke: #333333\"/>\n     <use xlink:href=\"#m3311a7c08a\" x=\"115.068353\" y=\"69.382348\" style=\"fill: #dd8452; stroke: #333333\"/>\n     <use xlink:href=\"#m3311a7c08a\" x=\"103.417404\" y=\"77.224954\" style=\"fill: #dd8452; stroke: #333333\"/>\n     <use xlink:href=\"#m3311a7c08a\" x=\"235.223397\" y=\"198.665188\" style=\"fill: #dd8452; stroke: #333333\"/>\n     <use xlink:href=\"#m3311a7c08a\" x=\"239.424305\" y=\"207.061059\" style=\"fill: #dd8452; stroke: #333333\"/>\n     <use xlink:href=\"#m3311a7c08a\" x=\"225.116032\" y=\"188.112569\" style=\"fill: #dd8452; stroke: #333333\"/>\n     <use xlink:href=\"#m3311a7c08a\" x=\"111.92333\" y=\"82.022076\" style=\"fill: #dd8452; stroke: #333333\"/>\n     <use xlink:href=\"#m3311a7c08a\" x=\"127.86217\" y=\"80.009495\" style=\"fill: #dd8452; stroke: #333333\"/>\n     <use xlink:href=\"#m3311a7c08a\" x=\"233.303704\" y=\"190.364274\" style=\"fill: #dd8452; stroke: #333333\"/>\n    </g>\n   </g>\n   <g id=\"patch_3\">\n    <path d=\"M 66.023594 244.078125 \nL 66.023594 22.318125 \n\" style=\"fill: none; stroke: #ffffff; stroke-width: 1.25; stroke-linejoin: miter; stroke-linecap: square\"/>\n   </g>\n   <g id=\"patch_4\">\n    <path d=\"M 287.783594 244.078125 \nL 287.783594 22.318125 \n\" style=\"fill: none; stroke: #ffffff; stroke-width: 1.25; stroke-linejoin: miter; stroke-linecap: square\"/>\n   </g>\n   <g id=\"patch_5\">\n    <path d=\"M 66.023594 244.078125 \nL 287.783594 244.078125 \n\" style=\"fill: none; stroke: #ffffff; stroke-width: 1.25; stroke-linejoin: miter; stroke-linecap: square\"/>\n   </g>\n   <g id=\"patch_6\">\n    <path d=\"M 66.023594 22.318125 \nL 287.783594 22.318125 \n\" style=\"fill: none; stroke: #ffffff; stroke-width: 1.25; stroke-linejoin: miter; stroke-linecap: square\"/>\n   </g>\n   <g id=\"text_17\">\n    <!-- Dataset samples -->\n    <g style=\"fill: #262626\" transform=\"translate(126.560781 16.318125) scale(0.12 -0.12)\">\n     <defs>\n      <path id=\"DejaVuSans-44\" d=\"M 1259 4147 \nL 1259 519 \nL 2022 519 \nQ 2988 519 3436 956 \nQ 3884 1394 3884 2338 \nQ 3884 3275 3436 3711 \nQ 2988 4147 2022 4147 \nL 1259 4147 \nz\nM 628 4666 \nL 1925 4666 \nQ 3281 4666 3915 4102 \nQ 4550 3538 4550 2338 \nQ 4550 1131 3912 565 \nQ 3275 0 1925 0 \nL 628 0 \nL 628 4666 \nz\n\" transform=\"scale(0.015625)\"/>\n      <path id=\"DejaVuSans-61\" d=\"M 2194 1759 \nQ 1497 1759 1228 1600 \nQ 959 1441 959 1056 \nQ 959 750 1161 570 \nQ 1363 391 1709 391 \nQ 2188 391 2477 730 \nQ 2766 1069 2766 1631 \nL 2766 1759 \nL 2194 1759 \nz\nM 3341 1997 \nL 3341 0 \nL 2766 0 \nL 2766 531 \nQ 2569 213 2275 61 \nQ 1981 -91 1556 -91 \nQ 1019 -91 701 211 \nQ 384 513 384 1019 \nQ 384 1609 779 1909 \nQ 1175 2209 1959 2209 \nL 2766 2209 \nL 2766 2266 \nQ 2766 2663 2505 2880 \nQ 2244 3097 1772 3097 \nQ 1472 3097 1187 3025 \nQ 903 2953 641 2809 \nL 641 3341 \nQ 956 3463 1253 3523 \nQ 1550 3584 1831 3584 \nQ 2591 3584 2966 3190 \nQ 3341 2797 3341 1997 \nz\n\" transform=\"scale(0.015625)\"/>\n      <path id=\"DejaVuSans-74\" d=\"M 1172 4494 \nL 1172 3500 \nL 2356 3500 \nL 2356 3053 \nL 1172 3053 \nL 1172 1153 \nQ 1172 725 1289 603 \nQ 1406 481 1766 481 \nL 2356 481 \nL 2356 0 \nL 1766 0 \nQ 1100 0 847 248 \nQ 594 497 594 1153 \nL 594 3053 \nL 172 3053 \nL 172 3500 \nL 594 3500 \nL 594 4494 \nL 1172 4494 \nz\n\" transform=\"scale(0.015625)\"/>\n      <path id=\"DejaVuSans-73\" d=\"M 2834 3397 \nL 2834 2853 \nQ 2591 2978 2328 3040 \nQ 2066 3103 1784 3103 \nQ 1356 3103 1142 2972 \nQ 928 2841 928 2578 \nQ 928 2378 1081 2264 \nQ 1234 2150 1697 2047 \nL 1894 2003 \nQ 2506 1872 2764 1633 \nQ 3022 1394 3022 966 \nQ 3022 478 2636 193 \nQ 2250 -91 1575 -91 \nQ 1294 -91 989 -36 \nQ 684 19 347 128 \nL 347 722 \nQ 666 556 975 473 \nQ 1284 391 1588 391 \nQ 1994 391 2212 530 \nQ 2431 669 2431 922 \nQ 2431 1156 2273 1281 \nQ 2116 1406 1581 1522 \nL 1381 1569 \nQ 847 1681 609 1914 \nQ 372 2147 372 2553 \nQ 372 3047 722 3315 \nQ 1072 3584 1716 3584 \nQ 2034 3584 2315 3537 \nQ 2597 3491 2834 3397 \nz\n\" transform=\"scale(0.015625)\"/>\n      <path id=\"DejaVuSans-65\" d=\"M 3597 1894 \nL 3597 1613 \nL 953 1613 \nQ 991 1019 1311 708 \nQ 1631 397 2203 397 \nQ 2534 397 2845 478 \nQ 3156 559 3463 722 \nL 3463 178 \nQ 3153 47 2828 -22 \nQ 2503 -91 2169 -91 \nQ 1331 -91 842 396 \nQ 353 884 353 1716 \nQ 353 2575 817 3079 \nQ 1281 3584 2069 3584 \nQ 2775 3584 3186 3129 \nQ 3597 2675 3597 1894 \nz\nM 3022 2063 \nQ 3016 2534 2758 2815 \nQ 2500 3097 2075 3097 \nQ 1594 3097 1305 2825 \nQ 1016 2553 972 2059 \nL 3022 2063 \nz\n\" transform=\"scale(0.015625)\"/>\n      <path id=\"DejaVuSans-20\" transform=\"scale(0.015625)\"/>\n      <path id=\"DejaVuSans-6d\" d=\"M 3328 2828 \nQ 3544 3216 3844 3400 \nQ 4144 3584 4550 3584 \nQ 5097 3584 5394 3201 \nQ 5691 2819 5691 2113 \nL 5691 0 \nL 5113 0 \nL 5113 2094 \nQ 5113 2597 4934 2840 \nQ 4756 3084 4391 3084 \nQ 3944 3084 3684 2787 \nQ 3425 2491 3425 1978 \nL 3425 0 \nL 2847 0 \nL 2847 2094 \nQ 2847 2600 2669 2842 \nQ 2491 3084 2119 3084 \nQ 1678 3084 1418 2786 \nQ 1159 2488 1159 1978 \nL 1159 0 \nL 581 0 \nL 581 3500 \nL 1159 3500 \nL 1159 2956 \nQ 1356 3278 1631 3431 \nQ 1906 3584 2284 3584 \nQ 2666 3584 2933 3390 \nQ 3200 3197 3328 2828 \nz\n\" transform=\"scale(0.015625)\"/>\n      <path id=\"DejaVuSans-70\" d=\"M 1159 525 \nL 1159 -1331 \nL 581 -1331 \nL 581 3500 \nL 1159 3500 \nL 1159 2969 \nQ 1341 3281 1617 3432 \nQ 1894 3584 2278 3584 \nQ 2916 3584 3314 3078 \nQ 3713 2572 3713 1747 \nQ 3713 922 3314 415 \nQ 2916 -91 2278 -91 \nQ 1894 -91 1617 61 \nQ 1341 213 1159 525 \nz\nM 3116 1747 \nQ 3116 2381 2855 2742 \nQ 2594 3103 2138 3103 \nQ 1681 3103 1420 2742 \nQ 1159 2381 1159 1747 \nQ 1159 1113 1420 752 \nQ 1681 391 2138 391 \nQ 2594 391 2855 752 \nQ 3116 1113 3116 1747 \nz\n\" transform=\"scale(0.015625)\"/>\n      <path id=\"DejaVuSans-6c\" d=\"M 603 4863 \nL 1178 4863 \nL 1178 0 \nL 603 0 \nL 603 4863 \nz\n\" transform=\"scale(0.015625)\"/>\n     </defs>\n     <use xlink:href=\"#DejaVuSans-44\"/>\n     <use xlink:href=\"#DejaVuSans-61\" x=\"77.001953\"/>\n     <use xlink:href=\"#DejaVuSans-74\" x=\"138.28125\"/>\n     <use xlink:href=\"#DejaVuSans-61\" x=\"177.490234\"/>\n     <use xlink:href=\"#DejaVuSans-73\" x=\"238.769531\"/>\n     <use xlink:href=\"#DejaVuSans-65\" x=\"290.869141\"/>\n     <use xlink:href=\"#DejaVuSans-74\" x=\"352.392578\"/>\n     <use xlink:href=\"#DejaVuSans-20\" x=\"391.601562\"/>\n     <use xlink:href=\"#DejaVuSans-73\" x=\"423.388672\"/>\n     <use xlink:href=\"#DejaVuSans-61\" x=\"475.488281\"/>\n     <use xlink:href=\"#DejaVuSans-6d\" x=\"536.767578\"/>\n     <use xlink:href=\"#DejaVuSans-70\" x=\"634.179688\"/>\n     <use xlink:href=\"#DejaVuSans-6c\" x=\"697.65625\"/>\n     <use xlink:href=\"#DejaVuSans-65\" x=\"725.439453\"/>\n     <use xlink:href=\"#DejaVuSans-73\" x=\"786.962891\"/>\n    </g>\n   </g>\n   <g id=\"legend_1\">\n    <g id=\"patch_7\">\n     <path d=\"M 73.723594 150.994063 \nL 148.356875 150.994063 \nQ 150.556875 150.994063 150.556875 148.794063 \nL 150.556875 117.602188 \nQ 150.556875 115.402188 148.356875 115.402188 \nL 73.723594 115.402188 \nQ 71.523594 115.402188 71.523594 117.602188 \nL 71.523594 148.794063 \nQ 71.523594 150.994063 73.723594 150.994063 \nz\n\" style=\"fill: #eaeaf2; opacity: 0.8; stroke: #cccccc; stroke-linejoin: miter\"/>\n    </g>\n    <g id=\"PathCollection_3\">\n     <g>\n      <use xlink:href=\"#m06f8c369c8\" x=\"86.923594\" y=\"125.272969\" style=\"fill: #4c72b0; stroke: #333333\"/>\n     </g>\n    </g>\n    <g id=\"text_18\">\n     <!-- Class 0 -->\n     <g style=\"fill: #262626\" transform=\"translate(106.723594 128.160469) scale(0.11 -0.11)\">\n      <defs>\n       <path id=\"DejaVuSans-43\" d=\"M 4122 4306 \nL 4122 3641 \nQ 3803 3938 3442 4084 \nQ 3081 4231 2675 4231 \nQ 1875 4231 1450 3742 \nQ 1025 3253 1025 2328 \nQ 1025 1406 1450 917 \nQ 1875 428 2675 428 \nQ 3081 428 3442 575 \nQ 3803 722 4122 1019 \nL 4122 359 \nQ 3791 134 3420 21 \nQ 3050 -91 2638 -91 \nQ 1578 -91 968 557 \nQ 359 1206 359 2328 \nQ 359 3453 968 4101 \nQ 1578 4750 2638 4750 \nQ 3056 4750 3426 4639 \nQ 3797 4528 4122 4306 \nz\n\" transform=\"scale(0.015625)\"/>\n      </defs>\n      <use xlink:href=\"#DejaVuSans-43\"/>\n      <use xlink:href=\"#DejaVuSans-6c\" x=\"69.824219\"/>\n      <use xlink:href=\"#DejaVuSans-61\" x=\"97.607422\"/>\n      <use xlink:href=\"#DejaVuSans-73\" x=\"158.886719\"/>\n      <use xlink:href=\"#DejaVuSans-73\" x=\"210.986328\"/>\n      <use xlink:href=\"#DejaVuSans-20\" x=\"263.085938\"/>\n      <use xlink:href=\"#DejaVuSans-30\" x=\"294.873047\"/>\n     </g>\n    </g>\n    <g id=\"PathCollection_4\">\n     <g>\n      <use xlink:href=\"#m3311a7c08a\" x=\"86.923594\" y=\"141.418906\" style=\"fill: #dd8452; stroke: #333333\"/>\n     </g>\n    </g>\n    <g id=\"text_19\">\n     <!-- Class 1 -->\n     <g style=\"fill: #262626\" transform=\"translate(106.723594 144.306406) scale(0.11 -0.11)\">\n      <use xlink:href=\"#DejaVuSans-43\"/>\n      <use xlink:href=\"#DejaVuSans-6c\" x=\"69.824219\"/>\n      <use xlink:href=\"#DejaVuSans-61\" x=\"97.607422\"/>\n      <use xlink:href=\"#DejaVuSans-73\" x=\"158.886719\"/>\n      <use xlink:href=\"#DejaVuSans-73\" x=\"210.986328\"/>\n      <use xlink:href=\"#DejaVuSans-20\" x=\"263.085938\"/>\n      <use xlink:href=\"#DejaVuSans-31\" x=\"294.873047\"/>\n     </g>\n    </g>\n   </g>\n  </g>\n </g>\n <defs>\n  <clipPath id=\"pba366ebbcd\">\n   <rect x=\"66.023594\" y=\"22.318125\" width=\"221.76\" height=\"221.76\"/>\n  </clipPath>\n </defs>\n</svg>\n",
      "text/plain": [
       "<Figure size 2000x2000 with 1 Axes>"
      ]
     },
     "metadata": {},
     "output_type": "display_data"
    }
   ],
   "source": [
    "def visualize_classification(model, data, label):\n",
    "    data_0 = data[label == 0]\n",
    "    data_1 = data[label == 1]\n",
    "\n",
    "    fig = plt.figure(figsize=(4, 4), dpi=500)\n",
    "    plt.scatter(data_0[:, 0], data_0[:, 1], edgecolor=\"#333\", label=\"Class 0\")\n",
    "    plt.scatter(data_1[:, 0], data_1[:, 1], edgecolor=\"#333\", label=\"Class 1\")\n",
    "    plt.title(\"Dataset samples\")\n",
    "    plt.ylabel(r\"$x_2$\")\n",
    "    plt.xlabel(r\"$x_1$\")\n",
    "    plt.legend()\n",
    "\n",
    "    # Let's make use of a lot of operations we have learned above\n",
    "    c0 = np.array(to_rgba(\"C0\"))\n",
    "    c1 = np.array(to_rgba(\"C1\"))\n",
    "    x1 = jnp.arange(-0.5, 1.5, step=0.01)\n",
    "    x2 = jnp.arange(-0.5, 1.5, step=0.01)\n",
    "    xx1, xx2 = jnp.meshgrid(x1, x2, indexing=\"ij\")  # Meshgrid function as in numpy\n",
    "    model_inputs = np.stack([xx1, xx2], axis=-1)\n",
    "    logits = model(model_inputs)\n",
    "    preds = nn.sigmoid(logits)\n",
    "    output_image = (1 - preds) * c0[None, None] + preds * c1[\n",
    "        None, None\n",
    "    ]  # Specifying \"None\" in a dimension creates a new one\n",
    "    output_image = jax.device_get(\n",
    "        output_image\n",
    "    )  # Convert to numpy array. This only works for tensors on CPU, hence first push to CPU\n",
    "    plt.imshow(output_image, origin=\"lower\", extent=(-0.5, 1.5, -0.5, 1.5))\n",
    "    plt.grid(False)\n",
    "    return fig\n",
    "\n",
    "\n",
    "_ = visualize_classification(trained_model, dataset.data, dataset.label)\n",
    "plt.show()"
   ]
  },
  {
   "cell_type": "markdown",
   "id": "a55bb0f7",
   "metadata": {},
   "source": [
    "The decision boundaries might not look exactly as in the figure in the preamble of this section, since this has been created with the PyTorch version of the tutorial. Nevertheless, the result on the accuracy metric should be the approximately the same. "
   ]
  },
  {
   "cell_type": "markdown",
   "id": "e32cc81e",
   "metadata": {},
   "source": [
    "### Conclusion\n",
    "\n",
    "This concludes our tutorial on training a neural network with JAX. While the functional programming perspective of JAX may seem very different to PyTorch at first, it enables a considerable speedup in training, not only for tiny models like here. If you are interested in seeing more practical use cases of JAX, we recommend checking out our other JAX Tutorials, such as:\n",
    "\n",
    "* [Tutorial 5 (JAX): Inception, ResNet and DenseNet](https://uvadlc-notebooks.readthedocs.io/en/latest/tutorial_notebooks/JAX/tutorial5/Inception_ResNet_DenseNet.html) gives an intro to training convolutional classifiers on CIFAR10;\n",
    "* [Tutorial 6 (JAX): Transformers and Multi-Head Attention](https://uvadlc-notebooks.readthedocs.io/en/latest/tutorial_notebooks/JAX/tutorial6/Transformers_and_MHAttention.html) builds a Transformer from scratch with Flax;\n",
    "* [Tutorial 7 (JAX): Graph Neural Networks](https://uvadlc-notebooks.readthedocs.io/en/latest/tutorial_notebooks/JAX/tutorial7/GNN_overview.html) implements basic Graph Neural Network layers;\n",
    "* [Tutorial 9 (JAX): Deep Autoencoders](https://uvadlc-notebooks.readthedocs.io/en/latest/tutorial_notebooks/JAX/tutorial9/AE_CIFAR10.html) shows how to train autoencoders on CIFAR10;\n",
    "* [Tutorial 11 (JAX): Normalizing Flows for image modeling](https://uvadlc-notebooks.readthedocs.io/en/latest/tutorial_notebooks/JAX/tutorial11/NF_image_modeling.html) discusses Normalizing Flows as generative model on images;\n",
    "* [Tutorial 15 (JAX): Vision Transformers](https://uvadlc-notebooks.readthedocs.io/en/latest/tutorial_notebooks/JAX/tutorial15/Vision_Transformer.html) trains a Transformer on image classification for CIFAR10."
   ]
  },
  {
   "cell_type": "markdown",
   "id": "308c6ef4",
   "metadata": {},
   "source": [
    "## ✨ The Fancy Bits ✨\n",
    "\n",
    "After reading this tutorial, you might wonder why we left out some key advertisement points of JAX: automatic vectorization, easy parallelization on multiple accelerators, etc. The reason why we did not include them in our previous discuss is that for building simple networks, and actual most models in our tutorials, you do not really need these methods. However, since they can be handy at some times, for instance, if you have access to a large cluster or are faced with functions that are annoying to vectorize, we review them here in a separate section: the Fancy Bits of JAX (the title is inspired by JAX's tutorial [🔪 JAX - The Sharp Bits 🔪](https://jax.readthedocs.io/en/latest/notebooks/Common_Gotchas_in_JAX.html))."
   ]
  },
  {
   "cell_type": "markdown",
   "id": "84ffa266",
   "metadata": {},
   "source": [
    "### Automatic Vectorization with vmap\n",
    "\n",
    "In machine learning, we often vectorize methods to efficiently process multiple inputs or batch elements at the same time. Usually, we have to write the code ourselves to support additional dimensions to vectorize over. However, since JAX can already transform functions to run efficiently on accelerators or calculate gradients, it can also automatically vectorize a function. For instance, let's consider a simple linear layer where we write a function for a single input `x` of shape `[c_in]`, a weight matrix `[c_in, c_out]`, and a bias vector `[c_out]`: "
   ]
  },
  {
   "cell_type": "code",
   "execution_count": null,
   "id": "cf303717",
   "metadata": {},
   "outputs": [],
   "source": [
    "def simple_linear(x, w, b):\n",
    "    # We could already vectorize this function with matmul, but as an example,\n",
    "    # let us use a non-vectorized function with same output\n",
    "    return (x[:, None] * w).sum(axis=0) + b"
   ]
  },
  {
   "cell_type": "code",
   "execution_count": null,
   "id": "6d7ae3f9",
   "metadata": {},
   "outputs": [
    {
     "data": {
      "text/plain": [
       "Array([-0.5393317,  1.4906642,  0.7108946], dtype=float32)"
      ]
     },
     "execution_count": 64,
     "metadata": {},
     "output_type": "execute_result"
    }
   ],
   "source": [
    "# Example inputs\n",
    "rng, x_rng, w_rng, b_rng = jax.random.split(rng, 4)\n",
    "x_in = jax.random.normal(x_rng, (4,))\n",
    "w_in = jax.random.normal(w_rng, (4, 3))\n",
    "b_in = jax.random.normal(b_rng, (3,))\n",
    "\n",
    "simple_linear(x_in, w_in, b_in)"
   ]
  },
  {
   "cell_type": "markdown",
   "id": "ff73b578",
   "metadata": {},
   "source": [
    "Now, we would like the function to support a batch dimension on `x`, i.e. `[batch, c_in]`. Our naive implementation above does not support this, since we specialized the axis we sum over. So, let's make JAX do the work for us and vectorize the function by using `jax.vmap`:"
   ]
  },
  {
   "cell_type": "code",
   "execution_count": null,
   "id": "e77d9ada",
   "metadata": {},
   "outputs": [],
   "source": [
    "vectorized_linear = jax.vmap(\n",
    "    simple_linear,\n",
    "    in_axes=(0, None, None),  # Which axes to vectorize for each input\n",
    "    out_axes=0,  # Which axes to map to in the output\n",
    ")"
   ]
  },
  {
   "cell_type": "markdown",
   "id": "9c8dc7f0",
   "metadata": {},
   "source": [
    "Specifying `None` for the in-axes of the input arguments `w` and `b` means that we do not want to vectorize any of their input dimensions. With this vmap specification, the function `vectorized_linear` now supports an extra batch dimension in `x`! Let's try it out:"
   ]
  },
  {
   "cell_type": "code",
   "execution_count": null,
   "id": "4db1aab2",
   "metadata": {},
   "outputs": [
    {
     "data": {
      "text/plain": [
       "Array([[-0.5393317,  1.4906642,  0.7108946],\n",
       "       [-0.5393317,  1.4906642,  0.7108946],\n",
       "       [-0.5393317,  1.4906642,  0.7108946],\n",
       "       [-0.5393317,  1.4906642,  0.7108946],\n",
       "       [-0.5393317,  1.4906642,  0.7108946]], dtype=float32)"
      ]
     },
     "execution_count": 66,
     "metadata": {},
     "output_type": "execute_result"
    }
   ],
   "source": [
    "x_vec_in = jnp.stack([x_in] * 5, axis=0)\n",
    "\n",
    "vectorized_linear(x_vec_in, w_in, b_in)"
   ]
  },
  {
   "cell_type": "markdown",
   "id": "94883303",
   "metadata": {},
   "source": [
    "The new function indeed vectorized our code, calculating $N$ applications of the weights and bias to the input. We can also vectorize the code to run multiple inputs `x` on multiple weights `w` and biases `b` by changing the input argument `in_axes` to `(0, 0, 0)`, or simply `0`. Morever, we can again stack multiple function transformations, such as jitting a vectorized function. Further details on `jax.vmap` can be found in this [tutorial](\n",
    "https://jax.readthedocs.io/en/latest/jax-101/03-vectorization.html\n",
    ") and its [documentation](https://jax.readthedocs.io/en/latest/_autosummary/jax.vmap.html?highlight=vmap)."
   ]
  },
  {
   "cell_type": "markdown",
   "id": "15684cf7",
   "metadata": {},
   "source": [
    "### Parallel evaluation with pmap\n",
    "\n",
    "`jax.vmap` vectorizes a function on a single accelerator. But what if we have multiple GPUs or TPUs available? In PyTorch, we can parallelize a model over multiple GPUs using `nn.DistributedDataParallel`. In JAX, this is yet another function transformation: `jax.pmap`. Similar to `jax.vmap`, we can specify over which axes each input should be parallelized. In a network training, we usually want to parallelize over an extra batch dimension in the data, while the parameters are identical for all devices. For more details on `jax.pmap`, see [Parallel Evaluation in JAX](https://jax.readthedocs.io/en/latest/jax-101/06-parallelism.html)."
   ]
  },
  {
   "cell_type": "markdown",
   "id": "62796a4e",
   "metadata": {},
   "source": [
    "### Working with PyTrees\n",
    "\n",
    "Network parameters in Flax are stored in a PyTree. We have visited them before, but what we haven't discuss yet is JAX's utilities to operate on pytrees! One common application is to obtain a list of all parameters in the network. This corresponds to extracting all leafs from a PyTree, for which JAX provides the function `jax.tree_leaves`:"
   ]
  },
  {
   "cell_type": "code",
   "execution_count": null,
   "id": "8e4bd2af",
   "metadata": {},
   "outputs": [
    {
     "name": "stdout",
     "output_type": "stream",
     "text": [
      "We have parameters with the following shapes: (8,), (2, 8), (1,), (8, 1)\n",
      "Overall parameter count: 33\n"
     ]
    },
    {
     "name": "stderr",
     "output_type": "stream",
     "text": [
      "/tmp/ipykernel_837/3648342815.py:1: FutureWarning: jax.tree_leaves is deprecated, and will be removed in a future release. Use jax.tree_util.tree_leaves instead.\n",
      "  parameters = jax.tree_leaves(model_state.params)\n"
     ]
    }
   ],
   "source": [
    "parameters = jax.tree_leaves(model_state.params)\n",
    "print(\n",
    "    \"We have parameters with the following shapes:\",\n",
    "    \", \".join([str(p.shape) for p in parameters]),\n",
    ")\n",
    "print(\"Overall parameter count:\", sum([np.prod(p.shape) for p in parameters]))"
   ]
  },
  {
   "cell_type": "markdown",
   "id": "3349815f",
   "metadata": {},
   "source": [
    "We can also create new PyTrees that are the result of applying a function on all elements in the tree using `jax.tree_map`. For instance, let's obtain a PyTree with all parameter shapes:"
   ]
  },
  {
   "cell_type": "code",
   "execution_count": null,
   "id": "1721a198",
   "metadata": {},
   "outputs": [
    {
     "data": {
      "text/plain": [
       "FrozenDict({\n",
       "    params: {\n",
       "        linear1: {\n",
       "            bias: (8,),\n",
       "            kernel: (2, 8),\n",
       "        },\n",
       "        linear2: {\n",
       "            bias: (1,),\n",
       "            kernel: (8, 1),\n",
       "        },\n",
       "    },\n",
       "})"
      ]
     },
     "execution_count": 68,
     "metadata": {},
     "output_type": "execute_result"
    }
   ],
   "source": [
    "jax.tree_map(lambda p: p.shape, model_state.params)"
   ]
  },
  {
   "cell_type": "markdown",
   "id": "7576e873",
   "metadata": {},
   "source": [
    "The nodes of PyTrees do not necessarily need to be NumPy or JAX arrays, but can be arbitrary objects. Overall, PyTrees provide a simple, structured representation of data useful in many applications. More details can be found in JAX's Tutorial [Working with PyTrees](https://jax.readthedocs.io/en/latest/jax-101/05.1-pytrees.html)."
   ]
  },
  {
   "cell_type": "markdown",
   "id": "972d1342",
   "metadata": {},
   "source": [
    "## 🔪 The Sharp Bits 🔪\n",
    "\n",
    "Since JAX functions need to be written with certain constraints, there are situations where this can get annoying or difficult. A great overview of those, why they are needed, and most importantly, what to do about them, can be found in the original JAX tutorial [🔪 JAX - The Sharp Bits 🔪](https://jax.readthedocs.io/en/latest/notebooks/Common_Gotchas_in_JAX.html). In this final section of the tutorial, we want to visit a few of those points we have not explicitly discussed yet. Furthermore, we also focus on the combination with Flax, and what can be annoying when training models."
   ]
  },
  {
   "cell_type": "markdown",
   "id": "4fc16606",
   "metadata": {},
   "source": [
    "### Dynamic shapes\n",
    "\n",
    "JAX has the great advantage of providing just-in-time compilation of functions to speed up the computation. For this, it uses its intermediate representation jaxpr, which is specialized to the shapes of the input arguments. However, this also means that a jitted function is specialized to a certain shape, and running the jitted function with a different input shape requires recompiling the function. For instance, consider the following simple function:"
   ]
  },
  {
   "cell_type": "code",
   "execution_count": null,
   "id": "48c42ead",
   "metadata": {},
   "outputs": [],
   "source": [
    "def my_function(x):\n",
    "    print(\"Running the function with shape\", x.shape)\n",
    "    return x.mean()\n",
    "\n",
    "\n",
    "jitted_function = jax.jit(my_function)"
   ]
  },
  {
   "cell_type": "markdown",
   "id": "4bcf0f45",
   "metadata": {},
   "source": [
    "The print statement is only executed once when the function is compiled, and for all consecutive function calls, this print statement will be ignored since it is not part of the jaxpr representation. Let's run the function now with multiple different input shapes:"
   ]
  },
  {
   "cell_type": "code",
   "execution_count": null,
   "id": "ff368813",
   "metadata": {},
   "outputs": [
    {
     "name": "stdout",
     "output_type": "stream",
     "text": [
      "Running the function with shape (1,)\n",
      "Running the function with shape (2,)\n",
      "Running the function with shape (3,)\n",
      "Running the function with shape (4,)\n",
      "Running the function with shape (5,)\n",
      "Running the function with shape (6,)\n",
      "Running the function with shape (7,)\n",
      "Running the function with shape (8,)\n",
      "Running the function with shape (9,)\n",
      "Running the function with shape (10,)\n"
     ]
    }
   ],
   "source": [
    "for i in range(10):\n",
    "    jitted_function(\n",
    "        jnp.zeros(\n",
    "            i + 1,\n",
    "        )\n",
    "    )"
   ]
  },
  {
   "cell_type": "markdown",
   "id": "9205769b",
   "metadata": {},
   "source": [
    "As we can see, the function is compiled for every different input we give it. This can become inefficient if we actually work with many different shapes. However, running the function again with one of the previous input shapes will not require another compilation:"
   ]
  },
  {
   "cell_type": "code",
   "execution_count": null,
   "id": "9f929ce4",
   "metadata": {},
   "outputs": [],
   "source": [
    "# Running the functions a second time will not print out anything since\n",
    "# the functions are already jitted for the respective input shapes.\n",
    "for i in range(10):\n",
    "    jitted_function(\n",
    "        jnp.zeros(\n",
    "            i + 1,\n",
    "        )\n",
    "    )"
   ]
  },
  {
   "cell_type": "markdown",
   "id": "b6bc1b4d",
   "metadata": {},
   "source": [
    "If we have a very limited set of different shapes, we do not see a big performance difference. For instance, in our evaluation, the last batch size is smaller than the previous since we have a limited size of the evaluation dataset. However, for other applications, we might encounter this problem much more often: NLP and time series, and graphs. In these cases, it is recommend to pad the batches to prevent many re-compilations (see Flax's [padding guide](https://flax.readthedocs.io/en/latest/howtos/full_eval.html) for details). We briefly review the two scenarios below.\n",
    "\n",
    "#### NLP and time series\n",
    "\n",
    "In Natural Language Processing, our data consist of sentences which greatly vary in size. Already for batching the elements, we need to apply padding, such that the shape of the batch is determined by the largest sentence in the batch. However, this largest length can vary between batches, especially when we shuffle the dataset before each epoch. In PyTorch, this is not a problem, since the dynamic computation graph allows us to stop the computation whenever we need to. In contrast, JAX would need to recompile the forward pass for every single largest sentence length, which can quickly become very expensive. Padding is needed to reduce the number of compilations, but at the same time introduces unnecessary computation. Hence, we have a tradeoff between number of compilations and extra compute per batch. In the extreme case, PyTorch may even become faster than JAX here.\n",
    "\n",
    "#### Graphs\n",
    "\n",
    "Similar to NLP, graphs can vary in their size. Often, graphs differ in their number of nodes, but especially in the number of edges. Furthermore, when we start batching the graphs, the variation of node sizes and edge count considerably increases. Again, padding is needed to reduce the number of compilations, and we will revisit this topic in Tutorial 7 (TBD)."
   ]
  },
  {
   "cell_type": "markdown",
   "id": "63446f6d",
   "metadata": {},
   "source": [
    "### Debugging in jitted functions\n",
    "\n",
    "During coding, we likely want to debug our model and sometimes print out intermediate values. In JAX, when jitting functions, this is not as straightforward. As we could see from the previous cells, a print statement is only executed once during compilation, and afterwards removed since it is not part of the jaxpr representation. Furthermore, there can be issues when tracking NaNs in your code (see the [sharp bits tutorial](https://jax.readthedocs.io/en/latest/notebooks/Common_Gotchas_in_JAX.html#debugging-nans)), and errors like out-of-bounds indexing are silently handled on accelerators by returning -1 instead of an error (see the corresponding section in the [sharp bits tutorial](https://jax.readthedocs.io/en/latest/notebooks/Common_Gotchas_in_JAX.html#out-of-bounds-indexing)). However, if necessary, one can either run the unjitted version of the forward pass first, and even introduce print statements to the jitted version where needed (see [here](https://github.com/google/jax/issues/196) for a great explanation). Still, it is not as straight-forward as in PyTorch, for example."
   ]
  },
  {
   "cell_type": "markdown",
   "id": "c2eadd68",
   "metadata": {},
   "source": [
    "### Modules with different train and evaluation functions\n",
    "\n",
    "Certain deep learning layers have different behaviors under evaluation than during training. For instance, dropout randomly masks out a number of neurons during training, but leaves the graph untouched during evaluation. In PyTorch, we can easily switch between the two states via `model.train()` and `model.eval()` without having to manually specify it in the dropout module instance. However, in JAX, we do not have global states in the model, and thus need to pass this information to every module in the forward pass that may need it. In our example above, this was not needed, since the forward pass of the simple classifier is identical during training and evaluation. Alternatively, since the parameters are not bound to a specific model during training, one can also create two models: one training model, and one evaluation model. Nonetheless, one still needs to add the information to every module with changing behaviors, which adds a certain overhead compared to PyTorch. We will discuss two common modules with such behaviors below: dropout and BatchNorm."
   ]
  },
  {
   "cell_type": "markdown",
   "id": "756122b5",
   "metadata": {},
   "source": [
    "#### Dropout\n",
    "\n",
    "In Flax, [Dropout](https://flax.readthedocs.io/en/latest/_autosummary/flax.linen.Dropout.html) has an argument `deterministic` which turns off dropout when True, and otherwise applies the random masking as intended during training. This deterministic switch can either be defined in the constructor, or in every forward call. Furthermore, dropout has the special case that it is a random operation during training, meaning that it also needs a PRNG state. Fortunately, we do not have to pass this state in every PRNG state, but instead, can simply pass `rngs={'dropout': dropout_rng}` with `dropout_rng` being the PRNG state. For an example, see our [Tutorial 6](https://uvadlc-notebooks.readthedocs.io/en/latest/tutorial_notebooks/JAX/tutorial6/Transformers_and_MHAttention.html) on Transformers in which we use dropout in several occasions."
   ]
  },
  {
   "cell_type": "markdown",
   "id": "29f3ec61",
   "metadata": {},
   "source": [
    "#### BatchNorm\n",
    "\n",
    "Batch Normalization transforms the input in two different ways. During training, we determine the mean and standard deviation of the input, and normalize the data with it to a zero mean and standard deviation of one. During evaluation, on the other hand, we take a running statistic over the previous several batches, and use those to estimate the mean and standard deviation. This is necessary to keep the evaluation stable and invariant to the specific batches we choose. Still, in the Flax module ([documentation](https://flax.readthedocs.io/en/latest/_autosummary/flax.linen.BatchNorm.html)), we need to give the argument `use_running_average` (bool) to either the constructor or each forward pass. Furthermore, BatchNorm has a specific property we haven't discussed yet and is a bit tricky in JAX: keeping track of the running average. During every forward pass, we want to record the mean and standard deviation of the current batch, and update our current average over the past batches. However, this requires changing an input tensor, and returning this changed tensor again. In Flax, we can do this by defining the batch statistics as a mutable tensor. Check out our [Tutorial 5](https://uvadlc-notebooks.readthedocs.io/en/latest/tutorial_notebooks/JAX/tutorial5/Inception_ResNet_DenseNet.html) to see BatchNorm being used in practice with Flax."
   ]
  },
  {
   "cell_type": "markdown",
   "id": "f7ba15d3",
   "metadata": {},
   "source": [
    "---\n",
    "\n",
    "[![Star our repository](https://img.shields.io/static/v1.svg?logo=star&label=⭐&message=Star%20Our%20Repository&color=yellow)](https://github.com/phlippe/uvadlc_notebooks/)  If you found this tutorial helpful, consider ⭐-ing our repository.    \n",
    "[![Ask questions](https://img.shields.io/static/v1.svg?logo=star&label=❔&message=Ask%20Questions&color=9cf)](https://github.com/phlippe/uvadlc_notebooks/issues)  For any questions, typos, or bugs that you found, please raise an issue on GitHub. \n",
    "\n",
    "---"
   ]
  }
 ],
 "metadata": {
  "kernelspec": {
   "display_name": "Python 3 (ipykernel)",
   "language": "python",
   "name": "python3"
  },
  "language_info": {
   "codemirror_mode": {
    "name": "ipython",
    "version": 3
   },
   "file_extension": ".py",
   "mimetype": "text/x-python",
   "name": "python",
   "nbconvert_exporter": "python",
   "pygments_lexer": "ipython3",
   "version": "3.10.10"
  }
 },
 "nbformat": 4,
 "nbformat_minor": 5
}
